{
 "cells": [
  {
   "cell_type": "code",
   "execution_count": 1,
   "metadata": {},
   "outputs": [],
   "source": [
    "import gym\n",
    "from matplotlib import animation\n",
    "from matplotlib import pyplot as plt"
   ]
  },
  {
   "cell_type": "markdown",
   "metadata": {},
   "source": [
    "# animationをjupyter上で見ることを可能にするおまじない"
   ]
  },
  {
   "cell_type": "markdown",
   "metadata": {},
   "source": [
    "暫定的に本と同じ以下を使ってみる："
   ]
  },
  {
   "cell_type": "code",
   "execution_count": 2,
   "metadata": {},
   "outputs": [],
   "source": [
    "%matplotlib inline"
   ]
  },
  {
   "cell_type": "markdown",
   "metadata": {},
   "source": [
    "または以下のいずれかを使ってもいいかもしれないが動作確認とれてない"
   ]
  },
  {
   "cell_type": "markdown",
   "metadata": {},
   "source": [
    "nbaggだとfigが動く（？）"
   ]
  },
  {
   "cell_type": "code",
   "execution_count": null,
   "metadata": {},
   "outputs": [],
   "source": [
    "%matplotlib nbagg"
   ]
  },
  {
   "cell_type": "markdown",
   "metadata": {},
   "source": [
    "notebookだとanimが動く（？）"
   ]
  },
  {
   "cell_type": "code",
   "execution_count": null,
   "metadata": {},
   "outputs": [],
   "source": [
    "%matplotlib notebook"
   ]
  },
  {
   "cell_type": "markdown",
   "metadata": {},
   "source": [
    "# official tutorialの方法(skip推奨？)"
   ]
  },
  {
   "cell_type": "markdown",
   "metadata": {},
   "source": [
    "https://gym.openai.com/docs/"
   ]
  },
  {
   "cell_type": "code",
   "execution_count": null,
   "metadata": {},
   "outputs": [],
   "source": [
    "import gym\n",
    "env = gym.make('CartPole-v0')\n",
    "env.reset()\n",
    "for _ in range(1000):\n",
    "    env.render()\n",
    "    env.step(env.action_space.sample()) # take a random action"
   ]
  },
  {
   "cell_type": "markdown",
   "metadata": {},
   "source": [
    "- 上記は停止条件がないためにどこかに飛んでいってしまうがローカルでは動くことは動いている\n",
    "- ただし、これでは別窓なのでremoteからは見えない"
   ]
  },
  {
   "cell_type": "markdown",
   "metadata": {},
   "source": [
    "# remoteからも観察可能なbest practiceを探ろう"
   ]
  },
  {
   "cell_type": "markdown",
   "metadata": {},
   "source": [
    "## imshowで表示可能なrgb_arrayのリストとして出力"
   ]
  },
  {
   "cell_type": "code",
   "execution_count": 3,
   "metadata": {},
   "outputs": [
    {
     "data": {
      "text/plain": [
       "array([0.02310557, 0.0034239 , 0.04559412, 0.00500165])"
      ]
     },
     "execution_count": 3,
     "metadata": {},
     "output_type": "execute_result"
    }
   ],
   "source": [
    "env = gym.make('CartPole-v0')\n",
    "env.reset()"
   ]
  },
  {
   "cell_type": "markdown",
   "metadata": {},
   "source": [
    "### remote jupyterでうまく動かすために\n",
    "https://stackoverflow.com/questions/40195740/how-to-run-openai-gym-render-over-a-server"
   ]
  },
  {
   "cell_type": "markdown",
   "metadata": {},
   "source": [
    "```bash\n",
    "xvfb-run -s \"-screen 0 1400x900x24\" jupyter notebook\n",
    "```\n",
    "でjupyter notebookを立ち上げるべきとあるがうまくいかない"
   ]
  },
  {
   "cell_type": "code",
   "execution_count": 4,
   "metadata": {
    "scrolled": true
   },
   "outputs": [
    {
     "name": "stdout",
     "output_type": "stream",
     "text": [
      "0\n",
      "0\n",
      "1\n",
      "1\n",
      "0\n",
      "1\n",
      "1\n",
      "1\n",
      "1\n",
      "1\n",
      "1\n",
      "1\n",
      "0\n",
      "0\n",
      "1\n",
      "0\n",
      "0\n"
     ]
    }
   ],
   "source": [
    "frames = []\n",
    "for i in range(5000):\n",
    "    #frames.append(env.render(mode = 'rgb_array'))\n",
    "    #env.step(env.action_space.sample()) # take a random action\n",
    "    #observation, reward, done, info = env.step(action)\n",
    "    \n",
    "    frames.append(env.render(mode = 'rgb_array'))\n",
    "    action = env.action_space.sample()\n",
    "    print(action)\n",
    "    observation, reward, done, info = env.step(action)\n",
    "    if done:\n",
    "        break\n",
    "    if done:\n",
    "        break\n",
    "    if i % 50 == 0:\n",
    "        print(i)\n",
    "#env.render()"
   ]
  },
  {
   "cell_type": "code",
   "execution_count": null,
   "metadata": {},
   "outputs": [],
   "source": [
    "env.render?"
   ]
  },
  {
   "cell_type": "markdown",
   "metadata": {},
   "source": [
    "## object oriented versionの試み"
   ]
  },
  {
   "cell_type": "code",
   "execution_count": 5,
   "metadata": {
    "scrolled": true
   },
   "outputs": [
    {
     "data": {
      "text/plain": [
       "(0.0, 1.0, 0.0, 1.0)"
      ]
     },
     "execution_count": 5,
     "metadata": {},
     "output_type": "execute_result"
    },
    {
     "data": {
      "image/png": "[encoded data removed]",
      "text/plain": [
       "<Figure size 432x288 with 1 Axes>"
      ]
     },
     "metadata": {},
     "output_type": "display_data"
    }
   ],
   "source": [
    "fig = plt.figure()\n",
    "\n",
    "ax = fig.add_subplot(\"111\")\n",
    "\n",
    "ax.axis('off')"
   ]
  },
  {
   "cell_type": "code",
   "execution_count": 6,
   "metadata": {},
   "outputs": [],
   "source": [
    "patch = ax.imshow(frames[0])"
   ]
  },
  {
   "cell_type": "markdown",
   "metadata": {},
   "source": [
    "imshowにdataをセットするだけでスクリーン上に反映される:"
   ]
  },
  {
   "cell_type": "markdown",
   "metadata": {},
   "source": [
    "\n",
    "https://qiita.com/AnchorBlues/items/3acd37331b12e844d259"
   ]
  },
  {
   "cell_type": "code",
   "execution_count": 7,
   "metadata": {},
   "outputs": [],
   "source": [
    "def animate(i):\n",
    "    if i > 0:\n",
    "        pass#fig.clear()\n",
    "    patch.set_data(frames[i])"
   ]
  },
  {
   "cell_type": "code",
   "execution_count": 8,
   "metadata": {},
   "outputs": [
    {
     "data": {
      "text/plain": [
       "16"
      ]
     },
     "execution_count": 8,
     "metadata": {},
     "output_type": "execute_result"
    }
   ],
   "source": [
    "len(frames)"
   ]
  },
  {
   "cell_type": "code",
   "execution_count": 9,
   "metadata": {},
   "outputs": [],
   "source": [
    "anim = animation.FuncAnimation(fig, animate, frames = len(frames), interval=150)"
   ]
  },
  {
   "cell_type": "markdown",
   "metadata": {},
   "source": [
    "## animation表示方法（成功例）"
   ]
  },
  {
   "cell_type": "markdown",
   "metadata": {},
   "source": [
    "- どれもうまく行くが一つ表示されていると他の方法は表示されない"
   ]
  },
  {
   "cell_type": "markdown",
   "metadata": {},
   "source": [
    "### htmlを明示的に経由する以下の方法がよさそう？"
   ]
  },
  {
   "cell_type": "markdown",
   "metadata": {},
   "source": [
    "https://stackoverflow.com/questions/43445103/inline-animations-in-jupyter"
   ]
  },
  {
   "cell_type": "code",
   "execution_count": 10,
   "metadata": {},
   "outputs": [
    {
     "data": {
      "text/html": [
       "\n",
       "<link rel=\"stylesheet\"\n",
       "href=\"https://maxcdn.bootstrapcdn.com/font-awesome/4.4.0/\n",
       "css/font-awesome.min.css\">\n",
       "<script language=\"javascript\">\n",
       "  /* Define the Animation class */\n",
       "  function Animation(frames, img_id, slider_id, interval, loop_select_id){\n",
       "    this.img_id = img_id;\n",
       "    this.slider_id = slider_id;\n",
       "    this.loop_select_id = loop_select_id;\n",
       "    this.interval = interval;\n",
       "    this.current_frame = 0;\n",
       "    this.direction = 0;\n",
       "    this.timer = null;\n",
       "    this.frames = new Array(frames.length);\n",
       "\n",
       "    for (var i=0; i<frames.length; i++)\n",
       "    {\n",
       "     this.frames[i] = new Image();\n",
       "     this.frames[i].src = frames[i];\n",
       "    }\n",
       "    document.getElementById(this.slider_id).max = this.frames.length - 1;\n",
       "    this.set_frame(this.current_frame);\n",
       "  }\n",
       "\n",
       "  Animation.prototype.get_loop_state = function(){\n",
       "    var button_group = document[this.loop_select_id].state;\n",
       "    for (var i = 0; i < button_group.length; i++) {\n",
       "        var button = button_group[i];\n",
       "        if (button.checked) {\n",
       "            return button.value;\n",
       "        }\n",
       "    }\n",
       "    return undefined;\n",
       "  }\n",
       "\n",
       "  Animation.prototype.set_frame = function(frame){\n",
       "    this.current_frame = frame;\n",
       "    document.getElementById(this.img_id).src =\n",
       "            this.frames[this.current_frame].src;\n",
       "    document.getElementById(this.slider_id).value = this.current_frame;\n",
       "  }\n",
       "\n",
       "  Animation.prototype.next_frame = function()\n",
       "  {\n",
       "    this.set_frame(Math.min(this.frames.length - 1, this.current_frame + 1));\n",
       "  }\n",
       "\n",
       "  Animation.prototype.previous_frame = function()\n",
       "  {\n",
       "    this.set_frame(Math.max(0, this.current_frame - 1));\n",
       "  }\n",
       "\n",
       "  Animation.prototype.first_frame = function()\n",
       "  {\n",
       "    this.set_frame(0);\n",
       "  }\n",
       "\n",
       "  Animation.prototype.last_frame = function()\n",
       "  {\n",
       "    this.set_frame(this.frames.length - 1);\n",
       "  }\n",
       "\n",
       "  Animation.prototype.slower = function()\n",
       "  {\n",
       "    this.interval /= 0.7;\n",
       "    if(this.direction > 0){this.play_animation();}\n",
       "    else if(this.direction < 0){this.reverse_animation();}\n",
       "  }\n",
       "\n",
       "  Animation.prototype.faster = function()\n",
       "  {\n",
       "    this.interval *= 0.7;\n",
       "    if(this.direction > 0){this.play_animation();}\n",
       "    else if(this.direction < 0){this.reverse_animation();}\n",
       "  }\n",
       "\n",
       "  Animation.prototype.anim_step_forward = function()\n",
       "  {\n",
       "    this.current_frame += 1;\n",
       "    if(this.current_frame < this.frames.length){\n",
       "      this.set_frame(this.current_frame);\n",
       "    }else{\n",
       "      var loop_state = this.get_loop_state();\n",
       "      if(loop_state == \"loop\"){\n",
       "        this.first_frame();\n",
       "      }else if(loop_state == \"reflect\"){\n",
       "        this.last_frame();\n",
       "        this.reverse_animation();\n",
       "      }else{\n",
       "        this.pause_animation();\n",
       "        this.last_frame();\n",
       "      }\n",
       "    }\n",
       "  }\n",
       "\n",
       "  Animation.prototype.anim_step_reverse = function()\n",
       "  {\n",
       "    this.current_frame -= 1;\n",
       "    if(this.current_frame >= 0){\n",
       "      this.set_frame(this.current_frame);\n",
       "    }else{\n",
       "      var loop_state = this.get_loop_state();\n",
       "      if(loop_state == \"loop\"){\n",
       "        this.last_frame();\n",
       "      }else if(loop_state == \"reflect\"){\n",
       "        this.first_frame();\n",
       "        this.play_animation();\n",
       "      }else{\n",
       "        this.pause_animation();\n",
       "        this.first_frame();\n",
       "      }\n",
       "    }\n",
       "  }\n",
       "\n",
       "  Animation.prototype.pause_animation = function()\n",
       "  {\n",
       "    this.direction = 0;\n",
       "    if (this.timer){\n",
       "      clearInterval(this.timer);\n",
       "      this.timer = null;\n",
       "    }\n",
       "  }\n",
       "\n",
       "  Animation.prototype.play_animation = function()\n",
       "  {\n",
       "    this.pause_animation();\n",
       "    this.direction = 1;\n",
       "    var t = this;\n",
       "    if (!this.timer) this.timer = setInterval(function() {\n",
       "        t.anim_step_forward();\n",
       "    }, this.interval);\n",
       "  }\n",
       "\n",
       "  Animation.prototype.reverse_animation = function()\n",
       "  {\n",
       "    this.pause_animation();\n",
       "    this.direction = -1;\n",
       "    var t = this;\n",
       "    if (!this.timer) this.timer = setInterval(function() {\n",
       "        t.anim_step_reverse();\n",
       "    }, this.interval);\n",
       "  }\n",
       "</script>\n",
       "\n",
       "<div class=\"animation\" align=\"center\">\n",
       "    <img id=\"_anim_imge8db674d37cd4ca895ace82e84061c4e\">\n",
       "    <br>\n",
       "    <input id=\"_anim_slidere8db674d37cd4ca895ace82e84061c4e\" type=\"range\" style=\"width:350px\"\n",
       "           name=\"points\" min=\"0\" max=\"1\" step=\"1\" value=\"0\"\n",
       "           onchange=\"anime8db674d37cd4ca895ace82e84061c4e.set_frame(parseInt(this.value));\"></input>\n",
       "    <br>\n",
       "    <button onclick=\"anime8db674d37cd4ca895ace82e84061c4e.slower()\"><i class=\"fa fa-minus\"></i></button>\n",
       "    <button onclick=\"anime8db674d37cd4ca895ace82e84061c4e.first_frame()\"><i class=\"fa fa-fast-backward\">\n",
       "        </i></button>\n",
       "    <button onclick=\"anime8db674d37cd4ca895ace82e84061c4e.previous_frame()\">\n",
       "        <i class=\"fa fa-step-backward\"></i></button>\n",
       "    <button onclick=\"anime8db674d37cd4ca895ace82e84061c4e.reverse_animation()\">\n",
       "        <i class=\"fa fa-play fa-flip-horizontal\"></i></button>\n",
       "    <button onclick=\"anime8db674d37cd4ca895ace82e84061c4e.pause_animation()\"><i class=\"fa fa-pause\">\n",
       "        </i></button>\n",
       "    <button onclick=\"anime8db674d37cd4ca895ace82e84061c4e.play_animation()\"><i class=\"fa fa-play\"></i>\n",
       "        </button>\n",
       "    <button onclick=\"anime8db674d37cd4ca895ace82e84061c4e.next_frame()\"><i class=\"fa fa-step-forward\">\n",
       "        </i></button>\n",
       "    <button onclick=\"anime8db674d37cd4ca895ace82e84061c4e.last_frame()\"><i class=\"fa fa-fast-forward\">\n",
       "        </i></button>\n",
       "    <button onclick=\"anime8db674d37cd4ca895ace82e84061c4e.faster()\"><i class=\"fa fa-plus\"></i></button>\n",
       "  <form action=\"#n\" name=\"_anim_loop_selecte8db674d37cd4ca895ace82e84061c4e\" class=\"anim_control\">\n",
       "    <input type=\"radio\" name=\"state\"\n",
       "           value=\"once\" > Once </input>\n",
       "    <input type=\"radio\" name=\"state\"\n",
       "           value=\"loop\" checked> Loop </input>\n",
       "    <input type=\"radio\" name=\"state\"\n",
       "           value=\"reflect\" > Reflect </input>\n",
       "  </form>\n",
       "</div>\n",
       "\n",
       "\n",
       "<script language=\"javascript\">\n",
       "  /* Instantiate the Animation class. */\n",
       "  /* The IDs given should match those used in the template above. */\n",
       "  (function() {\n",
       "    var img_id = \"_anim_imge8db674d37cd4ca895ace82e84061c4e\";\n",
       "    var slider_id = \"_anim_slidere8db674d37cd4ca895ace82e84061c4e\";\n",
       "    var loop_select_id = \"_anim_loop_selecte8db674d37cd4ca895ace82e84061c4e\";\n",
       "    var frames = new Array(16);\n",
       "    \n",
       "  frames[0] = \"data:image/png;base64,iVBORw0KGgoAAAANSUhEUgAAAbAAAAEgCAYAAADVKCZpAAAABHNCSVQICAgIfAhkiAAAAAlwSFlz\\\n",
       "AAALEgAACxIB0t1+/AAAADl0RVh0U29mdHdhcmUAbWF0cGxvdGxpYiB2ZXJzaW9uIDMuMC4wLCBo\\\n",
       "dHRwOi8vbWF0cGxvdGxpYi5vcmcvqOYd8AAABOxJREFUeJzt3N1NwlAYgGFrmMI1mMM1YCa7hnOw\\\n",
       "hmvUC6/8iVHEHl76PAkXNIF8CZCXAz2dlmVZ7gAg5n70AABwDgEDIEnAAEgSMACSBAyAJAEDIEnA\\\n",
       "AEgSMACSBAyAJAEDIEnAAEgSMACSBAyAJAEDIEnAAEgSMACSBAyAJAEDIEnAAEgSMACSBAyAJAED\\\n",
       "IEnAAEgSMACSBAyAJAEDIEnAAEgSMACSBAyAJAEDIEnAAEgSMACSBAyAJAEDIEnAAEgSMACSBAyA\\\n",
       "JAEDIEnAAEgSMACSBAyAJAEDIEnAAEgSMACSBAyAJAEDIEnAAEgSMACSBAyAJAEDIEnAAEgSMACS\\\n",
       "BAyAJAEDIEnAAEgSMACSBAyAJAEDIEnAAEgSMACSBAyAJAEDIEnAAEgSMACSBAyAJAEDIEnAAEgS\\\n",
       "MACSBAyAJAEDIEnAAEgSMACSBAyAJAEDIEnAAEgSMACSBAyAJAEDIEnAAEgSMACSBAyAJAEDIEnA\\\n",
       "AEgSMACSBAyAJAEDIEnAAEgSMACSBAyAJAEDIEnAAEgSMACSBAyAJAEDIEnAAEgSMACSBAyAJAED\\\n",
       "IEnAAEgSMACSBAyAJAEDIEnAAEgSMACSBAyAJAEDIEnAAEgSMACSBAyAJAEDIEnAAEgSMACSBAyA\\\n",
       "JAEDIEnAAEgSMACSBAyAJAEDIEnAAEgSMACSBAyAJAEDIEnAAEgSMACSBAyAJAEDIEnAAEjajR4A\\\n",
       "tuo0H788vj88rTwJNFmBAZAkYAAkCRgASQIGQJKAAZAkYAAkCRgASQIGQJKAAZAkYAAkCRhcEZeR\\\n",
       "gp8TMACSBAyAJAEDIEnAAEgSMACSBAyAJAEDIEnAAEgSMACSBAyAJAGDAU7z8dMxl5GC3xEwAJIE\\\n",
       "DIAkAQMgScAASBIwAJIEDIAkAQMgScAASBIwAJIEDIAkAQMgScBgZV9dBxH4PQEDIEnAAEgSMACS\\\n",
       "BAyAJAEDIEnAAEgSMACSBAyAJAEDIEnAAEgSMACSBAyuwP7wNHoEyBEwAJIEDIAkAQMgScAASBIw\\\n",
       "AJIEDIAkAQMgScAASBIwAJIEDIAkAQMgScBgRaf5OHoEuBkCBkCSgAGQJGBwAdM0/ej218d/9xyw\\\n",
       "NQIGQNJu9ACwNc8vh3f3Hx/mQZNAmxUYrOhjvIDzCRgMJmpwHgGDwfyECOcRMFiRWMHlTMuyLKOH\\\n",
       "gLo1T2/3kYU3mzkL0f4ZboX3MpdU/kK0mYCVXySunxUYrM9/YAAkCRgASQIGQJKAAZAkYAAkCRgA\\\n",
       "SQIGQNJm9oHBf7I3C9ZnBQZAkoABkCRgACQJGABJAgZAkoABkCRgACQJGABJAgZAkoABkCRgACQJ\\\n",
       "GABJAgZAkoABkCRgACQJGABJAgZAkoABkCRgACQJGABJAgZAkoABkCRgACQJGABJAgZAkoABkCRg\\\n",
       "ACQJGABJAgZAkoABkCRgACQJGABJAgZAkoABkCRgACQJGABJAgZAkoABkCRgACQJGABJAgZAkoAB\\\n",
       "kCRgACQJGABJAgZAkoABkCRgACQJGABJAgZAkoABkCRgACQJGABJAgZAkoABkCRgACQJGABJAgZA\\\n",
       "koABkCRgACQJGABJAgZAkoABkCRgACQJGABJAgZAkoABkCRgACQJGABJAgZAkoABkCRgACQJGABJ\\\n",
       "AgZAkoABkCRgACQJGABJAgZAkoABkCRgACQJGABJAgZA0itO2S59bwEMwgAAAABJRU5ErkJggg==\\\n",
       "\"\n",
       "  frames[1] = \"data:image/png;base64,iVBORw0KGgoAAAANSUhEUgAAAbAAAAEgCAYAAADVKCZpAAAABHNCSVQICAgIfAhkiAAAAAlwSFlz\\\n",
       "AAALEgAACxIB0t1+/AAAADl0RVh0U29mdHdhcmUAbWF0cGxvdGxpYiB2ZXJzaW9uIDMuMC4wLCBo\\\n",
       "dHRwOi8vbWF0cGxvdGxpYi5vcmcvqOYd8AAABOxJREFUeJzt3N1NwlAYgGFrmMI1mMM1YCa7hnOw\\\n",
       "hmvUC6/8iVHEHl76PAkXNIF8CZCXAz2dlmVZ7gAg5n70AABwDgEDIEnAAEgSMACSBAyAJAEDIEnA\\\n",
       "AEgSMACSBAyAJAEDIEnAAEgSMACSBAyAJAEDIEnAAEgSMACSBAyAJAEDIEnAAEgSMACSBAyAJAED\\\n",
       "IEnAAEgSMACSBAyAJAEDIEnAAEgSMACSBAyAJAEDIEnAAEgSMACSBAyAJAEDIEnAAEgSMACSBAyA\\\n",
       "JAEDIEnAAEgSMACSBAyAJAEDIEnAAEgSMACSBAyAJAEDIEnAAEgSMACSBAyAJAEDIEnAAEgSMACS\\\n",
       "BAyAJAEDIEnAAEgSMACSBAyAJAEDIEnAAEgSMACSBAyAJAEDIEnAAEgSMACSBAyAJAEDIEnAAEgS\\\n",
       "MACSBAyAJAEDIEnAAEgSMACSBAyAJAEDIEnAAEgSMACSBAyAJAEDIEnAAEgSMACSBAyAJAEDIEnA\\\n",
       "AEgSMACSBAyAJAEDIEnAAEgSMACSBAyAJAEDIEnAAEgSMACSBAyAJAEDIEnAAEgSMACSBAyAJAED\\\n",
       "IEnAAEgSMACSBAyAJAEDIEnAAEgSMACSBAyAJAEDIEnAAEgSMACSBAyAJAEDIEnAAEgSMACSBAyA\\\n",
       "JAEDIEnAAEgSMACSBAyAJAEDIEnAAEgSMACSBAyAJAEDIEnAAEgSMACSBAyAJAEDIEnAAEjajR4A\\\n",
       "tuo0H788vj88rTwJNFmBAZAkYAAkCRgASQIGQJKAAZAkYAAkCRgASQIGQJKAAZAkYAAkCRhcEZeR\\\n",
       "gp8TMACSBAyAJAEDIEnAAEgSMACSBAyAJAEDIEnAAEgSMACSBAyAJAEDIEnAYIDTfPx0zHUQ4XcE\\\n",
       "DIAkAQMgScAASBIwAJIEDIAkAQMgScAASBIwAJIEDIAkAQMgScBgZV9dRgr4PQEDIEnAAEgSMACS\\\n",
       "BAyAJAEDIEnAAEgSMACSBAyAJAEDIEnAAEgSMACSBAyAJAGDK7A/PI0eAXIEDIAkAQMgScAASBIw\\\n",
       "AJIEDIAkAQMgScAASBIwAJIEDIAkAQMgScBgRaf5OHoEuBkCBkCSgAGQJGBwAdM0/ej218d/9xyw\\\n",
       "NQIGQNJu9ACwNc8vh3f3Hx/mQZNAmxUYrOhjvIDzCRgMJmpwHgGDwfyECOcRMFiRWMHlTMuyLKOH\\\n",
       "gLo1T2/3kYU3mzkL0f4ZboX3MpdU/kK0mYCVXySunxUYrM9/YAAkCRgASQIGQJKAAZAkYAAkCRgA\\\n",
       "SQIGQNJm9oHBf7I3C9ZnBQZAkoABkCRgACQJGABJAgZAkoABkCRgACQJGABJAgZAkoABkCRgACQJ\\\n",
       "GABJAgZAkoABkCRgACQJGABJAgZAkoABkCRgACQJGABJAgZAkoABkCRgACQJGABJAgZAkoABkCRg\\\n",
       "ACQJGABJAgZAkoABkCRgACQJGABJAgZAkoABkCRgACQJGABJAgZAkoABkCRgACQJGABJAgZAkoAB\\\n",
       "kCRgACQJGABJAgZAkoABkCRgACQJGABJAgZAkoABkCRgACQJGABJAgZAkoABkCRgACQJGABJAgZA\\\n",
       "koABkCRgACQJGABJAgZAkoABkCRgACQJGABJAgZAkoABkCRgACQJGABJAgZAkoABkCRgACQJGABJ\\\n",
       "AgZAkoABkCRgACQJGABJAgZAkoABkCRgACQJGABJAgZA0iv3dC59ekK6FQAAAABJRU5ErkJggg==\\\n",
       "\"\n",
       "  frames[2] = \"data:image/png;base64,iVBORw0KGgoAAAANSUhEUgAAAbAAAAEgCAYAAADVKCZpAAAABHNCSVQICAgIfAhkiAAAAAlwSFlz\\\n",
       "AAALEgAACxIB0t1+/AAAADl0RVh0U29mdHdhcmUAbWF0cGxvdGxpYiB2ZXJzaW9uIDMuMC4wLCBo\\\n",
       "dHRwOi8vbWF0cGxvdGxpYi5vcmcvqOYd8AAABPFJREFUeJzt3NFNwlAYgFFrnMI1dA3XgJlgDedg\\\n",
       "Ddeob2KUB0Dt5bPnJCTQB/InQD5u2ttpnuf5DgBi7kcPAADXEDAAkgQMgCQBAyBJwABIEjAAkgQM\\\n",
       "gCQBAyBJwABIEjAAkgQMgCQBAyBJwABIEjAAkgQMgCQBAyBJwABIEjAAkgQMgCQBAyBJwABIEjAA\\\n",
       "kgQMgCQBAyBJwABIEjAAkgQMgCQBAyBJwABIEjAAkgQMgCQBAyBJwABIEjAAkgQMgCQBAyBJwABI\\\n",
       "EjAAkgQMgCQBAyBJwABIEjAAkgQMgCQBAyBJwABIEjAAkgQMgCQBAyBJwABIEjAAkgQMgCQBAyBJ\\\n",
       "wABIEjAAkgQMgCQBAyBJwABIEjAAkgQMgCQBAyBJwABIEjAAkgQMgCQBAyBJwABIEjAAkgQMgCQB\\\n",
       "AyBJwABIEjAAkgQMgCQBAyBJwABIEjAAkgQMgCQBAyBJwABIEjAAkgQMgCQBAyBJwABIEjAAkgQM\\\n",
       "gCQBAyBJwABIEjAAkgQMgCQBAyBJwABIEjAAkgQMgCQBAyBJwABIEjAAkgQMgCQBAyBJwABIEjAA\\\n",
       "kgQMgCQBAyBJwABIEjAAkgQMgCQBAyBJwABIEjAAkgQMgCQBAyBJwABIEjAAkgQMgCQBAyBJwABI\\\n",
       "EjAAkgQMgCQBAyBJwABIEjAAkgQMgCQBAyBJwABIEjAAkgQMgCQBAyBJwABIEjAAkgQMgKSH0QPA\\\n",
       "mh3222/Hnja7AZNAjxUYDHIqXsD5BAyAJAEDIEnAAEgSMACSBAyAJAEDIEnAAEgSMACSBAyAJAED\\\n",
       "IEnA4Ia4DyKcT8AASBIwAJIEDIAkAQMgScAASBIwAJIEDIAkAQMgScAASBIwAJIEDAY47LffjrmN\\\n",
       "FFxGwABIEjAAkgQMgCQBAyBJwABIEjAAkgQMgCQBAyBJwABIEjBY2Km7cACXEzAAkgQMgCQBAyBJ\\\n",
       "wABIEjAAkgQMgCQBAyBJwABIEjAAkgQMgCQBgxvwtNmNHgFyBAyAJAEDIEnAAEgSMACSBAyAJAED\\\n",
       "IEnAAEgSMACSBAyAJAGDBR3229EjwL8hYAAkCRgASQIGQJKAAZAkYAAkCRgASQIGPzRN09mPn74H\\\n",
       "cCRgACQ9jB4A1ub1bfPx/OVxP3ASaLMCgwV9jtep18D5BAwGe95ahcE1BAyAJAGDBX095+UcGFxv\\\n",
       "mud5Hj0ElC15ebufKxyt5ipEe2j4D3yP+W3lP0WrCVj5Q+K2WYHBGM6BAZAkYAAkCRgASQIGQJKA\\\n",
       "AZAkYAAkCRgASavZBwZ/xd4sGMMKDIAkAQMgScAASBIwAJIEDIAkAQMgScAASBIwAJIEDIAkAQMg\\\n",
       "ScAASBIwAJIEDIAkAQMgScAASBIwAJIEDIAkAQMgScAASBIwAJIEDIAkAQMgScAASBIwAJIEDIAk\\\n",
       "AQMgScAASBIwAJIEDIAkAQMgScAASBIwAJIEDIAkAQMgScAASBIwAJIEDIAkAQMgScAASBIwAJIE\\\n",
       "DIAkAQMgScAASBIwAJIEDIAkAQMgScAASBIwAJIEDIAkAQMgScAASBIwAJIEDIAkAQMgScAASBIw\\\n",
       "AJIEDIAkAQMgScAASBIwAJIEDIAkAQMgScAASBIwAJIEDIAkAQMgScAASBIwAJIEDIAkAQMgScAA\\\n",
       "SBIwAJIEDIAkAQMgScAASBIwAJIEDIAkAQMgScAASBIwAJIEDICkd3p0MYDkcdcaAAAAAElFTkSu\\\n",
       "QmCC\\\n",
       "\"\n",
       "  frames[3] = \"data:image/png;base64,iVBORw0KGgoAAAANSUhEUgAAAbAAAAEgCAYAAADVKCZpAAAABHNCSVQICAgIfAhkiAAAAAlwSFlz\\\n",
       "AAALEgAACxIB0t1+/AAAADl0RVh0U29mdHdhcmUAbWF0cGxvdGxpYiB2ZXJzaW9uIDMuMC4wLCBo\\\n",
       "dHRwOi8vbWF0cGxvdGxpYi5vcmcvqOYd8AAABPJJREFUeJzt3NFNwlAYgFFrnMI1dA3XgJlgDedg\\\n",
       "Ddeob2KUB0Dt5bPnJCTQB/InQD5u2ttpnuf5DgBi7kcPAADXEDAAkgQMgCQBAyBJwABIEjAAkgQM\\\n",
       "gCQBAyBJwABIEjAAkgQMgCQBAyBJwABIEjAAkgQMgCQBAyBJwABIEjAAkgQMgCQBAyBJwABIEjAA\\\n",
       "kgQMgCQBAyBJwABIEjAAkgQMgCQBAyBJwABIEjAAkgQMgCQBAyBJwABIEjAAkgQMgCQBAyBJwABI\\\n",
       "EjAAkgQMgCQBAyBJwABIEjAAkgQMgCQBAyBJwABIEjAAkgQMgCQBAyBJwABIEjAAkgQMgCQBAyBJ\\\n",
       "wABIEjAAkgQMgCQBAyBJwABIEjAAkgQMgCQBAyBJwABIEjAAkgQMgCQBAyBJwABIEjAAkgQMgCQB\\\n",
       "AyBJwABIEjAAkgQMgCQBAyBJwABIEjAAkgQMgCQBAyBJwABIEjAAkgQMgCQBAyBJwABIEjAAkgQM\\\n",
       "gCQBAyBJwABIEjAAkgQMgCQBAyBJwABIEjAAkgQMgCQBAyBJwABIEjAAkgQMgCQBAyBJwABIEjAA\\\n",
       "kgQMgCQBAyBJwABIEjAAkgQMgCQBAyBJwABIEjAAkgQMgCQBAyBJwABIEjAAkgQMgCQBAyBJwABI\\\n",
       "EjAAkgQMgCQBAyBJwABIEjAAkgQMgCQBAyBJwABIEjAAkgQMgCQBAyBJwABIEjAAkgQMgKSH0QPA\\\n",
       "mh3222/Hnja7AZNAjxUYAEkCBoOcWn0B5xMwAJIEDIAkAQMgScAASBIwAJIEDIAkAQMgScAASBIw\\\n",
       "AJIEDIAkAYMb4ka+cD4BAyBJwABIEjAAkgQMgCQBAyBJwABIEjAAkgQMgCQBAyBJwGCAw3777Zi7\\\n",
       "cMBlBAyAJAEDIEnAAEgSMACSBAyAJAEDIEnAAEgSMACSBAyAJAEDIEnAYGGnbiMFXE7AAEgSMACS\\\n",
       "BAyAJAEDIEnAAEgSMACSBAyAJAEDIEnAAEgSMLgBT5vd6BEgR8AASBIwAJIEDIAkAQMgScAASBIw\\\n",
       "AJIEDIAkAQMgScAASBIwWNBhvx09AvwbAgZAkoABkCRgACQJGABJAgZAkoABkCRg8EPTNJ39+Ol7\\\n",
       "AEcCBkDSw+gBYG1e3zYfz18e9wMngTYrMFjQ53ideg2cT8BgsOetVRhcQ8AASBIwWNDXc17OgcH1\\\n",
       "pnme59FDQNmSl7f7ucLRaq5CtIeG/8D3mN9W/lO0moCVPyRumxUYjOEcGABJAgZAkoABkCRgACQJ\\\n",
       "GABJAgZAkoABkLSafWDwV+zNgjGswABIEjAAkgQMgCQBAyBJwABIEjAAkgQMgCQBAyBJwABIEjAA\\\n",
       "kgQMgCQBAyBJwABIEjAAkgQMgCQBAyBJwABIEjAAkgQMgCQBAyBJwABIEjAAkgQMgCQBAyBJwABI\\\n",
       "EjAAkgQMgCQBAyBJwABIEjAAkgQMgCQBAyBJwABIEjAAkgQMgCQBAyBJwABIEjAAkgQMgCQBAyBJ\\\n",
       "wABIEjAAkgQMgCQBAyBJwABIEjAAkgQMgCQBAyBJwABIEjAAkgQMgCQBAyBJwABIEjAAkgQMgCQB\\\n",
       "AyBJwABIEjAAkgQMgCQBAyBJwABIEjAAkgQMgCQBAyBJwABIEjAAkgQMgCQBAyBJwABIEjAAkgQM\\\n",
       "gCQBAyBJwABIEjAAkgQMgCQBAyBJwABIEjAAkgQMgCQBAyBJwABIegcFRjGAqg0S/wAAAABJRU5E\\\n",
       "rkJggg==\\\n",
       "\"\n",
       "  frames[4] = \"data:image/png;base64,iVBORw0KGgoAAAANSUhEUgAAAbAAAAEgCAYAAADVKCZpAAAABHNCSVQICAgIfAhkiAAAAAlwSFlz\\\n",
       "AAALEgAACxIB0t1+/AAAADl0RVh0U29mdHdhcmUAbWF0cGxvdGxpYiB2ZXJzaW9uIDMuMC4wLCBo\\\n",
       "dHRwOi8vbWF0cGxvdGxpYi5vcmcvqOYd8AAABPFJREFUeJzt3N1NAkEYQFHXUIVtUIdtQE3QhnXQ\\\n",
       "hm2sDz75E4OIO1z2nIQHSCBfspDLwM5O8zzPDwAQ8zh6AAC4hIABkCRgACQJGABJAgZAkoABkCRg\\\n",
       "ACQJGABJAgZAkoABkCRgACQJGABJAgZAkoABkCRgACQJGABJAgZAkoABkCRgACQJGABJAgZAkoAB\\\n",
       "kCRgACQJGABJAgZAkoABkCRgACQJGABJAgZAkoABkCRgACQJGABJAgZAkoABkCRgACQJGABJAgZA\\\n",
       "koABkCRgACQJGABJAgZAkoABkCRgACQJGABJAgZAkoABkCRgACQJGABJAgZAkoABkCRgACQJGABJ\\\n",
       "AgZAkoABkCRgACQJGABJAgZAkoABkCRgACQJGABJAgZAkoABkCRgACQJGABJAgZAkoABkCRgACQJ\\\n",
       "GABJAgZAkoABkCRgACQJGABJAgZAkoABkCRgACQJGABJAgZAkoABkCRgACQJGABJAgZAkoABkCRg\\\n",
       "ACQJGABJAgZAkoABkCRgACQJGABJAgZAkoABkCRgACQJGABJAgZAkoABkCRgACQJGABJAgZAkoAB\\\n",
       "kCRgACQJGABJAgZAkoABkCRgACQJGABJAgZAkoABkCRgACQJGABJAgZAkoABkCRgACQJGABJAgZA\\\n",
       "koABkCRgACQJGABJAgZAkoABkCRgACQJGABJAgZAkoABkCRgACQJGABJAgZAkoABkCRgACRtRg8A\\\n",
       "a3Y67r88tt0dBkwCPVZgACQJGAzy3eoLOJ+AAZAkYAAkCRgASQIGQJKAAZAkYAAkCRgASQIGQJKA\\\n",
       "AZAkYAAkCRjcEBfyhfMJGABJAgZAkoABkCRgACQJGABJAgZAkoABkCRgACQJGABJAgZAkoDBAKfj\\\n",
       "fvQIkCdgcCNcBxF+R8AASBIwAJIEDIAkAQMgScAASBIwAJIEDIAkAQMgScAASBIwAJIEDBbmOohw\\\n",
       "HQIGQJKAAZAkYAAkCRgASQIGQJKAAZAkYAAkCRgASQIGQJKAAZAkYHADtrvD6BEgR8AASBIwAJIE\\\n",
       "DIAkAQMgScAASBIwAJIEDIAkAQMgScAASBIwAJIEDIAkAYMFnY770SPA3RAwAJIEDK5gmqazbn99\\\n",
       "/k+vAWsjYAAkbUYPAGvz8rr7cP/56ThoEmizAoMFfY4XcDkBg8FEDS4jYDCYnxDhMgIGCxIruJ5p\\\n",
       "nud59BBQt+Tp7T6y8G41ZyHaP8O98F7mmspfiFYTsPJB4vZZgcHy/AcGQJKAAZAkYAAkCRgASQIG\\\n",
       "QJKAAZAkYAAkrWYfGPwne7NgeVZgACQJGABJAgZAkoABkCRgACQJGABJAgZAkoABkCRgACQJGABJ\\\n",
       "AgZAkoABkCRgACQJGABJAgZAkoABkCRgACQJGABJAgZAkoABkCRgACQJGABJAgZAkoABkCRgACQJ\\\n",
       "GABJAgZAkoABkCRgACQJGABJAgZAkoABkCRgACQJGABJAgZAkoABkCRgACQJGABJAgZAkoABkCRg\\\n",
       "ACQJGABJAgZAkoABkCRgACQJGABJAgZAkoABkCRgACQJGABJAgZAkoABkCRgACQJGABJAgZAkoAB\\\n",
       "kCRgACQJGABJAgZAkoABkCRgACQJGABJAgZAkoABkCRgACQJGABJAgZAkoABkCRgACQJGABJAgZA\\\n",
       "koABkCRgACQJGABJAgZAkoABkCRgACQJGABJAgZAkoABkCRgACS9AdMjMEuOYElFAAAAAElFTkSu\\\n",
       "QmCC\\\n",
       "\"\n",
       "  frames[5] = \"data:image/png;base64,iVBORw0KGgoAAAANSUhEUgAAAbAAAAEgCAYAAADVKCZpAAAABHNCSVQICAgIfAhkiAAAAAlwSFlz\\\n",
       "AAALEgAACxIB0t1+/AAAADl0RVh0U29mdHdhcmUAbWF0cGxvdGxpYiB2ZXJzaW9uIDMuMC4wLCBo\\\n",
       "dHRwOi8vbWF0cGxvdGxpYi5vcmcvqOYd8AAABPFJREFUeJzt3N1NAkEYQFHXUIVtUIdtQE3QhnXQ\\\n",
       "hm2sDz75E4OIO1z2nIQHSCBfAuQy7O5M8zzPDwAQ8zh6AAC4hIABkCRgACQJGABJAgZAkoABkCRg\\\n",
       "ACQJGABJAgZAkoABkCRgACQJGABJAgZAkoABkCRgACQJGABJAgZAkoABkCRgACQJGABJAgZAkoAB\\\n",
       "kCRgACQJGABJAgZAkoABkCRgACQJGABJAgZAkoABkCRgACQJGABJAgZAkoABkCRgACQJGABJAgZA\\\n",
       "koABkCRgACQJGABJAgZAkoABkCRgACQJGABJAgZAkoABkCRgACQJGABJAgZAkoABkCRgACQJGABJ\\\n",
       "AgZAkoABkCRgACQJGABJAgZAkoABkCRgACQJGABJAgZAkoABkCRgACQJGABJAgZAkoABkCRgACQJ\\\n",
       "GABJAgZAkoABkCRgACQJGABJAgZAkoABkCRgACQJGABJAgZAkoABkCRgACQJGABJAgZAkoABkCRg\\\n",
       "ACQJGABJAgZAkoABkCRgACQJGABJAgZAkoABkCRgACQJGABJAgZAkoABkCRgACQJGABJAgZAkoAB\\\n",
       "kCRgACQJGABJAgZAkoABkCRgACQJGABJAgZAkoABkCRgACQJGABJAgZAkoABkCRgACQJGABJAgZA\\\n",
       "koABkCRgACQJGABJAgZAkoABkCRgACQJGABJAgZAkoABkCRgACQJGABJAgZAkoABkCRgACRtRg8A\\\n",
       "a3Y67r88tt0dBkwCPVZgACQJGABJAgZAkoDBIN8d/wLOJ2AAJAkYAEkCBkCSgAGQJGAAJAkYAEkC\\\n",
       "BkCSgAGQJGAAJAkY3BA70cP5BAyAJAEDIEnAAEgSMACSBAyAJAEDIEnAAEgSMACSBAyAJAEDIEnA\\\n",
       "YIDTcT96BMgTMLgR9kGE3xEwAJIEDIAkAQMgScAASBIwAJIEDIAkAQMgScAASBIwAJIEDIAkAYOF\\\n",
       "2QcRrkPAAEgSMACSBAyAJAEDIEnAAEgSMACSBAyAJAEDIEnAAEgSMACSBAxuwHZ3GD0C5AgYAEkC\\\n",
       "BkCSgAGQJGAAJAkYAEkCBkCSgAGQJGAAJAkYAEkCBkCSgMGCTsf96BHgbggYAEkCBlcwTdNZt78+\\\n",
       "/6fXgLURMACSNqMHgLV5ed19uP/8dBw0CbRZgcGCPscLuJyAwWCiBpcRMBjMX4hwGQGDBYkVXM80\\\n",
       "z/M8egioW/L0dl9ZeLeasxBdP8O98Fnmmso/iFYTsPKbxO2zAoPlOQYGQJKAAZAkYAAkCRgASQIG\\\n",
       "QJKAAZAkYAAkreY6MPhPrs2C5VmBAZAkYAAkCRgASQIGQJKAAZAkYAAkCRgASQIGQJKAAZAkYAAk\\\n",
       "CRgASQIGQJKAAZAkYAAkCRgASQIGQJKAAZAkYAAkCRgASQIGQJKAAZAkYAAkCRgASQIGQJKAAZAk\\\n",
       "YAAkCRgASQIGQJKAAZAkYAAkCRgASQIGQJKAAZAkYAAkCRgASQIGQJKAAZAkYAAkCRgASQIGQJKA\\\n",
       "AZAkYAAkCRgASQIGQJKAAZAkYAAkCRgASQIGQJKAAZAkYAAkCRgASQIGQJKAAZAkYAAkCRgASQIG\\\n",
       "QJKAAZAkYAAkCRgASQIGQJKAAZAkYAAkCRgASQIGQJKAAZAkYAAkCRgASQIGQJKAAZAkYAAkCRgA\\\n",
       "SQIGQJKAAZAkYAAkCRgASQIGQJKAAZAkYAAkCRgASQIGQJKAAZD0BtWOMEsUwQUyAAAAAElFTkSu\\\n",
       "QmCC\\\n",
       "\"\n",
       "  frames[6] = \"data:image/png;base64,iVBORw0KGgoAAAANSUhEUgAAAbAAAAEgCAYAAADVKCZpAAAABHNCSVQICAgIfAhkiAAAAAlwSFlz\\\n",
       "AAALEgAACxIB0t1+/AAAADl0RVh0U29mdHdhcmUAbWF0cGxvdGxpYiB2ZXJzaW9uIDMuMC4wLCBo\\\n",
       "dHRwOi8vbWF0cGxvdGxpYi5vcmcvqOYd8AAABO1JREFUeJzt3c1NAlEYQFHHUIVtUIdtQE3Qhm1I\\\n",
       "G7YxLlwpLMDgPK5zTsKCSUi+hCGXx/wwzfM8PwFAzPPoAQDgNwQMgCQBAyBJwABIEjAAkgQMgCQB\\\n",
       "AyBJwABIEjAAkgQMgCQBAyBJwABIEjAAkgQMgCQBAyBJwABIEjAAkgQMgCQBAyBJwABIEjAAkgQM\\\n",
       "gCQBAyBJwABIEjAAkgQMgCQBAyBJwABIEjAAkgQMgCQBAyBJwABIEjAAkgQMgCQBAyBJwABIEjAA\\\n",
       "kgQMgCQBAyBJwABIEjAAkgQMgCQBAyBJwABIEjAAkgQMgCQBAyBJwABIEjAAkgQMgCQBAyBJwABI\\\n",
       "EjAAkgQMgCQBAyBJwABIEjAAkgQMgCQBAyBJwABIEjAAkgQMgCQBAyBJwABIEjAAkgQMgCQBAyBJ\\\n",
       "wABIEjAAkgQMgCQBAyBJwABIEjAAkgQMgCQBAyBJwABIEjAAkgQMgCQBAyBJwABIEjAAkgQMgCQB\\\n",
       "AyBJwABIEjAAkgQMgCQBAyBJwABIEjAAkgQMgCQBAyBJwABIEjAAkgQMgCQBAyBJwABIEjAAkgQM\\\n",
       "gCQBAyBJwABIEjAAkgQMgCQBAyBJwABIEjAAkgQMgCQBAyBJwABIEjAAkgQMgCQBAyBJwABIEjAA\\\n",
       "kgQMgCQBAyBJwABIEjAAkgQMgCQBAyBJwABIEjAAkgQMgCQBAyBJwABIEjAAkgQMgCQBAyBpM3oA\\\n",
       "WLPTcX+2bbs7DJgEeqzAAEgSMACSBAyAJAGDQS4d/wKuJ2AAJAkYAEkCBkCSgAGQJGAAJAkYAEkC\\\n",
       "BkCSgAGQJGAAJAkYAEkCBkCSgMED8V9gcD0BAyBJwABIEjAAkgQMgCQBAyBJwABIEjAAkgQMgCQB\\\n",
       "AyBJwABIEjAAkgQMBjgd92fb3AcRbiNgACQJGABJAgZAkoABkCRgACQJGABJAgZAkoABkCRgACQJ\\\n",
       "GABJAgZAkoDBwi7dBxG4nYABkCRgACQJGABJAgZAkoABkCRgACQJGABJAgZAkoABkCRgACQJGABJ\\\n",
       "AgYPYLs7jB4BcgQMgCQBAyBJwABIEjAAkgQMgCQBAyBJwABIEjAAkgQM7mCapqsff/F6WCMBAyBp\\\n",
       "M3oAWJu3j923568vx0GTQJsVGCzo/bA72/YzaMB1BAwWJFZwPwIGC/JzIdyPgMFgoga/M83zPI8e\\\n",
       "AuqWPL3dRxa+rOYsRNfP8F/Yl7mn8hei1QSs/Cbx+KzAYHmOgQGQJGAAJAkYAEkCBkCSgAGQJGAA\\\n",
       "JAkYAEmruQ4M/pJrs2B5VmAAJAkYAEkCBkCSgAGQJGAAJAkYAEkCBkCSgAGQJGAAJAkYAEkCBkCS\\\n",
       "gAGQJGAAJAkYAEkCBkCSgAGQJGAAJAkYAEkCBkCSgAGQJGAAJAkYAEkCBkCSgAGQJGAAJAkYAEkC\\\n",
       "BkCSgAGQJGAAJAkYAEkCBkCSgAGQJGAAJAkYAEkCBkCSgAGQJGAAJAkYAEkCBkCSgAGQJGAAJAkY\\\n",
       "AEkCBkCSgAGQJGAAJAkYAEkCBkCSgAGQJGAAJAkYAEkCBkCSgAGQJGAAJAkYAEkCBkCSgAGQJGAA\\\n",
       "JAkYAEkCBkCSgAGQJGAAJAkYAEkCBkCSgAGQJGAAJAkYAEkCBkCSgAGQJGAAJAkYAEkCBkCSgAGQ\\\n",
       "JGAAJAkYAEkCBkCSgAGQJGAAJAkYAEkCBkCSgAGQJGAAJH0CXdMwS9+ueYsAAAAASUVORK5CYII=\\\n",
       "\"\n",
       "  frames[7] = \"data:image/png;base64,iVBORw0KGgoAAAANSUhEUgAAAbAAAAEgCAYAAADVKCZpAAAABHNCSVQICAgIfAhkiAAAAAlwSFlz\\\n",
       "AAALEgAACxIB0t1+/AAAADl0RVh0U29mdHdhcmUAbWF0cGxvdGxpYiB2ZXJzaW9uIDMuMC4wLCBo\\\n",
       "dHRwOi8vbWF0cGxvdGxpYi5vcmcvqOYd8AAABO9JREFUeJzt3dFNwlAAQFFrmMI1dA3XkDGIY8ga\\\n",
       "riFruEb9IPFD/CiKLdeek5CQl0BeUppL+9p0GMdxvAGAmNulJwAAPyFgACQJGABJAgZAkoABkCRg\\\n",
       "ACQJGABJAgZAkoABkCRgACQJGABJAgZAkoABkCRgACQJGABJAgZAkoABkCRgACQJGABJAgZAkoAB\\\n",
       "kCRgACQJGABJAgZAkoABkCRgACQJGABJAgZAkoABkCRgACQJGABJAgZAkoABkCRgACQJGABJAgZA\\\n",
       "koABkCRgACQJGABJAgZAkoABkCRgACQJGABJAgZAkoABkCRgACQJGABJAgZAkoABkCRgACQJGABJ\\\n",
       "AgZAkoABkCRgACQJGABJAgZAkoABkCRgACQJGABJAgZAkoABkCRgACQJGABJAgZAkoABkCRgACQJ\\\n",
       "GABJAgZAkoABkCRgACQJGABJAgZAkoABkCRgACQJGABJAgZAkoABkCRgACQJGABJAgZAkoABkCRg\\\n",
       "ACQJGABJAgZAkoABkCRgACQJGABJAgZAkoABkCRgACQJGABJAgZAkoABkCRgACQJGABJAgZAkoAB\\\n",
       "kCRgACQJGABJAgZAkoABkCRgACQJGABJAgZAkoABkCRgACQJGABJAgZAkoABkCRgACQJGABJAgZA\\\n",
       "koABkCRgACQJGABJAgZAkoABkCRgACQJGABJAgZAkoABkCRgACQJGABJAgZAkoABkCRgACQJGABJ\\\n",
       "m6UnAGt22G9Pxu6fXhaYCfQ4AoOFfBcvYDoBAyBJwABIEjAAkgQMgCQBAyBJwABIEjAAkgQMgCQB\\\n",
       "AyBJwABIEjAAkgQMgCQBAyBJwABIEjAAkgQMroiHWcJ0AgZAkoABkCRgACQJGABJAgZAkoABkCRg\\\n",
       "ACQJGABJAgZAkoABkCRgACQJGABJAgZAkoABkCRgsIDDfnsy5lEqcB4BAyBJwABIEjAAkgQMgCQB\\\n",
       "AyBJwABIEjAAkgQMgCQBAyBJwABIEjAAkgQMgCQBAyBJwABIEjAAkgQMZvbds8CA8wkYAEkCBkCS\\\n",
       "gAGQJGAAJAkYAEkCBkCSgAGQJGAAJAkYAEkCBkCSgAGQJGAAJAkYXMAwDJNfv/0O4EjAAEjaLD0B\\\n",
       "WKPX96fP9493+wVnAl3DOI7j0pOAunNO7e12bydjz88Pkz9vl4UjpxABSBIwAJIEDGb2dc3LGhj8\\\n",
       "jDUwuIA5L2+3y8LRaq5CdP8M/4XfMpdU/kO0moCVNxLXzxEYzM8aGABJAgZAkoABkCRgACQJGABJ\\\n",
       "AgZAkoABkLSa+8DgL7k3C+bnCAyAJAEDIEnAAEgSMACSBAyAJAEDIEnAAEgSMACSBAyAJAEDIEnA\\\n",
       "AEgSMACSBAyAJAEDIEnAAEgSMACSBAyAJAEDIEnAAEgSMACSBAyAJAEDIEnAAEgSMACSBAyAJAED\\\n",
       "IEnAAEgSMACSBAyAJAEDIEnAAEgSMACSBAyAJAEDIEnAAEgSMACSBAyAJAEDIEnAAEgSMACSBAyA\\\n",
       "JAEDIEnAAEgSMACSBAyAJAEDIEnAAEgSMACSBAyAJAEDIEnAAEgSMACSBAyAJAEDIEnAAEgSMACS\\\n",
       "BAyAJAEDIEnAAEgSMACSBAyAJAEDIEnAAEgSMACSBAyAJAEDIEnAAEgSMACSBAyAJAEDIEnAAEgS\\\n",
       "MACSBAyAJAEDIEnAAEgSMACSBAyAJAEDIEnAAEgSMACSBAyApA948DNIXsP9gAAAAABJRU5ErkJg\\\n",
       "gg==\\\n",
       "\"\n",
       "  frames[8] = \"data:image/png;base64,iVBORw0KGgoAAAANSUhEUgAAAbAAAAEgCAYAAADVKCZpAAAABHNCSVQICAgIfAhkiAAAAAlwSFlz\\\n",
       "AAALEgAACxIB0t1+/AAAADl0RVh0U29mdHdhcmUAbWF0cGxvdGxpYiB2ZXJzaW9uIDMuMC4wLCBo\\\n",
       "dHRwOi8vbWF0cGxvdGxpYi5vcmcvqOYd8AAABNhJREFUeJzt2+tpAkEYQNFssIq0YR1pY61J20gd\\\n",
       "tpE2Nv9CSIQ80J1c9xwQdEH4QOU6zM60LMvyAAAxj6MHAIC/EDAAkgQMgCQBAyBJwABIEjAAkgQM\\\n",
       "gCQBAyBJwABIEjAAkgQMgCQBAyBJwABIEjAAkgQMgCQBAyBJwABIEjAAkgQMgCQBAyBJwABIEjAA\\\n",
       "kgQMgCQBAyBJwABIEjAAkgQMgCQBAyBJwABIEjAAkgQMgCQBAyBJwABIEjAAkgQMgCQBAyBJwABI\\\n",
       "EjAAkgQMgCQBAyBJwABIEjAAkgQMgCQBAyBJwABIEjAAkgQMgCQBAyBJwABIEjAAkgQMgCQBAyBJ\\\n",
       "wABIEjAAkgQMgCQBAyBJwABIEjAAkgQMgCQBAyBJwABIEjAAkgQMgCQBAyBJwABIEjAAkgQMgCQB\\\n",
       "AyBJwABIEjAAkgQMgCQBAyBJwABIEjAAkgQMgCQBAyBJwABIEjAAkgQMgCQBAyBJwABIEjAAkgQM\\\n",
       "gCQBAyBJwABIEjAAkgQMgCQBAyBJwABIEjAAkgQMgCQBAyBJwABIEjAAkgQMgCQBAyBJwABIEjAA\\\n",
       "kgQMgCQBAyBJwABIEjAAkgQMgCQBAyBJwABIEjAAkgQMgCQBAyBJwABIEjAAkgQMgCQBAyBJwABI\\\n",
       "EjAAkgQMgCQBAyBJwABIEjAAkgQMgCQBAyBJwABIEjAAkgQMgCQBAyBJwABIEjAAkgQMgKTd6AFg\\\n",
       "q86nw8Xr+/m48iTQZAUGQJKAAZAkYAAkCRgASQIGQJKAAZAkYAAkCRgASQIGQJKAAZAkYAAkCRgA\\\n",
       "SQIGQJKAAZAkYAAkCRgASQIGQJKAAZAkYAAkCRj8I/v5OHoEyBAwAJIEDIAkAQMgScAASBIwAJIE\\\n",
       "DIAkAQMgScAASBIwAJIEDIAkAQMgScAASBIwAJIEDIAkAQMgScAASBIwAJIEDIAkAQMgScAASBIw\\\n",
       "AJIEDIAkAQMgScAASBIwAJIEDIAkAYMBzqfDl2v7+ThgEugSMACSBAyAJAEDIEnAAEgSMACSBAyA\\\n",
       "JAEDIEnAAEgSMACSBAyAJAEDIEnAAEgSMACSBAyuZJqmHz9u8X7YGgEDIGk3egDYqpfX+f3589Np\\\n",
       "4CTQZAUGA3yM16XXwPcEDIAkAQMgScBggM97XvbA4PemZVmW0UPAPVjz9nY/W9jQXYjOznBPfJ+5\\\n",
       "lvKfoc0ErPwh0WAFBuuyBwZAkoABkCRgACQJGABJAgZAkoABkCRgACRt5hwY3JqzWbAuKzAAkgQM\\\n",
       "gCQBAyBJwABIEjAAkgQMgCQBAyBJwABIEjAAkgQMgCQBAyBJwABIEjAAkgQMgCQBAyBJwABIEjAA\\\n",
       "kgQMgCQBAyBJwABIEjAAkgQMgCQBAyBJwABIEjAAkgQMgCQBAyBJwABIEjAAkgQMgCQBAyBJwABI\\\n",
       "EjAAkgQMgCQBAyBJwABIEjAAkgQMgCQBAyBJwABIEjAAkgQMgCQBAyBJwABIEjAAkgQMgCQBAyBJ\\\n",
       "wABIEjAAkgQMgCQBAyBJwABIEjAAkgQMgCQBAyBJwABIEjAAkgQMgCQBAyBJwABIEjAAkgQMgCQB\\\n",
       "AyBJwABIEjAAkgQMgCQBAyBJwABIEjAAkgQMgCQBAyBJwABIEjAAkgQMgCQBAyBJwABIEjAAkgQM\\\n",
       "gCQBAyBJwABIEjAAkt4AnS8pspxeP78AAAAASUVORK5CYII=\\\n",
       "\"\n",
       "  frames[9] = \"data:image/png;base64,iVBORw0KGgoAAAANSUhEUgAAAbAAAAEgCAYAAADVKCZpAAAABHNCSVQICAgIfAhkiAAAAAlwSFlz\\\n",
       "AAALEgAACxIB0t1+/AAAADl0RVh0U29mdHdhcmUAbWF0cGxvdGxpYiB2ZXJzaW9uIDMuMC4wLCBo\\\n",
       "dHRwOi8vbWF0cGxvdGxpYi5vcmcvqOYd8AAABM1JREFUeJzt29FJw1AYgFEjncI1nMM16kx2Dedw\\\n",
       "Dde4volIkagl6dd7DhTaPJQf0vD1trnLGGPcAUDM/d4DAMBfCBgASQIGQJKAAZAkYAAkCRgASQIG\\\n",
       "QJKAAZAkYAAkCRgASQIGQJKAAZAkYAAkCRgASQIGQJKAAZAkYAAkCRgASQIGQJKAAZAkYAAkCRgA\\\n",
       "SQIGQJKAAZAkYAAkCRgASQIGQJKAAZAkYAAkCRgASQIGQJKAAZAkYAAkCRgASQIGQJKAAZAkYAAk\\\n",
       "CRgASQIGQJKAAZAkYAAkCRgASQIGQJKAAZAkYAAkCRgASQIGQJKAAZAkYAAkCRgASQIGQJKAAZAk\\\n",
       "YAAkCRgASQIGQJKAAZAkYAAkCRgASQIGQJKAAZAkYAAkCRgASQIGQJKAAZAkYAAkCRgASQIGQJKA\\\n",
       "AZAkYAAkCRgASQIGQJKAAZAkYAAkCRgASQIGQJKAAZAkYAAkCRgASQIGQJKAAZAkYAAkCRgASQIG\\\n",
       "QJKAAZAkYAAkCRgASQIGQJKAAZAkYAAkCRgASQIGQJKAAZAkYAAkCRgASQIGQJKAAZAkYAAkCRgA\\\n",
       "SQIGQJKAAZAkYAAkCRgASQIGQJKAAZAkYAAkCRgASQIGQJKAAZAkYAAkCRgASQIGQJKAAZAkYAAk\\\n",
       "CRgASQIGQJKAAZAkYAAkCRgASQIGQJKAAZAkYAAkCRgASQIGQJKAAZAkYAAkCRgASQIGQNJh7wFg\\\n",
       "Vm+n57PHH48vG08CTVZgACQJGABJAgZAkoABkCRgACQJGABJAgZAkoABkCRgACQJGABJAgZAkoAB\\\n",
       "kCRgACQJGABJAgZAkoABkCRgACQJGABJAgZAkoABkCRgACQJGABJAgZAkoABkCRgACQJGABJAgZA\\\n",
       "koABkCRgACQJGABJAgZAkoABkCRgACQJGABJAgZAkoABkCRgACQJGABJAgZAkoABkCRgACQJGABJ\\\n",
       "AgZAkoABkCRgACQJGABJAgZAkoABkCRgACQJGABJAgZAkoABkCRgACQJGABJAgZAkoABkCRgACQJ\\\n",
       "GABJAgZAkoABkCRgcEHLsqx+/Pc9YHYCBkDSYe8BYGav78fP508Ppx0ngR4rMNjJ13idew38TMDg\\\n",
       "iogYrCdgcEX8jAjrCRjs5HusxAt+ZxljjL2HgFux5e3tLl1mN81diPbNcGt8prmE8hehaQJWPkl0\\\n",
       "WIHBdvwHBkCSgAGQJGAAJAkYAEkCBkCSgAGQJGAAJE2zDwy2YG8WbMcKDIAkAQMgScAASBIwAJIE\\\n",
       "DIAkAQMgScAASBIwAJIEDIAkAQMgScAASBIwAJIEDIAkAQMgScAASBIwAJIEDIAkAQMgScAASBIw\\\n",
       "AJIEDIAkAQMgScAASBIwAJIEDIAkAQMgScAASBIwAJIEDIAkAQMgScAASBIwAJIEDIAkAQMgScAA\\\n",
       "SBIwAJIEDIAkAQMgScAASBIwAJIEDIAkAQMgScAASBIwAJIEDIAkAQMgScAASBIwAJIEDIAkAQMg\\\n",
       "ScAASBIwAJIEDIAkAQMgScAASBIwAJIEDIAkAQMgScAASBIwAJIEDIAkAQMgScAASBIwAJIEDIAk\\\n",
       "AQMgScAASBIwAJIEDIAkAQMgScAASBIwAJIEDIAkAQMgScAASBIwAJIEDIAkAQMgScAASBIwAJIE\\\n",
       "DICkD45vKH2SatitAAAAAElFTkSuQmCC\\\n",
       "\"\n",
       "  frames[10] = \"data:image/png;base64,iVBORw0KGgoAAAANSUhEUgAAAbAAAAEgCAYAAADVKCZpAAAABHNCSVQICAgIfAhkiAAAAAlwSFlz\\\n",
       "AAALEgAACxIB0t1+/AAAADl0RVh0U29mdHdhcmUAbWF0cGxvdGxpYiB2ZXJzaW9uIDMuMC4wLCBo\\\n",
       "dHRwOi8vbWF0cGxvdGxpYi5vcmcvqOYd8AAABNlJREFUeJzt3MFNAkEYgFHXUIVtUIdtQE3QhnXY\\\n",
       "hm2MZ5UDQd3hY99LOMBh8ycs+XZgh2WMMZ4AIOZ59gAAcAsBAyBJwABIEjAAkgQMgCQBAyBJwABI\\\n",
       "EjAAkgQMgCQBAyBJwABIEjAAkgQMgCQBAyBJwABIEjAAkgQMgCQBAyBJwABIEjAAkgQMgCQBAyBJ\\\n",
       "wABIEjAAkgQMgCQBAyBJwABIEjAAkgQMgCQBAyBJwABIEjAAkgQMgCQBAyBJwABIEjAAkgQMgCQB\\\n",
       "AyBJwABIEjAAkgQMgCQBAyBJwABIEjAAkgQMgCQBAyBJwABIEjAAkgQMgCQBAyBJwABIEjAAkgQM\\\n",
       "gCQBAyBJwABIEjAAkgQMgCQBAyBJwABIEjAAkgQMgCQBAyBJwABIEjAAkgQMgCQBAyBJwABIEjAA\\\n",
       "kgQMgCQBAyBJwABIEjAAkgQMgCQBAyBJwABIEjAAkgQMgCQBAyBJwABIEjAAkgQMgCQBAyBJwABI\\\n",
       "EjAAkgQMgCQBAyBJwABIEjAAkgQMgCQBAyBJwABIEjAAkgQMgCQBAyBJwABIEjAAkgQMgCQBAyBJ\\\n",
       "wABIEjAAkgQMgCQBAyBJwABIEjAAkgQMgCQBAyBJwABIEjAAkgQMgCQBAyBJwABIEjAAkgQMgCQB\\\n",
       "AyBJwABIEjAAkgQMgCQBAyBJwABIEjAAkgQMgCQBAyBJwABIEjAAkgQMgCQBAyBJwABI2s0eALbq\\\n",
       "/Xz88dr+cJowCTRZgQGQJGAAJAkYAEkCBkCSgAGQJGAAJAkYAEkCBkCSgAGQJGAAJAkYAEkCBnfk\\\n",
       "0v8jApcJGABJAgZAkoABkCRgACQJGABJAgZAkoABkCRgACQJGABJAgZAkoABkCRgACQJGABJAgZA\\\n",
       "koABkCRgACQJGABJAgZAkoABkCRgMMn+cJo9AqQJGABJAgZAkoABkCRgACQJGABJAgZAkoABkCRg\\\n",
       "ACQJGABJAgZAkoABkCRgACQJGABJAgZAkoABkCRgACQJGABJAgZAkoABkCRgcGfez8fZI0CCgAGQ\\\n",
       "JGAAJAkYAEkCBkCSgAGQJGAAJAkYAEkCBkCSgMEfW5bl6sd/HgMenYABkLSbPQBs3dvH4cvz15fz\\\n",
       "pEmgxQoM7sz3oAGXCRhMJFZwOwGDiXxdCLcTMLgzogbXWcYYY/YQ8EjWvrXdR5it2sxdiPbL8Kic\\\n",
       "2/xG+QJoMwErv0m0WIHBOvwGBkCSgAGQJGAAJAkYAEkCBkCSgAGQJGAAJG1mHxisxb4sWIcVGABJ\\\n",
       "AgZAkoABkCRgACQJGABJAgZAkoABkCRgACQJGABJAgZAkoABkCRgACQJGABJAgZAkoABkCRgACQJ\\\n",
       "GABJAgZAkoABkCRgACQJGABJAgZAkoABkCRgACQJGABJAgZAkoABkCRgACQJGABJAgZAkoABkCRg\\\n",
       "ACQJGABJAgZAkoABkCRgACQJGABJAgZAkoABkCRgACQJGABJAgZAkoABkCRgACQJGABJAgZAkoAB\\\n",
       "kCRgACQJGABJAgZAkoABkCRgACQJGABJAgZAkoABkCRgACQJGABJAgZAkoABkCRgACQJGABJAgZA\\\n",
       "koABkCRgACQJGABJAgZAkoABkCRgACQJGABJAgZAkoABkCRgACQJGABJAgZAkoABkCRgACQJGABJ\\\n",
       "AgZAkoABkCRgACQJGABJn+1tKk4e5f94AAAAAElFTkSuQmCC\\\n",
       "\"\n",
       "  frames[11] = \"data:image/png;base64,iVBORw0KGgoAAAANSUhEUgAAAbAAAAEgCAYAAADVKCZpAAAABHNCSVQICAgIfAhkiAAAAAlwSFlz\\\n",
       "AAALEgAACxIB0t1+/AAAADl0RVh0U29mdHdhcmUAbWF0cGxvdGxpYiB2ZXJzaW9uIDMuMC4wLCBo\\\n",
       "dHRwOi8vbWF0cGxvdGxpYi5vcmcvqOYd8AAABOlJREFUeJzt3WFKAkEAgNE2PEXX6Bxdw86U1+gc\\\n",
       "XaNrbD+CiDQURWc/9z0QVBAGVvkcdoaZ5nmeHwAg5nH0AADgHAIGQJKAAZAkYAAkCRgASQIGQJKA\\\n",
       "AZAkYAAkCRgASQIGQJKAAZAkYAAkCRgASQIGQJKAAZAkYAAkCRgASQIGQJKAAZAkYAAkCRgASQIG\\\n",
       "QJKAAZAkYAAkCRgASQIGQJKAAZAkYAAkCRgASQIGQJKAAZAkYAAkCRgASQIGQJKAAZAkYAAkCRgA\\\n",
       "SQIGQJKAAZAkYAAkCRgASQIGQJKAAZAkYAAkCRgASQIGQJKAAZAkYAAkCRgASQIGQJKAAZAkYAAk\\\n",
       "CRgASQIGQJKAAZAkYAAkCRgASQIGQJKAAZAkYAAkCRgASQIGQJKAAZAkYAAkCRgASQIGQJKAAZAk\\\n",
       "YAAkCRgASQIGQJKAAZAkYAAkCRgASQIGQJKAAZAkYAAkCRgASQIGQJKAAZAkYAAkCRgASQIGQJKA\\\n",
       "AZAkYAAkCRgASQIGQJKAAZAkYAAkCRgASQIGQJKAAZAkYAAkCRgASQIGQJKAAZAkYAAkCRgASQIG\\\n",
       "QJKAAZAkYAAkCRgASQIGQJKAAZAkYAAkCRgASQIGQJKAAZAkYAAkCRgASQIGQJKAAZAkYAAkCRgA\\\n",
       "SQIGQJKAAZAkYAAkCRgASQIGQJKAAZAkYAAkCRgASQIGQJKAAZAkYAAkCRgASQIGQJKAAZC0GT0A\\\n",
       "WKOP3evee8/btwEjgS4zMACSBAyAJAEDIEnAAEgSMFiIQws7gP8JGAxgxSFcTsAASBIwAJIEDIAk\\\n",
       "AQMgScAASBIwAJIEDIAkAYMFsZkZTidgACQJGABJAgZAkoABkCRgACQJGABJAgZAkoABkCRgACQJ\\\n",
       "GAziVGa4jIABkCRgACQJGABJAgZAkoABkCRgACQJGABJAgYL41RmOI2AAZAkYAAkCRgASQIGQJKA\\\n",
       "AZAkYAAkCRgASQIGQJKAAZAkYDCQU5nhfAIGQJKAAZAkYAAkCRgASQIGQJKAAZAkYAAkCRgskFOZ\\\n",
       "4TgBAyBJwABIEjAAkgQMgCQBAyBJwABIEjAAkgQMgCQBAyBJwGAwpzLDeQQMrmSappMf1/g83DsB\\\n",
       "AyBpM3oAwLf3z+3P85en3cCRQIMZGCzA73gdeg3sEzAAkgQMgCQBgwX4e8/LPTA4bprneR49CLhH\\\n",
       "t1ze7mfMGq1mFaK9Mtwz32/OVf7zs5qAlS8STWZgcF3ugQGQJGAAJAkYAEkCBkCSgAGQJGAAJAkY\\\n",
       "AEmr2QcGt2ZvFlyXGRgASQIGQJKAAZAkYAAkCRgASQIGQJKAAZAkYAAkCRgASQIGQJKAAZAkYAAk\\\n",
       "CRgASQIGQJKAAZAkYAAkCRgASQIGQJKAAZAkYAAkCRgASQIGQJKAAZAkYAAkCRgASQIGQJKAAZAk\\\n",
       "YAAkCRgASQIGQJKAAZAkYAAkCRgASQIGQJKAAZAkYAAkCRgASQIGQJKAAZAkYAAkCRgASQIGQJKA\\\n",
       "AZAkYAAkCRgASQIGQJKAAZAkYAAkCRgASQIGQJKAAZAkYAAkCRgASQIGQJKAAZAkYAAkCRgASQIG\\\n",
       "QJKAAZAkYAAkCRgASQIGQJKAAZAkYAAkCRgASQIGQJKAAZAkYAAkCRgASQIGQJKAAZAkYAAkCRgA\\\n",
       "SQIGQJKAAZAkYAAkCRgASQIGQJKAAZAkYAAkCRgASV9sqzGAx2tP8wAAAABJRU5ErkJggg==\\\n",
       "\"\n",
       "  frames[12] = \"data:image/png;base64,iVBORw0KGgoAAAANSUhEUgAAAbAAAAEgCAYAAADVKCZpAAAABHNCSVQICAgIfAhkiAAAAAlwSFlz\\\n",
       "AAALEgAACxIB0t1+/AAAADl0RVh0U29mdHdhcmUAbWF0cGxvdGxpYiB2ZXJzaW9uIDMuMC4wLCBo\\\n",
       "dHRwOi8vbWF0cGxvdGxpYi5vcmcvqOYd8AAABQdJREFUeJzt3e1NIkEAgOHbi1VcG9qGbWhNZxvW\\\n",
       "YRu2sf67T1QWhZnXfZ6EBEg0kwB5mezMsKzrun4DgJjvowcAAKcQMACSBAyAJAEDIEnAAEgSMACS\\\n",
       "BAyAJAEDIEnAAEgSMACSBAyAJAEDIEnAAEgSMACSBAyAJAEDIEnAAEgSMACSBAyAJAEDIEnAAEgS\\\n",
       "MACSBAyAJAEDIEnAAEgSMACSBAyAJAEDIEnAAEgSMACSBAyAJAEDIEnAAEgSMACSBAyAJAEDIEnA\\\n",
       "AEgSMACSBAyAJAEDIEnAAEgSMACSBAyAJAEDIEnAAEgSMACSBAyAJAEDIEnAAEgSMACSBAyAJAED\\\n",
       "IEnAAEgSMACSBAyAJAEDIEnAAEgSMACSBAyAJAEDIEnAAEgSMACSBAyAJAEDIEnAAEgSMACSBAyA\\\n",
       "JAEDIEnAAEgSMACSBAyAJAEDIEnAAEgSMACSBAyAJAEDIEnAAEgSMACSBAyAJAEDIEnAAEgSMACS\\\n",
       "BAyAJAEDIEnAAEgSMACSBAyAJAEDIEnAAEgSMACSBAyAJAEDIEnAAEgSMACSBAyAJAEDIEnAAEgS\\\n",
       "MACSBAyAJAEDIEnAAEgSMACSBAyAJAEDIEnAAEgSMACSBAyAJAEDIEnAAEgSMACSBAyAJAEDIEnA\\\n",
       "AEgSMACSBAyAJAEDIEnAAEgSMACSBAyAJAEDIEnAAEgSMACSBAyAJAEDIEnAAEgSMACSBAyApKvR\\\n",
       "A4A9enq4/++567ufA0YCXWZgcGGH4gVsJ2AAJAkYAEkCBkCSgMGFWawBn0PAAEgSMACSBAyAJAED\\\n",
       "IEnAYIBDCzlscIZtBAyAJAEDIEnAAEgSMACSBAyAJAGDiViJCMcTMACSBAyAJAEDIEnAAEgSMACS\\\n",
       "BAwG8cOW8DECBkCSgAGQJGAAJAkYTMZpHHAcAQMgScAASBIwAJIEDIAkAQMgScBgIKdxwOkEDIAk\\\n",
       "AQMgScAASBIwAJIEDCbkOCl4n4ABkCRgACQJGABJAgZAkoABkCRgMJjjpOA0AgZAkoABkCRgACQJ\\\n",
       "GABJAgZAkoDBpJyHCG8TMACSBAyAJAEDIEnAAEgSMJiA46RgOwEDIEnAAEgSMACSBAyAJAEDIEnA\\\n",
       "YGKOk4LXCRic2bIsR90++vdv/Q/4igQMgKSr0QMA/vb4fPfr/u2Ph4EjgbmZgcFE/ozXocfAbwIG\\\n",
       "k7i5N9uCLQQMgCQBg4n8e83LNTB43bKu6zp6EPCVXXJ5u48ze7KbVYj2yLAH3udsVf7Ss5uAlV8k\\\n",
       "2szA4DxcAwMgScAASBIwAJIEDIAkAQMgScAASBIwAJJ2sw8MRrE3C87DDAyAJAEDIEnAAEgSMACS\\\n",
       "BAyAJAEDIEnAAEgSMACSBAyAJAEDIEnAAEgSMACSBAyAJAEDIEnAAEgSMACSBAyAJAEDIEnAAEgS\\\n",
       "MACSBAyAJAEDIEnAAEgSMACSBAyAJAEDIEnAAEgSMACSBAyAJAEDIEnAAEgSMACSBAyAJAEDIEnA\\\n",
       "AEgSMACSBAyAJAEDIEnAAEgSMACSBAyAJAEDIEnAAEgSMACSBAyAJAEDIEnAAEgSMACSBAyAJAED\\\n",
       "IEnAAEgSMACSBAyAJAEDIEnAAEgSMACSBAyAJAEDIEnAAEgSMACSBAyAJAEDIEnAAEgSMACSBAyA\\\n",
       "JAEDIEnAAEgSMACSBAyAJAEDIEnAAEgSMACSBAyAJAEDIEnAAEgSMACSBAyAJAEDIEnAAEgSMACS\\\n",
       "BAyApBdB6DqAHpE2hgAAAABJRU5ErkJggg==\\\n",
       "\"\n",
       "  frames[13] = \"data:image/png;base64,iVBORw0KGgoAAAANSUhEUgAAAbAAAAEgCAYAAADVKCZpAAAABHNCSVQICAgIfAhkiAAAAAlwSFlz\\\n",
       "AAALEgAACxIB0t1+/AAAADl0RVh0U29mdHdhcmUAbWF0cGxvdGxpYiB2ZXJzaW9uIDMuMC4wLCBo\\\n",
       "dHRwOi8vbWF0cGxvdGxpYi5vcmcvqOYd8AAABR5JREFUeJzt3NFtGkEUQFFv5CrSRtJG2jB1UEZo\\\n",
       "I3XQhtvYfCWxFJwARsxc9hzJEj9IT7LR9ezuY1nXdX0CgJhPowcAgGsIGABJAgZAkoABkCRgACQJ\\\n",
       "GABJAgZAkoABkCRgACQJGABJAgZAkoABkCRgACQJGABJAgZAkoABkCRgACQJGABJAgZAkoABkCRg\\\n",
       "ACQJGABJAgZAkoABkCRgACQJGABJAgZAkoABkCRgACQJGABJAgZAkoABkCRgACQJGABJAgZAkoAB\\\n",
       "kCRgACQJGABJAgZAkoABkCRgACQJGABJAgZAkoABkCRgACQJGABJAgZAkoABkCRgACQJGABJAgZA\\\n",
       "koABkCRgACQJGABJAgZAkoABkCRgACQJGABJAgZAkoABkCRgACQJGABJAgZAkoABkCRgACQJGABJ\\\n",
       "AgZAkoABkCRgACQJGABJAgZAkoABkCRgACQJGABJAgZAkoABkCRgACQJGABJAgZAkoABkCRgACQJ\\\n",
       "GABJAgZAkoABkCRgACQJGABJAgZAkoABkCRgACQJGABJAgZAkoABkCRgACQJGABJAgZAkoABkCRg\\\n",
       "ACQJGABJAgZAkoABkCRgACQJGABJAgZAkoABkCRgACQJGABJAgZAkoABkCRgACQJGABJAgZAkoAB\\\n",
       "kCRgACQJGABJAgZAkoABkCRgACQJGABJAgZAkoABkCRgACQJGABJAgZAkoABkCRgACQJGABJAgZA\\\n",
       "koDBQMfD7ul42I0eA5KeRw8AWyNYcBtOYAAkCRgASQIGE3BZES4nYAAkCRgASQIGQJKAwZ19efk+\\\n",
       "egR4CAIGQJKAAZAkYAAkCRgMcOo+mF0wuIyAAZAkYAAkCRgASQIGE3EfDM4nYAAkCRgASQIGQJKA\\\n",
       "wSC+ExE+RsAASBIwAJIEDIAkAYPJ2AWD8wgYAEkCBkCSgAGQJGAAJAkYDGSZGa4nYAAkCRgASQIG\\\n",
       "E7ILBv8nYAAkCRgASQIGQJKAAZAkYDCYXTC4joABkCRgACQJGABJAgaTsswM/yZgACQJGABJAgZA\\\n",
       "koDBBOyCweUEDIAkAQMgScAASBIwmJhdMHifgAGQJGAAJAkYAEkCBpOwCwaXETAAkgQMgCQBAyBJ\\\n",
       "wGBydsHgNAGDiXiQA84nYAAkCRgASQIGd7Asy9k/pxwPuw+9Hx6RgAGQ9Dx6AOBvP15ffr/+9vkw\\\n",
       "cBKYl4DB5P7ETMjgLZcQYTJvT1/A+wQMJrPffx09AiS4hAiT+3UPbD94DpjNsq7rOnoIeHT3fLzd\\\n",
       "R5qt2MwJzH4MW+FvnUuU/+HZTMDKvyT6nMDg9jzEAUCSgAGQJGAAJAkYAEkCBkCSgAGQJGAAJG1m\\\n",
       "DwxGspsFt+cEBkCSgAGQJGAAJAkYAEkCBkCSgAGQJGAAJAkYAEkCBkCSgAGQJGAAJAkYAEkCBkCS\\\n",
       "gAGQJGAAJAkYAEkCBkCSgAGQJGAAJAkYAEkCBkCSgAGQJGAAJAkYAEkCBkCSgAGQJGAAJAkYAEkC\\\n",
       "BkCSgAGQJGAAJAkYAEkCBkCSgAGQJGAAJAkYAEkCBkCSgAGQJGAAJAkYAEkCBkCSgAGQJGAAJAkY\\\n",
       "AEkCBkCSgAGQJGAAJAkYAEkCBkCSgAGQJGAAJAkYAEkCBkCSgAGQJGAAJAkYAEkCBkCSgAGQJGAA\\\n",
       "JAkYAEkCBkCSgAGQJGAAJAkYAEkCBkCSgAGQJGAAJAkYAEkCBkCSgAGQJGAAJAkYAEkCBkCSgAGQ\\\n",
       "JGAAJAkYAEkCBkCSgAGQJGAAJAkYAEkCBkDST4alQwmv+ZnqAAAAAElFTkSuQmCC\\\n",
       "\"\n",
       "  frames[14] = \"data:image/png;base64,iVBORw0KGgoAAAANSUhEUgAAAbAAAAEgCAYAAADVKCZpAAAABHNCSVQICAgIfAhkiAAAAAlwSFlz\\\n",
       "AAALEgAACxIB0t1+/AAAADl0RVh0U29mdHdhcmUAbWF0cGxvdGxpYiB2ZXJzaW9uIDMuMC4wLCBo\\\n",
       "dHRwOi8vbWF0cGxvdGxpYi5vcmcvqOYd8AAABTFJREFUeJzt3OFN21AYQFFSMQVrtGuwRjoGYgyy\\\n",
       "Rtega3QN91+lFkKdEOW9G58jRYpQgp4UrIv9Pme3LMtyBwAxX0YvAADOIWAAJAkYAEkCBkCSgAGQ\\\n",
       "JGAAJAkYAEkCBkCSgAGQJGAAJAkYAEkCBkCSgAGQJGAAJAkYAEkCBkCSgAGQJGAAJAkYAEkCBkCS\\\n",
       "gAGQJGAAJAkYAEkCBkCSgAGQJGAAJAkYAEkCBkCSgAGQJGAAJAkYAEkCBkCSgAGQJGAAJAkYAEkC\\\n",
       "BkCSgAGQJGAAJAkYAEkCBkCSgAGQJGAAJAkYAEkCBkCSgAGQJGAAJAkYAEkCBkCSgAGQJGAAJAkY\\\n",
       "AEkCBkCSgAGQJGAAJAkYAEkCBkCSgAGQJGAAJAkYAEkCBkCSgAGQJGAAJAkYAEkCBkCSgAGQJGAA\\\n",
       "JAkYAEkCBkCSgAGQJGAAJAkYAEkCBkCSgAGQJGAAJAkYAEkCBkCSgAGQJGAAJAkYAEkCBkCSgAGQ\\\n",
       "JGAAJAkYAEkCBkCSgAGQJGAAJAkYAEkCBkCSgAGQJGAAJAkYAEkCBkCSgAGQJGAAJAkYAEkCBkCS\\\n",
       "gAGQJGAAJAkYAEkCBkCSgAGQJGAAJAkYAEkCBkCSgAGQJGAAJAkYAEkCBkCSgAGQJGAAJAkYAEkC\\\n",
       "BkCSgAGQJGAAJAkYAEkCBkCSgAGQJGAAJAkYAEkCBkCSgAGQJGAAJAkYAEkCBkCSgAGQJGAAJAkY\\\n",
       "AEkCBoP9PHwfvQRIuh+9ANgSsYLLcQYGQJKAAZAkYHBFX/cvo5cAN0PAAEgSMJiA4Q44nYABkCRg\\\n",
       "ACQJGABJAgZXZhIRLkPAAEgSMACSBAwGeO8yolF6OI2AAZAkYAAkCRgASQIGE7EPBusJGABJAgZA\\\n",
       "koDBIL6RAz5HwABIEjAAkgQMJmMSEdYRMACSBAyAJAEDIEnAYCCj9HA+AQMgScAASBIwmJBRevg/\\\n",
       "AQMgScAASBIwAJIEDAYzSg/nETAAkgQMgCQBg0kZpYePCRgASQIGQJKAAZAkYDABo/RwOgEDIEnA\\\n",
       "YGImEeE4AQMgScAASBIwAJIEDCZhEhFOI2AAJAkYAEkCBpMzSg/vEzCYiH0wWE/AAEgSMACSBAwC\\\n",
       "7IPBWwIGQJKAAZAkYAAkCRhMxig9rCNgACQJGESYRIS/CRhc0W63W/X47Ps/+h1wKwQMgKT70QsA\\\n",
       "jvvxa//n+ePDYeBKYD67ZVmW0YuArTjl0t7T0+ubnz0/f1v9foc2t84lRACSBAyAJAGDSf275/X4\\\n",
       "cLh7fdkfeTVsjz0wuKJrjrc7tLl1m5lCdF8MW+NvnjXK/+hsJmDlD4nb4QwMLsceGABJAgZAkoAB\\\n",
       "kCRgACQJGABJAgZAkoABkLSZ+8BgBu7NgstxBgZAkoABkCRgACQJGABJAgZAkoABkCRgACQJGABJ\\\n",
       "AgZAkoABkCRgACQJGABJAgZAkoABkCRgACQJGABJAgZAkoABkCRgACQJGABJAgZAkoABkCRgACQJ\\\n",
       "GABJAgZAkoABkCRgACQJGABJAgZAkoABkCRgACQJGABJAgZAkoABkCRgACQJGABJAgZAkoABkCRg\\\n",
       "ACQJGABJAgZAkoABkCRgACQJGABJAgZAkoABkCRgACQJGABJAgZAkoABkCRgACQJGABJAgZAkoAB\\\n",
       "kCRgACQJGABJAgZAkoABkCRgACQJGABJAgZAkoABkCRgACQJGABJAgZAkoABkCRgACQJGABJAgZA\\\n",
       "koABkCRgACQJGABJAgZAkoABkCRgACQJGABJAgZAkoABkCRgACQJGABJAgZA0m+eVUvhzyn2qQAA\\\n",
       "AABJRU5ErkJggg==\\\n",
       "\"\n",
       "  frames[15] = \"data:image/png;base64,iVBORw0KGgoAAAANSUhEUgAAAbAAAAEgCAYAAADVKCZpAAAABHNCSVQICAgIfAhkiAAAAAlwSFlz\\\n",
       "AAALEgAACxIB0t1+/AAAADl0RVh0U29mdHdhcmUAbWF0cGxvdGxpYiB2ZXJzaW9uIDMuMC4wLCBo\\\n",
       "dHRwOi8vbWF0cGxvdGxpYi5vcmcvqOYd8AAABTRJREFUeJzt291N3EAARlFvRBVpI7SRNqAOyoA2\\\n",
       "0kZoI204j1Gym/1jtTMXnyPxYgk0EqCLzefduq7rAgAxX0YfAACuIWAAJAkYAEkCBkCSgAGQJGAA\\\n",
       "JAkYAEkCBkCSgAGQJGAAJAkYAEkCBkCSgAGQJGAAJAkYAEkCBkCSgAGQJGAAJAkYAEkCBkCSgAGQ\\\n",
       "JGAAJAkYAEkCBkCSgAGQJGAAJAkYAEkCBkCSgAGQJGAAJAkYAEkCBkCSgAGQJGAAJAkYAEkCBkCS\\\n",
       "gAGQJGAAJAkYAEkCBkCSgAGQJGAAJAkYAEkCBkCSgAGQJGAAJAkYAEkCBkCSgAGQJGAAJAkYAEkC\\\n",
       "BkCSgAGQJGAAJAkYAEkCBkCSgAGQJGAAJAkYAEkCBkCSgAGQJGAAJAkYAEkCBkCSgAGQJGAAJAkY\\\n",
       "AEkCBkCSgAGQJGAAJAkYAEkCBkCSgAGQJGAAJAkYAEkCBkCSgAGQJGAAJAkYAEkCBkCSgAGQJGAA\\\n",
       "JAkYAEkCBkCSgAGQJGAAJAkYAEkCBkCSgAGQJGAAJAkYAEkCBkCSgAGQJGAAJAkYAEkCBkCSgAGQ\\\n",
       "JGAAJAkYAEkCBkCSgAGQJGAAJAkYAEkCBkCSgAGQJGAAJAkYAEkCBkCSgAGQJGAAJAkYAEkCBkCS\\\n",
       "gAGQJGAAJAkYAEkCBkCSgAGQJGAAJAkYAEkCBkCSgAGQJGAAJAkYAEkCBkCSgAGQJGAAJAkYAEkC\\\n",
       "BkDSw+gDwJa8vz3vXfv29DrgJNDnDgyAJAGDwQ7dlQGnCRgASQIGQJKAAZAkYHBHFodwOwIGQJKA\\\n",
       "wQQsEeFyAgZAkoABkCRgcGeGHHAbAgZAkoDBJAw54DICBgN4jAgfJ2AAJAkYTMRjRDifgAGQJGAA\\\n",
       "JAkYDGLIAR8jYAAkCRgASQIGk7FEhPMIGABJAgZAkoDBQJaIcD0BAyBJwGBChhxwmoABkCRgACQJ\\\n",
       "GAxmyAHXETAAkgQMgCQBg0lZIsJxAgZAkoABkCRgMAFLRLicgAGQJGAAJAkYTMwSEf5PwABIEjAA\\\n",
       "kgQMJmGJCJcRMACSBAwmZ8gBhwkYTMRjRDifgAGQJGAQ4DEi7BMwAJIEDIAkAYPJGHLAeQQMgCQB\\\n",
       "gwhDDvibgAGQJGAAJAkYTMiQA04TMACSBAyAJAGDEEtE+EPAAEgSMLiz3W531sdHP//U14E6AYNJ\\\n",
       "PT6/jT4CTO1h9AGA4378evrnirDBsrgDg6ntx2tZfr7uX4MtEjCIORQ12CIBg5jvXz1ChGURMJja\\\n",
       "y8vj6CPAtHbruq6jDwFbcu9pu19xPqvNrBC9D8NW+dnnmPIfOJsJWPmbxOfiDgxuw//AAEgSMACS\\\n",
       "BAyAJAEDIEnAAEgSMACSBAyApM28Bwaz8F4W3IY7MACSBAyAJAEDIEnAAEgSMACSBAyAJAEDIEnA\\\n",
       "AEgSMACSBAyAJAEDIEnAAEgSMACSBAyAJAEDIEnAAEgSMACSBAyAJAEDIEnAAEgSMACSBAyAJAED\\\n",
       "IEnAAEgSMACSBAyAJAEDIEnAAEgSMACSBAyAJAEDIEnAAEgSMACSBAyAJAEDIEnAAEgSMACSBAyA\\\n",
       "JAEDIEnAAEgSMACSBAyAJAEDIEnAAEgSMACSBAyAJAEDIEnAAEgSMACSBAyAJAEDIEnAAEgSMACS\\\n",
       "BAyAJAEDIEnAAEgSMACSBAyAJAEDIEnAAEgSMACSBAyAJAEDIEnAAEgSMACSBAyAJAEDIEnAAEgS\\\n",
       "MACSBAyAJAEDIEnAAEgSMACSBAyAJAEDIEnAAEgSMACSBAyAJAEDIEnAAEgSMACSfgOy+ksccp3p\\\n",
       "SAAAAABJRU5ErkJggg==\\\n",
       "\"\n",
       "\n",
       "\n",
       "    /* set a timeout to make sure all the above elements are created before\n",
       "       the object is initialized. */\n",
       "    setTimeout(function() {\n",
       "        anime8db674d37cd4ca895ace82e84061c4e = new Animation(frames, img_id, slider_id, 149.0,\n",
       "                                 loop_select_id);\n",
       "    }, 0);\n",
       "  })()\n",
       "</script>\n"
      ],
      "text/plain": [
       "<IPython.core.display.HTML object>"
      ]
     },
     "execution_count": 10,
     "metadata": {},
     "output_type": "execute_result"
    }
   ],
   "source": [
    "from IPython.display import HTML\n",
    "HTML(anim.to_jshtml())"
   ]
  },
  {
   "cell_type": "markdown",
   "metadata": {},
   "source": [
    "### または本の3_2節のように"
   ]
  },
  {
   "cell_type": "code",
   "execution_count": null,
   "metadata": {},
   "outputs": [],
   "source": [
    "from JSAnimation.IPython_display import display_animation\n",
    "from IPython.display import display"
   ]
  },
  {
   "cell_type": "code",
   "execution_count": null,
   "metadata": {},
   "outputs": [],
   "source": [
    "display(display_animation(anim, default_mode='loop'))"
   ]
  },
  {
   "cell_type": "markdown",
   "metadata": {},
   "source": [
    "### animをそのまま表示しても一応動くがなんか動作が変(?)"
   ]
  },
  {
   "cell_type": "code",
   "execution_count": null,
   "metadata": {},
   "outputs": [],
   "source": [
    "anim"
   ]
  },
  {
   "cell_type": "markdown",
   "metadata": {},
   "source": [
    "animでなくてfigで動き出すこともある(?)のが謎"
   ]
  },
  {
   "cell_type": "code",
   "execution_count": null,
   "metadata": {},
   "outputs": [],
   "source": [
    "fig"
   ]
  },
  {
   "cell_type": "markdown",
   "metadata": {},
   "source": [
    "# working example of animation on jupyter"
   ]
  },
  {
   "cell_type": "markdown",
   "metadata": {},
   "source": [
    "https://qiita.com/mittyantest/items/2ea07b0f8d5976f29da9\n",
    "\n",
    "をほんのちょっとだけ変更（renderの引数をなくした）"
   ]
  },
  {
   "cell_type": "markdown",
   "metadata": {},
   "source": [
    "途中で分割するとうまくいかない"
   ]
  },
  {
   "cell_type": "code",
   "execution_count": null,
   "metadata": {},
   "outputs": [],
   "source": [
    "import gym\n",
    "from matplotlib import animation\n",
    "from matplotlib import pyplot as plt\n",
    "%matplotlib nbagg\n",
    "\n",
    "env = gym.make('CartPole-v0')\n",
    "\n",
    "# Run a demo of the environment\n",
    "observation = env.reset()\n",
    "cum_reward = 0\n",
    "frames = []\n",
    "for t in range(5000):\n",
    "    # Render into buffer. \n",
    "    frames.append(env.render(mode = 'rgb_array'))\n",
    "    action = env.action_space.sample()\n",
    "    observation, reward, done, info = env.step(action)\n",
    "    if done:\n",
    "        break\n",
    "env.render()\n",
    "\n",
    "fig = plt.gcf()\n",
    "patch = plt.imshow(frames[0])\n",
    "plt.axis('off')\n",
    "\n",
    "def animate(i):\n",
    "    patch.set_data(frames[i])\n",
    "\n",
    "anim = animation.FuncAnimation(fig, animate, frames = len(frames), interval=50)\n",
    "anim"
   ]
  },
  {
   "cell_type": "markdown",
   "metadata": {},
   "source": [
    "# sandbox"
   ]
  },
  {
   "cell_type": "markdown",
   "metadata": {},
   "source": [
    "http://hirotaka-hachiya.hatenablog.com/entry/2018/05/28/185128"
   ]
  },
  {
   "cell_type": "code",
   "execution_count": null,
   "metadata": {},
   "outputs": [],
   "source": [
    "import numpy as np\n",
    "import matplotlib.pyplot as plt\n",
    "#%matplotlib inline\n",
    "import gym"
   ]
  },
  {
   "cell_type": "code",
   "execution_count": null,
   "metadata": {},
   "outputs": [],
   "source": [
    "%matplotlib nbagg"
   ]
  },
  {
   "cell_type": "code",
   "execution_count": null,
   "metadata": {},
   "outputs": [],
   "source": [
    "from matplotlib import animation"
   ]
  },
  {
   "cell_type": "code",
   "execution_count": null,
   "metadata": {},
   "outputs": [],
   "source": [
    "from IPython.display import display"
   ]
  },
  {
   "cell_type": "code",
   "execution_count": null,
   "metadata": {},
   "outputs": [],
   "source": [
    "env = gym.make('MountainCar-v0')"
   ]
  },
  {
   "cell_type": "code",
   "execution_count": null,
   "metadata": {},
   "outputs": [],
   "source": [
    "env.reset()"
   ]
  },
  {
   "cell_type": "code",
   "execution_count": null,
   "metadata": {},
   "outputs": [],
   "source": [
    "env.render()"
   ]
  },
  {
   "cell_type": "code",
   "execution_count": null,
   "metadata": {},
   "outputs": [],
   "source": [
    "%%bash \n",
    "git commit -a -m \"kinda figured out how to show animation on jupyter\""
   ]
  },
  {
   "cell_type": "code",
   "execution_count": null,
   "metadata": {},
   "outputs": [],
   "source": [
    "from pyglet.gl import *"
   ]
  },
  {
   "cell_type": "code",
   "execution_count": null,
   "metadata": {},
   "outputs": [],
   "source": [
    "%%bash\n",
    "git commit -a -m \"still puzzled by the mystery of opengym animation on jupyter\""
   ]
  },
  {
   "cell_type": "code",
   "execution_count": null,
   "metadata": {},
   "outputs": [],
   "source": []
  }
 ],
 "metadata": {
  "kernelspec": {
   "display_name": "Python [default]",
   "language": "python",
   "name": "python3"
  },
  "language_info": {
   "codemirror_mode": {
    "name": "ipython",
    "version": 3
   },
   "file_extension": ".py",
   "mimetype": "text/x-python",
   "name": "python",
   "nbconvert_exporter": "python",
   "pygments_lexer": "ipython3",
   "version": "3.5.4"
  },
  "toc": {
   "colors": {
    "hover_highlight": "#DAA520",
    "navigate_num": "#000000",
    "navigate_text": "#333333",
    "running_highlight": "#FF0000",
    "selected_highlight": "#FFD700",
    "sidebar_border": "#EEEEEE",
    "wrapper_background": "#FFFFFF"
   },
   "moveMenuLeft": true,
   "nav_menu": {
    "height": "207px",
    "width": "252px"
   },
   "navigate_menu": true,
   "number_sections": true,
   "sideBar": true,
   "threshold": 4,
   "toc_cell": false,
   "toc_section_display": "block",
   "toc_window_display": true,
   "widenNotebook": false
  }
 },
 "nbformat": 4,
 "nbformat_minor": 2
}
