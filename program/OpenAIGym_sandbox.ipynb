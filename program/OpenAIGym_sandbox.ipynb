{
 "cells": [
  {
   "cell_type": "code",
   "execution_count": 1,
   "metadata": {},
   "outputs": [],
   "source": [
    "import gym\n",
    "from matplotlib import animation\n",
    "from matplotlib import pyplot as plt"
   ]
  },
  {
   "cell_type": "markdown",
   "metadata": {},
   "source": [
    "# animationをjupyter上で見ることを可能にするおまじない"
   ]
  },
  {
   "cell_type": "markdown",
   "metadata": {},
   "source": [
    "暫定的に本と同じ以下を使ってみる："
   ]
  },
  {
   "cell_type": "code",
   "execution_count": 2,
   "metadata": {},
   "outputs": [],
   "source": [
    "%matplotlib inline"
   ]
  },
  {
   "cell_type": "markdown",
   "metadata": {},
   "source": [
    "または以下のいずれかを使ってもいいかもしれないが動作確認とれてない"
   ]
  },
  {
   "cell_type": "markdown",
   "metadata": {},
   "source": [
    "nbaggだとfigが動く（？）"
   ]
  },
  {
   "cell_type": "code",
   "execution_count": null,
   "metadata": {},
   "outputs": [],
   "source": [
    "%matplotlib nbagg"
   ]
  },
  {
   "cell_type": "markdown",
   "metadata": {},
   "source": [
    "notebookだとanimが動く（？）"
   ]
  },
  {
   "cell_type": "code",
   "execution_count": null,
   "metadata": {},
   "outputs": [],
   "source": [
    "%matplotlib notebook"
   ]
  },
  {
   "cell_type": "markdown",
   "metadata": {},
   "source": [
    "# official tutorialの方法(skip推奨？)"
   ]
  },
  {
   "cell_type": "markdown",
   "metadata": {},
   "source": [
    "https://gym.openai.com/docs/"
   ]
  },
  {
   "cell_type": "code",
   "execution_count": null,
   "metadata": {},
   "outputs": [],
   "source": [
    "import gym\n",
    "env = gym.make('CartPole-v0')\n",
    "env.reset()\n",
    "for _ in range(1000):\n",
    "    env.render()\n",
    "    env.step(env.action_space.sample()) # take a random action"
   ]
  },
  {
   "cell_type": "markdown",
   "metadata": {},
   "source": [
    "- 上記は停止条件がないためにどこかに飛んでいってしまうがローカルでは動くことは動いている\n",
    "- ただし、これでは別窓なのでremoteからは見えない"
   ]
  },
  {
   "cell_type": "markdown",
   "metadata": {},
   "source": [
    "# remoteからも観察可能なbest practiceを探ろう"
   ]
  },
  {
   "cell_type": "markdown",
   "metadata": {},
   "source": [
    "## imshowで表示可能なrgb_arrayのリストとして出力"
   ]
  },
  {
   "cell_type": "code",
   "execution_count": 3,
   "metadata": {},
   "outputs": [
    {
     "data": {
      "text/plain": [
       "array([-0.02515558, -0.04711287, -0.02322536, -0.03546166])"
      ]
     },
     "execution_count": 3,
     "metadata": {},
     "output_type": "execute_result"
    }
   ],
   "source": [
    "env = gym.make('CartPole-v0')\n",
    "env.reset()"
   ]
  },
  {
   "cell_type": "markdown",
   "metadata": {},
   "source": [
    "### remote jupyterでうまく動かすために\n",
    "https://stackoverflow.com/questions/40195740/how-to-run-openai-gym-render-over-a-server"
   ]
  },
  {
   "cell_type": "markdown",
   "metadata": {},
   "source": [
    "```bash\n",
    "xvfb-run -s \"-screen 0 1400x900x24\" jupyter notebook\n",
    "```\n",
    "でjupyter notebookを立ち上げるべきとあるがうまくいかない"
   ]
  },
  {
   "cell_type": "code",
   "execution_count": 4,
   "metadata": {
    "scrolled": true
   },
   "outputs": [
    {
     "name": "stdout",
     "output_type": "stream",
     "text": [
      "0\n",
      "0\n",
      "1\n",
      "1\n",
      "0\n",
      "1\n",
      "1\n",
      "1\n",
      "1\n",
      "1\n",
      "1\n",
      "1\n",
      "0\n",
      "0\n"
     ]
    }
   ],
   "source": [
    "frames = []\n",
    "for i in range(5000):\n",
    "    #frames.append(env.render(mode = 'rgb_array'))\n",
    "    #env.step(env.action_space.sample()) # take a random action\n",
    "    #observation, reward, done, info = env.step(action)\n",
    "    \n",
    "    frames.append(env.render(mode = 'rgb_array'))\n",
    "    action = env.action_space.sample()\n",
    "    print(action)\n",
    "    observation, reward, done, info = env.step(action)\n",
    "    if done:\n",
    "        break\n",
    "    if done:\n",
    "        break\n",
    "    if i % 50 == 0:\n",
    "        print(i)\n",
    "#env.render()"
   ]
  },
  {
   "cell_type": "code",
   "execution_count": 5,
   "metadata": {},
   "outputs": [],
   "source": [
    "env.render?"
   ]
  },
  {
   "cell_type": "markdown",
   "metadata": {},
   "source": [
    "## object oriented versionの試み"
   ]
  },
  {
   "cell_type": "code",
   "execution_count": 7,
   "metadata": {
    "scrolled": true
   },
   "outputs": [
    {
     "data": {
      "text/plain": [
       "(0.0, 1.0, 0.0, 1.0)"
      ]
     },
     "execution_count": 7,
     "metadata": {},
     "output_type": "execute_result"
    },
    {
     "data": {
      "image/png": "[encoded data removed]",
      "text/plain": [
       "<Figure size 432x288 with 1 Axes>"
      ]
     },
     "metadata": {},
     "output_type": "display_data"
    }
   ],
   "source": [
    "fig = plt.figure()\n",
    "\n",
    "ax = fig.add_subplot(\"111\")\n",
    "\n",
    "ax.axis('off')"
   ]
  },
  {
   "cell_type": "code",
   "execution_count": 8,
   "metadata": {},
   "outputs": [],
   "source": [
    "patch = ax.imshow(frames[0])"
   ]
  },
  {
   "cell_type": "markdown",
   "metadata": {},
   "source": [
    "imshowにdataをセットするだけでスクリーン上に反映される:"
   ]
  },
  {
   "cell_type": "markdown",
   "metadata": {},
   "source": [
    "\n",
    "https://qiita.com/AnchorBlues/items/3acd37331b12e844d259"
   ]
  },
  {
   "cell_type": "code",
   "execution_count": 10,
   "metadata": {},
   "outputs": [],
   "source": [
    "def animate(i):\n",
    "    if i > 0:\n",
    "        pass#fig.clear()\n",
    "    patch.set_data(frames[i])"
   ]
  },
  {
   "cell_type": "code",
   "execution_count": 8,
   "metadata": {},
   "outputs": [
    {
     "data": {
      "text/plain": [
       "16"
      ]
     },
     "execution_count": 8,
     "metadata": {},
     "output_type": "execute_result"
    }
   ],
   "source": [
    "len(frames)"
   ]
  },
  {
   "cell_type": "code",
   "execution_count": 12,
   "metadata": {},
   "outputs": [],
   "source": [
    "anim = animation.FuncAnimation(fig, animate, frames = len(frames), interval=150)"
   ]
  },
  {
   "cell_type": "markdown",
   "metadata": {},
   "source": [
    "## animation表示方法（成功例）"
   ]
  },
  {
   "cell_type": "markdown",
   "metadata": {},
   "source": [
    "- どれもうまく行くが一つ表示されていると他の方法は表示されない"
   ]
  },
  {
   "cell_type": "markdown",
   "metadata": {},
   "source": [
    "### htmlを明示的に経由する以下の方法がよさそう？"
   ]
  },
  {
   "cell_type": "markdown",
   "metadata": {},
   "source": [
    "https://stackoverflow.com/questions/43445103/inline-animations-in-jupyter"
   ]
  },
  {
   "cell_type": "code",
   "execution_count": 13,
   "metadata": {},
   "outputs": [
    {
     "data": {
      "text/html": [
       "\n",
       "<link rel=\"stylesheet\"\n",
       "href=\"https://maxcdn.bootstrapcdn.com/font-awesome/4.4.0/\n",
       "css/font-awesome.min.css\">\n",
       "<script language=\"javascript\">\n",
       "  /* Define the Animation class */\n",
       "  function Animation(frames, img_id, slider_id, interval, loop_select_id){\n",
       "    this.img_id = img_id;\n",
       "    this.slider_id = slider_id;\n",
       "    this.loop_select_id = loop_select_id;\n",
       "    this.interval = interval;\n",
       "    this.current_frame = 0;\n",
       "    this.direction = 0;\n",
       "    this.timer = null;\n",
       "    this.frames = new Array(frames.length);\n",
       "\n",
       "    for (var i=0; i<frames.length; i++)\n",
       "    {\n",
       "     this.frames[i] = new Image();\n",
       "     this.frames[i].src = frames[i];\n",
       "    }\n",
       "    document.getElementById(this.slider_id).max = this.frames.length - 1;\n",
       "    this.set_frame(this.current_frame);\n",
       "  }\n",
       "\n",
       "  Animation.prototype.get_loop_state = function(){\n",
       "    var button_group = document[this.loop_select_id].state;\n",
       "    for (var i = 0; i < button_group.length; i++) {\n",
       "        var button = button_group[i];\n",
       "        if (button.checked) {\n",
       "            return button.value;\n",
       "        }\n",
       "    }\n",
       "    return undefined;\n",
       "  }\n",
       "\n",
       "  Animation.prototype.set_frame = function(frame){\n",
       "    this.current_frame = frame;\n",
       "    document.getElementById(this.img_id).src =\n",
       "            this.frames[this.current_frame].src;\n",
       "    document.getElementById(this.slider_id).value = this.current_frame;\n",
       "  }\n",
       "\n",
       "  Animation.prototype.next_frame = function()\n",
       "  {\n",
       "    this.set_frame(Math.min(this.frames.length - 1, this.current_frame + 1));\n",
       "  }\n",
       "\n",
       "  Animation.prototype.previous_frame = function()\n",
       "  {\n",
       "    this.set_frame(Math.max(0, this.current_frame - 1));\n",
       "  }\n",
       "\n",
       "  Animation.prototype.first_frame = function()\n",
       "  {\n",
       "    this.set_frame(0);\n",
       "  }\n",
       "\n",
       "  Animation.prototype.last_frame = function()\n",
       "  {\n",
       "    this.set_frame(this.frames.length - 1);\n",
       "  }\n",
       "\n",
       "  Animation.prototype.slower = function()\n",
       "  {\n",
       "    this.interval /= 0.7;\n",
       "    if(this.direction > 0){this.play_animation();}\n",
       "    else if(this.direction < 0){this.reverse_animation();}\n",
       "  }\n",
       "\n",
       "  Animation.prototype.faster = function()\n",
       "  {\n",
       "    this.interval *= 0.7;\n",
       "    if(this.direction > 0){this.play_animation();}\n",
       "    else if(this.direction < 0){this.reverse_animation();}\n",
       "  }\n",
       "\n",
       "  Animation.prototype.anim_step_forward = function()\n",
       "  {\n",
       "    this.current_frame += 1;\n",
       "    if(this.current_frame < this.frames.length){\n",
       "      this.set_frame(this.current_frame);\n",
       "    }else{\n",
       "      var loop_state = this.get_loop_state();\n",
       "      if(loop_state == \"loop\"){\n",
       "        this.first_frame();\n",
       "      }else if(loop_state == \"reflect\"){\n",
       "        this.last_frame();\n",
       "        this.reverse_animation();\n",
       "      }else{\n",
       "        this.pause_animation();\n",
       "        this.last_frame();\n",
       "      }\n",
       "    }\n",
       "  }\n",
       "\n",
       "  Animation.prototype.anim_step_reverse = function()\n",
       "  {\n",
       "    this.current_frame -= 1;\n",
       "    if(this.current_frame >= 0){\n",
       "      this.set_frame(this.current_frame);\n",
       "    }else{\n",
       "      var loop_state = this.get_loop_state();\n",
       "      if(loop_state == \"loop\"){\n",
       "        this.last_frame();\n",
       "      }else if(loop_state == \"reflect\"){\n",
       "        this.first_frame();\n",
       "        this.play_animation();\n",
       "      }else{\n",
       "        this.pause_animation();\n",
       "        this.first_frame();\n",
       "      }\n",
       "    }\n",
       "  }\n",
       "\n",
       "  Animation.prototype.pause_animation = function()\n",
       "  {\n",
       "    this.direction = 0;\n",
       "    if (this.timer){\n",
       "      clearInterval(this.timer);\n",
       "      this.timer = null;\n",
       "    }\n",
       "  }\n",
       "\n",
       "  Animation.prototype.play_animation = function()\n",
       "  {\n",
       "    this.pause_animation();\n",
       "    this.direction = 1;\n",
       "    var t = this;\n",
       "    if (!this.timer) this.timer = setInterval(function() {\n",
       "        t.anim_step_forward();\n",
       "    }, this.interval);\n",
       "  }\n",
       "\n",
       "  Animation.prototype.reverse_animation = function()\n",
       "  {\n",
       "    this.pause_animation();\n",
       "    this.direction = -1;\n",
       "    var t = this;\n",
       "    if (!this.timer) this.timer = setInterval(function() {\n",
       "        t.anim_step_reverse();\n",
       "    }, this.interval);\n",
       "  }\n",
       "</script>\n",
       "\n",
       "<div class=\"animation\" align=\"center\">\n",
       "    <img id=\"_anim_img083e29d0a89844aca94c1aba28bebef1\">\n",
       "    <br>\n",
       "    <input id=\"_anim_slider083e29d0a89844aca94c1aba28bebef1\" type=\"range\" style=\"width:350px\"\n",
       "           name=\"points\" min=\"0\" max=\"1\" step=\"1\" value=\"0\"\n",
       "           onchange=\"anim083e29d0a89844aca94c1aba28bebef1.set_frame(parseInt(this.value));\"></input>\n",
       "    <br>\n",
       "    <button onclick=\"anim083e29d0a89844aca94c1aba28bebef1.slower()\"><i class=\"fa fa-minus\"></i></button>\n",
       "    <button onclick=\"anim083e29d0a89844aca94c1aba28bebef1.first_frame()\"><i class=\"fa fa-fast-backward\">\n",
       "        </i></button>\n",
       "    <button onclick=\"anim083e29d0a89844aca94c1aba28bebef1.previous_frame()\">\n",
       "        <i class=\"fa fa-step-backward\"></i></button>\n",
       "    <button onclick=\"anim083e29d0a89844aca94c1aba28bebef1.reverse_animation()\">\n",
       "        <i class=\"fa fa-play fa-flip-horizontal\"></i></button>\n",
       "    <button onclick=\"anim083e29d0a89844aca94c1aba28bebef1.pause_animation()\"><i class=\"fa fa-pause\">\n",
       "        </i></button>\n",
       "    <button onclick=\"anim083e29d0a89844aca94c1aba28bebef1.play_animation()\"><i class=\"fa fa-play\"></i>\n",
       "        </button>\n",
       "    <button onclick=\"anim083e29d0a89844aca94c1aba28bebef1.next_frame()\"><i class=\"fa fa-step-forward\">\n",
       "        </i></button>\n",
       "    <button onclick=\"anim083e29d0a89844aca94c1aba28bebef1.last_frame()\"><i class=\"fa fa-fast-forward\">\n",
       "        </i></button>\n",
       "    <button onclick=\"anim083e29d0a89844aca94c1aba28bebef1.faster()\"><i class=\"fa fa-plus\"></i></button>\n",
       "  <form action=\"#n\" name=\"_anim_loop_select083e29d0a89844aca94c1aba28bebef1\" class=\"anim_control\">\n",
       "    <input type=\"radio\" name=\"state\"\n",
       "           value=\"once\" > Once </input>\n",
       "    <input type=\"radio\" name=\"state\"\n",
       "           value=\"loop\" checked> Loop </input>\n",
       "    <input type=\"radio\" name=\"state\"\n",
       "           value=\"reflect\" > Reflect </input>\n",
       "  </form>\n",
       "</div>\n",
       "\n",
       "\n",
       "<script language=\"javascript\">\n",
       "  /* Instantiate the Animation class. */\n",
       "  /* The IDs given should match those used in the template above. */\n",
       "  (function() {\n",
       "    var img_id = \"_anim_img083e29d0a89844aca94c1aba28bebef1\";\n",
       "    var slider_id = \"_anim_slider083e29d0a89844aca94c1aba28bebef1\";\n",
       "    var loop_select_id = \"_anim_loop_select083e29d0a89844aca94c1aba28bebef1\";\n",
       "    var frames = new Array(13);\n",
       "    \n",
       "  frames[0] = \"data:image/png;base64,iVBORw0KGgoAAAANSUhEUgAAAbAAAAEgCAYAAADVKCZpAAAABHNCSVQICAgIfAhkiAAAAAlwSFlz\\\n",
       "AAALEgAACxIB0t1+/AAAADl0RVh0U29mdHdhcmUAbWF0cGxvdGxpYiB2ZXJzaW9uIDMuMC4wLCBo\\\n",
       "dHRwOi8vbWF0cGxvdGxpYi5vcmcvqOYd8AAABN9JREFUeJzt29FNwlAYgFFrmMI1nMM1YCa6hnOw\\\n",
       "hmvUN2OEBwPU60fPSZpAH8ifAPl6oXdalmV5AoCY59EDAMA1BAyAJAEDIEnAAEgSMACSBAyAJAED\\\n",
       "IEnAAEgSMACSBAyAJAEDIEnAAEgSMACSBAyAJAEDIEnAAEgSMACSBAyAJAEDIEnAAEgSMACSBAyA\\\n",
       "JAEDIEnAAEgSMACSBAyAJAEDIEnAAEgSMACSBAyAJAEDIEnAAEgSMACSBAyAJAEDIEnAAEgSMACS\\\n",
       "BAyAJAEDIEnAAEgSMACSBAyAJAEDIEnAAEgSMACSBAyAJAEDIEnAAEgSMACSBAyAJAEDIEnAAEgS\\\n",
       "MACSBAyAJAEDIEnAAEgSMACSBAyAJAEDIEnAAEgSMACSBAyAJAEDIEnAAEgSMACSBAyAJAEDIEnA\\\n",
       "AEgSMACSBAyAJAEDIEnAAEgSMACSBAyAJAEDIEnAAEgSMACSBAyAJAEDIEnAAEgSMACSBAyAJAED\\\n",
       "IEnAAEgSMACSBAyAJAEDIEnAAEgSMACSBAyAJAEDIEnAAEgSMACSBAyAJAEDIEnAAEgSMACSBAyA\\\n",
       "JAEDIEnAAEgSMACSBAyAJAEDIEnAAEgSMACSBAyAJAEDIEnAAEgSMACSBAyAJAEDIEnAAEgSMACS\\\n",
       "BAyAJAEDIEnAAEgSMACSBAyAJAEDIEnAAEgSMACSBAyAJAEDIEnAAEgSMACSBAyAJAEDIGk3egB4\\\n",
       "ZKf5cHbudX8cMAk8HiswAJIEDIAkAQMgScAASBIwAJIEDIAkAQMgScAASBIwAJIEDIAkAQMgScAA\\\n",
       "SBIwAJIEDIAkAQMgScAASBIwAJIEDIAkAQMgScAASBIwAJIEDIAkAQMgScAASBIwAJIEDIAkAQMg\\\n",
       "ScAASBIwAJIEDIAkAQMgScAASBIwAJIEDFb0uj+enTvNhwGTwOMRMACSBAyAJAEDIEnAAEgSMACS\\\n",
       "BAyAJAEDIEnAAEgSMACSBAyAJAEDIEnAAEgSMACSBAyAJAEDIEnAAEgSMACSBAyAJAEDIEnAAEgS\\\n",
       "MACSBAyAJAGDAU7zYfQIkCdgACQJGABJAgZAkoDBFaZp+vVx62sAlwkYAEm70QPAFrx/7L8ev73M\\\n",
       "AyeBx2EFBiv7Hq9Lz4HrCBgMIGJwOwGDAfyMCLcTMFjZz1iJF9zHtCzLMnoIqPnL29t9ReGyzdyF\\\n",
       "aD8NVT67rKl8gbSZgJXfJP4fKzAYz39gACQJGABJAgZAkoABkCRgACQJGABJAgZA0mb2gcE92ZsF\\\n",
       "41mBAZAkYAAkCRgASQIGQJKAAZAkYAAkCRgASQIGQJKAAZAkYAAkCRgASQIGQJKAAZAkYAAkCRgA\\\n",
       "SQIGQJKAAZAkYAAkCRgASQIGQJKAAZAkYAAkCRgASQIGQJKAAZAkYAAkCRgASQIGQJKAAZAkYAAk\\\n",
       "CRgASQIGQJKAAZAkYAAkCRgASQIGQJKAAZAkYAAkCRgASQIGQJKAAZAkYAAkCRgASQIGQJKAAZAk\\\n",
       "YAAkCRgASQIGQJKAAZAkYAAkCRgASQIGQJKAAZAkYAAkCRgASQIGQJKAAZAkYAAkCRgASQIGQJKA\\\n",
       "AZAkYAAkCRgASQIGQJKAAZAkYAAkCRgASQIGQJKAAZAkYAAkCRgASQIGQJKAAZAkYAAkCRgASQIG\\\n",
       "QJKAAZAkYAAkCRgASQIGQJKAAZD0CZ0ALUuwhvqYAAAAAElFTkSuQmCC\\\n",
       "\"\n",
       "  frames[1] = \"data:image/png;base64,iVBORw0KGgoAAAANSUhEUgAAAbAAAAEgCAYAAADVKCZpAAAABHNCSVQICAgIfAhkiAAAAAlwSFlz\\\n",
       "AAALEgAACxIB0t1+/AAAADl0RVh0U29mdHdhcmUAbWF0cGxvdGxpYiB2ZXJzaW9uIDMuMC4wLCBo\\\n",
       "dHRwOi8vbWF0cGxvdGxpYi5vcmcvqOYd8AAABN9JREFUeJzt29FNwlAYgFFrmMI1nMM1YCa6hnOw\\\n",
       "hmvUN2OEBwPU60fPSZpAH8ifAPl6oXdalmV5AoCY59EDAMA1BAyAJAEDIEnAAEgSMACSBAyAJAED\\\n",
       "IEnAAEgSMACSBAyAJAEDIEnAAEgSMACSBAyAJAEDIEnAAEgSMACSBAyAJAEDIEnAAEgSMACSBAyA\\\n",
       "JAEDIEnAAEgSMACSBAyAJAEDIEnAAEgSMACSBAyAJAEDIEnAAEgSMACSBAyAJAEDIEnAAEgSMACS\\\n",
       "BAyAJAEDIEnAAEgSMACSBAyAJAEDIEnAAEgSMACSBAyAJAEDIEnAAEgSMACSBAyAJAEDIEnAAEgS\\\n",
       "MACSBAyAJAEDIEnAAEgSMACSBAyAJAEDIEnAAEgSMACSBAyAJAEDIEnAAEgSMACSBAyAJAEDIEnA\\\n",
       "AEgSMACSBAyAJAEDIEnAAEgSMACSBAyAJAEDIEnAAEgSMACSBAyAJAEDIEnAAEgSMACSBAyAJAED\\\n",
       "IEnAAEgSMACSBAyAJAEDIEnAAEgSMACSBAyAJAEDIEnAAEgSMACSBAyAJAEDIEnAAEgSMACSBAyA\\\n",
       "JAEDIEnAAEgSMACSBAyAJAEDIEnAAEgSMACSBAyAJAEDIEnAAEgSMACSBAyAJAEDIEnAAEgSMACS\\\n",
       "BAyAJAEDIEnAAEgSMACSBAyAJAEDIEnAAEgSMACSBAyAJAEDIEnAAEgSMACSBAyAJAEDIGk3egB4\\\n",
       "ZKf5cHbudX8cMAk8HiswAJIEDIAkAQMgScAASBIwAJIEDIAkAQMgScAASBIwAJIEDIAkAQMgScAA\\\n",
       "SBIwAJIEDIAkAQMgScAASBIwAJIEDIAkAQMgScAASBIwAJIEDIAkAQMgScAASBIwAJIEDIAkAQMg\\\n",
       "ScAASBIwAJIEDIAkAQMgScAASBIwAJIEDIAkAQMgScAASBIwWNHr/nh27jQfBkwCj0fAAEgSMACS\\\n",
       "BAyAJAEDIEnAAEgSMACSBAyAJAEDIEnAAEgSMACSBAyAJAEDIEnAAEgSMACSBAyAJAEDIEnAAEgS\\\n",
       "MACSBAyAJAEDIEnAAEgSMACSBAwGOM2H0SNAnoDBFaZp+vVx62sAlwkYAEm70QPAFrx/7L8ev73M\\\n",
       "AyeBx2EFBiv7Hq9Lz4HrCBgMIGJwOwGDAfyMCLcTMFjZz1iJF9zHtCzLMnoIqPnL29t9ReGyzdyF\\\n",
       "aD8NVT67rKl8gbSZgJXfJP4fKzAYz39gACQJGABJAgZAkoABkCRgACQJGABJAgZA0mb2gcE92ZsF\\\n",
       "41mBAZAkYAAkCRgASQIGQJKAAZAkYAAkCRgASQIGQJKAAZAkYAAkCRgASQIGQJKAAZAkYAAkCRgA\\\n",
       "SQIGQJKAAZAkYAAkCRgASQIGQJKAAZAkYAAkCRgASQIGQJKAAZAkYAAkCRgASQIGQJKAAZAkYAAk\\\n",
       "CRgASQIGQJKAAZAkYAAkCRgASQIGQJKAAZAkYAAkCRgASQIGQJKAAZAkYAAkCRgASQIGQJKAAZAk\\\n",
       "YAAkCRgASQIGQJKAAZAkYAAkCRgASQIGQJKAAZAkYAAkCRgASQIGQJKAAZAkYAAkCRgASQIGQJKA\\\n",
       "AZAkYAAkCRgASQIGQJKAAZAkYAAkCRgASQIGQJKAAZAkYAAkCRgASQIGQJKAAZAkYAAkCRgASQIG\\\n",
       "QJKAAZAkYAAkCRgASQIGQJKAAZD0CT1nLUve8RyyAAAAAElFTkSuQmCC\\\n",
       "\"\n",
       "  frames[2] = \"data:image/png;base64,iVBORw0KGgoAAAANSUhEUgAAAbAAAAEgCAYAAADVKCZpAAAABHNCSVQICAgIfAhkiAAAAAlwSFlz\\\n",
       "AAALEgAACxIB0t1+/AAAADl0RVh0U29mdHdhcmUAbWF0cGxvdGxpYiB2ZXJzaW9uIDMuMC4wLCBo\\\n",
       "dHRwOi8vbWF0cGxvdGxpYi5vcmcvqOYd8AAABNJJREFUeJzt29FpAkEUQNFssIq0kTrShtakbaQO\\\n",
       "20gbk78Qoh9B3Ezueg4IuiA8ULkOs7OMMcYTAMQ8zx4AAG4hYAAkCRgASQIGQJKAAZAkYAAkCRgA\\\n",
       "SQIGQJKAAZAkYAAkCRgASQIGQJKAAZAkYAAkCRgASQIGQJKAAZAkYAAkCRgASQIGQJKAAZAkYAAk\\\n",
       "CRgASQIGQJKAAZAkYAAkCRgASQIGQJKAAZAkYAAkCRgASQIGQJKAAZAkYAAkCRgASQIGQJKAAZAk\\\n",
       "YAAkCRgASQIGQJKAAZAkYAAkCRgASQIGQJKAAZAkYAAkCRgASQIGQJKAAZAkYAAkCRgASQIGQJKA\\\n",
       "AZAkYAAkCRgASQIGQJKAAZAkYAAkCRgASQIGQJKAAZAkYAAkCRgASQIGQJKAAZAkYAAkCRgASQIG\\\n",
       "QJKAAZAkYAAkCRgASQIGQJKAAZAkYAAkCRgASQIGQJKAAZAkYAAkCRgASQIGQJKAAZAkYAAkCRgA\\\n",
       "SQIGQJKAAZAkYAAkCRgASQIGQJKAAZAkYAAkCRgASQIGQJKAAZAkYAAkCRgASQIGQJKAAZAkYAAk\\\n",
       "CRgASQIGQJKAAZAkYAAkCRgASQIGQJKAAZAkYAAkCRgASQIGQJKAAZAkYAAkCRgASQIGQJKAAZAk\\\n",
       "YAAkCRgASQIGQJKAAZAkYAAkCRgASQIGQJKAAZAkYAAkCRgASQIGQJKAAZAkYAAkCRgASbvZA8CW\\\n",
       "nU+Hi2uv++OESWB7rMAASBIwAJIEDIAkAQMgScAASBIwAJIEDIAkAQMgScAASBIwAJIEDIAkAQMg\\\n",
       "ScAASBIwAJIEDIAkAQMgScAASBIwAJIEDIAkAQMgScAASBIwAJIEDIAkAQMgScAASBIwAJIEDIAk\\\n",
       "AQMgScAASBIwAJIEDIAkAQMgScAASBIwAJIEDIAkAQMgScAASBIwAJIEDIAkAQMgScAASBIwAJIE\\\n",
       "DIAkAQMgScAASBIwAJIEDFb0uj9eXDufDhMmge0RMACSBAyAJAEDIEnAAEgSMACSBAyAJAEDIEnA\\\n",
       "AEgSMACSBAyAJAEDIEnAAEgSMACSBAxusCzLrx9rvB8QMACidrMHgEfw/rH/ev72cpo4CWyHFRis\\\n",
       "7Hu8rr0GbiNgACQJGABJAgYr+7nnZQ8M7mMZY4zZQ0DNX97e7icK1z3MXYjO01Dlu8uayn+QHiZg\\\n",
       "5Q+J/8cKDOazBwZAkoABkCRgACQJGABJAgZAkoABkCRgACQ9zDkwuCdns2A+KzAAkgQMgCQBAyBJ\\\n",
       "wABIEjAAkgQMgCQBAyBJwABIEjAAkgQMgCQBAyBJwABIEjAAkgQMgCQBAyBJwABIEjAAkgQMgCQB\\\n",
       "AyBJwABIEjAAkgQMgCQBAyBJwABIEjAAkgQMgCQBAyBJwABIEjAAkgQMgCQBAyBJwABIEjAAkgQM\\\n",
       "gCQBAyBJwABIEjAAkgQMgCQBAyBJwABIEjAAkgQMgCQBAyBJwABIEjAAkgQMgCQBAyBJwABIEjAA\\\n",
       "kgQMgCQBAyBJwABIEjAAkgQMgCQBAyBJwABIEjAAkgQMgCQBAyBJwABIEjAAkgQMgCQBAyBJwABI\\\n",
       "EjAAkgQMgCQBAyBJwABIEjAAkgQMgCQBAyBJwABIEjAAkgQMgCQBAyBJwABIEjAAkgQMgCQBAyBJ\\\n",
       "wABIEjAAkj4BaKUogASdE9oAAAAASUVORK5CYII=\\\n",
       "\"\n",
       "  frames[3] = \"data:image/png;base64,iVBORw0KGgoAAAANSUhEUgAAAbAAAAEgCAYAAADVKCZpAAAABHNCSVQICAgIfAhkiAAAAAlwSFlz\\\n",
       "AAALEgAACxIB0t1+/AAAADl0RVh0U29mdHdhcmUAbWF0cGxvdGxpYiB2ZXJzaW9uIDMuMC4wLCBo\\\n",
       "dHRwOi8vbWF0cGxvdGxpYi5vcmcvqOYd8AAABNRJREFUeJzt29FpAkEUQNFssIq0YR1pQ2vSNlJH\\\n",
       "2kgbk78QEj+CuE7ueg4IKggPVrkOs7OMMcYTAMQ8zx4AAK4hYAAkCRgASQIGQJKAAZAkYAAkCRgA\\\n",
       "SQIGQJKAAZAkYAAkCRgASQIGQJKAAZAkYAAkCRgASQIGQJKAAZAkYAAkCRgASQIGQJKAAZAkYAAk\\\n",
       "CRgASQIGQJKAAZAkYAAkCRgASQIGQJKAAZAkYAAkCRgASQIGQJKAAZAkYAAkCRgASQIGQJKAAZAk\\\n",
       "YAAkCRgASQIGQJKAAZAkYAAkCRgASQIGQJKAAZAkYAAkCRgASQIGQJKAAZAkYAAkCRgASQIGQJKA\\\n",
       "AZAkYAAkCRgASQIGQJKAAZAkYAAkCRgASQIGQJKAAZAkYAAkCRgASQIGQJKAAZAkYAAkCRgASQIG\\\n",
       "QJKAAZAkYAAkCRgASQIGQJKAAZAkYAAkCRgASQIGQJKAAZAkYAAkCRgASQIGQJKAAZAkYAAkCRgA\\\n",
       "SQIGQJKAAZAkYAAkCRgASQIGQJKAAZAkYAAkCRgASQIGQJKAAZAkYAAkCRgASQIGQJKAAZAkYAAk\\\n",
       "CRgASQIGQJKAAZAkYAAkCRgASQIGQJKAAZAkYAAkCRgASQIGQJKAAZAkYAAkCRgASQIGQJKAAZAk\\\n",
       "YAAkCRgASQIGQJKAAZAkYAAkCRgASQIGQJKAAZAkYAAkCRgASQIGQJKAAZAkYAAkCRgASbvZA8CW\\\n",
       "vZ+Pv97bH04TJoHtsQIDIEnAAEgSMACSBAyAJAEDIEnAAEgSMACSBAyAJAEDIEnAAEgSMACSBAyA\\\n",
       "JAEDIEnAAEgSMACSBAyAJAEDIEnAAEgSMACSBAyAJAEDIEnAAEgSMACSBAyAJAEDIEnAAEgSMACS\\\n",
       "BAyAJAEDIEnAAEgSMACSBAyAJAEDIEnAAEgSMACSBAyAJAEDIEnAAEgSMACSBAyAJAEDIEnAAEgS\\\n",
       "MACSBAyAJAEDIEnAAEgSMACSBAyAJAEDIEnAAEgSMLiz9/Nx9giwCQIGK9ofTrNHgM0SMACSBAyA\\\n",
       "JAEDIEnAAEgSMACSBAyAJAEDIEnAAEgSMLjCsix/fqzxeUDAAIjazR4AHsHbx+Hr+evLeeIksB1W\\\n",
       "YLCy7/G69Bq4joABkCRgACQJGKzs556XPTC4jWWMMWYPATX3vL3dTxQue5i7EJ2nocp3lzWV/yA9\\\n",
       "TMDKF4n/xwoM5rMHBkCSgAGQJGAAJAkYAEkCBkCSgAGQJGAAJD3MOTC4JWezYD4rMACSBAyAJAED\\\n",
       "IEnAAEgSMACSBAyAJAEDIEnAAEgSMACSBAyAJAEDIEnAAEgSMACSBAyAJAEDIEnAAEgSMACSBAyA\\\n",
       "JAEDIEnAAEgSMACSBAyAJAEDIEnAAEgSMACSBAyAJAEDIEnAAEgSMACSBAyAJAEDIEnAAEgSMACS\\\n",
       "BAyAJAEDIEnAAEgSMACSBAyAJAEDIEnAAEgSMACSBAyAJAEDIEnAAEgSMACSBAyAJAEDIEnAAEgS\\\n",
       "MACSBAyAJAEDIEnAAEgSMACSBAyAJAEDIEnAAEgSMACSBAyAJAEDIEnAAEgSMACSBAyAJAEDIEnA\\\n",
       "AEgSMACSBAyAJAEDIEnAAEgSMACSBAyAJAEDIEnAAEgSMACSBAyAJAEDIEnAAEgSMACSBAyAJAED\\\n",
       "IEnAAEgSMACSPgFEvCiAJ3/WbAAAAABJRU5ErkJggg==\\\n",
       "\"\n",
       "  frames[4] = \"data:image/png;base64,iVBORw0KGgoAAAANSUhEUgAAAbAAAAEgCAYAAADVKCZpAAAABHNCSVQICAgIfAhkiAAAAAlwSFlz\\\n",
       "AAALEgAACxIB0t1+/AAAADl0RVh0U29mdHdhcmUAbWF0cGxvdGxpYiB2ZXJzaW9uIDMuMC4wLCBo\\\n",
       "dHRwOi8vbWF0cGxvdGxpYi5vcmcvqOYd8AAABOJJREFUeJzt29FpAkEUQFE3WIVtWIdtaE3aRtqI\\\n",
       "baSNzV8IiR/BZDO56zkgqCA8ULmOOzPN8zxvACDmafQAAHAPAQMgScAASBIwAJIEDIAkAQMgScAA\\\n",
       "SBIwAJIEDIAkAQMgScAASBIwAJIEDIAkAQMgScAASBIwAJIEDIAkAQMgScAASBIwAJIEDIAkAQMg\\\n",
       "ScAASBIwAJIEDIAkAQMgScAASBIwAJIEDIAkAQMgScAASBIwAJIEDIAkAQMgScAASBIwAJIEDIAk\\\n",
       "AQMgScAASBIwAJIEDIAkAQMgScAASBIwAJIEDIAkAQMgScAASBIwAJIEDIAkAQMgScAASBIwAJIE\\\n",
       "DIAkAQMgScAASBIwAJIEDIAkAQMgScAASBIwAJIEDIAkAQMgScAASBIwAJIEDIAkAQMgScAASBIw\\\n",
       "AJIEDIAkAQMgScAASBIwAJIEDIAkAQMgScAASBIwAJIEDIAkAQMgScAASBIwAJIEDIAkAQMgScAA\\\n",
       "SBIwAJIEDIAkAQMgScAASBIwAJIEDIAkAQMgScAASBIwAJIEDIAkAQMgScAASBIwAJIEDIAkAQMg\\\n",
       "ScAASBIwAJIEDIAkAQMgScAASBIwAJIEDIAkAQMgScAASBIwAJIEDIAkAQMgScAASBIwAJIEDIAk\\\n",
       "AQMgScAASBIwAJIEDIAkAQMgScAASBIwAJIEDIAkAQMgScAASBIwAJIEDIAkAQMgScAASNqOHgDW\\\n",
       "6no5fXlufzwPmATWyQoMgCQBAyBJwABIEjAAkgQMgCQBAyBJwGAht7bM39paD9xHwABIEjAAkgQM\\\n",
       "gCQBAyBJwABIEjAAkgQMgCQBAyBJwABIEjAAkgQMgCQBAyBJwABIEjAAkgQMgCQBAyBJwABIEjAA\\\n",
       "kgQMgCQBAyBJwABIEjAAkgQMgCQBAyBJwABIEjAAkgQMgCQBAyBJwABIEjAAkgQMgCQBAyBJwABI\\\n",
       "EjAAkgQMgCQBAyBJwABIEjAAkgQMgCQBgz92vZxGjwCrIGCwoP3xPHoEWC0BAyBJwABIEjAAkgQM\\\n",
       "gCQBAyBJwABIEjAAkgQMgCQBAyBJwABIEjAAkgQMgCQBgztM0/Tt2xKvBwQMgKjt6AHgETy/Ht/v\\\n",
       "H3aXgZPAeliBwcI+xuvWY+A+AgZAkoABkCRgsLDP17wOu8vm5exvRPipaZ7nefQQUPOX29t9ReG2\\\n",
       "h9mF6DwNVT67LKn8A+lhAlZ+k/h/rMBgPNfAAEgSMACSBAyAJAEDIEnAAEgSMACSBAyApIc5Bwa/\\\n",
       "ydksGM8KDIAkAQMgScAASBIwAJIEDIAkAQMgScAASBIwAJIEDIAkAQMgScAASBIwAJIEDIAkAQMg\\\n",
       "ScAASBIwAJIEDIAkAQMgScAASBIwAJIEDIAkAQMgScAASBIwAJIEDIAkAQMgScAASBIwAJIEDIAk\\\n",
       "AQMgScAASBIwAJIEDIAkAQMgScAASBIwAJIEDIAkAQMgScAASBIwAJIEDIAkAQMgScAASBIwAJIE\\\n",
       "DIAkAQMgScAASBIwAJIEDIAkAQMgScAASBIwAJIEDIAkAQMgScAASBIwAJIEDIAkAQMgScAASBIw\\\n",
       "AJIEDIAkAQMgScAASBIwAJIEDIAkAQMgScAASBIwAJIEDIAkAQMgScAASBIwAJIEDIAkAQMgScAA\\\n",
       "SBIwAJIEDIAkAQMgScAASBIwAJIEDICkNxnHLUsC9+rPAAAAAElFTkSuQmCC\\\n",
       "\"\n",
       "  frames[5] = \"data:image/png;base64,iVBORw0KGgoAAAANSUhEUgAAAbAAAAEgCAYAAADVKCZpAAAABHNCSVQICAgIfAhkiAAAAAlwSFlz\\\n",
       "AAALEgAACxIB0t1+/AAAADl0RVh0U29mdHdhcmUAbWF0cGxvdGxpYiB2ZXJzaW9uIDMuMC4wLCBo\\\n",
       "dHRwOi8vbWF0cGxvdGxpYi5vcmcvqOYd8AAABNtJREFUeJzt3NFpwlAYgNGmOEXX6BxdQ2fSNTqH\\\n",
       "a3SN9K2UmocSTG+/eA4IGhB+UPm8JDfTPM/zEwDEPI8eAADWEDAAkgQMgCQBAyBJwABIEjAAkgQM\\\n",
       "gCQBAyBJwABIEjAAkgQMgCQBAyBJwABIEjAAkgQMgCQBAyBJwABIEjAAkgQMgCQBAyBJwABIEjAA\\\n",
       "kgQMgCQBAyBJwABIEjAAkgQMgCQBAyBJwABIEjAAkgQMgCQBAyBJwABIEjAAkgQMgCQBAyBJwABI\\\n",
       "EjAAkgQMgCQBAyBJwABIEjAAkgQMgCQBAyBJwABIEjAAkgQMgCQBAyBJwABIEjAAkgQMgCQBAyBJ\\\n",
       "wABIEjAAkgQMgCQBAyBJwABIEjAAkgQMgCQBAyBJwABIEjAAkgQMgCQBAyBJwABIEjAAkgQMgCQB\\\n",
       "AyBJwABIEjAAkgQMgCQBAyBJwABIEjAAkgQMgCQBAyBJwABIEjAAkgQMgCQBAyBJwABIEjAAkgQM\\\n",
       "gCQBAyBJwABIEjAAkgQMgCQBAyBJwABIEjAAkgQMgCQBAyBJwABIEjAAkgQMgCQBAyBJwABIEjAA\\\n",
       "kgQMgCQBAyBJwABIEjAAkgQMgCQBAyBJwABIEjAAkgQMgCQBAyBJwABIEjAAkgQMgCQBAyBJwABI\\\n",
       "EjAAkgQMgCQBAyBJwABIEjAAkgQMgCQBAyBJwABIEjAAkgQMgCQBAyBJwABIEjAAkgQMgKTD6AFg\\\n",
       "r66X082x1+N5wCSwT1ZgACQJGABJAgZAkoABkCRgACQJGABJAgZAkoABkCRgACQJGABJAgZAkoDB\\\n",
       "Rpbue7h0f0RgHQEDIEnAAEgSMACSBAyAJAEDIEnAAEgSMACSBAyAJAEDIEnAAEgSMACSBAyAJAED\\\n",
       "IEnAAEgSMACSBAyAJAEDIEnAAEgSMACSBAyAJAEDIEnAAEgSMACSBAyAJAEDIEnAAEgSMACSBAyA\\\n",
       "JAEDIEnAAEgSMACSBAyAJAEDIEnAAEgSMACSBAyAJAEDIEnAYEOvx/PNsevlNGAS2B8BAyBJwABI\\\n",
       "EjAAkgQMgCQBAyBJwABIEjAAkgQMgCQBAyBJwABIEjBYYZqmXz+2eD8gYABEHUYPAI/g/eP49fzt\\\n",
       "5TJwEtgPKzDY2Pd4Lb0G1hEwAJIEDIAkAYON/Tzn5RwY3Mc0z/M8egio+cvL2/1EYdnDXIVoPw1V\\\n",
       "vrtsqfwH6WECVv6Q+H+swGA858AASBIwAJIEDIAkAQMgScAASBIwAJIEDICkh9kHBvdkbxaMZwUG\\\n",
       "QJKAAZAkYAAkCRgASQIGQJKAAZAkYAAkCRgASQIGQJKAAZAkYAAkCRgASQIGQJKAAZAkYAAkCRgA\\\n",
       "SQIGQJKAAZAkYAAkCRgASQIGQJKAAZAkYAAkCRgASQIGQJKAAZAkYAAkCRgASQIGQJKAAZAkYAAk\\\n",
       "CRgASQIGQJKAAZAkYAAkCRgASQIGQJKAAZAkYAAkCRgASQIGQJKAAZAkYAAkCRgASQIGQJKAAZAk\\\n",
       "YAAkCRgASQIGQJKAAZAkYAAkCRgASQIGQJKAAZAkYAAkCRgASQIGQJKAAZAkYAAkCRgASQIGQJKA\\\n",
       "AZAkYAAkCRgASQIGQJKAAZAkYAAkCRgASQIGQJKAAZAkYAAkCRgASQIGQJKAAZAkYAAkCRgASQIG\\\n",
       "QJKAAZAkYAAkCRgASQIGQNIn1R0rgKL1i3wAAAAASUVORK5CYII=\\\n",
       "\"\n",
       "  frames[6] = \"data:image/png;base64,iVBORw0KGgoAAAANSUhEUgAAAbAAAAEgCAYAAADVKCZpAAAABHNCSVQICAgIfAhkiAAAAAlwSFlz\\\n",
       "AAALEgAACxIB0t1+/AAAADl0RVh0U29mdHdhcmUAbWF0cGxvdGxpYiB2ZXJzaW9uIDMuMC4wLCBo\\\n",
       "dHRwOi8vbWF0cGxvdGxpYi5vcmcvqOYd8AAABOpJREFUeJzt3dFJw1AYgNFEOoVrOIdrxJnaNVxD\\\n",
       "13CN+KQPWkGr6fVrz4E8NBD4oS1fLu0l87qu6wQAMTejBwCAUwgYAEkCBkCSgAGQJGAAJAkYAEkC\\\n",
       "BkCSgAGQJGAAJAkYAEkCBkCSgAGQJGAAJAkYAEkCBkCSgAGQJGAAJAkYAEkCBkCSgAGQJGAAJAkY\\\n",
       "AEkCBkCSgAGQJGAAJAkYAEkCBkCSgAGQJGAAJAkYAEkCBkCSgAGQJGAAJAkYAEkCBkCSgAGQJGAA\\\n",
       "JAkYAEkCBkCSgAGQJGAAJAkYAEkCBkCSgAGQJGAAJAkYAEkCBkCSgAGQJGAAJAkYAEkCBkCSgAGQ\\\n",
       "JGAAJAkYAEkCBkCSgAGQJGAAJAkYAEkCBkCSgAGQJGAAJAkYAEkCBkCSgAGQJGAAJAkYAEkCBkCS\\\n",
       "gAGQJGAAJAkYAEkCBkCSgAGQJGAAJAkYAEkCBkCSgAGQJGAAJAkYAEkCBkCSgAGQJGAAJAkYAEkC\\\n",
       "BkCSgAGQJGAAJAkYAEkCBkCSgAGQJGAAJAkYAEkCBkCSgAGQJGAAJAkYAEkCBkCSgAGQJGAAJAkY\\\n",
       "AEkCBkCSgAGQJGAAJAkYAEkCBkCSgAGQJGAAJAkYAEkCBkCSgAGQJGAAJAkYAEkCBkCSgAGQJGAA\\\n",
       "JAkYAEkCBkCSgAGQJGAAJAkYAEkCBkCSgAGQJGAAJAkYAEkCBkCSgAGQJGAAJAkYAEkCBkDSbvQA\\\n",
       "cImeDw9Hz98t+zNPApfLCgyAJAGDDVhpwfYEDIAkAQMgScAASBIwAJIEDIAkAQMgScAASBIwAJIE\\\n",
       "DIAkAQMgScAASBIwAJIEDIAkAQMgScBgI8ceqfLVgy6BnxMwAJIEDIAkAQMgScAASBIwAJIEDIAk\\\n",
       "AQMgScAASBIwAJIEDIAkAQMgScAASBIwAJIEDIAkAQMgScAASBIwAJIEDIAkAQMgScAASBIwAJIE\\\n",
       "DIAkAQMgScAASBIwAJIEDIAkAQMgScAASBIwAJIEDIAkAYMN3S37T+eeDw8DJoHLI2AAJAkYAEkC\\\n",
       "BkCSgAGQJGAAJAkYAEkCBkCSgAGQJGAAJAkYAEkCBkCSgAGQJGBwgnmev31scT0gYABECRicwePL\\\n",
       "8n5M0zQ97ZfBE0GfgMHG3qL11WvgNAIGA4gY/J6AwQD3t4fRI0CegMHGPsZKvOBvzOu6rqOHgJpz\\\n",
       "/r3dVxSO240e4Fzsp6HKZ5ctlW+QriZg5TeJ/8cKDMbzGxgASQIGQJKAAZAkYAAkCRgASQIGQJKA\\\n",
       "AZB0NfvA4C/ZmwXjWYEBkCRgACQJGABJAgZAkoABkCRgACQJGABJAgZAkoABkCRgACQJGABJAgZA\\\n",
       "koABkCRgACQJGABJAgZAkoABkCRgACQJGABJAgZAkoABkCRgACQJGABJAgZAkoABkCRgACQJGABJ\\\n",
       "AgZAkoABkCRgACQJGABJAgZAkoABkCRgACQJGABJAgZAkoABkCRgACQJGABJAgZAkoABkCRgACQJ\\\n",
       "GABJAgZAkoABkCRgACQJGABJAgZAkoABkCRgACQJGABJAgZAkoABkCRgACQJGABJAgZAkoABkCRg\\\n",
       "ACQJGABJAgZAkoABkCRgACQJGABJAgZAkoABkCRgACQJGABJAgZAkoABkCRgACQJGABJAgZAkoAB\\\n",
       "kCRgACQJGABJAgZAkoABkCRgACQJGABJAgZAkoABkPQKbPo0eCCsflQAAAAASUVORK5CYII=\\\n",
       "\"\n",
       "  frames[7] = \"data:image/png;base64,iVBORw0KGgoAAAANSUhEUgAAAbAAAAEgCAYAAADVKCZpAAAABHNCSVQICAgIfAhkiAAAAAlwSFlz\\\n",
       "AAALEgAACxIB0t1+/AAAADl0RVh0U29mdHdhcmUAbWF0cGxvdGxpYiB2ZXJzaW9uIDMuMC4wLCBo\\\n",
       "dHRwOi8vbWF0cGxvdGxpYi5vcmcvqOYd8AAABPJJREFUeJzt3OFJw1AYQFEjTuEauoZrtDOZNZyj\\\n",
       "a7hG/GlFEammz5ucA4U00PJBWm4fTTIty7LcAEDM7egBAOASAgZAkoABkCRgACQJGABJAgZAkoAB\\\n",
       "kCRgACQJGABJAgZAkoABkCRgACQJGABJAgZAkoABkCRgACQJGABJAgZAkoABkCRgACQJGABJAgZA\\\n",
       "koABkCRgACQJGABJAgZAkoABkCRgACQJGABJAgZAkoABkCRgACQJGABJAgZAkoABkCRgACQJGABJ\\\n",
       "AgZAkoABkCRgACQJGABJAgZAkoABkCRgACQJGABJAgZAkoABkCRgACQJGABJAgZAkoABkCRgACQJ\\\n",
       "GABJAgZAkoABkCRgACQJGABJAgZAkoABkCRgACQJGABJAgZAkoABkCRgACQJGABJAgZAkoABkCRg\\\n",
       "ACQJGABJAgZAkoABkCRgACQJGABJAgZAkoABkCRgACQJGABJAgZAkoABkCRgACQJGABJAgZAkoAB\\\n",
       "kCRgACQJGABJAgZAkoABkCRgACQJGABJAgZAkoABkCRgACQJGABJAgZAkoABkCRgACQJGABJAgZA\\\n",
       "koABkCRgACQJGABJAgZAkoABkCRgACQJGABJAgZAkoABkCRgACQJGABJAgZAkoABkCRgACQJGABJ\\\n",
       "AgZAkoABkCRgACQJGABJAgZAkoABkCRgACQJGABJAgZAkoABkCRgACQJGABJAgZAkoABkHQ3egDY\\\n",
       "otN8/HL/w+H5ypPAdlmBAZAkYAAkCRgASQIGQJKAAZAkYAAkCRgASQIGQJKAAZAkYLACd9yA9QkY\\\n",
       "AEkCBkCSgAGQJGAAJAkYAEkCBkCSgAGQJGAAJAkYAEkCBiv56m4cp/k4YBLYJgEDIEnAAEgSMACS\\\n",
       "BAyAJAEDIEnAAEgSMACSBAyAJAEDIEnAAEgSMACSBAyAJAEDIEnAAEgSMACSBAyAJAEDIEnAAEgS\\\n",
       "MACSBAyAJAEDIEnAAEgSMFjRw+H5077TfBwwCWyPgAGQJGAAJAkYAEkCBkCSgAGQJGAAJAkYAEkC\\\n",
       "BkCSgAGQJGAAJAkYDOB2UvB7AgZAkoABkCRgACQJGABJAgZAkoABkCRgcKFpmn70+O3rv3sP2DMB\\\n",
       "AyBJwOBKXl4PNy+vh9FjwGbcjR4A9uA8XO/b85hhYCOswGBlj0ehgjUIGABJAgZX8HQ/f9g+fw5c\\\n",
       "ZlqWZRk9BBRd8/R2X1P4bDcncbiWhjKfX9ZS/nG0m4CVDxL/kxUYjOU/MACSBAyAJAEDIEnAAEgS\\\n",
       "MACSBAyAJAEDIGk314HBX3NtFoxlBQZAkoABkCRgACQJGABJAgZAkoABkCRgACQJGABJAgZAkoAB\\\n",
       "kCRgACQJGABJAgZAkoABkCRgACQJGABJAgZAkoABkCRgACQJGABJAgZAkoABkCRgACQJGABJAgZA\\\n",
       "koABkCRgACQJGABJAgZAkoABkCRgACQJGABJAgZAkoABkCRgACQJGABJAgZAkoABkCRgACQJGABJ\\\n",
       "AgZAkoABkCRgACQJGABJAgZAkoABkCRgACQJGABJAgZAkoABkCRgACQJGABJAgZAkoABkCRgACQJ\\\n",
       "GABJAgZAkoABkCRgACQJGABJAgZAkoABkCRgACQJGABJAgZAkoABkCRgACQJGABJAgZAkoABkCRg\\\n",
       "ACQJGABJAgZAkoABkCRgACQJGABJAgZAkoABkCRgACQJGABJAgZA0htMRTJL5yg3PwAAAABJRU5E\\\n",
       "rkJggg==\\\n",
       "\"\n",
       "  frames[8] = \"data:image/png;base64,iVBORw0KGgoAAAANSUhEUgAAAbAAAAEgCAYAAADVKCZpAAAABHNCSVQICAgIfAhkiAAAAAlwSFlz\\\n",
       "AAALEgAACxIB0t1+/AAAADl0RVh0U29mdHdhcmUAbWF0cGxvdGxpYiB2ZXJzaW9uIDMuMC4wLCBo\\\n",
       "dHRwOi8vbWF0cGxvdGxpYi5vcmcvqOYd8AAABO5JREFUeJzt3dFNwlAYgFFrmMI1nMM1cCZYwzV0\\\n",
       "DdeozygmhlKuHz0n4YUE8ieUfFzopdM8z/MDAMQ8jh4AAC4hYAAkCRgASQIGQJKAAZAkYAAkCRgA\\\n",
       "SQIGQJKAAZAkYAAkCRgASQIGQJKAAZAkYAAkCRgASQIGQJKAAZAkYAAkCRgASQIGQJKAAZAkYAAk\\\n",
       "CRgASQIGQJKAAZAkYAAkCRgASQIGQJKAAZAkYAAkCRgASQIGQJKAAZAkYAAkCRgASQIGQJKAAZAk\\\n",
       "YAAkCRgASQIGQJKAAZAkYAAkCRgASQIGQJKAAZAkYAAkCRgASQIGQJKAAZAkYAAkCRgASQIGQJKA\\\n",
       "AZAkYAAkCRgASQIGQJKAAZAkYAAkCRgASQIGQJKAAZAkYAAkCRgASQIGQJKAAZAkYAAkCRgASQIG\\\n",
       "QJKAAZAkYAAkCRgASQIGQJKAAZAkYAAkCRgASQIGQJKAAZAkYAAkCRgASQIGQJKAAZAkYAAkCRgA\\\n",
       "SQIGQJKAAZAkYAAkCRgASQIGQJKAAZAkYAAkCRgASQIGQJKAAZAkYAAkCRgASQIGQJKAAZAkYAAk\\\n",
       "CRgASQIGQJKAAZAkYAAkCRgASQIGQJKAAZAkYAAkCRgASQIGQJKAAZAkYAAkCRgASQIGQJKAAZAk\\\n",
       "YAAkCRgASQIGQJKAAZAkYAAkCRgASQIGQJKAAZAkYAAkCRgASQIGQJKAAZAkYAAkCRgASbvRA8A9\\\n",
       "+ji+/rjveX8YMAncLyswAJIEDIAkAQMgScAASBIwAJIEDG7k3JmJwOUEDIAkAQMgScAASBIwAJIE\\\n",
       "DIAkAQMgScAASBIwWIF/nof1CRgASQIGQJKAAZAkYAAkCRgASQIGQJKAAZAkYAAkCRis5NxmZhe1\\\n",
       "hOsRMACSBAyAJAEDIEnAAEgSMACSBAyAJAEDIEnAAEgSMACSBAyAJAEDIEnAAEgSMACSBAyAJAGD\\\n",
       "FbmkCqxHwABIEjAAkgQMgCQBAyBJwABIEjAAkgQMgCQBAyBJwGAAm5lhOQEDIEnAAEgSMACSBAyA\\\n",
       "JAEDIEnAAEgSMACSBAxWdu6ilsByAgZAkoABkCRgACQJGABJAgZAkoDBhaZp+vNt6eN/ew7YMgGD\\\n",
       "Qd4P+9EjQNpu9ACwFW+fp8F6eToOmgTugxUY3MD3eAHLCRgMImqwjIDBIL5ChGUEDG5ArOD6pnme\\\n",
       "59FDQNGtT233VoVTmzkL0T4a6hzDrKH8wWgzASu/SPxPVmAwlt/AAEgSMACSBAyAJAEDIEnAAEgS\\\n",
       "MACSBAyApM3sA4Nrsy8LxrICAyBJwABIEjAAkgQMgCQBAyBJwABIEjAAkgQMgCQBAyBJwABIEjAA\\\n",
       "kgQMgCQBAyBJwABIEjAAkgQMgCQBAyBJwABIEjAAkgQMgCQBAyBJwABIEjAAkgQMgCQBAyBJwABI\\\n",
       "EjAAkgQMgCQBAyBJwABIEjAAkgQMgCQBAyBJwABIEjAAkgQMgCQBAyBJwABIEjAAkgQMgCQBAyBJ\\\n",
       "wABIEjAAkgQMgCQBAyBJwABIEjAAkgQMgCQBAyBJwABIEjAAkgQMgCQBAyBJwABIEjAAkgQMgCQB\\\n",
       "AyBJwABIEjAAkgQMgCQBAyBJwABIEjAAkgQMgCQBAyBJwABIEjAAkgQMgCQBAyBJwABIEjAAkgQM\\\n",
       "gCQBAyBJwABIEjAAkgQMgCQBAyBJwABIEjAAkgQMgCQBAyDpC+ydM06Km4r+AAAAAElFTkSuQmCC\\\n",
       "\"\n",
       "  frames[9] = \"data:image/png;base64,iVBORw0KGgoAAAANSUhEUgAAAbAAAAEgCAYAAADVKCZpAAAABHNCSVQICAgIfAhkiAAAAAlwSFlz\\\n",
       "AAALEgAACxIB0t1+/AAAADl0RVh0U29mdHdhcmUAbWF0cGxvdGxpYiB2ZXJzaW9uIDMuMC4wLCBo\\\n",
       "dHRwOi8vbWF0cGxvdGxpYi5vcmcvqOYd8AAABP9JREFUeJzt3N1tGkEYQFHWchVuI3W4DVwTbiNt\\\n",
       "JG2kjfVjpBgkxP5MLnuOxMtKoJEMugye/aZ5nucTAMS8jF4AADxCwABIEjAAkgQMgCQBAyBJwABI\\\n",
       "EjAAkgQMgCQBAyBJwABIEjAAkgQMgCQBAyBJwABIEjAAkgQMgCQBAyBJwABIEjAAkgQMgCQBAyBJ\\\n",
       "wABIEjAAkgQMgCQBAyBJwABIEjAAkgQMgCQBAyBJwABIEjAAkgQMgCQBAyBJwABIEjAAkgQMgCQB\\\n",
       "AyBJwABIEjAAkgQMgCQBAyBJwABIEjAAkgQMgCQBAyBJwABIEjAAkgQMgCQBAyBJwABIEjAAkgQM\\\n",
       "gCQBAyBJwABIEjAAkgQMgCQBAyBJwABIEjAAkgQMgCQBAyBJwABIEjAAkgQMgCQBAyBJwABIEjAA\\\n",
       "kgQMgCQBAyBJwABIEjAAkgQMgCQBAyBJwABIEjAAkgQMgCQBAyBJwABIEjAAkgQMgCQBAyBJwABI\\\n",
       "EjAAkgQMgCQBAyBJwABIEjAAkgQMgCQBAyBJwABIEjAAkgQMgCQBAyBJwABIEjAAkgQMgCQBAyBJ\\\n",
       "wABIEjAAkgQMgCQBAyBJwABIEjAAkgQMgCQBAyBJwABIEjAAkgQMgCQBAyBJwABIEjAAkgQMgCQB\\\n",
       "AyBJwABIEjAAkgQMgCQBAyBJwABIEjAAkgQMgCQBAyBJwABIEjAAkgQMgCQBAyBJwABIEjAAkl5H\\\n",
       "LwCeze/Pj6vXf5wvO68EnpsdGABJAgZAkoABkCRgACQJGABJAgYrc9oQ9iFgACQJGABJAgZAkoAB\\\n",
       "kCRgACQJGOzk1oxE4DECBkCSgAGQJGAAJAkYAEkCBkCSgMEGzEOE7QkYAEkCBkCSgAGQJGAAJAkY\\\n",
       "AEkCBhu5dhLRPERYj4ABkCRgACQJGABJAgZAkoABkCRgACQJGABJAgZAkoABkCRgACQJGGzIOCnY\\\n",
       "joABkCRgACQJGABJAgZAkoABkCRgMICTiLCcgAGQJGAAJAkYAEkCBkCSgAGQJGCwsWvzEIHlBAyA\\\n",
       "JAEDIEnAAEgSMACSBAyAJAGDQcxDhGUEDIAkAQMgScAASBIwAJIEDIAkAYMdmIcI6xMwAJIEDBaY\\\n",
       "punux9Ln33oNOCoBAyDpdfQC4Eh+/jn/c+VzyDrgGdiBwU6+x+t0+nX5fg24j4DBQNeiBtxHwGCg\\\n",
       "9zc/IcKjBAx2Ilawrmme53n0IqBq76PtPq7w12FOIbqHhmfgfczayl+KDhOw8h+J/5cdGIzjf2AA\\\n",
       "JAkYAEkCBkCSgAGQJGAAJAkYAEkCBkDSYe4Dgy24LwvGsQMDIEnAAEgSMACSBAyAJAEDIEnAAEgS\\\n",
       "MACSBAyAJAEDIEnAAEgSMACSBAyAJAEDIEnAAEgSMACSBAyAJAEDIEnAAEgSMACSBAyAJAEDIEnA\\\n",
       "AEgSMACSBAyAJAEDIEnAAEgSMACSBAyAJAEDIEnAAEgSMACSBAyAJAEDIEnAAEgSMACSBAyAJAED\\\n",
       "IEnAAEgSMACSBAyAJAEDIEnAAEgSMACSBAyAJAEDIEnAAEgSMACSBAyAJAEDIEnAAEgSMACSBAyA\\\n",
       "JAEDIEnAAEgSMACSBAyAJAEDIEnAAEgSMACSBAyAJAEDIEnAAEgSMACSBAyAJAEDIEnAAEgSMACS\\\n",
       "BAyAJAEDIEnAAEgSMACSBAyAJAEDIEnAAEgSMACSBAyAJAEDIEnAAEgSMACSBAyAJAEDIOkLN183\\\n",
       "GRFycLoAAAAASUVORK5CYII=\\\n",
       "\"\n",
       "  frames[10] = \"data:image/png;base64,iVBORw0KGgoAAAANSUhEUgAAAbAAAAEgCAYAAADVKCZpAAAABHNCSVQICAgIfAhkiAAAAAlwSFlz\\\n",
       "AAALEgAACxIB0t1+/AAAADl0RVh0U29mdHdhcmUAbWF0cGxvdGxpYiB2ZXJzaW9uIDMuMC4wLCBo\\\n",
       "dHRwOi8vbWF0cGxvdGxpYi5vcmcvqOYd8AAABRNJREFUeJzt3OttE0EYQFEvShW0AW3QRlJT0gZt\\\n",
       "QBu0sfxAQjwCQfHMLNd7jmTJXsnWSLZ1vY/P277v+wUAYt4cvQAAeA0BAyBJwABIEjAAkgQMgCQB\\\n",
       "AyBJwABIEjAAkgQMgCQBAyBJwABIEjAAkgQMgCQBAyBJwABIEjAAkgQMgCQBAyBJwABIEjAAkgQM\\\n",
       "gCQBAyBJwABIEjAAkgQMgCQBAyBJwABIEjAAkgQMgCQBAyBJwABIEjAAkgQMgCQBAyBJwABIEjAA\\\n",
       "kgQMgCQBAyBJwABIEjAAkgQMgCQBAyBJwABIEjAAkgQMgCQBAyBJwABIEjAAkgQMgCQBAyBJwABI\\\n",
       "EjAAkgQMgCQBAyBJwABIEjAAkgQMgCQBAyBJwABIEjAAkgQMgCQBAyBJwABIEjAAkgQMgCQBAyBJ\\\n",
       "wABIEjAAkgQMgCQBAyBJwABIEjAAkgQMgCQBAyBJwABIEjAAkgQMgCQBAyBJwABIEjAAkgQMgCQB\\\n",
       "AyBJwABIEjAAkgQMgCQBAyBJwABIEjAAkgQMgCQBAyBJwABIEjAAkgQMgCQBAyBJwABIEjAAkgQM\\\n",
       "gCQBAyBJwABIEjAAkgQMgCQBAyBJwABIEjAAkgQMgCQBAyBJwABIEjAAkgQMgCQBAyBJwABIEjAA\\\n",
       "kgQMgCQBAyBJwABIEjAAkgQMgCQBAyBJwABIEjAAkgQMgCQBAyBJwABIEjAAkgQMgCQBAyBJwABI\\\n",
       "ujt6AXCrPj89fL//7v7xwJXAbRIwGOjHaAFzOYQIQJKAwUAOFcI6AgZAkoABkCRgACQJGCzg6kQY\\\n",
       "T8AASBIwAJIEDIAkAYPBzILBGgIGQJKAAZAkYAAkCRgASQIGixhmhrEEDIAkAQMgScAASBIwmMAw\\\n",
       "M8wnYAAkCRgASQIGQJKAwSTPnQczCwbjCBgASQIGQJKAAZAkYAAkCRgASQIGQJKAAZAkYLCYWTAY\\\n",
       "Q8BgIn/qC/MIGABJAgZAkoABkCRgcAAXcsD1BAyAJAEDIEnAAEgSMACSBAwmM8wMcwgYAEkCBkCS\\\n",
       "gAGQJGBwEMPMcB0BAyBJwABIEjAAkgQMFjALBuMJGABJAgZAkoABkCRgcCCzYPB6AgZAkoABkCRg\\\n",
       "ACQJGABJAgaLGGaGsQQMgCQBgwG2bfun2zXP/dtrwBkJGABJd0cvAM7m45f7nx5/erxc3j88HbQa\\\n",
       "6LIHBgv9Gq8/bQNeJmAAJAkYAEkCBgt9ePv7ua7ntgEv2/Z9349eBNStvLzdVxa+Oc1ViOZnuBU+\\\n",
       "y4xU/kF0moCV3yT+f/bAYD3nwABIEjAAkgQMgCQBAyBJwABIEjAAkgQMgKTTzIHBTGazYD17YAAk\\\n",
       "CRgASQIGQJKAAZAkYAAkCRgASQIGQJKAAZAkYAAkCRgASQIGQJKAAZAkYAAkCRgASQIGQJKAAZAk\\\n",
       "YAAkCRgASQIGQJKAAZAkYAAkCRgASQIGQJKAAZAkYAAkCRgASQIGQJKAAZAkYAAkCRgASQIGQJKA\\\n",
       "AZAkYAAkCRgASQIGQJKAAZAkYAAkCRgASQIGQJKAAZAkYAAkCRgASQIGQJKAAZAkYAAkCRgASQIG\\\n",
       "QJKAAZAkYAAkCRgASQIGQJKAAZAkYAAkCRgASQIGQJKAAZAkYAAkCRgASQIGQJKAAZAkYAAkCRgA\\\n",
       "SQIGQJKAAZAkYAAkCRgASQIGQJKAAZAkYAAkCRgASQIGQJKAAZAkYAAkCRgASQIGQJKAAZAkYAAk\\\n",
       "CRgASQIGQJKAAZAkYAAkfQWJpz8bYA6jTQAAAABJRU5ErkJggg==\\\n",
       "\"\n",
       "  frames[11] = \"data:image/png;base64,iVBORw0KGgoAAAANSUhEUgAAAbAAAAEgCAYAAADVKCZpAAAABHNCSVQICAgIfAhkiAAAAAlwSFlz\\\n",
       "AAALEgAACxIB0t1+/AAAADl0RVh0U29mdHdhcmUAbWF0cGxvdGxpYiB2ZXJzaW9uIDMuMC4wLCBo\\\n",
       "dHRwOi8vbWF0cGxvdGxpYi5vcmcvqOYd8AAABSRJREFUeJzt3NFtGkEUQFETuQq3kbThNkxNpo20\\\n",
       "EbfhNjZ/URQRxcGzM7rsORISfIBGAnSZ3bectm3bHgAg5svqBQDALQQMgCQBAyBJwABIEjAAkgQM\\\n",
       "gCQBAyBJwABIEjAAkgQMgCQBAyBJwABIEjAAkgQMgCQBAyBJwABIEjAAkgQMgCQBAyBJwABIEjAA\\\n",
       "kgQMgCQBAyBJwABIEjAAkgQMgCQBAyBJwABIEjAAkgQMgCQBAyBJwABIEjAAkgQMgCQBAyBJwABI\\\n",
       "EjAAkgQMgCQBAyBJwABIEjAAkgQMgCQBAyBJwABIEjAAkgQMgCQBAyBJwABIEjAAkgQMgCQBAyBJ\\\n",
       "wABIEjAAkgQMgCQBAyBJwABIEjAAkgQMgCQBAyBJwABIEjAAkgQMgCQBAyBJwABIEjAAkgQMgCQB\\\n",
       "AyBJwABIEjAAkgQMgCQBAyBJwABIEjAAkgQMgCQBAyBJwABIEjAAkgQMgCQBAyBJwABIEjAAkgQM\\\n",
       "gCQBAyBJwABIEjAAkgQMgCQBAyBJwABIEjAAkgQMgCQBAyBJwABIEjAAkgQMgCQBAyBJwABIEjAA\\\n",
       "kgQMgCQBAyBJwABIEjAAkgQMgCQBAyBJwABIEjAAkgQMgCQBAyBJwABIEjAAkgQMgCQBAyBJwABI\\\n",
       "EjAAkgQMgCQBAyBJwABIEjAAkgQMgCQBAyBJwABIEjAAkgQMgCQBAyBJwABIEjAAkgQMgCQBAyBJ\\\n",
       "wGBHb5fz6iXA3XpcvQC4F2IFc9mBwSBfX15XLwEORcAASBIwAJIEDHbm3BjsQ8AASBIwAJIEDAYy\\\n",
       "iQjzCBgASQIGQJKAwQQmEWE8AQMgScAASBIwAJIEDAYzSg9zCBgASQIGQJKAwSRG6WEsAQMgScAA\\\n",
       "SBIwAJIEDHZglB72J2AAJAkYTGQSEcYRMNiJw4iwLwEDIEnAAEgSMACSBAyAJAEDIEnAYEfXJhGN\\\n",
       "0sMYAgZAkoABkCRgsIDDiPB5AgZAkoABkCRgACQJGOzMn/rCPgQMgCQBAyBJwGARo/TwOQIGQJKA\\\n",
       "AZAkYDCBSUQYT8AASBIwAJIEDIAkAYOFjNLD7QQMgCQBAyBJwABIEjCYxLVgMJaAAZAkYLCYSUS4\\\n",
       "jYABkCRgACQJGABJAgYTmUSEcQQMgCQBAyBJwGCQ0+n0ods1b5fzh5//t9eAoxEwAJIeVy8Ajur7\\\n",
       "+8uv+89Pl4UrgSY7MFjg93hdewz8m4DBZN/OdlswgoABkCRgsMCf57yeny4PP14dRoT/cdq2bVu9\\\n",
       "CLgHM8fbfW3hQFOIrp3hnvg8M0r5x9BhAlZ+k2iwA4O5nAMDIEnAAEgSMACSBAyAJAEDIEnAAEgS\\\n",
       "MACSDnMdGOzNtVkwlx0YAEkCBkCSgAGQJGAAJAkYAEkCBkCSgAGQJGAAJAkYAEkCBkCSgAGQJGAA\\\n",
       "JAkYAEkCBkCSgAGQJGAAJAkYAEkCBkCSgAGQJGAAJAkYAEkCBkCSgAGQJGAAJAkYAEkCBkCSgAGQ\\\n",
       "JGAAJAkYAEkCBkCSgAGQJGAAJAkYAEkCBkCSgAGQJGAAJAkYAEkCBkCSgAGQJGAAJAkYAEkCBkCS\\\n",
       "gAGQJGAAJAkYAEkCBkCSgAGQJGAAJAkYAEkCBkCSgAGQJGAAJAkYAEkCBkCSgAGQJGAAJAkYAEkC\\\n",
       "BkCSgAGQJGAAJAkYAEkCBkCSgAGQJGAAJAkYAEkCBkCSgAGQJGAAJAkYAEkCBkCSgAGQJGAAJAkY\\\n",
       "AEkCBkCSgAGQJGAAJAkYAEkCBkCSgAGQJGAAJAkYAEk/Af78Rxlzy+noAAAAAElFTkSuQmCC\\\n",
       "\"\n",
       "  frames[12] = \"data:image/png;base64,iVBORw0KGgoAAAANSUhEUgAAAbAAAAEgCAYAAADVKCZpAAAABHNCSVQICAgIfAhkiAAAAAlwSFlz\\\n",
       "AAALEgAACxIB0t1+/AAAADl0RVh0U29mdHdhcmUAbWF0cGxvdGxpYiB2ZXJzaW9uIDMuMC4wLCBo\\\n",
       "dHRwOi8vbWF0cGxvdGxpYi5vcmcvqOYd8AAABUdJREFUeJzt3NFNG0EUQFEcUQVthDZoA8pAlIHb\\\n",
       "SBvQRtrY/EUKIYrBs7Nc7zkSEiCMRrKty+y85bAsy3IFADHftl4AAHyGgAGQJGAAJAkYAEkCBkCS\\\n",
       "gAGQJGAAJAkYAEkCBkCSgAGQJGAAJAkYAEkCBkCSgAGQJGAAJAkYAEkCBkCSgAGQJGAAJAkYAEkC\\\n",
       "BkCSgAGQJGAAJAkYAEkCBkCSgAGQJGAAJAkYAEkCBkCSgAGQJGAAJAkYAEkCBkCSgAGQJGAAJAkY\\\n",
       "AEkCBkCSgAGQJGAAJAkYAEkCBkCSgAGQJGAAJAkYAEkCBkCSgAGQJGAAJAkYAEkCBkCSgAGQJGAA\\\n",
       "JAkYAEkCBkCSgAGQJGAAJAkYAEkCBkCSgAGQJGAAJAkYAEkCBkCSgAGQJGAAJAkYAEkCBkCSgAGQ\\\n",
       "JGAAJAkYAEkCBkCSgAGQJGAAJAkYAEkCBkCSgAGQJGAAJAkYAEkCBkCSgAGQJGAAJAkYAEkCBkCS\\\n",
       "gAGQJGAAJAkYAEkCBkCSgAGQJGAAJAkYAEkCBkCSgAGQJGAAJAkYAEkCBkCSgAGQJGAAJAkYAEkC\\\n",
       "BkCSgAGQJGAAJAkYAEkCBkCSgAGQJGAAJAkYAEkCBkCSgAGQJGAAJAkYAEkCBkCSgAGQJGAAJAkY\\\n",
       "AEkCBkCSgAGQJGAAJAkYAEkCBkCSgAGQJGAAJAkYAEkCBkCSgAGQJGAAJAkYAEkCBkCSgAGQJGAA\\\n",
       "JAkYAEnXWy8ALsnr8eGPr7/fP2+0Erh8dmAwyNt4AesSMACSBAxWZFcG6xEwAJIEDIAkAYNBTBzC\\\n",
       "XAIGQJKAAZAkYLAyk4iwDgEDIEnAYCCDHDCPgAGQJGAwgXMwGE/AAEgSMACSBAyAJAGDwUwiwhwC\\\n",
       "BpMY5ICxBAyAJAEDIEnAAEgSMFiBQQ5Yn4ABkCRgsJL3dmEmEWEcAQMgScAASBIwAJIEDIAkAYMV\\\n",
       "GeSA9QgYAEkCBhuwC4PzCRgASQIGQJKAAZAkYLAy/9gX1iFgACQJGGzEJCKcR8AASBIwAJIEDCYw\\\n",
       "yAHjCRgASQIGGzLIAZ8nYAAkCRgASQIGkxjkgLEEDIAkAYONGeSAzxEwAJIEDIAkAYOJDHLAOAIG\\\n",
       "QJKAwRdgkAM+TsAASBIwAJIEDCYzyAFjCBgASQIGX4RBDvgYAYMNuIwI5xMwAJIEDAY7HA4nfbzn\\\n",
       "9fhw8uP/9TtgLwQMgKTrrRcAe/fj5/3vz+9ujhuuBFoOy7IsWy8CLslHLu09Pr789b2np9uTH+/t\\\n",
       "y565hAhAkoDBF/PyfP//HwIEDLb09szr7uZ4dfvgHAxO4QwMBps53u7ty57tZgrRPTNcIq9rzlX+\\\n",
       "I2g3ASs/SbTYgcEczsAASBIwAJIEDIAkAQMgScAASBIwAJIEDICk3dwHBrO4NwvmsAMDIEnAAEgS\\\n",
       "MACSBAyAJAEDIEnAAEgSMACSBAyAJAEDIEnAAEgSMACSBAyAJAEDIEnAAEgSMACSBAyAJAEDIEnA\\\n",
       "AEgSMACSBAyAJAEDIEnAAEgSMACSBAyAJAEDIEnAAEgSMACSBAyAJAEDIEnAAEgSMACSBAyAJAED\\\n",
       "IEnAAEgSMACSBAyAJAEDIEnAAEgSMACSBAyAJAEDIEnAAEgSMACSBAyAJAEDIEnAAEgSMACSBAyA\\\n",
       "JAEDIEnAAEgSMACSBAyAJAEDIEnAAEgSMACSBAyAJAEDIEnAAEgSMACSBAyAJAEDIEnAAEgSMACS\\\n",
       "BAyAJAEDIEnAAEgSMACSBAyAJAEDIEnAAEgSMACSBAyAJAEDIEnAAEgSMACSBAyAJAEDIEnAAEgS\\\n",
       "MACSBAyAJAEDIOkXHxpWFvku6U8AAAAASUVORK5CYII=\\\n",
       "\"\n",
       "\n",
       "\n",
       "    /* set a timeout to make sure all the above elements are created before\n",
       "       the object is initialized. */\n",
       "    setTimeout(function() {\n",
       "        anim083e29d0a89844aca94c1aba28bebef1 = new Animation(frames, img_id, slider_id, 149.0,\n",
       "                                 loop_select_id);\n",
       "    }, 0);\n",
       "  })()\n",
       "</script>\n"
      ],
      "text/plain": [
       "<IPython.core.display.HTML object>"
      ]
     },
     "execution_count": 13,
     "metadata": {},
     "output_type": "execute_result"
    }
   ],
   "source": [
    "from IPython.display import HTML\n",
    "HTML(anim.to_jshtml())"
   ]
  },
  {
   "cell_type": "markdown",
   "metadata": {},
   "source": [
    "### または本の3_2節のように"
   ]
  },
  {
   "cell_type": "code",
   "execution_count": null,
   "metadata": {},
   "outputs": [],
   "source": [
    "from JSAnimation.IPython_display import display_animation\n",
    "from IPython.display import display"
   ]
  },
  {
   "cell_type": "code",
   "execution_count": null,
   "metadata": {},
   "outputs": [],
   "source": [
    "display(display_animation(anim, default_mode='loop'))"
   ]
  },
  {
   "cell_type": "markdown",
   "metadata": {},
   "source": [
    "### animをそのまま表示しても一応動くがなんか動作が変(?)"
   ]
  },
  {
   "cell_type": "code",
   "execution_count": null,
   "metadata": {},
   "outputs": [],
   "source": [
    "anim"
   ]
  },
  {
   "cell_type": "markdown",
   "metadata": {},
   "source": [
    "animでなくてfigで動き出すこともある(?)のが謎"
   ]
  },
  {
   "cell_type": "code",
   "execution_count": null,
   "metadata": {},
   "outputs": [],
   "source": [
    "fig"
   ]
  },
  {
   "cell_type": "markdown",
   "metadata": {},
   "source": [
    "# working example of animation on jupyter"
   ]
  },
  {
   "cell_type": "markdown",
   "metadata": {},
   "source": [
    "https://qiita.com/mittyantest/items/2ea07b0f8d5976f29da9\n",
    "\n",
    "をほんのちょっとだけ変更（renderの引数をなくした）"
   ]
  },
  {
   "cell_type": "markdown",
   "metadata": {},
   "source": [
    "途中で分割するとうまくいかない"
   ]
  },
  {
   "cell_type": "code",
   "execution_count": null,
   "metadata": {},
   "outputs": [],
   "source": [
    "import gym\n",
    "from matplotlib import animation\n",
    "from matplotlib import pyplot as plt\n",
    "%matplotlib nbagg\n",
    "\n",
    "env = gym.make('CartPole-v0')\n",
    "\n",
    "# Run a demo of the environment\n",
    "observation = env.reset()\n",
    "cum_reward = 0\n",
    "frames = []\n",
    "for t in range(5000):\n",
    "    # Render into buffer. \n",
    "    frames.append(env.render(mode = 'rgb_array'))\n",
    "    action = env.action_space.sample()\n",
    "    observation, reward, done, info = env.step(action)\n",
    "    if done:\n",
    "        break\n",
    "env.render()\n",
    "\n",
    "fig = plt.gcf()\n",
    "patch = plt.imshow(frames[0])\n",
    "plt.axis('off')\n",
    "\n",
    "def animate(i):\n",
    "    patch.set_data(frames[i])\n",
    "\n",
    "anim = animation.FuncAnimation(fig, animate, frames = len(frames), interval=50)\n",
    "anim"
   ]
  },
  {
   "cell_type": "markdown",
   "metadata": {},
   "source": [
    "# sandbox"
   ]
  },
  {
   "cell_type": "markdown",
   "metadata": {},
   "source": [
    "http://hirotaka-hachiya.hatenablog.com/entry/2018/05/28/185128"
   ]
  },
  {
   "cell_type": "code",
   "execution_count": null,
   "metadata": {},
   "outputs": [],
   "source": [
    "import numpy as np\n",
    "import matplotlib.pyplot as plt\n",
    "#%matplotlib inline\n",
    "import gym"
   ]
  },
  {
   "cell_type": "code",
   "execution_count": null,
   "metadata": {},
   "outputs": [],
   "source": [
    "%matplotlib nbagg"
   ]
  },
  {
   "cell_type": "code",
   "execution_count": null,
   "metadata": {},
   "outputs": [],
   "source": [
    "from matplotlib import animation"
   ]
  },
  {
   "cell_type": "code",
   "execution_count": null,
   "metadata": {},
   "outputs": [],
   "source": [
    "from IPython.display import display"
   ]
  },
  {
   "cell_type": "code",
   "execution_count": null,
   "metadata": {},
   "outputs": [],
   "source": [
    "env = gym.make('MountainCar-v0')"
   ]
  },
  {
   "cell_type": "code",
   "execution_count": null,
   "metadata": {},
   "outputs": [],
   "source": [
    "env.reset()"
   ]
  },
  {
   "cell_type": "code",
   "execution_count": null,
   "metadata": {},
   "outputs": [],
   "source": [
    "env.render()"
   ]
  },
  {
   "cell_type": "code",
   "execution_count": null,
   "metadata": {},
   "outputs": [],
   "source": [
    "%%bash \n",
    "git commit -a -m \"kinda figured out how to show animation on jupyter\""
   ]
  },
  {
   "cell_type": "code",
   "execution_count": null,
   "metadata": {},
   "outputs": [],
   "source": [
    "from pyglet.gl import *"
   ]
  },
  {
   "cell_type": "code",
   "execution_count": null,
   "metadata": {},
   "outputs": [],
   "source": [
    "%%bash\n",
    "git commit -a -m \"still puzzled by the mystery of opengym animation on jupyter\""
   ]
  },
  {
   "cell_type": "code",
   "execution_count": null,
   "metadata": {},
   "outputs": [],
   "source": []
  }
 ],
 "metadata": {
  "kernelspec": {
   "display_name": "Python [default]",
   "language": "python",
   "name": "python3"
  },
  "language_info": {
   "codemirror_mode": {
    "name": "ipython",
    "version": 3
   },
   "file_extension": ".py",
   "mimetype": "text/x-python",
   "name": "python",
   "nbconvert_exporter": "python",
   "pygments_lexer": "ipython3",
   "version": "3.5.4"
  },
  "toc": {
   "colors": {
    "hover_highlight": "#DAA520",
    "navigate_num": "#000000",
    "navigate_text": "#333333",
    "running_highlight": "#FF0000",
    "selected_highlight": "#FFD700",
    "sidebar_border": "#EEEEEE",
    "wrapper_background": "#FFFFFF"
   },
   "moveMenuLeft": true,
   "nav_menu": {
    "height": "207px",
    "width": "252px"
   },
   "navigate_menu": true,
   "number_sections": true,
   "sideBar": true,
   "threshold": 4,
   "toc_cell": false,
   "toc_section_display": "block",
   "toc_window_display": true,
   "widenNotebook": false
  }
 },
 "nbformat": 4,
 "nbformat_minor": 2
}
