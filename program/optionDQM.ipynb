{
 "cells": [
  {
   "cell_type": "code",
   "execution_count": null,
   "metadata": {},
   "outputs": [],
   "source": [
    "1+1"
   ]
  },
  {
   "cell_type": "code",
   "execution_count": 104,
   "metadata": {},
   "outputs": [
    {
     "name": "stdout",
     "output_type": "stream",
     "text": [
      "[master d0fee0f] checkpoint\n",
      " 1 file changed, 145 insertions(+), 165 deletions(-)\n"
     ]
    }
   ],
   "source": [
    "%%bash\n",
    "git commit -a -m \"checkpoint\""
   ]
  },
  {
   "cell_type": "code",
   "execution_count": null,
   "metadata": {},
   "outputs": [],
   "source": []
  },
  {
   "cell_type": "markdown",
   "metadata": {
    "toc": "true"
   },
   "source": [
    "# Table of Contents\n",
    " <p><div class=\"lev1 toc-item\"><a href=\"#パッケージのimport\" data-toc-modified-id=\"パッケージのimport-1\"><span class=\"toc-item-num\">1&nbsp;&nbsp;</span>パッケージのimport</a></div><div class=\"lev1 toc-item\"><a href=\"#namedtuple\" data-toc-modified-id=\"namedtuple-2\"><span class=\"toc-item-num\">2&nbsp;&nbsp;</span>namedtuple</a></div><div class=\"lev1 toc-item\"><a href=\"#定数の設定\" data-toc-modified-id=\"定数の設定-3\"><span class=\"toc-item-num\">3&nbsp;&nbsp;</span>定数の設定</a></div><div class=\"lev1 toc-item\"><a href=\"#経験を保存するメモリクラスを定義します\" data-toc-modified-id=\"経験を保存するメモリクラスを定義します-4\"><span class=\"toc-item-num\">4&nbsp;&nbsp;</span>経験を保存するメモリクラスを定義します</a></div><div class=\"lev2 toc-item\"><a href=\"#sandbox\" data-toc-modified-id=\"sandbox-41\"><span class=\"toc-item-num\">4.1&nbsp;&nbsp;</span>sandbox</a></div><div class=\"lev1 toc-item\"><a href=\"#brainstorming\" data-toc-modified-id=\"brainstorming-5\"><span class=\"toc-item-num\">5&nbsp;&nbsp;</span>brainstorming</a></div><div class=\"lev1 toc-item\"><a href=\"#define-model-class\" data-toc-modified-id=\"define-model-class-6\"><span class=\"toc-item-num\">6&nbsp;&nbsp;</span>define model class</a></div><div class=\"lev1 toc-item\"><a href=\"#Brain\" data-toc-modified-id=\"Brain-7\"><span class=\"toc-item-num\">7&nbsp;&nbsp;</span>Brain</a></div><div class=\"lev1 toc-item\"><a href=\"#Agent\" data-toc-modified-id=\"Agent-8\"><span class=\"toc-item-num\">8&nbsp;&nbsp;</span>Agent</a></div><div class=\"lev1 toc-item\"><a href=\"#pricer\" data-toc-modified-id=\"pricer-9\"><span class=\"toc-item-num\">9&nbsp;&nbsp;</span>pricer</a></div><div class=\"lev2 toc-item\"><a href=\"#class-version-zero\" data-toc-modified-id=\"class-version-zero-91\"><span class=\"toc-item-num\">9.1&nbsp;&nbsp;</span>class version zero</a></div><div class=\"lev1 toc-item\"><a href=\"#replacing-step()-and-state-initialization\" data-toc-modified-id=\"replacing-step()-and-state-initialization-10\"><span class=\"toc-item-num\">10&nbsp;&nbsp;</span>replacing step() and state initialization</a></div><div class=\"lev2 toc-item\"><a href=\"#sandbox\" data-toc-modified-id=\"sandbox-101\"><span class=\"toc-item-num\">10.1&nbsp;&nbsp;</span>sandbox</a></div><div class=\"lev1 toc-item\"><a href=\"#Environment改（大幅改修した）\" data-toc-modified-id=\"Environment改（大幅改修した）-11\"><span class=\"toc-item-num\">11&nbsp;&nbsp;</span>Environment改（大幅改修した）</a></div><div class=\"lev2 toc-item\"><a href=\"#Version-1\" data-toc-modified-id=\"Version-1-111\"><span class=\"toc-item-num\">11.1&nbsp;&nbsp;</span>Version 1</a></div><div class=\"lev3 toc-item\"><a href=\"#To-be-determined\" data-toc-modified-id=\"To-be-determined-1111\"><span class=\"toc-item-num\">11.1.1&nbsp;&nbsp;</span>To be determined</a></div><div class=\"lev3 toc-item\"><a href=\"#implementation\" data-toc-modified-id=\"implementation-1112\"><span class=\"toc-item-num\">11.1.2&nbsp;&nbsp;</span>implementation</a></div><div class=\"lev1 toc-item\"><a href=\"#predict\" data-toc-modified-id=\"predict-12\"><span class=\"toc-item-num\">12&nbsp;&nbsp;</span>predict</a></div><div class=\"lev1 toc-item\"><a href=\"#considerations\" data-toc-modified-id=\"considerations-13\"><span class=\"toc-item-num\">13&nbsp;&nbsp;</span>considerations</a></div><div class=\"lev1 toc-item\"><a href=\"#save-model\" data-toc-modified-id=\"save-model-14\"><span class=\"toc-item-num\">14&nbsp;&nbsp;</span>save model</a></div><div class=\"lev1 toc-item\"><a href=\"#load-model\" data-toc-modified-id=\"load-model-15\"><span class=\"toc-item-num\">15&nbsp;&nbsp;</span>load model</a></div><div class=\"lev2 toc-item\"><a href=\"#obsolete-below\" data-toc-modified-id=\"obsolete-below-151\"><span class=\"toc-item-num\">15.1&nbsp;&nbsp;</span>obsolete below</a></div><div class=\"lev1 toc-item\"><a href=\"#sandbox\" data-toc-modified-id=\"sandbox-16\"><span class=\"toc-item-num\">16&nbsp;&nbsp;</span>sandbox</a></div><div class=\"lev1 toc-item\"><a href=\"#参考（書籍のoriginal-Environment）\" data-toc-modified-id=\"参考（書籍のoriginal-Environment）-17\"><span class=\"toc-item-num\">17&nbsp;&nbsp;</span>参考（書籍のoriginal Environment）</a></div>"
   ]
  },
  {
   "cell_type": "markdown",
   "metadata": {},
   "source": [
    "\n",
    "** 5.3、5.4  PyTorchでDQN **"
   ]
  },
  {
   "cell_type": "markdown",
   "metadata": {},
   "source": [
    "# パッケージのimport"
   ]
  },
  {
   "cell_type": "code",
   "execution_count": 1,
   "metadata": {},
   "outputs": [],
   "source": [
    "import numpy as np\n",
    "import matplotlib.pyplot as plt\n",
    "%matplotlib inline\n",
    "import gym"
   ]
  },
  {
   "cell_type": "markdown",
   "metadata": {},
   "source": [
    "# namedtuple"
   ]
  },
  {
   "cell_type": "markdown",
   "metadata": {},
   "source": [
    "本コードでは、namedtupleを使用します。\n",
    "\n",
    "namedtupleを使うことで、値をフィールド名とペアで格納できます。\n",
    "\n",
    "すると値に対して、フィールド名でアクセスできて便利です。\n",
    "\n",
    "https://docs.python.jp/3/library/collections.html#collections.namedtuple\n",
    "\n",
    "以下は使用例です"
   ]
  },
  {
   "cell_type": "code",
   "execution_count": 2,
   "metadata": {},
   "outputs": [
    {
     "name": "stdout",
     "output_type": "stream",
     "text": [
      "tr(name_a='名前Aです', value_b=100)\n",
      "100\n"
     ]
    }
   ],
   "source": [
    "from collections import namedtuple\n",
    "\n",
    "Tr = namedtuple('tr', ('name_a', 'value_b'))\n",
    "Tr_object = Tr('名前Aです', 100)\n",
    "\n",
    "print(Tr_object)  # 出力：tr(name_a='名前Aです', value_b=100)\n",
    "print(Tr_object.value_b)  # 出力：100"
   ]
  },
  {
   "cell_type": "code",
   "execution_count": 3,
   "metadata": {},
   "outputs": [
    {
     "data": {
      "text/plain": [
       "'名前Aです'"
      ]
     },
     "execution_count": 3,
     "metadata": {},
     "output_type": "execute_result"
    }
   ],
   "source": [
    "Tr_object.name_a"
   ]
  },
  {
   "cell_type": "markdown",
   "metadata": {},
   "source": [
    "namedtupleを生成\n",
    "from collections import namedtuple\n",
    "\n",
    "Transition = namedtuple(\n",
    "    'Transition', ('s', 't', 'action', 'next_s' , \"next_t\", 'reward', 'done'))\n"
   ]
  },
  {
   "cell_type": "code",
   "execution_count": 4,
   "metadata": {},
   "outputs": [],
   "source": [
    "#namedtupleを生成\n",
    "from collections import namedtuple\n",
    "\n",
    "Transition = namedtuple(\n",
    "    'Transition', ('state', 'action', 'next_state', 'reward'))#,'done'))\n"
   ]
  },
  {
   "cell_type": "markdown",
   "metadata": {},
   "source": [
    "# 定数の設定"
   ]
  },
  {
   "cell_type": "code",
   "execution_count": 5,
   "metadata": {},
   "outputs": [],
   "source": [
    "spot_price = 127.62\n",
    "volatility = 0.20 # the historical vols or implied vols\n",
    "dividend_rate =  0.063\n",
    "risk_free_rate = 0.001\n",
    "maturity = 1\n",
    "dt = 0.1\n",
    "\n",
    "strike_price = 130\n",
    "\n",
    "#steps = 200\n",
    "pricer_steps = 100\n",
    "\n",
    "#dt = maturity / steps"
   ]
  },
  {
   "cell_type": "code",
   "execution_count": 6,
   "metadata": {},
   "outputs": [],
   "source": [
    "#ENV = 'CartPole-v0'  # 使用する課題名\n",
    "GAMMA = np.exp(-dt * risk_free_rate)  # 時間割引率\n",
    "MAX_STEPS = 200  # 1試行のstep数\n",
    "#NUM_EPISODES = 500  # 最大試行回数"
   ]
  },
  {
   "cell_type": "markdown",
   "metadata": {},
   "source": [
    "# 経験を保存するメモリクラスを定義します"
   ]
  },
  {
   "cell_type": "markdown",
   "metadata": {},
   "source": [
    "* 概ね書籍のままの実装でいけるはず（？）$\\Rightarrow$ doneを追加した$\\Rightarrow$やっぱりやめた。（終了判定の方を変更するほうが素直なため）\n",
    "* ただし、おそらくサンプル取得時に完全にランダムにしないで3項ツリー的な３つのnext stateをまとめてmini batfchに含めたほうがいいのではないかという気がする"
   ]
  },
  {
   "cell_type": "code",
   "execution_count": 7,
   "metadata": {},
   "outputs": [],
   "source": [
    "class ReplayMemory:\n",
    "\n",
    "    def __init__(self, CAPACITY):\n",
    "        self.capacity = CAPACITY  # メモリの最大長さ\n",
    "        self.memory = []  # 経験を保存する変数\n",
    "        self.index = 0  # 保存するindexを示す変数\n",
    "\n",
    "    def push(self, state, action, state_next, reward):# , done):\n",
    "        '''transition = (state, action, state_next, reward)をメモリに保存する'''\n",
    "\n",
    "        if len(self.memory) < self.capacity:\n",
    "            self.memory.append(None)  # メモリが満タンでないときは足す\n",
    "\n",
    "        # namedtupleのTransitionを使用し、値とフィールド名をペアにして保存します\n",
    "        self.memory[self.index] = Transition(state, action, state_next, reward)# , done)\n",
    "\n",
    "        self.index = (self.index + 1) % self.capacity  # 保存するindexを1つずらす\n",
    "\n",
    "    def sample(self, batch_size):\n",
    "        '''batch_size分だけ、ランダムに保存内容を取り出す'''\n",
    "        return random.sample(self.memory, batch_size)\n",
    "\n",
    "    def __len__(self):\n",
    "        '''関数lenに対して、現在の変数memoryの長さを返す'''\n",
    "        return len(self.memory)"
   ]
  },
  {
   "cell_type": "markdown",
   "metadata": {},
   "source": [
    "## sandbox"
   ]
  },
  {
   "cell_type": "code",
   "execution_count": null,
   "metadata": {},
   "outputs": [],
   "source": [
    "import random"
   ]
  },
  {
   "cell_type": "code",
   "execution_count": null,
   "metadata": {},
   "outputs": [],
   "source": [
    "tmp = ReplayMemory(3)"
   ]
  },
  {
   "cell_type": "code",
   "execution_count": null,
   "metadata": {},
   "outputs": [],
   "source": [
    "tmp.push(100,0.1, 0 , 101)#,  True)"
   ]
  },
  {
   "cell_type": "code",
   "execution_count": null,
   "metadata": {},
   "outputs": [],
   "source": [
    "tmp.sample(2)"
   ]
  },
  {
   "cell_type": "markdown",
   "metadata": {},
   "source": [
    "# brainstorming\n",
    "\n",
    "* 素直な実装ではnum_statesは２となる。（$S$および$t$）\n",
    "* brainもたぶん書籍のままの実装でいける？？\n"
   ]
  },
  {
   "cell_type": "markdown",
   "metadata": {},
   "source": [
    "# define model class"
   ]
  },
  {
   "cell_type": "code",
   "execution_count": 8,
   "metadata": {},
   "outputs": [],
   "source": [
    "import torch.nn as nn\n",
    "import torch.nn.functional as F\n",
    "\n",
    "\n",
    "class Net(nn.Module):\n",
    "\n",
    "    def __init__(self, num_states, num_actions):\n",
    "        super(Net, self).__init__()\n",
    "        #self.model = nn.Sequential()\n",
    "        self.fc1 =  nn.Linear(num_states, 144)\n",
    "        self.relu1 =  nn.ReLU()\n",
    "        self.fc3 =  nn.Linear(144, num_actions)\n",
    "\n",
    "    def forward(self, x):\n",
    "        # 入力xに合わせてforwardの計算を変えられる\n",
    "        h1 = self.relu1(self.fc1(x))\n",
    "        #h2 = F.relu(self.fc3(h1))\n",
    "        output = self.fc3(h1)\n",
    "        return output"
   ]
  },
  {
   "cell_type": "markdown",
   "metadata": {},
   "source": [
    "# Brain\n",
    "\n",
    "エージェントが持つ脳となるクラスです、DQNを実行します"
   ]
  },
  {
   "cell_type": "markdown",
   "metadata": {},
   "source": [
    "methodは\n",
    "\n",
    "* replay: Experience Replayでネットワークの結合パラメータを学習\n",
    "* decide_action: アクション決定"
   ]
  },
  {
   "cell_type": "markdown",
   "metadata": {},
   "source": [
    "Q関数をディープラーニングのネットワークをクラスとして定義"
   ]
  },
  {
   "cell_type": "code",
   "execution_count": 9,
   "metadata": {},
   "outputs": [],
   "source": [
    "import random\n",
    "import torch\n",
    "from torch import nn\n",
    "from torch import optim\n",
    "import torch.nn.functional as F\n",
    "\n",
    "BATCH_SIZE = 32\n",
    "CAPACITY = 10000"
   ]
  },
  {
   "cell_type": "markdown",
   "metadata": {},
   "source": [
    "* もともと次がdoneの場合は学習に使っていない.?と思ったがそんなことはなかった。\n",
    "* そのままだと学習が正しく進むわけがないので修正していく、というのは勘違いでここはいじらなくてよかった。"
   ]
  },
  {
   "cell_type": "code",
   "execution_count": 106,
   "metadata": {},
   "outputs": [],
   "source": [
    "class Brain:\n",
    "    def __init__(self, num_states, num_actions):\n",
    "        self.num_actions = num_actions  # CartPoleの行動（右に左に押す）の2を取得\n",
    "\n",
    "        # 経験を記憶するメモリオブジェクトを生成\n",
    "        self.memory = ReplayMemory(CAPACITY)\n",
    "\n",
    "        # ニューラルネットワークを構築\n",
    "        if True:\n",
    "            self.model = Net(num_states, num_actions)\n",
    "        else:\n",
    "            self.model = nn.Sequential()\n",
    "            self.model.add_module('fc1', nn.Linear(num_states, 144))\n",
    "            self.model.add_module('relu1', nn.ReLU())\n",
    "            if True:\n",
    "                self.model.add_module('fc2', nn.Linear(144, 144))\n",
    "                self.model.add_module('relu2', nn.ReLU())\n",
    "            self.model.add_module('fc3', nn.Linear(144, num_actions))\n",
    "\n",
    "        print(self.model)  # ネットワークの形を出力\n",
    "        print(list(self.model.parameters()))\n",
    "\n",
    "        # 最適化手法の設定\n",
    "        self.optimizer = optim.Adam(self.model.parameters(), lr=0.0001)\n",
    "\n",
    "    def replay(self):\n",
    "        '''Experience Replayでネットワークの結合パラメータを学習'''\n",
    "\n",
    "        # -----------------------------------------\n",
    "        # 1. メモリサイズの確認\n",
    "        # -----------------------------------------\n",
    "        # 1.1 メモリサイズがミニバッチより小さい間は何もしない\n",
    "        #print(\"memory .size : {}\".format(len(self.memory)))\n",
    "        if len(self.memory) < BATCH_SIZE:\n",
    "            return\n",
    "\n",
    "        # -----------------------------------------\n",
    "        # 2. ミニバッチの作成\n",
    "        # -----------------------------------------\n",
    "        # 2.1 メモリからミニバッチ分のデータを取り出す\n",
    "        transitions = self.memory.sample(BATCH_SIZE)\n",
    "\n",
    "        # 2.2 各変数をミニバッチに対応する形に変形\n",
    "        # transitionsは1stepごとの(state, action, state_next, reward)が、BATCH_SIZE分格納されている\n",
    "        # つまり、(state, action, state_next, reward)×BATCH_SIZE\n",
    "        # これをミニバッチにしたい。つまり\n",
    "        # (state×BATCH_SIZE, action×BATCH_SIZE, state_next×BATCH_SIZE, reward×BATCH_SIZE)にする\n",
    "        batch = Transition(*zip(*transitions))\n",
    "\n",
    "        # 2.3 各変数の要素をミニバッチに対応する形に変形し、ネットワークで扱えるようVariableにする\n",
    "        # 例えばstateの場合、[torch.FloatTensor of size 1x4]がBATCH_SIZE分並んでいるのですが、\n",
    "        # それを torch.FloatTensor of size BATCH_SIZEx4 に変換します\n",
    "        # 状態、行動、報酬、non_finalの状態のミニバッチのVariableを作成\n",
    "        # catはConcatenates（結合）のことです。\n",
    "        state_batch = torch.cat(batch.state)\n",
    "        action_batch = torch.cat(batch.action)\n",
    "        reward_batch = torch.cat(batch.reward)\n",
    "        #done_batch = torch.cat(batch.done)\n",
    "        all_final = (len([s for s in batch.next_state if s is not None]) == 0)\n",
    "        if not all_final:\n",
    "        #try\n",
    "            non_final_next_states = torch.cat([s for s in batch.next_state\n",
    "                                           if s is not None])\n",
    "        #except:\n",
    "        #    print()\n",
    "\n",
    "        # -----------------------------------------\n",
    "        # 3. 教師信号となるQ(s_t, a_t)値を求める\n",
    "        # -----------------------------------------\n",
    "        # 3.1 ネットワークを推論モードに切り替える\n",
    "        self.model.eval()\n",
    "\n",
    "        # 3.2 ネットワークが出力したQ(s_t, a_t)を求める\n",
    "        # self.model(state_batch)は、右左の両方のQ値を出力しており\n",
    "        # [torch.FloatTensor of size BATCH_SIZEx2]になっている。\n",
    "        # ここから実行したアクションa_tに対応するQ値を求めるため、action_batchで行った行動a_tが右か左かのindexを求め\n",
    "        # それに対応するQ値をgatherでひっぱり出す。\n",
    "        state_action_values = self.model(state_batch).gather(1, action_batch)\n",
    "\n",
    "        # 3.3 max{Q(s_t+1, a)}値を求める。ただし次の状態があるかに注意。\n",
    "        # まずは全部0にしておく\n",
    "        next_state_values = torch.zeros(BATCH_SIZE)\n",
    "        \n",
    "        if not all_final:\n",
    "            # cartpoleがdoneになっておらず、next_stateがあるかをチェックするインデックスマスクを作成\n",
    "            non_final_mask = torch.ByteTensor(tuple(map(lambda s: s is not None,\n",
    "                                                        batch.next_state)))\n",
    "\n",
    "\n",
    "            # 次の状態があるindexの最大Q値を求める\n",
    "            # 出力にアクセスし、max(1)で列方向の最大値の[値、index]を求めます\n",
    "            # そしてそのQ値（index=0）を出力します\n",
    "            # detachでその値を取り出します\n",
    "            next_state_values[non_final_mask] = self.model(\n",
    "                non_final_next_states).max(1)[0].detach()\n",
    "\n",
    "        # 3.4 教師となるQ(s_t, a_t)値を、Q学習の式から求める\n",
    "        expected_state_action_values = reward_batch + GAMMA * next_state_values\n",
    "\n",
    "        # -----------------------------------------\n",
    "        # 4. 結合パラメータの更新\n",
    "        # -----------------------------------------\n",
    "        # 4.1 ネットワークを訓練モードに切り替える\n",
    "        self.model.train()\n",
    "\n",
    "        # 4.2 損失関数を計算する（smooth_l1_lossはHuberloss）\n",
    "        # expected_state_action_valuesは\n",
    "        # sizeが[minbatch]になっているので、unsqueezeで[minibatch x 1]へ\n",
    "        loss = F.smooth_l1_loss(state_action_values,\n",
    "                                expected_state_action_values.unsqueeze(1))\n",
    "\n",
    "        # 4.3 結合パラメータを更新する\n",
    "        self.optimizer.zero_grad()  # 勾配をリセット\n",
    "        loss.backward()  # バックプロパゲーションを計算\n",
    "        self.optimizer.step()  # 結合パラメータを更新\n",
    "\n",
    "    def decide_action(self, state, episode):\n",
    "        '''現在の状態に応じて、行動を決定する'''\n",
    "        # ε-greedy法で徐々に最適行動のみを採用する\n",
    "        epsilon = 0.5 * (1 / (episode + 1))\n",
    "\n",
    "        if epsilon <= np.random.uniform(0, 1):\n",
    "            self.model.eval()  # ネットワークを推論モードに切り替える\n",
    "            with torch.no_grad():\n",
    "                action = self.model(state).max(1)[1].view(1, 1)\n",
    "            # ネットワークの出力の最大値のindexを取り出します = max(1)[1]\n",
    "            # .view(1,1)は[torch.LongTensor of size 1]　を size 1x1 に変換します\n",
    "\n",
    "        else:\n",
    "            # 0,1の行動をランダムに返す\n",
    "            action = torch.LongTensor(\n",
    "                [[random.randrange(self.num_actions)]])  # 0,1の行動をランダムに返す\n",
    "            # actionは[torch.LongTensor of size 1x1]の形になります\n",
    "\n",
    "        return action"
   ]
  },
  {
   "cell_type": "markdown",
   "metadata": {},
   "source": [
    "# Agent\n",
    "CartPoleで動くエージェントクラスです、棒付き台車そのものになります\n",
    "\n",
    "methodは\n",
    "\n",
    "\n",
    "* 行動価値Qを更新\n",
    "*  状態を与えると行動を決定\n",
    "*  状態、選択するアクション、次の状態、報酬などを記憶"
   ]
  },
  {
   "cell_type": "code",
   "execution_count": 107,
   "metadata": {},
   "outputs": [],
   "source": [
    "class Agent:\n",
    "    def __init__(self, num_states, num_actions):\n",
    "        '''課題の状態と行動の数を設定する'''\n",
    "        self.brain = Brain(num_states, num_actions)  # エージェントが行動を決定するための頭脳を生成\n",
    "\n",
    "    def update_q_function(self):\n",
    "        '''Q関数を更新する'''\n",
    "        self.brain.replay()\n",
    "\n",
    "    def get_action(self, state, episode):\n",
    "        '''行動を決定する'''\n",
    "        action = self.brain.decide_action(state, episode)\n",
    "        return action\n",
    "\n",
    "    def memorize(self, state, action, state_next, reward): #, done):\n",
    "        '''memoryオブジェクトに、state, action, state_next, rewardの内容を保存する'''\n",
    "        self.brain.memory.push(state, action, state_next, reward)# , done)"
   ]
  },
  {
   "cell_type": "markdown",
   "metadata": {},
   "source": [
    "# pricer"
   ]
  },
  {
   "cell_type": "code",
   "execution_count": 108,
   "metadata": {},
   "outputs": [],
   "source": [
    "import QuantLib as ql "
   ]
  },
  {
   "cell_type": "markdown",
   "metadata": {},
   "source": [
    "## class version zero"
   ]
  },
  {
   "cell_type": "code",
   "execution_count": 109,
   "metadata": {},
   "outputs": [],
   "source": [
    "class cl_call:\n",
    "    def price(self , spot_price, strike_price, maturity , is_american = True):\n",
    "        if maturity <= 0:\n",
    "            exercise_value = np.max([0 , spot_price - strike_price])\n",
    "            return (exercise_value)\n",
    "        dummy_strike = strike_price / spot_price\n",
    "        \n",
    "\n",
    "        option_type = ql.Option.Call\n",
    "        payoff = ql.PlainVanillaPayoff(option_type, dummy_strike)\n",
    "        \n",
    "        maturity_date = self.calculation_date + int(365.0 * maturity)\n",
    "        settlement = self.calculation_date\n",
    "        if is_american:\n",
    "            run_exercise = ql.AmericanExercise(settlement, maturity_date)\n",
    "        else:\n",
    "            run_exercise = ql.EuropeanExercise(maturity_date)\n",
    "                \n",
    "        \n",
    "        american_option = ql.VanillaOption(payoff, run_exercise)\n",
    "        if is_american:\n",
    "            american_option.setPricingEngine(self.binomial_engine)\n",
    "        else:\n",
    "\n",
    "            american_option.setPricingEngine(ql.AnalyticEuropeanEngine(self.bsm_process))\n",
    "                \n",
    "        ql.Settings.instance().evaluationDate = self.calculation_date\n",
    "\n",
    "        return (american_option.NPV() * spot_price)\n",
    "        \n",
    "\n",
    "    def __init__(self , volatility , dividend_rate , risk_free_rate  ,steps):\n",
    "        day_count = ql.Actual365Fixed()\n",
    "        #calendar = ql.UnitedStates()\n",
    "        calendar = ql.Japan()\n",
    "        self.calculation_date = ql.Date(8, 5, 2015)\n",
    "        dummy_spot = 1\n",
    "        \n",
    "        self.spot_handle = ql.QuoteHandle(ql.SimpleQuote(1.0))\n",
    "\n",
    "        ql.Settings.instance().evaluationDate = self.calculation_date\n",
    "\n",
    "\n",
    "        self.flat_ts = ql.YieldTermStructureHandle(\n",
    "            ql.FlatForward(self.calculation_date, risk_free_rate, day_count)\n",
    "        )\n",
    "\n",
    "        self.dividend_yield = ql.YieldTermStructureHandle(\n",
    "            ql.FlatForward(self.calculation_date, dividend_rate, day_count)\n",
    "        )\n",
    "\n",
    "        #### volatility\n",
    "\n",
    "        self.flat_vol_ts = ql.BlackVolTermStructureHandle(\n",
    "            ql.BlackConstantVol(self.calculation_date, calendar, volatility, day_count)\n",
    "        )\n",
    "\n",
    "        #### BS framework\n",
    "\n",
    "        self.bsm_process = ql.BlackScholesMertonProcess(self.spot_handle, \n",
    "                                                   self.dividend_yield, \n",
    "                                                   self.flat_ts, \n",
    "                                                   self.flat_vol_ts)\n",
    "\n",
    "\n",
    "        self.binomial_engine = ql.BinomialVanillaEngine(self.bsm_process, \"crr\", steps)\n",
    "        \n",
    "\n"
   ]
  },
  {
   "cell_type": "code",
   "execution_count": 110,
   "metadata": {},
   "outputs": [],
   "source": [
    "am_call = cl_call(volatility ,  dividend_rate ,  risk_free_rate , pricer_steps)"
   ]
  },
  {
   "cell_type": "code",
   "execution_count": 111,
   "metadata": {},
   "outputs": [
    {
     "data": {
      "text/plain": [
       "6.431300819558227"
      ]
     },
     "execution_count": 111,
     "metadata": {},
     "output_type": "execute_result"
    }
   ],
   "source": [
    "am_call.price(spot_price, strike_price, maturity)"
   ]
  },
  {
   "cell_type": "code",
   "execution_count": 26,
   "metadata": {},
   "outputs": [
    {
     "data": {
      "text/plain": [
       "29.999999999999993"
      ]
     },
     "execution_count": 26,
     "metadata": {},
     "output_type": "execute_result"
    }
   ],
   "source": [
    "am_call.price(130 , 100, 0.1 , True)"
   ]
  },
  {
   "cell_type": "code",
   "execution_count": 27,
   "metadata": {},
   "outputs": [
    {
     "data": {
      "text/plain": [
       "29.2046218778254"
      ]
     },
     "execution_count": 27,
     "metadata": {},
     "output_type": "execute_result"
    }
   ],
   "source": [
    "am_call.price(130 , 100 , 0.1,  False)"
   ]
  },
  {
   "cell_type": "code",
   "execution_count": 20,
   "metadata": {},
   "outputs": [
    {
     "data": {
      "text/plain": [
       "29.999999999999993"
      ]
     },
     "execution_count": 20,
     "metadata": {},
     "output_type": "execute_result"
    }
   ],
   "source": [
    "am_call.price(130 , 100 , 0.1 , True)"
   ]
  },
  {
   "cell_type": "markdown",
   "metadata": {},
   "source": [
    "# replacing step() and state initialization\n",
    "\n",
    "* initializationをどうするかな・・\n"
   ]
  },
  {
   "cell_type": "code",
   "execution_count": null,
   "metadata": {},
   "outputs": [],
   "source": [
    "1+1"
   ]
  },
  {
   "cell_type": "code",
   "execution_count": 112,
   "metadata": {},
   "outputs": [],
   "source": [
    "class  decision2next_state:\n",
    "    \n",
    "    def __init__(self ,  S0_floor , S0_cap , is_S0_uniform ,  volatility , dividend_rate , risk_free_rate  , dt , Maturity, Strike):\n",
    "        self.S0_floor = S0_floor\n",
    "        self.S0_cap = S0_cap\n",
    "        self.is_S0_uniform = is_S0_uniform\n",
    "        self.volatility = volatility\n",
    "        self.dividend_rate = dividend_rate\n",
    "        self.risk_free_rate = risk_free_rate\n",
    "        self.dt = dt\n",
    "        self.Maturity = Maturity\n",
    "        \n",
    "        self.barbeta_dt = (risk_free_rate - dividend_rate - volatility**2 * 0.5) * dt\n",
    "        self.sd = volatility * np.sqrt(dt)\n",
    "        self.pricer = cl_call(volatility ,  dividend_rate ,  risk_free_rate , steps = 100)\n",
    "        self.K = Strike\n",
    "    \n",
    "    def reset(self):\n",
    "        T0 = 0    \n",
    "        #from IPython.core.debugger import Pdb; Pdb().set_trace()\n",
    "        #state0 = np.array([self.S0 , T0])\n",
    "        \n",
    "        \n",
    "        if self.is_S0_uniform:\n",
    "            #state0 = np.array([self.S0_floor + np.random.rand() * (self.S0_cap - self.S0_floor) , T0])\n",
    "            run_S0 = self.S0_floor + np.random.rand() * (self.S0_cap - self.S0_floor)\n",
    "     \n",
    "        else:\n",
    "            #state0 = np.array([self.S0_floor * np.power(self.S0_cap / self.S0_floor ,  np.random.rand()) , T0])\n",
    "            run_S0 = self.S0_floor * np.power(self.S0_cap / self.S0_floor ,  np.random.rand())\n",
    "            \n",
    "            \n",
    "        run_european_value = self.pricer.price(run_S0, self.K , self.Maturity - T0)\n",
    "        state0 = np.array([run_S0 , T0 , run_european_value])\n",
    " \n",
    "        return state0\n",
    "        \n",
    "    \n",
    "    def step(self , state , action):\n",
    "             #stateはtorch.tensor torch.Size([1, 2])\n",
    "               \n",
    "            #next_state = state.clone()\n",
    "            S = state[0][0].item()\n",
    "            T = state[0][1].item()    \n",
    "            T_next = T + self.dt\n",
    "            S_return = self.barbeta_dt + self.sd * np.random.randn()  \n",
    "            \n",
    "            S_next = S * np.exp(S_return)\n",
    "            \n",
    "            european_value_next = self.pricer.price(S_next , self.K , self.Maturity - T_next)\n",
    "            state_next =np.array([S_next , T_next , european_value_next])\n",
    "\n",
    "            done = (action == 1) or (T >= self.Maturity) \n",
    "            if done:\n",
    "                S_next = None\n",
    "            return state_next , done\n",
    "    "
   ]
  },
  {
   "cell_type": "markdown",
   "metadata": {},
   "source": [
    "## sandbox"
   ]
  },
  {
   "cell_type": "code",
   "execution_count": 33,
   "metadata": {},
   "outputs": [],
   "source": [
    "my_stepper = decision2next_state(spot_price / 10 , spot_price * 10, True, volatility , dividend_rate , risk_free_rate , 0.1 , 1 , 100)"
   ]
  },
  {
   "cell_type": "code",
   "execution_count": 34,
   "metadata": {},
   "outputs": [],
   "source": [
    "tmp_state = torch.Tensor(np.array([[100 , 0, 10]]))"
   ]
  },
  {
   "cell_type": "markdown",
   "metadata": {},
   "source": [
    "tmp_state = np.array([100,0])"
   ]
  },
  {
   "cell_type": "code",
   "execution_count": null,
   "metadata": {},
   "outputs": [],
   "source": [
    "type(tmp_state)"
   ]
  },
  {
   "cell_type": "code",
   "execution_count": 35,
   "metadata": {},
   "outputs": [
    {
     "data": {
      "text/plain": [
       "(array([88.54481142,  0.1       ,  1.76259521]), False)"
      ]
     },
     "execution_count": 35,
     "metadata": {},
     "output_type": "execute_result"
    }
   ],
   "source": [
    "my_stepper.step(tmp_state , 0)"
   ]
  },
  {
   "cell_type": "code",
   "execution_count": null,
   "metadata": {},
   "outputs": [],
   "source": [
    "my_stepper.reset()"
   ]
  },
  {
   "cell_type": "markdown",
   "metadata": {},
   "source": [
    "# Environment改（大幅改修した）\n",
    "CartPoleを実行する環境のクラスです\n",
    "\n",
    "* for loopは二重になっている\n",
    "* 外側のループはEPISODEに関して\n",
    "    * Episode = 試行：一回ポールを立てて倒れるか200ステップ経過するまでを１エピソードと数える\n",
    "    * 内側のループはステップに関して\n",
    "        * 初期状態のBrainを使って、1ステップ目から左右にコントロールしていくことからスタート\n",
    "        * 各ステップごとに状態と遷移を記録する。\n",
    "        * 同様に各ステップごとに行動価値関数をアップデートしていく\n",
    "    * 10エピソード連続で200ステップまで持ちこたえられたら成功\n",
    "    "
   ]
  },
  {
   "cell_type": "markdown",
   "metadata": {},
   "source": [
    "## Version 1\n",
    "* まずはMCパスを発生させて、episode $\\approx$ pathであるような形でやってみよう\n",
    "* 後々、MCパスはtrinomial tree上のみを推移するようにするかもしれないが、ここでは素直にMCパスを普通に発生させてみよう\n",
    "    * MCパス発生はquantlibにやらせてもいいが自分で実装してしまってもいいかな\n",
    "* env.stepを\n",
    "```\n",
    " 1 time step推進\n",
    "```\n",
    "に置き換える。\n",
    "\n",
    "\n",
    "### To be determined\n",
    "* QLはここに取り込む？ $\\Rightarrow$ maybe yes\n",
    "* MCもここで？ $\\Rightarrow$ maybe yes\n",
    "    * gymの場合は時間推進はgymが面倒見てくれていた。そのgymはEnvironmentクラスのメンバーになっている。\n",
    "* 書籍にあったような20回連続でみたいな終了判定基準はもはや適切ではない。ではどのような終了判定基準が良いか\n",
    "```\n",
    "現状では正解がわかっているのでいろいろズルをしよう。例えば、10パス連続で最適行使の判定を正解できたときetc\n",
    "```\n",
    "* reward設計\n",
    "```\n",
    "行使した場合にはrewardを払って行動価値関数がゼロのnext stateに飛ぶ\n",
    "```\n",
    "とする."
   ]
  },
  {
   "cell_type": "markdown",
   "metadata": {},
   "source": [
    "### implementation"
   ]
  },
  {
   "cell_type": "code",
   "execution_count": null,
   "metadata": {},
   "outputs": [],
   "source": [
    "np.random.randn()"
   ]
  },
  {
   "cell_type": "markdown",
   "metadata": {},
   "source": [
    "import QuantLib as ql "
   ]
  },
  {
   "cell_type": "code",
   "execution_count": null,
   "metadata": {},
   "outputs": [],
   "source": [
    "1 != 1"
   ]
  },
  {
   "cell_type": "code",
   "execution_count": 135,
   "metadata": {},
   "outputs": [],
   "source": [
    "class myEnvironment:\n",
    "\n",
    "    def __init__(self, S0_floor , S0_cap , is_S0_uniform , vol , q , r , K , T , dt ,pricer_steps):\n",
    "        #self.env = gym.make(ENV)  # 実行する課題を設定\n",
    "        self.S0_floor = S0_floor\n",
    "        self.S0_cap = S0_cap\n",
    "        self.is_S0_uniform = is_S0_uniform\n",
    "        self.vol = vol\n",
    "        self.q = q\n",
    "        self.r = r\n",
    "        self.K = K\n",
    "        self.T = T\n",
    "        self.dt = dt\n",
    "        self.stepper = decision2next_state(S0_floor , S0_cap , is_S0_uniform , vol , q , r , dt, T , K)\n",
    "        \n",
    "        num_states = 3# S,  t , and european option value\n",
    "        num_actions = 2 # exercise or hold \n",
    "        self.agent = Agent(num_states, num_actions)  # 環境内で行動するAgentを生成\n",
    "        self.pricer = cl_call(vol ,  q ,  r , steps = pricer_steps)\n",
    "\n",
    "        \n",
    "    def run(self , n_episodes , is_silent = False):\n",
    "        '''実行'''\n",
    "        episode_10_list = np.zeros(10)  # 10試行分の立ち続けたstep数を格納し、平均ステップ数を出力に利用\n",
    "        #complete episodesを終了条件にするのはもはや適切ではない\n",
    "        complete_episodes = 0  # 195step以上連続で立ち続けた試行数\n",
    "        episode_final = False  # 最後の試行フラグ\n",
    "        frames = []  # 最後の試行を動画にするために画像を格納する変数\n",
    "\n",
    "        for episode in range(n_episodes):  # 最大試行数分繰り返す\n",
    "            #observation = self.env.reset()  # 環境の初期化\n",
    "            observation = self.stepper.reset()\n",
    "            run_percent = int(episode * 100 / n_episodes)\n",
    "            if run_percent != int((episode -1) * 100 / n_episodes):              \n",
    "                \n",
    "                print(\"finished {} percent ({} / {})\".format(run_percent , episode , n_episodes))\n",
    "                #print(\"finished {} episodes\".format(episode))\n",
    "\n",
    "            state = observation  # 観測をそのまま状態sとして使用\n",
    "            if True:\n",
    "                #print(type(state))\n",
    "                state = torch.from_numpy(state).type(torch.FloatTensor)  # NumPy変数をPyTorchのテンソルに変換\n",
    "                state = torch.unsqueeze(state, 0)  # size 4をsize 1x4に変換\n",
    "\n",
    "            for step in range(MAX_STEPS):  # 1エピソードのループ\n",
    "\n",
    "                action = self.agent.get_action(state, episode)  # 行動を求める。\n",
    "                ### * episodeを食わせるのはQ学習の定義を見れば納得できる。ここは書籍のままの\n",
    "        \n",
    "                \n",
    "                # 行動a_tの実行により、s_{t+1}とdoneフラグを求める\n",
    "                # actionから.item()を指定して、中身を取り出す\n",
    " \n",
    "                observation_next , done = self.stepper.step(state , action.item())\n",
    "                #print(\"done is {}\".format(done))\n",
    "\n",
    "                # 報酬を与える。さらにepisodeの終了評価と、state_nextを設定する\n",
    "                if done:  # ステップ数が200経過するか、一定角度以上傾くとdoneはtrueになる\n",
    "                    state_next = None  # 次の状態はないので、Noneを格納\n",
    "       \n",
    "\n",
    "                    # 直近10episodeの立てたstep数リストに追加\n",
    "                    episode_10_list = np.hstack(\n",
    "                        (episode_10_list[1:], step + 1))\n",
    "                    if True:\n",
    "                        exercise_value = state[0][0].item() - self.K   \n",
    "                        if state[0][1].item() >= self.T:\n",
    "                            exercise_value = np.max([exercise_value , 0.0])\n",
    "                        \n",
    "                        reward = torch.FloatTensor([exercise_value]) \n",
    "                        complete_episodes = complete_episodes + 1  ## * 暫定的な処理\n",
    "                    \n",
    "\n",
    "                else:\n",
    "                    reward = torch.FloatTensor([0.0])  # 普段は報酬0\n",
    "                    state_next = observation_next  # 観測をそのまま状態とする\n",
    "                    if True:\n",
    "                        state_next = torch.from_numpy(state_next).type(\n",
    "                        torch.FloatTensor)  # numpy変数をPyTorchのテンソルに変換\n",
    "                        state_next = torch.unsqueeze(state_next, 0)  # size 4をsize 1x4に変換\n",
    "\n",
    "                # メモリに経験を追加\n",
    "                self.agent.memorize(state, action, state_next, reward)\n",
    "\n",
    "                # Experience ReplayでQ関数を更新する\n",
    "                if True:\n",
    "                    self.agent.update_q_function()\n",
    "                else:\n",
    "                    try:\n",
    "                        self.agent.update_q_function()\n",
    "                    except:\n",
    "                        print(\"something is wrong\")\n",
    "                        break\n",
    "\n",
    "\n",
    "\n",
    "                # 終了時の処理\n",
    "                if done:\n",
    "                    #print('%d Episode: Finished after %d steps：10試行の平均step数 = %.1lf' % (\n",
    "                    #    episode, step + 1, episode_10_list.mean()))\n",
    "                    #print(\"exercise value is {}\".format(exercise_value))\n",
    "                    #print(type(state))\n",
    "\n",
    "                    error = exercise_value - self.pricer.price(state[0][0].item(), self.K , self.T - state[0][1].item())\n",
    "                    if not is_silent:\n",
    "                        print(\"S : {:.2f} / t : {:.2f} / exercise value : {:.2f} / error : {:.2f}\".format(state[0][0].item() , state[0][1].item() , exercise_value , error))\n",
    "                    break\n",
    "                    ## ** error \n",
    "                                # 観測の更新\n",
    "                state = state_next\n",
    "            if episode_final:\n",
    "                break\n",
    "\n",
    "            # 10連続で200step経ち続けたら成功\n",
    "            if complete_episodes >= n_episodes:\n",
    "                #print('10回連続成功')\n",
    "                episode_final = True  # 次の試行を描画を行う最終試行とする"
   ]
  },
  {
   "cell_type": "code",
   "execution_count": 151,
   "metadata": {},
   "outputs": [
    {
     "name": "stdout",
     "output_type": "stream",
     "text": [
      "Net(\n",
      "  (fc1): Linear(in_features=3, out_features=144, bias=True)\n",
      "  (relu1): ReLU()\n",
      "  (fc3): Linear(in_features=144, out_features=2, bias=True)\n",
      ")\n",
      "[Parameter containing:\n",
      "tensor([[-0.3761,  0.5695, -0.1348],\n",
      "        [-0.3626, -0.3779, -0.1090],\n",
      "        [ 0.1796,  0.1287, -0.4387],\n",
      "        [-0.4576, -0.4229,  0.1817],\n",
      "        [ 0.2239, -0.0811, -0.4953],\n",
      "        [ 0.2968,  0.4015, -0.3374],\n",
      "        [-0.0187,  0.0644, -0.3520],\n",
      "        [-0.3449,  0.0934,  0.3213],\n",
      "        [ 0.4268,  0.5284, -0.1871],\n",
      "        [ 0.4684,  0.3180, -0.2807],\n",
      "        [-0.0085, -0.2483, -0.5176],\n",
      "        [-0.2669, -0.4681,  0.3551],\n",
      "        [ 0.1636,  0.3045, -0.3978],\n",
      "        [ 0.1426,  0.5157,  0.4890],\n",
      "        [ 0.3997, -0.4091,  0.1927],\n",
      "        [ 0.2618, -0.1001, -0.1633],\n",
      "        [-0.1727,  0.0399,  0.3051],\n",
      "        [-0.3330, -0.0648,  0.1046],\n",
      "        [-0.3635, -0.1112, -0.4661],\n",
      "        [-0.4579,  0.0345,  0.2034],\n",
      "        [ 0.3758,  0.1767,  0.2574],\n",
      "        [ 0.2750, -0.2000,  0.0494],\n",
      "        [-0.3246, -0.2561,  0.4039],\n",
      "        [-0.1858, -0.3829, -0.4986],\n",
      "        [ 0.2085, -0.5012, -0.1069],\n",
      "        [ 0.2358, -0.4662, -0.4589],\n",
      "        [-0.3495,  0.1598,  0.1919],\n",
      "        [-0.5765,  0.1128,  0.4123],\n",
      "        [ 0.1791, -0.4365,  0.2896],\n",
      "        [ 0.5471, -0.5647, -0.1420],\n",
      "        [ 0.4930,  0.2269,  0.2820],\n",
      "        [ 0.2569, -0.1027, -0.5374],\n",
      "        [ 0.4927,  0.4000,  0.1305],\n",
      "        [-0.0637, -0.1392, -0.5456],\n",
      "        [ 0.0954,  0.5670,  0.4670],\n",
      "        [-0.0787, -0.0012,  0.3207],\n",
      "        [ 0.2410, -0.0873, -0.5465],\n",
      "        [-0.3484,  0.3385, -0.1569],\n",
      "        [-0.1970, -0.2582, -0.2832],\n",
      "        [ 0.0056,  0.1939,  0.2832],\n",
      "        [ 0.0283,  0.1354,  0.5121],\n",
      "        [-0.5658,  0.0674,  0.1524],\n",
      "        [-0.4437,  0.4072, -0.2193],\n",
      "        [-0.2536,  0.2788,  0.4117],\n",
      "        [-0.4082,  0.4682, -0.4823],\n",
      "        [ 0.0526,  0.3754, -0.2966],\n",
      "        [ 0.2259, -0.3688, -0.3706],\n",
      "        [ 0.2916,  0.0742,  0.2735],\n",
      "        [ 0.4642, -0.0348,  0.3422],\n",
      "        [-0.5541,  0.2710, -0.3002],\n",
      "        [ 0.1488,  0.3708,  0.3107],\n",
      "        [-0.4051,  0.4562,  0.2461],\n",
      "        [-0.5477,  0.5245,  0.5316],\n",
      "        [ 0.4630, -0.1969,  0.5150],\n",
      "        [ 0.1649,  0.1409,  0.5289],\n",
      "        [ 0.5641,  0.3304,  0.0203],\n",
      "        [ 0.0217, -0.3385,  0.0162],\n",
      "        [ 0.5234,  0.0046,  0.0079],\n",
      "        [ 0.3460,  0.5773, -0.1279],\n",
      "        [-0.2700,  0.4924,  0.1304],\n",
      "        [-0.2910, -0.0474,  0.2509],\n",
      "        [ 0.0901,  0.2253,  0.5260],\n",
      "        [-0.2287,  0.3382,  0.4705],\n",
      "        [ 0.1191,  0.5272, -0.3068],\n",
      "        [ 0.0599, -0.2558, -0.4371],\n",
      "        [-0.5579,  0.5470,  0.4581],\n",
      "        [-0.5362,  0.2285, -0.5339],\n",
      "        [ 0.2791, -0.2739,  0.4745],\n",
      "        [ 0.0537, -0.4415, -0.2909],\n",
      "        [ 0.4628, -0.3394, -0.2531],\n",
      "        [-0.0436, -0.0263, -0.4782],\n",
      "        [-0.5572, -0.0414, -0.1929],\n",
      "        [ 0.0370,  0.0720,  0.1058],\n",
      "        [ 0.3706,  0.3652,  0.0368],\n",
      "        [ 0.0826,  0.4982, -0.4149],\n",
      "        [-0.0822,  0.4185, -0.4338],\n",
      "        [ 0.3927,  0.3490, -0.0478],\n",
      "        [-0.4992,  0.1145,  0.0376],\n",
      "        [-0.0145, -0.1053, -0.2750],\n",
      "        [-0.1730,  0.2553, -0.4861],\n",
      "        [-0.0904,  0.0759, -0.2877],\n",
      "        [ 0.2129,  0.3392,  0.0775],\n",
      "        [-0.1433, -0.4343,  0.5354],\n",
      "        [-0.5178,  0.3482,  0.1195],\n",
      "        [-0.4629,  0.2048,  0.0974],\n",
      "        [-0.3629, -0.5401, -0.5564],\n",
      "        [-0.3551, -0.3375, -0.3075],\n",
      "        [ 0.3616, -0.1007, -0.0039],\n",
      "        [-0.1184, -0.4287, -0.2183],\n",
      "        [-0.0233,  0.3556,  0.3117],\n",
      "        [ 0.2541,  0.1590, -0.2797],\n",
      "        [ 0.4292,  0.1352, -0.5771],\n",
      "        [-0.4262,  0.3270, -0.3684],\n",
      "        [-0.5501,  0.0241,  0.3810],\n",
      "        [-0.4151, -0.3731, -0.0434],\n",
      "        [-0.4932, -0.1752, -0.2552],\n",
      "        [-0.1563, -0.5265, -0.0344],\n",
      "        [-0.3669, -0.1062, -0.4528],\n",
      "        [ 0.1231,  0.1865,  0.4267],\n",
      "        [ 0.2852,  0.4269, -0.4443],\n",
      "        [ 0.2058,  0.0391, -0.2683],\n",
      "        [-0.5514, -0.2644,  0.2898],\n",
      "        [-0.0864, -0.2116,  0.3406],\n",
      "        [-0.0311,  0.2191,  0.5128],\n",
      "        [-0.3410, -0.4252, -0.2518],\n",
      "        [ 0.3985, -0.3323, -0.2706],\n",
      "        [ 0.4656, -0.2029,  0.1402],\n",
      "        [ 0.1068, -0.0897, -0.5484],\n",
      "        [ 0.5334,  0.3300, -0.2296],\n",
      "        [-0.3952, -0.5433, -0.3483],\n",
      "        [ 0.2137, -0.3731, -0.4007],\n",
      "        [ 0.3089, -0.5488, -0.3500],\n",
      "        [-0.0778, -0.2718, -0.2177],\n",
      "        [ 0.3477, -0.1784,  0.4548],\n",
      "        [-0.3927,  0.3870,  0.4175],\n",
      "        [-0.2396,  0.0583, -0.2461],\n",
      "        [-0.0936, -0.0281,  0.4134],\n",
      "        [ 0.2252,  0.1426, -0.5415],\n",
      "        [ 0.2512,  0.0662, -0.3741],\n",
      "        [ 0.4969,  0.4151, -0.1999],\n",
      "        [ 0.2362, -0.3723, -0.5521],\n",
      "        [-0.4515, -0.3562, -0.1863],\n",
      "        [ 0.3391,  0.1799,  0.4049],\n",
      "        [-0.5182,  0.1705,  0.2273],\n",
      "        [-0.1854, -0.1967, -0.2519],\n",
      "        [ 0.4132,  0.0584, -0.0864],\n",
      "        [ 0.0950,  0.5498, -0.1163],\n",
      "        [-0.4294, -0.4869,  0.0937],\n",
      "        [ 0.3564,  0.5379, -0.2801],\n",
      "        [ 0.3083, -0.1949,  0.3507],\n",
      "        [ 0.2169,  0.2213, -0.5162],\n",
      "        [ 0.1707, -0.2362, -0.3800],\n",
      "        [-0.1780, -0.2338, -0.2029],\n",
      "        [-0.2326, -0.4840, -0.0386],\n",
      "        [-0.5685, -0.5097, -0.4431],\n",
      "        [ 0.3551, -0.0014, -0.1182],\n",
      "        [-0.5283,  0.1326,  0.1422],\n",
      "        [-0.3562,  0.1623, -0.3606],\n",
      "        [-0.5047,  0.2357,  0.0406],\n",
      "        [-0.2861, -0.2266, -0.1564],\n",
      "        [ 0.0829, -0.4278, -0.1548],\n",
      "        [-0.5083, -0.5261,  0.3432],\n",
      "        [ 0.0891,  0.4419, -0.1208],\n",
      "        [ 0.4902,  0.0166, -0.3448]], requires_grad=True), Parameter containing:\n",
      "tensor([ 0.1512,  0.1186, -0.4512,  0.2781, -0.2569, -0.3106,  0.0604,  0.2898,\n",
      "        -0.3928, -0.3031,  0.5564, -0.2389,  0.1284,  0.2212, -0.1290, -0.2826,\n",
      "         0.2243,  0.2488,  0.0430,  0.3394,  0.2026,  0.1051, -0.1212,  0.2288,\n",
      "         0.4586,  0.1441, -0.0357,  0.2599, -0.4222,  0.3847,  0.5063,  0.0804,\n",
      "        -0.5663,  0.0638, -0.5758, -0.2778, -0.0504, -0.2677, -0.4888, -0.5711,\n",
      "        -0.5310, -0.4487,  0.3206, -0.1002, -0.0324, -0.4121, -0.3836, -0.3022,\n",
      "         0.0279,  0.4696,  0.2532,  0.4111,  0.3034, -0.0640,  0.1158,  0.4698,\n",
      "        -0.0640, -0.4786, -0.1098, -0.2802, -0.3370,  0.1905,  0.5583, -0.4768,\n",
      "        -0.4777, -0.1685, -0.0550, -0.5459, -0.4168,  0.4716, -0.0312, -0.3572,\n",
      "         0.5486,  0.3066,  0.1840,  0.4615, -0.4331, -0.5273, -0.5195, -0.2351,\n",
      "         0.2512,  0.0643, -0.1056, -0.3750, -0.4238,  0.1778,  0.3898,  0.0039,\n",
      "        -0.2807, -0.1022, -0.0217,  0.3374, -0.3106,  0.4814, -0.2727, -0.0866,\n",
      "        -0.1448, -0.4358,  0.0785, -0.4582, -0.3365, -0.2657,  0.2240,  0.3913,\n",
      "         0.4991, -0.1693,  0.3132, -0.2076,  0.4788,  0.3849, -0.5493, -0.5141,\n",
      "         0.0410, -0.0658, -0.4088,  0.5181,  0.2918, -0.1032,  0.5389,  0.2144,\n",
      "         0.1614, -0.2325,  0.5718, -0.1414, -0.0453, -0.0122,  0.1569,  0.1153,\n",
      "        -0.4883, -0.3245,  0.1184,  0.5555,  0.4873,  0.0195, -0.1970,  0.5295,\n",
      "        -0.2047,  0.0907, -0.0135, -0.4491,  0.1844, -0.0259,  0.3419,  0.5738],\n",
      "       requires_grad=True), Parameter containing:\n",
      "tensor([[-0.0197,  0.0771,  0.0672, -0.0724,  0.0035, -0.0630, -0.0704, -0.0380,\n",
      "          0.0783,  0.0827, -0.0384,  0.0149,  0.0683,  0.0663, -0.0150, -0.0760,\n",
      "          0.0657,  0.0674,  0.0542, -0.0691, -0.0830,  0.0187,  0.0020,  0.0071,\n",
      "         -0.0233,  0.0813, -0.0613, -0.0275,  0.0809, -0.0469,  0.0044, -0.0227,\n",
      "         -0.0663, -0.0233,  0.0587,  0.0613, -0.0832, -0.0718, -0.0297,  0.0776,\n",
      "          0.0677, -0.0588, -0.0505,  0.0107, -0.0544, -0.0650,  0.0792,  0.0268,\n",
      "          0.0241,  0.0443, -0.0751,  0.0169, -0.0071, -0.0559,  0.0472,  0.0810,\n",
      "          0.0167,  0.0204,  0.0223, -0.0833,  0.0371,  0.0388, -0.0015,  0.0797,\n",
      "         -0.0687,  0.0656, -0.0541, -0.0659,  0.0331, -0.0549, -0.0313,  0.0354,\n",
      "          0.0542, -0.0147, -0.0778,  0.0809, -0.0684,  0.0750, -0.0813,  0.0722,\n",
      "         -0.0271,  0.0542, -0.0069,  0.0117,  0.0081, -0.0526,  0.0661, -0.0128,\n",
      "         -0.0222, -0.0217, -0.0338,  0.0151, -0.0303, -0.0757,  0.0444, -0.0584,\n",
      "          0.0034,  0.0573, -0.0692,  0.0367, -0.0715, -0.0621,  0.0296,  0.0809,\n",
      "          0.0457,  0.0819, -0.0105,  0.0102, -0.0738,  0.0416, -0.0345,  0.0250,\n",
      "         -0.0030,  0.0496, -0.0171,  0.0347, -0.0230, -0.0005,  0.0817,  0.0469,\n",
      "          0.0586,  0.0446,  0.0383,  0.0729,  0.0607,  0.0658,  0.0361,  0.0083,\n",
      "         -0.0577, -0.0680, -0.0264, -0.0715,  0.0471, -0.0500,  0.0488,  0.0027,\n",
      "         -0.0399,  0.0345,  0.0283, -0.0332,  0.0788, -0.0354, -0.0107, -0.0504],\n",
      "        [ 0.0713,  0.0716,  0.0264,  0.0332, -0.0234, -0.0051, -0.0148, -0.0833,\n",
      "          0.0771, -0.0466,  0.0290, -0.0463, -0.0171, -0.0369,  0.0393,  0.0827,\n",
      "          0.0471, -0.0665, -0.0349, -0.0470, -0.0162, -0.0685, -0.0639,  0.0730,\n",
      "         -0.0825, -0.0712, -0.0324, -0.0404, -0.0441,  0.0019, -0.0336,  0.0262,\n",
      "          0.0648, -0.0479,  0.0670,  0.0027,  0.0047, -0.0243, -0.0741, -0.0696,\n",
      "         -0.0164, -0.0143,  0.0073,  0.0435, -0.0322, -0.0768,  0.0118, -0.0263,\n",
      "          0.0252,  0.0535,  0.0656,  0.0451,  0.0183, -0.0765, -0.0438,  0.0659,\n",
      "          0.0216,  0.0469,  0.0119, -0.0567,  0.0334,  0.0643,  0.0142, -0.0119,\n",
      "          0.0229, -0.0132,  0.0812,  0.0542, -0.0492,  0.0003, -0.0761,  0.0614,\n",
      "         -0.0343, -0.0039,  0.0765, -0.0719,  0.0556, -0.0585, -0.0100, -0.0689,\n",
      "         -0.0564, -0.0308,  0.0009, -0.0497,  0.0341,  0.0406,  0.0543,  0.0789,\n",
      "          0.0245,  0.0448, -0.0142,  0.0442, -0.0159,  0.0452, -0.0031, -0.0098,\n",
      "          0.0564,  0.0219, -0.0441,  0.0082, -0.0064,  0.0483,  0.0555, -0.0490,\n",
      "          0.0081,  0.0278, -0.0270,  0.0175, -0.0304, -0.0313, -0.0658, -0.0093,\n",
      "          0.0346, -0.0202, -0.0397,  0.0012,  0.0281,  0.0542, -0.0476,  0.0261,\n",
      "          0.0297,  0.0779,  0.0022,  0.0527, -0.0829, -0.0080,  0.0545,  0.0460,\n",
      "         -0.0072, -0.0485,  0.0030, -0.0570,  0.0377, -0.0281, -0.0566, -0.0306,\n",
      "          0.0003, -0.0345, -0.0061,  0.0712,  0.0534, -0.0714,  0.0623,  0.0535]],\n",
      "       requires_grad=True), Parameter containing:\n",
      "tensor([-0.0214, -0.0667], requires_grad=True)]\n"
     ]
    }
   ],
   "source": [
    "# main クラス\n",
    "cartpole_env = myEnvironment(strike_price / 1.5 , strike_price * 1.5 , True , volatility , dividend_rate , risk_free_rate , strike_price , maturity , dt , pricer_steps)"
   ]
  },
  {
   "cell_type": "code",
   "execution_count": 152,
   "metadata": {},
   "outputs": [
    {
     "name": "stdout",
     "output_type": "stream",
     "text": [
      "finished 0 percent (0 / 100)\n",
      "S : 188.62 / t : 0.00 / exercise value : 58.62 / error : 0.00\n",
      "finished 1 percent (1 / 100)\n",
      "S : 138.18 / t : 0.00 / exercise value : 8.18 / error : -3.70\n",
      "finished 2 percent (2 / 100)\n",
      "S : 128.89 / t : 0.00 / exercise value : -1.11 / error : -8.07\n",
      "finished 3 percent (3 / 100)\n",
      "S : 108.22 / t : 0.00 / exercise value : -21.78 / error : -23.10\n",
      "finished 4 percent (4 / 100)\n",
      "S : 121.16 / t : 0.00 / exercise value : -8.84 / error : -12.93\n",
      "finished 5 percent (5 / 100)\n",
      "S : 104.99 / t : 0.00 / exercise value : -25.01 / error : -25.94\n",
      "finished 6 percent (6 / 100)\n",
      "S : 162.83 / t : 0.00 / exercise value : 32.83 / error : 0.00\n",
      "finished 7 percent (7 / 100)\n",
      "S : 145.85 / t : 0.00 / exercise value : 15.85 / error : -1.33\n",
      "finished 8 percent (8 / 100)\n",
      "S : 108.16 / t : 0.00 / exercise value : -21.84 / error : -23.15\n",
      "finished 9 percent (9 / 100)\n",
      "S : 119.67 / t : 0.00 / exercise value : -10.33 / error : -13.97\n",
      "finished 10 percent (10 / 100)\n",
      "S : 173.08 / t : 0.00 / exercise value : 43.08 / error : 0.00\n",
      "finished 11 percent (11 / 100)\n",
      "S : 137.40 / t : 0.00 / exercise value : 7.40 / error : -4.00\n",
      "finished 12 percent (12 / 100)\n",
      "S : 102.20 / t : 0.00 / exercise value : -27.80 / error : -28.47\n",
      "finished 13 percent (13 / 100)\n",
      "S : 135.10 / t : 0.00 / exercise value : 5.10 / error : -4.95\n",
      "finished 14 percent (14 / 100)\n",
      "S : 116.34 / t : 0.00 / exercise value : -13.66 / error : -16.45\n",
      "finished 15 percent (15 / 100)\n",
      "S : 87.12 / t : 0.00 / exercise value : -42.88 / error : -42.95\n",
      "finished 16 percent (16 / 100)\n",
      "S : 93.56 / t : 0.00 / exercise value : -36.44 / error : -36.65\n",
      "finished 17 percent (17 / 100)\n",
      "S : 145.38 / t : 0.00 / exercise value : 15.38 / error : -1.44\n",
      "finished 18 percent (18 / 100)\n",
      "S : 151.54 / t : 0.00 / exercise value : 21.54 / error : -0.34\n",
      "finished 19 percent (19 / 100)\n",
      "S : 105.60 / t : 0.00 / exercise value : -24.40 / error : -25.39\n",
      "finished 20 percent (20 / 100)\n",
      "S : 115.72 / t : 0.00 / exercise value : -14.28 / error : -16.92\n",
      "finished 21 percent (21 / 100)\n",
      "S : 165.65 / t : 0.00 / exercise value : 35.65 / error : -0.00\n",
      "finished 22 percent (22 / 100)\n",
      "S : 101.14 / t : 0.00 / exercise value : -28.86 / error : -29.45\n",
      "finished 23 percent (23 / 100)\n",
      "S : 163.35 / t : 0.00 / exercise value : 33.35 / error : -0.00\n",
      "finished 24 percent (24 / 100)\n",
      "S : 111.31 / t : 0.00 / exercise value : -18.69 / error : -20.47\n",
      "finished 25 percent (25 / 100)\n",
      "S : 144.17 / t : 0.00 / exercise value : 14.17 / error : -1.76\n",
      "finished 26 percent (26 / 100)\n",
      "S : 134.95 / t : 0.00 / exercise value : 4.95 / error : -5.01\n",
      "finished 27 percent (27 / 100)\n",
      "S : 163.88 / t : 0.00 / exercise value : 33.88 / error : 0.00\n",
      "finished 28 percent (28 / 100)\n",
      "S : 91.69 / t : 0.00 / exercise value : -38.31 / error : -38.47\n",
      "finished 29 percent (29 / 100)\n",
      "S : 109.50 / t : 0.00 / exercise value : -20.50 / error : -22.00\n",
      "finished 30 percent (30 / 100)\n",
      "S : 94.28 / t : 0.00 / exercise value : -35.72 / error : -35.95\n",
      "finished 31 percent (31 / 100)\n",
      "S : 103.11 / t : 0.00 / exercise value : -26.89 / error : -27.65\n",
      "finished 32 percent (32 / 100)\n",
      "S : 121.20 / t : 0.00 / exercise value : -8.80 / error : -12.90\n",
      "finished 33 percent (33 / 100)\n",
      "S : 125.11 / t : 0.00 / exercise value : -4.89 / error : -10.31\n",
      "finished 34 percent (34 / 100)\n",
      "S : 172.40 / t : 0.00 / exercise value : 42.40 / error : 0.00\n",
      "finished 35 percent (35 / 100)\n",
      "S : 97.98 / t : 0.00 / exercise value : -32.02 / error : -32.42\n",
      "finished 36 percent (36 / 100)\n",
      "S : 190.64 / t : 0.00 / exercise value : 60.64 / error : 0.00\n",
      "finished 37 percent (37 / 100)\n",
      "S : 134.26 / t : 0.00 / exercise value : 4.26 / error : -5.34\n",
      "finished 38 percent (38 / 100)\n",
      "S : 187.17 / t : 0.00 / exercise value : 57.17 / error : 0.00\n",
      "finished 39 percent (39 / 100)\n",
      "S : 175.84 / t : 0.00 / exercise value : 45.84 / error : 0.00\n",
      "finished 40 percent (40 / 100)\n",
      "S : 123.70 / t : 0.00 / exercise value : -6.30 / error : -11.22\n",
      "finished 41 percent (41 / 100)\n",
      "S : 122.41 / t : 0.00 / exercise value : -7.59 / error : -12.09\n",
      "finished 42 percent (42 / 100)\n",
      "S : 95.22 / t : 0.00 / exercise value : -34.78 / error : -35.06\n",
      "finished 43 percent (43 / 100)\n",
      "S : 100.52 / t : 0.00 / exercise value : -29.48 / error : -30.04\n",
      "finished 44 percent (44 / 100)\n",
      "S : 124.74 / t : 0.00 / exercise value : -5.26 / error : -10.54\n",
      "finished 45 percent (45 / 100)\n",
      "S : 167.79 / t : 0.00 / exercise value : 37.79 / error : -0.00\n",
      "finished 46 percent (46 / 100)\n",
      "S : 156.36 / t : 0.00 / exercise value : 26.36 / error : 0.00\n",
      "finished 47 percent (47 / 100)\n",
      "S : 105.22 / t : 0.00 / exercise value : -24.78 / error : -25.74\n",
      "finished 48 percent (48 / 100)\n",
      "S : 150.33 / t : 0.00 / exercise value : 20.33 / error : -0.50\n",
      "finished 49 percent (49 / 100)\n",
      "S : 141.15 / t : 0.00 / exercise value : 11.15 / error : -2.63\n",
      "finished 50 percent (50 / 100)\n",
      "S : 121.50 / t : 0.00 / exercise value : -8.50 / error : -12.70\n",
      "finished 51 percent (51 / 100)\n",
      "S : 163.61 / t : 0.00 / exercise value : 33.61 / error : 0.00\n",
      "finished 52 percent (52 / 100)\n",
      "S : 141.75 / t : 0.00 / exercise value : 11.75 / error : -2.45\n",
      "finished 53 percent (53 / 100)\n",
      "S : 89.80 / t : 0.00 / exercise value : -40.20 / error : -40.32\n",
      "finished 54 percent (54 / 100)\n",
      "S : 127.11 / t : 0.00 / exercise value : -2.89 / error : -9.11\n",
      "finished 55 percent (55 / 100)\n",
      "S : 97.94 / t : 0.00 / exercise value : -32.06 / error : -32.45\n",
      "finished 56 percent (56 / 100)\n",
      "S : 94.02 / t : 0.00 / exercise value : -35.98 / error : -36.21\n",
      "finished 57 percent (57 / 100)\n",
      "S : 189.40 / t : 0.00 / exercise value : 59.40 / error : 0.00\n",
      "finished 58 percent (58 / 100)\n",
      "S : 185.77 / t : 0.00 / exercise value : 55.77 / error : 0.00\n",
      "finished 59 percent (59 / 100)\n",
      "S : 142.70 / t : 0.00 / exercise value : 12.70 / error : -2.17\n",
      "finished 60 percent (60 / 100)\n",
      "S : 166.30 / t : 0.00 / exercise value : 36.30 / error : 0.00\n",
      "finished 61 percent (61 / 100)\n",
      "S : 160.07 / t : 0.00 / exercise value : 30.07 / error : -0.00\n",
      "finished 62 percent (62 / 100)\n",
      "S : 166.76 / t : 0.00 / exercise value : 36.76 / error : 0.00\n",
      "finished 63 percent (63 / 100)\n",
      "S : 143.20 / t : 0.00 / exercise value : 13.20 / error : -2.02\n",
      "finished 64 percent (64 / 100)\n",
      "S : 141.05 / t : 0.00 / exercise value : 11.05 / error : -2.66\n",
      "finished 65 percent (65 / 100)\n",
      "S : 144.68 / t : 0.00 / exercise value : 14.68 / error : -1.62\n",
      "finished 66 percent (66 / 100)\n",
      "S : 173.58 / t : 0.00 / exercise value : 43.58 / error : 0.00\n",
      "finished 67 percent (67 / 100)\n",
      "S : 137.58 / t : 0.00 / exercise value : 7.58 / error : -3.93\n",
      "finished 68 percent (68 / 100)\n",
      "S : 159.45 / t : 0.00 / exercise value : 29.45 / error : -0.00\n",
      "finished 69 percent (69 / 100)\n",
      "S : 129.92 / t : 0.00 / exercise value : -0.08 / error : -7.49\n",
      "finished 70 percent (70 / 100)\n",
      "S : 164.47 / t : 0.00 / exercise value : 34.47 / error : 0.00\n",
      "finished 71 percent (71 / 100)\n",
      "S : 140.51 / t : 0.00 / exercise value : 10.51 / error : -2.84\n",
      "finished 72 percent (72 / 100)\n",
      "S : 156.63 / t : 0.00 / exercise value : 26.63 / error : 0.00\n",
      "finished 73 percent (73 / 100)\n",
      "S : 194.41 / t : 0.00 / exercise value : 64.41 / error : 0.00\n",
      "finished 74 percent (74 / 100)\n",
      "S : 111.29 / t : 0.00 / exercise value : -18.71 / error : -20.48\n",
      "finished 75 percent (75 / 100)\n",
      "S : 144.34 / t : 0.00 / exercise value : 14.34 / error : -1.71\n",
      "finished 76 percent (76 / 100)\n",
      "S : 153.90 / t : 0.00 / exercise value : 23.90 / error : -0.12\n",
      "finished 77 percent (77 / 100)\n",
      "S : 155.04 / t : 0.00 / exercise value : 25.04 / error : -0.05\n",
      "finished 78 percent (78 / 100)\n",
      "S : 184.40 / t : 0.00 / exercise value : 54.40 / error : 0.00\n",
      "finished 79 percent (79 / 100)\n",
      "S : 149.86 / t : 0.00 / exercise value : 19.86 / error : -0.57\n",
      "finished 80 percent (80 / 100)\n",
      "S : 88.41 / t : 0.00 / exercise value : -41.59 / error : -41.69\n",
      "finished 81 percent (81 / 100)\n",
      "S : 148.30 / t : 0.00 / exercise value : 18.30 / error : -0.83\n",
      "finished 82 percent (82 / 100)\n",
      "S : 101.26 / t : 0.00 / exercise value : -28.74 / error : -29.34\n",
      "finished 83 percent (83 / 100)\n",
      "S : 147.50 / t : 0.00 / exercise value : 17.50 / error : -0.98\n",
      "finished 84 percent (84 / 100)\n",
      "S : 109.49 / t : 0.00 / exercise value : -20.51 / error : -22.00\n",
      "finished 85 percent (85 / 100)\n",
      "S : 110.54 / t : 0.00 / exercise value : -19.46 / error : -21.11\n",
      "finished 86 percent (86 / 100)\n",
      "S : 184.48 / t : 0.00 / exercise value : 54.48 / error : 0.00\n",
      "finished 87 percent (87 / 100)\n",
      "S : 105.74 / t : 0.00 / exercise value : -24.26 / error : -25.27\n",
      "finished 88 percent (88 / 100)\n",
      "S : 115.18 / t : 0.00 / exercise value : -14.82 / error : -17.34\n",
      "finished 89 percent (89 / 100)\n",
      "S : 165.66 / t : 0.00 / exercise value : 35.66 / error : 0.00\n",
      "finished 90 percent (90 / 100)\n",
      "S : 154.01 / t : 0.00 / exercise value : 24.01 / error : -0.12\n",
      "finished 91 percent (91 / 100)\n",
      "S : 104.07 / t : 0.00 / exercise value : -25.93 / error : -26.77\n",
      "finished 92 percent (92 / 100)\n",
      "S : 95.12 / t : 0.00 / exercise value : -34.88 / error : -35.15\n",
      "finished 93 percent (93 / 100)\n",
      "S : 193.25 / t : 0.00 / exercise value : 63.25 / error : 0.00\n",
      "finished 94 percent (94 / 100)\n",
      "S : 87.11 / t : 0.00 / exercise value : -42.89 / error : -42.96\n",
      "finished 95 percent (95 / 100)\n",
      "S : 88.34 / t : 0.00 / exercise value : -41.66 / error : -41.75\n",
      "finished 96 percent (96 / 100)\n",
      "S : 145.96 / t : 0.00 / exercise value : 15.96 / error : -1.30\n",
      "finished 97 percent (97 / 100)\n",
      "S : 100.59 / t : 0.00 / exercise value : -29.41 / error : -29.97\n",
      "finished 98 percent (98 / 100)\n",
      "S : 155.49 / t : 0.00 / exercise value : 25.49 / error : -0.03\n",
      "finished 99 percent (99 / 100)\n",
      "S : 146.55 / t : 0.00 / exercise value : 16.55 / error : -1.17\n"
     ]
    }
   ],
   "source": [
    "cartpole_env.run(100, False)"
   ]
  },
  {
   "cell_type": "code",
   "execution_count": null,
   "metadata": {},
   "outputs": [
    {
     "name": "stdout",
     "output_type": "stream",
     "text": [
      "finished 1 percent (50000 / 5000000)\n"
     ]
    }
   ],
   "source": [
    "cartpole_env.run(5000000, True)"
   ]
  },
  {
   "cell_type": "markdown",
   "metadata": {},
   "source": [
    "cartpole_env.run(2000000, True)"
   ]
  },
  {
   "cell_type": "markdown",
   "metadata": {},
   "source": [
    "# predict\n"
   ]
  },
  {
   "cell_type": "code",
   "execution_count": 154,
   "metadata": {},
   "outputs": [],
   "source": [
    "model = cartpole_env.agent.brain.model"
   ]
  },
  {
   "cell_type": "code",
   "execution_count": 155,
   "metadata": {},
   "outputs": [
    {
     "data": {
      "text/plain": [
       "Net(\n",
       "  (fc1): Linear(in_features=3, out_features=144, bias=True)\n",
       "  (relu1): ReLU()\n",
       "  (fc3): Linear(in_features=144, out_features=2, bias=True)\n",
       ")"
      ]
     },
     "execution_count": 155,
     "metadata": {},
     "output_type": "execute_result"
    }
   ],
   "source": [
    "model.eval()"
   ]
  },
  {
   "cell_type": "code",
   "execution_count": 156,
   "metadata": {},
   "outputs": [],
   "source": [
    "run_underliers = [float(i) * 10 for i in range(1 , 20)]"
   ]
  },
  {
   "cell_type": "code",
   "execution_count": 172,
   "metadata": {},
   "outputs": [],
   "source": [
    "run_t = 0.4"
   ]
  },
  {
   "cell_type": "code",
   "execution_count": 173,
   "metadata": {},
   "outputs": [],
   "source": [
    "am_call = cl_call(volatility ,  dividend_rate ,  risk_free_rate , pricer_steps)"
   ]
  },
  {
   "cell_type": "code",
   "execution_count": 174,
   "metadata": {},
   "outputs": [],
   "source": [
    "run_input = torch.tensor([\n",
    "    [s , run_t , am_call.price(s, strike_price, maturity - run_t, False)] for s in run_underliers\n",
    "])"
   ]
  },
  {
   "cell_type": "code",
   "execution_count": 175,
   "metadata": {},
   "outputs": [],
   "source": [
    "tree_results_am = [am_call.price(s, strike_price, maturity - run_t) for s in run_underliers]"
   ]
  },
  {
   "cell_type": "code",
   "execution_count": 176,
   "metadata": {},
   "outputs": [],
   "source": [
    "tree_results_eu = [am_call.price(s, strike_price, maturity - run_t, False) for s in run_underliers]"
   ]
  },
  {
   "cell_type": "code",
   "execution_count": 177,
   "metadata": {},
   "outputs": [],
   "source": [
    "run_outputs = model(run_input)"
   ]
  },
  {
   "cell_type": "code",
   "execution_count": 178,
   "metadata": {},
   "outputs": [],
   "source": [
    "import pandas as pd"
   ]
  },
  {
   "cell_type": "code",
   "execution_count": 179,
   "metadata": {},
   "outputs": [],
   "source": [
    "df_output = pd.DataFrame({\"underlier\" : run_underliers, \n",
    "              \"value0\" : [x.item() for x in run_outputs[:,0]]  , \n",
    "              \"value1\" : [x.item() for x in run_outputs[:,1]]  , \n",
    "              \"tree_american\" : tree_results_am,\n",
    "               \"tree_european\" : tree_results_eu} )"
   ]
  },
  {
   "cell_type": "code",
   "execution_count": 180,
   "metadata": {},
   "outputs": [
    {
     "data": {
      "text/html": [
       "\n",
       "    <div class=\"bk-root\">\n",
       "        <a href=\"https://bokeh.pydata.org\" target=\"_blank\" class=\"bk-logo bk-logo-small bk-logo-notebook\"></a>\n",
       "        <span id=\"45b4b3c6-9c3b-4ce9-834d-62b61338f40a\">Loading BokehJS ...</span>\n",
       "    </div>"
      ]
     },
     "metadata": {},
     "output_type": "display_data"
    },
    {
     "data": {
      "application/javascript": [
       "\n",
       "(function(root) {\n",
       "  function now() {\n",
       "    return new Date();\n",
       "  }\n",
       "\n",
       "  var force = true;\n",
       "\n",
       "  if (typeof (root._bokeh_onload_callbacks) === \"undefined\" || force === true) {\n",
       "    root._bokeh_onload_callbacks = [];\n",
       "    root._bokeh_is_loading = undefined;\n",
       "  }\n",
       "\n",
       "  var JS_MIME_TYPE = 'application/javascript';\n",
       "  var HTML_MIME_TYPE = 'text/html';\n",
       "  var EXEC_MIME_TYPE = 'application/vnd.bokehjs_exec.v0+json';\n",
       "  var CLASS_NAME = 'output_bokeh rendered_html';\n",
       "\n",
       "  /**\n",
       "   * Render data to the DOM node\n",
       "   */\n",
       "  function render(props, node) {\n",
       "    var script = document.createElement(\"script\");\n",
       "    node.appendChild(script);\n",
       "  }\n",
       "\n",
       "  /**\n",
       "   * Handle when an output is cleared or removed\n",
       "   */\n",
       "  function handleClearOutput(event, handle) {\n",
       "    var cell = handle.cell;\n",
       "\n",
       "    var id = cell.output_area._bokeh_element_id;\n",
       "    var server_id = cell.output_area._bokeh_server_id;\n",
       "    // Clean up Bokeh references\n",
       "    if (id !== undefined) {\n",
       "      Bokeh.index[id].model.document.clear();\n",
       "      delete Bokeh.index[id];\n",
       "    }\n",
       "\n",
       "    if (server_id !== undefined) {\n",
       "      // Clean up Bokeh references\n",
       "      var cmd = \"from bokeh.io.state import curstate; print(curstate().uuid_to_server['\" + server_id + \"'].get_sessions()[0].document.roots[0]._id)\";\n",
       "      cell.notebook.kernel.execute(cmd, {\n",
       "        iopub: {\n",
       "          output: function(msg) {\n",
       "            var element_id = msg.content.text.trim();\n",
       "            Bokeh.index[element_id].model.document.clear();\n",
       "            delete Bokeh.index[element_id];\n",
       "          }\n",
       "        }\n",
       "      });\n",
       "      // Destroy server and session\n",
       "      var cmd = \"import bokeh.io.notebook as ion; ion.destroy_server('\" + server_id + \"')\";\n",
       "      cell.notebook.kernel.execute(cmd);\n",
       "    }\n",
       "  }\n",
       "\n",
       "  /**\n",
       "   * Handle when a new output is added\n",
       "   */\n",
       "  function handleAddOutput(event, handle) {\n",
       "    var output_area = handle.output_area;\n",
       "    var output = handle.output;\n",
       "\n",
       "    // limit handleAddOutput to display_data with EXEC_MIME_TYPE content only\n",
       "    if ((output.output_type != \"display_data\") || (!output.data.hasOwnProperty(EXEC_MIME_TYPE))) {\n",
       "      return\n",
       "    }\n",
       "\n",
       "    var toinsert = output_area.element.find(\".\" + CLASS_NAME.split(' ')[0]);\n",
       "\n",
       "    if (output.metadata[EXEC_MIME_TYPE][\"id\"] !== undefined) {\n",
       "      toinsert[0].firstChild.textContent = output.data[JS_MIME_TYPE];\n",
       "      // store reference to embed id on output_area\n",
       "      output_area._bokeh_element_id = output.metadata[EXEC_MIME_TYPE][\"id\"];\n",
       "    }\n",
       "    if (output.metadata[EXEC_MIME_TYPE][\"server_id\"] !== undefined) {\n",
       "      var bk_div = document.createElement(\"div\");\n",
       "      bk_div.innerHTML = output.data[HTML_MIME_TYPE];\n",
       "      var script_attrs = bk_div.children[0].attributes;\n",
       "      for (var i = 0; i < script_attrs.length; i++) {\n",
       "        toinsert[0].firstChild.setAttribute(script_attrs[i].name, script_attrs[i].value);\n",
       "      }\n",
       "      // store reference to server id on output_area\n",
       "      output_area._bokeh_server_id = output.metadata[EXEC_MIME_TYPE][\"server_id\"];\n",
       "    }\n",
       "  }\n",
       "\n",
       "  function register_renderer(events, OutputArea) {\n",
       "\n",
       "    function append_mime(data, metadata, element) {\n",
       "      // create a DOM node to render to\n",
       "      var toinsert = this.create_output_subarea(\n",
       "        metadata,\n",
       "        CLASS_NAME,\n",
       "        EXEC_MIME_TYPE\n",
       "      );\n",
       "      this.keyboard_manager.register_events(toinsert);\n",
       "      // Render to node\n",
       "      var props = {data: data, metadata: metadata[EXEC_MIME_TYPE]};\n",
       "      render(props, toinsert[0]);\n",
       "      element.append(toinsert);\n",
       "      return toinsert\n",
       "    }\n",
       "\n",
       "    /* Handle when an output is cleared or removed */\n",
       "    events.on('clear_output.CodeCell', handleClearOutput);\n",
       "    events.on('delete.Cell', handleClearOutput);\n",
       "\n",
       "    /* Handle when a new output is added */\n",
       "    events.on('output_added.OutputArea', handleAddOutput);\n",
       "\n",
       "    /**\n",
       "     * Register the mime type and append_mime function with output_area\n",
       "     */\n",
       "    OutputArea.prototype.register_mime_type(EXEC_MIME_TYPE, append_mime, {\n",
       "      /* Is output safe? */\n",
       "      safe: true,\n",
       "      /* Index of renderer in `output_area.display_order` */\n",
       "      index: 0\n",
       "    });\n",
       "  }\n",
       "\n",
       "  // register the mime type if in Jupyter Notebook environment and previously unregistered\n",
       "  if (root.Jupyter !== undefined) {\n",
       "    var events = require('base/js/events');\n",
       "    var OutputArea = require('notebook/js/outputarea').OutputArea;\n",
       "\n",
       "    if (OutputArea.prototype.mime_types().indexOf(EXEC_MIME_TYPE) == -1) {\n",
       "      register_renderer(events, OutputArea);\n",
       "    }\n",
       "  }\n",
       "\n",
       "  \n",
       "  if (typeof (root._bokeh_timeout) === \"undefined\" || force === true) {\n",
       "    root._bokeh_timeout = Date.now() + 5000;\n",
       "    root._bokeh_failed_load = false;\n",
       "  }\n",
       "\n",
       "  var NB_LOAD_WARNING = {'data': {'text/html':\n",
       "     \"<div style='background-color: #fdd'>\\n\"+\n",
       "     \"<p>\\n\"+\n",
       "     \"BokehJS does not appear to have successfully loaded. If loading BokehJS from CDN, this \\n\"+\n",
       "     \"may be due to a slow or bad network connection. Possible fixes:\\n\"+\n",
       "     \"</p>\\n\"+\n",
       "     \"<ul>\\n\"+\n",
       "     \"<li>re-rerun `output_notebook()` to attempt to load from CDN again, or</li>\\n\"+\n",
       "     \"<li>use INLINE resources instead, as so:</li>\\n\"+\n",
       "     \"</ul>\\n\"+\n",
       "     \"<code>\\n\"+\n",
       "     \"from bokeh.resources import INLINE\\n\"+\n",
       "     \"output_notebook(resources=INLINE)\\n\"+\n",
       "     \"</code>\\n\"+\n",
       "     \"</div>\"}};\n",
       "\n",
       "  function display_loaded() {\n",
       "    var el = document.getElementById(\"45b4b3c6-9c3b-4ce9-834d-62b61338f40a\");\n",
       "    if (el != null) {\n",
       "      el.textContent = \"BokehJS is loading...\";\n",
       "    }\n",
       "    if (root.Bokeh !== undefined) {\n",
       "      if (el != null) {\n",
       "        el.textContent = \"BokehJS \" + root.Bokeh.version + \" successfully loaded.\";\n",
       "      }\n",
       "    } else if (Date.now() < root._bokeh_timeout) {\n",
       "      setTimeout(display_loaded, 100)\n",
       "    }\n",
       "  }\n",
       "\n",
       "\n",
       "  function run_callbacks() {\n",
       "    try {\n",
       "      root._bokeh_onload_callbacks.forEach(function(callback) { callback() });\n",
       "    }\n",
       "    finally {\n",
       "      delete root._bokeh_onload_callbacks\n",
       "    }\n",
       "    console.info(\"Bokeh: all callbacks have finished\");\n",
       "  }\n",
       "\n",
       "  function load_libs(js_urls, callback) {\n",
       "    root._bokeh_onload_callbacks.push(callback);\n",
       "    if (root._bokeh_is_loading > 0) {\n",
       "      console.log(\"Bokeh: BokehJS is being loaded, scheduling callback at\", now());\n",
       "      return null;\n",
       "    }\n",
       "    if (js_urls == null || js_urls.length === 0) {\n",
       "      run_callbacks();\n",
       "      return null;\n",
       "    }\n",
       "    console.log(\"Bokeh: BokehJS not loaded, scheduling load and callback at\", now());\n",
       "    root._bokeh_is_loading = js_urls.length;\n",
       "    for (var i = 0; i < js_urls.length; i++) {\n",
       "      var url = js_urls[i];\n",
       "      var s = document.createElement('script');\n",
       "      s.src = url;\n",
       "      s.async = false;\n",
       "      s.onreadystatechange = s.onload = function() {\n",
       "        root._bokeh_is_loading--;\n",
       "        if (root._bokeh_is_loading === 0) {\n",
       "          console.log(\"Bokeh: all BokehJS libraries loaded\");\n",
       "          run_callbacks()\n",
       "        }\n",
       "      };\n",
       "      s.onerror = function() {\n",
       "        console.warn(\"failed to load library \" + url);\n",
       "      };\n",
       "      console.log(\"Bokeh: injecting script tag for BokehJS library: \", url);\n",
       "      document.getElementsByTagName(\"head\")[0].appendChild(s);\n",
       "    }\n",
       "  };var element = document.getElementById(\"45b4b3c6-9c3b-4ce9-834d-62b61338f40a\");\n",
       "  if (element == null) {\n",
       "    console.log(\"Bokeh: ERROR: autoload.js configured with elementid '45b4b3c6-9c3b-4ce9-834d-62b61338f40a' but no matching script tag was found. \")\n",
       "    return false;\n",
       "  }\n",
       "\n",
       "  var js_urls = [\"https://cdn.pydata.org/bokeh/release/bokeh-0.12.13.min.js\", \"https://cdn.pydata.org/bokeh/release/bokeh-widgets-0.12.13.min.js\", \"https://cdn.pydata.org/bokeh/release/bokeh-tables-0.12.13.min.js\", \"https://cdn.pydata.org/bokeh/release/bokeh-gl-0.12.13.min.js\"];\n",
       "\n",
       "  var inline_js = [\n",
       "    function(Bokeh) {\n",
       "      Bokeh.set_log_level(\"info\");\n",
       "    },\n",
       "    \n",
       "    function(Bokeh) {\n",
       "      \n",
       "    },\n",
       "    function(Bokeh) {\n",
       "      console.log(\"Bokeh: injecting CSS: https://cdn.pydata.org/bokeh/release/bokeh-0.12.13.min.css\");\n",
       "      Bokeh.embed.inject_css(\"https://cdn.pydata.org/bokeh/release/bokeh-0.12.13.min.css\");\n",
       "      console.log(\"Bokeh: injecting CSS: https://cdn.pydata.org/bokeh/release/bokeh-widgets-0.12.13.min.css\");\n",
       "      Bokeh.embed.inject_css(\"https://cdn.pydata.org/bokeh/release/bokeh-widgets-0.12.13.min.css\");\n",
       "      console.log(\"Bokeh: injecting CSS: https://cdn.pydata.org/bokeh/release/bokeh-tables-0.12.13.min.css\");\n",
       "      Bokeh.embed.inject_css(\"https://cdn.pydata.org/bokeh/release/bokeh-tables-0.12.13.min.css\");\n",
       "    }\n",
       "  ];\n",
       "\n",
       "  function run_inline_js() {\n",
       "    \n",
       "    if ((root.Bokeh !== undefined) || (force === true)) {\n",
       "      for (var i = 0; i < inline_js.length; i++) {\n",
       "        inline_js[i].call(root, root.Bokeh);\n",
       "      }if (force === true) {\n",
       "        display_loaded();\n",
       "      }} else if (Date.now() < root._bokeh_timeout) {\n",
       "      setTimeout(run_inline_js, 100);\n",
       "    } else if (!root._bokeh_failed_load) {\n",
       "      console.log(\"Bokeh: BokehJS failed to load within specified timeout.\");\n",
       "      root._bokeh_failed_load = true;\n",
       "    } else if (force !== true) {\n",
       "      var cell = $(document.getElementById(\"45b4b3c6-9c3b-4ce9-834d-62b61338f40a\")).parents('.cell').data().cell;\n",
       "      cell.output_area.append_execute_result(NB_LOAD_WARNING)\n",
       "    }\n",
       "\n",
       "  }\n",
       "\n",
       "  if (root._bokeh_is_loading === 0) {\n",
       "    console.log(\"Bokeh: BokehJS loaded, going straight to plotting\");\n",
       "    run_inline_js();\n",
       "  } else {\n",
       "    load_libs(js_urls, function() {\n",
       "      console.log(\"Bokeh: BokehJS plotting callback run at\", now());\n",
       "      run_inline_js();\n",
       "    });\n",
       "  }\n",
       "}(window));"
      ],
      "application/vnd.bokehjs_load.v0+json": "\n(function(root) {\n  function now() {\n    return new Date();\n  }\n\n  var force = true;\n\n  if (typeof (root._bokeh_onload_callbacks) === \"undefined\" || force === true) {\n    root._bokeh_onload_callbacks = [];\n    root._bokeh_is_loading = undefined;\n  }\n\n  \n\n  \n  if (typeof (root._bokeh_timeout) === \"undefined\" || force === true) {\n    root._bokeh_timeout = Date.now() + 5000;\n    root._bokeh_failed_load = false;\n  }\n\n  var NB_LOAD_WARNING = {'data': {'text/html':\n     \"<div style='background-color: #fdd'>\\n\"+\n     \"<p>\\n\"+\n     \"BokehJS does not appear to have successfully loaded. If loading BokehJS from CDN, this \\n\"+\n     \"may be due to a slow or bad network connection. Possible fixes:\\n\"+\n     \"</p>\\n\"+\n     \"<ul>\\n\"+\n     \"<li>re-rerun `output_notebook()` to attempt to load from CDN again, or</li>\\n\"+\n     \"<li>use INLINE resources instead, as so:</li>\\n\"+\n     \"</ul>\\n\"+\n     \"<code>\\n\"+\n     \"from bokeh.resources import INLINE\\n\"+\n     \"output_notebook(resources=INLINE)\\n\"+\n     \"</code>\\n\"+\n     \"</div>\"}};\n\n  function display_loaded() {\n    var el = document.getElementById(\"45b4b3c6-9c3b-4ce9-834d-62b61338f40a\");\n    if (el != null) {\n      el.textContent = \"BokehJS is loading...\";\n    }\n    if (root.Bokeh !== undefined) {\n      if (el != null) {\n        el.textContent = \"BokehJS \" + root.Bokeh.version + \" successfully loaded.\";\n      }\n    } else if (Date.now() < root._bokeh_timeout) {\n      setTimeout(display_loaded, 100)\n    }\n  }\n\n\n  function run_callbacks() {\n    try {\n      root._bokeh_onload_callbacks.forEach(function(callback) { callback() });\n    }\n    finally {\n      delete root._bokeh_onload_callbacks\n    }\n    console.info(\"Bokeh: all callbacks have finished\");\n  }\n\n  function load_libs(js_urls, callback) {\n    root._bokeh_onload_callbacks.push(callback);\n    if (root._bokeh_is_loading > 0) {\n      console.log(\"Bokeh: BokehJS is being loaded, scheduling callback at\", now());\n      return null;\n    }\n    if (js_urls == null || js_urls.length === 0) {\n      run_callbacks();\n      return null;\n    }\n    console.log(\"Bokeh: BokehJS not loaded, scheduling load and callback at\", now());\n    root._bokeh_is_loading = js_urls.length;\n    for (var i = 0; i < js_urls.length; i++) {\n      var url = js_urls[i];\n      var s = document.createElement('script');\n      s.src = url;\n      s.async = false;\n      s.onreadystatechange = s.onload = function() {\n        root._bokeh_is_loading--;\n        if (root._bokeh_is_loading === 0) {\n          console.log(\"Bokeh: all BokehJS libraries loaded\");\n          run_callbacks()\n        }\n      };\n      s.onerror = function() {\n        console.warn(\"failed to load library \" + url);\n      };\n      console.log(\"Bokeh: injecting script tag for BokehJS library: \", url);\n      document.getElementsByTagName(\"head\")[0].appendChild(s);\n    }\n  };var element = document.getElementById(\"45b4b3c6-9c3b-4ce9-834d-62b61338f40a\");\n  if (element == null) {\n    console.log(\"Bokeh: ERROR: autoload.js configured with elementid '45b4b3c6-9c3b-4ce9-834d-62b61338f40a' but no matching script tag was found. \")\n    return false;\n  }\n\n  var js_urls = [\"https://cdn.pydata.org/bokeh/release/bokeh-0.12.13.min.js\", \"https://cdn.pydata.org/bokeh/release/bokeh-widgets-0.12.13.min.js\", \"https://cdn.pydata.org/bokeh/release/bokeh-tables-0.12.13.min.js\", \"https://cdn.pydata.org/bokeh/release/bokeh-gl-0.12.13.min.js\"];\n\n  var inline_js = [\n    function(Bokeh) {\n      Bokeh.set_log_level(\"info\");\n    },\n    \n    function(Bokeh) {\n      \n    },\n    function(Bokeh) {\n      console.log(\"Bokeh: injecting CSS: https://cdn.pydata.org/bokeh/release/bokeh-0.12.13.min.css\");\n      Bokeh.embed.inject_css(\"https://cdn.pydata.org/bokeh/release/bokeh-0.12.13.min.css\");\n      console.log(\"Bokeh: injecting CSS: https://cdn.pydata.org/bokeh/release/bokeh-widgets-0.12.13.min.css\");\n      Bokeh.embed.inject_css(\"https://cdn.pydata.org/bokeh/release/bokeh-widgets-0.12.13.min.css\");\n      console.log(\"Bokeh: injecting CSS: https://cdn.pydata.org/bokeh/release/bokeh-tables-0.12.13.min.css\");\n      Bokeh.embed.inject_css(\"https://cdn.pydata.org/bokeh/release/bokeh-tables-0.12.13.min.css\");\n    }\n  ];\n\n  function run_inline_js() {\n    \n    if ((root.Bokeh !== undefined) || (force === true)) {\n      for (var i = 0; i < inline_js.length; i++) {\n        inline_js[i].call(root, root.Bokeh);\n      }if (force === true) {\n        display_loaded();\n      }} else if (Date.now() < root._bokeh_timeout) {\n      setTimeout(run_inline_js, 100);\n    } else if (!root._bokeh_failed_load) {\n      console.log(\"Bokeh: BokehJS failed to load within specified timeout.\");\n      root._bokeh_failed_load = true;\n    } else if (force !== true) {\n      var cell = $(document.getElementById(\"45b4b3c6-9c3b-4ce9-834d-62b61338f40a\")).parents('.cell').data().cell;\n      cell.output_area.append_execute_result(NB_LOAD_WARNING)\n    }\n\n  }\n\n  if (root._bokeh_is_loading === 0) {\n    console.log(\"Bokeh: BokehJS loaded, going straight to plotting\");\n    run_inline_js();\n  } else {\n    load_libs(js_urls, function() {\n      console.log(\"Bokeh: BokehJS plotting callback run at\", now());\n      run_inline_js();\n    });\n  }\n}(window));"
     },
     "metadata": {},
     "output_type": "display_data"
    }
   ],
   "source": [
    "import bokeh.plotting as bp\n",
    "from bokeh import palettes \n",
    "bp.output_notebook()\n",
    "from bokeh.models import ColumnDataSource"
   ]
  },
  {
   "cell_type": "code",
   "execution_count": 181,
   "metadata": {},
   "outputs": [],
   "source": [
    "p = bp.figure()"
   ]
  },
  {
   "cell_type": "markdown",
   "metadata": {},
   "source": [
    "value0は継続価値"
   ]
  },
  {
   "cell_type": "code",
   "execution_count": 182,
   "metadata": {},
   "outputs": [
    {
     "data": {
      "text/html": [
       "<div style=\"display: table;\"><div style=\"display: table-row;\"><div style=\"display: table-cell;\"><b title=\"bokeh.models.renderers.GlyphRenderer\">GlyphRenderer</b>(</div><div style=\"display: table-cell;\">id&nbsp;=&nbsp;'5d219217-6f0e-4320-af53-11ed3bb201f1', <span id=\"c1f8cb58-74bc-4503-83b2-da0fa60f110d\" style=\"cursor: pointer;\">&hellip;)</span></div></div><div class=\"73b2206a-de25-493d-855c-ef8ac3d015c2\" style=\"display: none;\"><div style=\"display: table-cell;\"></div><div style=\"display: table-cell;\">data_source&nbsp;=&nbsp;ColumnDataSource(id='245460e9-4434-4c50-8102-50d6bea78f33', ...),</div></div><div class=\"73b2206a-de25-493d-855c-ef8ac3d015c2\" style=\"display: none;\"><div style=\"display: table-cell;\"></div><div style=\"display: table-cell;\">glyph&nbsp;=&nbsp;Circle(id='dae0148c-088f-45ae-87d9-886cfabc4d86', ...),</div></div><div class=\"73b2206a-de25-493d-855c-ef8ac3d015c2\" style=\"display: none;\"><div style=\"display: table-cell;\"></div><div style=\"display: table-cell;\">hover_glyph&nbsp;=&nbsp;None,</div></div><div class=\"73b2206a-de25-493d-855c-ef8ac3d015c2\" style=\"display: none;\"><div style=\"display: table-cell;\"></div><div style=\"display: table-cell;\">js_event_callbacks&nbsp;=&nbsp;{},</div></div><div class=\"73b2206a-de25-493d-855c-ef8ac3d015c2\" style=\"display: none;\"><div style=\"display: table-cell;\"></div><div style=\"display: table-cell;\">js_property_callbacks&nbsp;=&nbsp;{},</div></div><div class=\"73b2206a-de25-493d-855c-ef8ac3d015c2\" style=\"display: none;\"><div style=\"display: table-cell;\"></div><div style=\"display: table-cell;\">level&nbsp;=&nbsp;'glyph',</div></div><div class=\"73b2206a-de25-493d-855c-ef8ac3d015c2\" style=\"display: none;\"><div style=\"display: table-cell;\"></div><div style=\"display: table-cell;\">muted&nbsp;=&nbsp;False,</div></div><div class=\"73b2206a-de25-493d-855c-ef8ac3d015c2\" style=\"display: none;\"><div style=\"display: table-cell;\"></div><div style=\"display: table-cell;\">muted_glyph&nbsp;=&nbsp;None,</div></div><div class=\"73b2206a-de25-493d-855c-ef8ac3d015c2\" style=\"display: none;\"><div style=\"display: table-cell;\"></div><div style=\"display: table-cell;\">name&nbsp;=&nbsp;None,</div></div><div class=\"73b2206a-de25-493d-855c-ef8ac3d015c2\" style=\"display: none;\"><div style=\"display: table-cell;\"></div><div style=\"display: table-cell;\">nonselection_glyph&nbsp;=&nbsp;Circle(id='af138ca1-1be4-4122-a8de-e26180acf058', ...),</div></div><div class=\"73b2206a-de25-493d-855c-ef8ac3d015c2\" style=\"display: none;\"><div style=\"display: table-cell;\"></div><div style=\"display: table-cell;\">selection_glyph&nbsp;=&nbsp;None,</div></div><div class=\"73b2206a-de25-493d-855c-ef8ac3d015c2\" style=\"display: none;\"><div style=\"display: table-cell;\"></div><div style=\"display: table-cell;\">subscribed_events&nbsp;=&nbsp;[],</div></div><div class=\"73b2206a-de25-493d-855c-ef8ac3d015c2\" style=\"display: none;\"><div style=\"display: table-cell;\"></div><div style=\"display: table-cell;\">tags&nbsp;=&nbsp;[],</div></div><div class=\"73b2206a-de25-493d-855c-ef8ac3d015c2\" style=\"display: none;\"><div style=\"display: table-cell;\"></div><div style=\"display: table-cell;\">view&nbsp;=&nbsp;CDSView(id='248b3185-d309-4941-9006-2a6a97686238', ...),</div></div><div class=\"73b2206a-de25-493d-855c-ef8ac3d015c2\" style=\"display: none;\"><div style=\"display: table-cell;\"></div><div style=\"display: table-cell;\">visible&nbsp;=&nbsp;True,</div></div><div class=\"73b2206a-de25-493d-855c-ef8ac3d015c2\" style=\"display: none;\"><div style=\"display: table-cell;\"></div><div style=\"display: table-cell;\">x_range_name&nbsp;=&nbsp;'default',</div></div><div class=\"73b2206a-de25-493d-855c-ef8ac3d015c2\" style=\"display: none;\"><div style=\"display: table-cell;\"></div><div style=\"display: table-cell;\">y_range_name&nbsp;=&nbsp;'default')</div></div></div>\n",
       "<script>\n",
       "(function() {\n",
       "  var expanded = false;\n",
       "  var ellipsis = document.getElementById(\"c1f8cb58-74bc-4503-83b2-da0fa60f110d\");\n",
       "  ellipsis.addEventListener(\"click\", function() {\n",
       "    var rows = document.getElementsByClassName(\"73b2206a-de25-493d-855c-ef8ac3d015c2\");\n",
       "    for (var i = 0; i < rows.length; i++) {\n",
       "      var el = rows[i];\n",
       "      el.style.display = expanded ? \"none\" : \"table-row\";\n",
       "    }\n",
       "    ellipsis.innerHTML = expanded ? \"&hellip;)\" : \"&lsaquo;&lsaquo;&lsaquo;\";\n",
       "    expanded = !expanded;\n",
       "  });\n",
       "})();\n",
       "</script>\n"
      ],
      "text/plain": [
       "GlyphRenderer(id='5d219217-6f0e-4320-af53-11ed3bb201f1', ...)"
      ]
     },
     "execution_count": 182,
     "metadata": {},
     "output_type": "execute_result"
    }
   ],
   "source": [
    "p.scatter(x = \"underlier\", y = \"value0\" ,source = df_output , color = \"red\")"
   ]
  },
  {
   "cell_type": "markdown",
   "metadata": {},
   "source": [
    "value1は行使価値"
   ]
  },
  {
   "cell_type": "code",
   "execution_count": 183,
   "metadata": {},
   "outputs": [
    {
     "data": {
      "text/html": [
       "<div style=\"display: table;\"><div style=\"display: table-row;\"><div style=\"display: table-cell;\"><b title=\"bokeh.models.renderers.GlyphRenderer\">GlyphRenderer</b>(</div><div style=\"display: table-cell;\">id&nbsp;=&nbsp;'844b39d0-30d5-4b5d-a244-3b8d425334db', <span id=\"54c98fba-d59c-4aed-9acf-352a674c784a\" style=\"cursor: pointer;\">&hellip;)</span></div></div><div class=\"4f7d7f9d-39bb-4aed-8b0c-ba41d96a40d1\" style=\"display: none;\"><div style=\"display: table-cell;\"></div><div style=\"display: table-cell;\">data_source&nbsp;=&nbsp;ColumnDataSource(id='382dac0b-f075-44bf-9fa8-4d9d1affb357', ...),</div></div><div class=\"4f7d7f9d-39bb-4aed-8b0c-ba41d96a40d1\" style=\"display: none;\"><div style=\"display: table-cell;\"></div><div style=\"display: table-cell;\">glyph&nbsp;=&nbsp;Circle(id='6d33eacc-ecfa-4ab5-b0de-2702c420777d', ...),</div></div><div class=\"4f7d7f9d-39bb-4aed-8b0c-ba41d96a40d1\" style=\"display: none;\"><div style=\"display: table-cell;\"></div><div style=\"display: table-cell;\">hover_glyph&nbsp;=&nbsp;None,</div></div><div class=\"4f7d7f9d-39bb-4aed-8b0c-ba41d96a40d1\" style=\"display: none;\"><div style=\"display: table-cell;\"></div><div style=\"display: table-cell;\">js_event_callbacks&nbsp;=&nbsp;{},</div></div><div class=\"4f7d7f9d-39bb-4aed-8b0c-ba41d96a40d1\" style=\"display: none;\"><div style=\"display: table-cell;\"></div><div style=\"display: table-cell;\">js_property_callbacks&nbsp;=&nbsp;{},</div></div><div class=\"4f7d7f9d-39bb-4aed-8b0c-ba41d96a40d1\" style=\"display: none;\"><div style=\"display: table-cell;\"></div><div style=\"display: table-cell;\">level&nbsp;=&nbsp;'glyph',</div></div><div class=\"4f7d7f9d-39bb-4aed-8b0c-ba41d96a40d1\" style=\"display: none;\"><div style=\"display: table-cell;\"></div><div style=\"display: table-cell;\">muted&nbsp;=&nbsp;False,</div></div><div class=\"4f7d7f9d-39bb-4aed-8b0c-ba41d96a40d1\" style=\"display: none;\"><div style=\"display: table-cell;\"></div><div style=\"display: table-cell;\">muted_glyph&nbsp;=&nbsp;None,</div></div><div class=\"4f7d7f9d-39bb-4aed-8b0c-ba41d96a40d1\" style=\"display: none;\"><div style=\"display: table-cell;\"></div><div style=\"display: table-cell;\">name&nbsp;=&nbsp;None,</div></div><div class=\"4f7d7f9d-39bb-4aed-8b0c-ba41d96a40d1\" style=\"display: none;\"><div style=\"display: table-cell;\"></div><div style=\"display: table-cell;\">nonselection_glyph&nbsp;=&nbsp;Circle(id='fd1bfd73-dadc-412c-a983-96e4e317ffec', ...),</div></div><div class=\"4f7d7f9d-39bb-4aed-8b0c-ba41d96a40d1\" style=\"display: none;\"><div style=\"display: table-cell;\"></div><div style=\"display: table-cell;\">selection_glyph&nbsp;=&nbsp;None,</div></div><div class=\"4f7d7f9d-39bb-4aed-8b0c-ba41d96a40d1\" style=\"display: none;\"><div style=\"display: table-cell;\"></div><div style=\"display: table-cell;\">subscribed_events&nbsp;=&nbsp;[],</div></div><div class=\"4f7d7f9d-39bb-4aed-8b0c-ba41d96a40d1\" style=\"display: none;\"><div style=\"display: table-cell;\"></div><div style=\"display: table-cell;\">tags&nbsp;=&nbsp;[],</div></div><div class=\"4f7d7f9d-39bb-4aed-8b0c-ba41d96a40d1\" style=\"display: none;\"><div style=\"display: table-cell;\"></div><div style=\"display: table-cell;\">view&nbsp;=&nbsp;CDSView(id='9ff3faf3-7826-4ff4-b65a-98c3a2d17a62', ...),</div></div><div class=\"4f7d7f9d-39bb-4aed-8b0c-ba41d96a40d1\" style=\"display: none;\"><div style=\"display: table-cell;\"></div><div style=\"display: table-cell;\">visible&nbsp;=&nbsp;True,</div></div><div class=\"4f7d7f9d-39bb-4aed-8b0c-ba41d96a40d1\" style=\"display: none;\"><div style=\"display: table-cell;\"></div><div style=\"display: table-cell;\">x_range_name&nbsp;=&nbsp;'default',</div></div><div class=\"4f7d7f9d-39bb-4aed-8b0c-ba41d96a40d1\" style=\"display: none;\"><div style=\"display: table-cell;\"></div><div style=\"display: table-cell;\">y_range_name&nbsp;=&nbsp;'default')</div></div></div>\n",
       "<script>\n",
       "(function() {\n",
       "  var expanded = false;\n",
       "  var ellipsis = document.getElementById(\"54c98fba-d59c-4aed-9acf-352a674c784a\");\n",
       "  ellipsis.addEventListener(\"click\", function() {\n",
       "    var rows = document.getElementsByClassName(\"4f7d7f9d-39bb-4aed-8b0c-ba41d96a40d1\");\n",
       "    for (var i = 0; i < rows.length; i++) {\n",
       "      var el = rows[i];\n",
       "      el.style.display = expanded ? \"none\" : \"table-row\";\n",
       "    }\n",
       "    ellipsis.innerHTML = expanded ? \"&hellip;)\" : \"&lsaquo;&lsaquo;&lsaquo;\";\n",
       "    expanded = !expanded;\n",
       "  });\n",
       "})();\n",
       "</script>\n"
      ],
      "text/plain": [
       "GlyphRenderer(id='844b39d0-30d5-4b5d-a244-3b8d425334db', ...)"
      ]
     },
     "execution_count": 183,
     "metadata": {},
     "output_type": "execute_result"
    }
   ],
   "source": [
    "p.scatter(x = \"underlier\", y = \"value1\" ,source = df_output)"
   ]
  },
  {
   "cell_type": "code",
   "execution_count": 184,
   "metadata": {},
   "outputs": [
    {
     "data": {
      "text/html": [
       "<div style=\"display: table;\"><div style=\"display: table-row;\"><div style=\"display: table-cell;\"><b title=\"bokeh.models.renderers.GlyphRenderer\">GlyphRenderer</b>(</div><div style=\"display: table-cell;\">id&nbsp;=&nbsp;'032c685c-aa8d-4195-8f12-a61011af50e7', <span id=\"f15eccbe-5655-4fb7-88e3-e7b93404e8dc\" style=\"cursor: pointer;\">&hellip;)</span></div></div><div class=\"477bd8a9-8d73-4c5a-939a-6529f288644d\" style=\"display: none;\"><div style=\"display: table-cell;\"></div><div style=\"display: table-cell;\">data_source&nbsp;=&nbsp;ColumnDataSource(id='25b47c39-c3de-454a-b6c0-ede2d07a697f', ...),</div></div><div class=\"477bd8a9-8d73-4c5a-939a-6529f288644d\" style=\"display: none;\"><div style=\"display: table-cell;\"></div><div style=\"display: table-cell;\">glyph&nbsp;=&nbsp;Line(id='5c160279-5d36-46f9-bd73-1af50cd0db55', ...),</div></div><div class=\"477bd8a9-8d73-4c5a-939a-6529f288644d\" style=\"display: none;\"><div style=\"display: table-cell;\"></div><div style=\"display: table-cell;\">hover_glyph&nbsp;=&nbsp;None,</div></div><div class=\"477bd8a9-8d73-4c5a-939a-6529f288644d\" style=\"display: none;\"><div style=\"display: table-cell;\"></div><div style=\"display: table-cell;\">js_event_callbacks&nbsp;=&nbsp;{},</div></div><div class=\"477bd8a9-8d73-4c5a-939a-6529f288644d\" style=\"display: none;\"><div style=\"display: table-cell;\"></div><div style=\"display: table-cell;\">js_property_callbacks&nbsp;=&nbsp;{},</div></div><div class=\"477bd8a9-8d73-4c5a-939a-6529f288644d\" style=\"display: none;\"><div style=\"display: table-cell;\"></div><div style=\"display: table-cell;\">level&nbsp;=&nbsp;'glyph',</div></div><div class=\"477bd8a9-8d73-4c5a-939a-6529f288644d\" style=\"display: none;\"><div style=\"display: table-cell;\"></div><div style=\"display: table-cell;\">muted&nbsp;=&nbsp;False,</div></div><div class=\"477bd8a9-8d73-4c5a-939a-6529f288644d\" style=\"display: none;\"><div style=\"display: table-cell;\"></div><div style=\"display: table-cell;\">muted_glyph&nbsp;=&nbsp;None,</div></div><div class=\"477bd8a9-8d73-4c5a-939a-6529f288644d\" style=\"display: none;\"><div style=\"display: table-cell;\"></div><div style=\"display: table-cell;\">name&nbsp;=&nbsp;None,</div></div><div class=\"477bd8a9-8d73-4c5a-939a-6529f288644d\" style=\"display: none;\"><div style=\"display: table-cell;\"></div><div style=\"display: table-cell;\">nonselection_glyph&nbsp;=&nbsp;Line(id='3e28ae7b-54a5-48a5-ae30-5a56f3c67299', ...),</div></div><div class=\"477bd8a9-8d73-4c5a-939a-6529f288644d\" style=\"display: none;\"><div style=\"display: table-cell;\"></div><div style=\"display: table-cell;\">selection_glyph&nbsp;=&nbsp;None,</div></div><div class=\"477bd8a9-8d73-4c5a-939a-6529f288644d\" style=\"display: none;\"><div style=\"display: table-cell;\"></div><div style=\"display: table-cell;\">subscribed_events&nbsp;=&nbsp;[],</div></div><div class=\"477bd8a9-8d73-4c5a-939a-6529f288644d\" style=\"display: none;\"><div style=\"display: table-cell;\"></div><div style=\"display: table-cell;\">tags&nbsp;=&nbsp;[],</div></div><div class=\"477bd8a9-8d73-4c5a-939a-6529f288644d\" style=\"display: none;\"><div style=\"display: table-cell;\"></div><div style=\"display: table-cell;\">view&nbsp;=&nbsp;CDSView(id='fddcb16a-f53c-4de3-a8bf-30fe5e605770', ...),</div></div><div class=\"477bd8a9-8d73-4c5a-939a-6529f288644d\" style=\"display: none;\"><div style=\"display: table-cell;\"></div><div style=\"display: table-cell;\">visible&nbsp;=&nbsp;True,</div></div><div class=\"477bd8a9-8d73-4c5a-939a-6529f288644d\" style=\"display: none;\"><div style=\"display: table-cell;\"></div><div style=\"display: table-cell;\">x_range_name&nbsp;=&nbsp;'default',</div></div><div class=\"477bd8a9-8d73-4c5a-939a-6529f288644d\" style=\"display: none;\"><div style=\"display: table-cell;\"></div><div style=\"display: table-cell;\">y_range_name&nbsp;=&nbsp;'default')</div></div></div>\n",
       "<script>\n",
       "(function() {\n",
       "  var expanded = false;\n",
       "  var ellipsis = document.getElementById(\"f15eccbe-5655-4fb7-88e3-e7b93404e8dc\");\n",
       "  ellipsis.addEventListener(\"click\", function() {\n",
       "    var rows = document.getElementsByClassName(\"477bd8a9-8d73-4c5a-939a-6529f288644d\");\n",
       "    for (var i = 0; i < rows.length; i++) {\n",
       "      var el = rows[i];\n",
       "      el.style.display = expanded ? \"none\" : \"table-row\";\n",
       "    }\n",
       "    ellipsis.innerHTML = expanded ? \"&hellip;)\" : \"&lsaquo;&lsaquo;&lsaquo;\";\n",
       "    expanded = !expanded;\n",
       "  });\n",
       "})();\n",
       "</script>\n"
      ],
      "text/plain": [
       "GlyphRenderer(id='032c685c-aa8d-4195-8f12-a61011af50e7', ...)"
      ]
     },
     "execution_count": 184,
     "metadata": {},
     "output_type": "execute_result"
    }
   ],
   "source": [
    "p.line(x = \"underlier\" , y = \"tree_american\" , source = df_output,  color = \"yellow\")"
   ]
  },
  {
   "cell_type": "code",
   "execution_count": 185,
   "metadata": {},
   "outputs": [
    {
     "data": {
      "text/html": [
       "<div style=\"display: table;\"><div style=\"display: table-row;\"><div style=\"display: table-cell;\"><b title=\"bokeh.models.renderers.GlyphRenderer\">GlyphRenderer</b>(</div><div style=\"display: table-cell;\">id&nbsp;=&nbsp;'dd10609e-0f36-405b-a0da-e23805401fe5', <span id=\"45a290df-e70b-4c54-a1ec-29fea3d5cc1b\" style=\"cursor: pointer;\">&hellip;)</span></div></div><div class=\"5b93e32c-c381-4646-862d-d887ffe179d5\" style=\"display: none;\"><div style=\"display: table-cell;\"></div><div style=\"display: table-cell;\">data_source&nbsp;=&nbsp;ColumnDataSource(id='5f01fc19-2fa2-46c4-a547-e2c07d589dac', ...),</div></div><div class=\"5b93e32c-c381-4646-862d-d887ffe179d5\" style=\"display: none;\"><div style=\"display: table-cell;\"></div><div style=\"display: table-cell;\">glyph&nbsp;=&nbsp;Line(id='216bf9e5-b79a-4c4a-b19d-400534f8973b', ...),</div></div><div class=\"5b93e32c-c381-4646-862d-d887ffe179d5\" style=\"display: none;\"><div style=\"display: table-cell;\"></div><div style=\"display: table-cell;\">hover_glyph&nbsp;=&nbsp;None,</div></div><div class=\"5b93e32c-c381-4646-862d-d887ffe179d5\" style=\"display: none;\"><div style=\"display: table-cell;\"></div><div style=\"display: table-cell;\">js_event_callbacks&nbsp;=&nbsp;{},</div></div><div class=\"5b93e32c-c381-4646-862d-d887ffe179d5\" style=\"display: none;\"><div style=\"display: table-cell;\"></div><div style=\"display: table-cell;\">js_property_callbacks&nbsp;=&nbsp;{},</div></div><div class=\"5b93e32c-c381-4646-862d-d887ffe179d5\" style=\"display: none;\"><div style=\"display: table-cell;\"></div><div style=\"display: table-cell;\">level&nbsp;=&nbsp;'glyph',</div></div><div class=\"5b93e32c-c381-4646-862d-d887ffe179d5\" style=\"display: none;\"><div style=\"display: table-cell;\"></div><div style=\"display: table-cell;\">muted&nbsp;=&nbsp;False,</div></div><div class=\"5b93e32c-c381-4646-862d-d887ffe179d5\" style=\"display: none;\"><div style=\"display: table-cell;\"></div><div style=\"display: table-cell;\">muted_glyph&nbsp;=&nbsp;None,</div></div><div class=\"5b93e32c-c381-4646-862d-d887ffe179d5\" style=\"display: none;\"><div style=\"display: table-cell;\"></div><div style=\"display: table-cell;\">name&nbsp;=&nbsp;None,</div></div><div class=\"5b93e32c-c381-4646-862d-d887ffe179d5\" style=\"display: none;\"><div style=\"display: table-cell;\"></div><div style=\"display: table-cell;\">nonselection_glyph&nbsp;=&nbsp;Line(id='776bffec-405a-4a9b-9ebc-8e3e6054fb65', ...),</div></div><div class=\"5b93e32c-c381-4646-862d-d887ffe179d5\" style=\"display: none;\"><div style=\"display: table-cell;\"></div><div style=\"display: table-cell;\">selection_glyph&nbsp;=&nbsp;None,</div></div><div class=\"5b93e32c-c381-4646-862d-d887ffe179d5\" style=\"display: none;\"><div style=\"display: table-cell;\"></div><div style=\"display: table-cell;\">subscribed_events&nbsp;=&nbsp;[],</div></div><div class=\"5b93e32c-c381-4646-862d-d887ffe179d5\" style=\"display: none;\"><div style=\"display: table-cell;\"></div><div style=\"display: table-cell;\">tags&nbsp;=&nbsp;[],</div></div><div class=\"5b93e32c-c381-4646-862d-d887ffe179d5\" style=\"display: none;\"><div style=\"display: table-cell;\"></div><div style=\"display: table-cell;\">view&nbsp;=&nbsp;CDSView(id='4b241cde-5f8b-4706-878a-58dcd90f87cb', ...),</div></div><div class=\"5b93e32c-c381-4646-862d-d887ffe179d5\" style=\"display: none;\"><div style=\"display: table-cell;\"></div><div style=\"display: table-cell;\">visible&nbsp;=&nbsp;True,</div></div><div class=\"5b93e32c-c381-4646-862d-d887ffe179d5\" style=\"display: none;\"><div style=\"display: table-cell;\"></div><div style=\"display: table-cell;\">x_range_name&nbsp;=&nbsp;'default',</div></div><div class=\"5b93e32c-c381-4646-862d-d887ffe179d5\" style=\"display: none;\"><div style=\"display: table-cell;\"></div><div style=\"display: table-cell;\">y_range_name&nbsp;=&nbsp;'default')</div></div></div>\n",
       "<script>\n",
       "(function() {\n",
       "  var expanded = false;\n",
       "  var ellipsis = document.getElementById(\"45a290df-e70b-4c54-a1ec-29fea3d5cc1b\");\n",
       "  ellipsis.addEventListener(\"click\", function() {\n",
       "    var rows = document.getElementsByClassName(\"5b93e32c-c381-4646-862d-d887ffe179d5\");\n",
       "    for (var i = 0; i < rows.length; i++) {\n",
       "      var el = rows[i];\n",
       "      el.style.display = expanded ? \"none\" : \"table-row\";\n",
       "    }\n",
       "    ellipsis.innerHTML = expanded ? \"&hellip;)\" : \"&lsaquo;&lsaquo;&lsaquo;\";\n",
       "    expanded = !expanded;\n",
       "  });\n",
       "})();\n",
       "</script>\n"
      ],
      "text/plain": [
       "GlyphRenderer(id='dd10609e-0f36-405b-a0da-e23805401fe5', ...)"
      ]
     },
     "execution_count": 185,
     "metadata": {},
     "output_type": "execute_result"
    }
   ],
   "source": [
    "p.line(x = \"underlier\" , y = \"tree_european\" , source = df_output,  color = \"pink\")"
   ]
  },
  {
   "cell_type": "markdown",
   "metadata": {},
   "source": [
    "赤が継続価値"
   ]
  },
  {
   "cell_type": "code",
   "execution_count": 186,
   "metadata": {},
   "outputs": [
    {
     "data": {
      "text/html": [
       "\n",
       "<div class=\"bk-root\">\n",
       "    <div class=\"bk-plotdiv\" id=\"ceb3ecc8-ff0c-40c5-993d-390233290ac1\"></div>\n",
       "</div>"
      ]
     },
     "metadata": {},
     "output_type": "display_data"
    },
    {
     "data": {
      "application/javascript": [
       "(function(root) {\n",
       "  function embed_document(root) {\n",
       "    \n",
       "  var docs_json = {\"96bccc38-fc50-4539-8eda-2604b510b900\":{\"roots\":{\"references\":[{\"attributes\":{\"line_alpha\":0.1,\"line_color\":\"#1f77b4\",\"x\":{\"field\":\"underlier\"},\"y\":{\"field\":\"tree_american\"}},\"id\":\"3e28ae7b-54a5-48a5-ae30-5a56f3c67299\",\"type\":\"Line\"},{\"attributes\":{\"plot\":null,\"text\":\"\"},\"id\":\"d3495eb1-a96f-44fc-8444-d7ee855f24a1\",\"type\":\"Title\"},{\"attributes\":{\"formatter\":{\"id\":\"f64f962f-2bf8-45d1-bed9-91689582631d\",\"type\":\"BasicTickFormatter\"},\"plot\":{\"id\":\"a88754f3-cceb-42f6-95b8-9cd9f96390ab\",\"subtype\":\"Figure\",\"type\":\"Plot\"},\"ticker\":{\"id\":\"a3960eb7-2962-48d7-85e4-19ecf03abc50\",\"type\":\"BasicTicker\"}},\"id\":\"450d22c0-48a7-4bf5-a4ea-74d1f71ce54d\",\"type\":\"LinearAxis\"},{\"attributes\":{},\"id\":\"9d3bf156-ad7d-43a8-bf86-9433ec181bc1\",\"type\":\"HelpTool\"},{\"attributes\":{\"below\":[{\"id\":\"450d22c0-48a7-4bf5-a4ea-74d1f71ce54d\",\"type\":\"LinearAxis\"}],\"left\":[{\"id\":\"cae3d589-1503-454a-8e08-94f180530434\",\"type\":\"LinearAxis\"}],\"renderers\":[{\"id\":\"450d22c0-48a7-4bf5-a4ea-74d1f71ce54d\",\"type\":\"LinearAxis\"},{\"id\":\"85cd92a8-0393-4233-b715-dd3f842e487b\",\"type\":\"Grid\"},{\"id\":\"cae3d589-1503-454a-8e08-94f180530434\",\"type\":\"LinearAxis\"},{\"id\":\"6545b96a-ced9-40a5-b2ff-b9bf0e548b41\",\"type\":\"Grid\"},{\"id\":\"7fd9280a-d5da-4e07-a5c1-3f5e29732164\",\"type\":\"BoxAnnotation\"},{\"id\":\"5d219217-6f0e-4320-af53-11ed3bb201f1\",\"type\":\"GlyphRenderer\"},{\"id\":\"844b39d0-30d5-4b5d-a244-3b8d425334db\",\"type\":\"GlyphRenderer\"},{\"id\":\"032c685c-aa8d-4195-8f12-a61011af50e7\",\"type\":\"GlyphRenderer\"},{\"id\":\"dd10609e-0f36-405b-a0da-e23805401fe5\",\"type\":\"GlyphRenderer\"}],\"title\":{\"id\":\"d3495eb1-a96f-44fc-8444-d7ee855f24a1\",\"type\":\"Title\"},\"toolbar\":{\"id\":\"1aa3bbdc-7fbc-4d27-a41b-fc435ca3174d\",\"type\":\"Toolbar\"},\"x_range\":{\"id\":\"a306925a-3dfe-46ad-8b03-8882cb993f78\",\"type\":\"DataRange1d\"},\"x_scale\":{\"id\":\"7cc412f0-7509-46c3-8c1d-82ef5e3d2b6f\",\"type\":\"LinearScale\"},\"y_range\":{\"id\":\"ebc00b6f-648a-4d75-bc3f-88108e29a427\",\"type\":\"DataRange1d\"},\"y_scale\":{\"id\":\"d9df4fdc-d8b1-4ef6-bcb3-ea1a354b2d70\",\"type\":\"LinearScale\"}},\"id\":\"a88754f3-cceb-42f6-95b8-9cd9f96390ab\",\"subtype\":\"Figure\",\"type\":\"Plot\"},{\"attributes\":{\"plot\":{\"id\":\"a88754f3-cceb-42f6-95b8-9cd9f96390ab\",\"subtype\":\"Figure\",\"type\":\"Plot\"},\"ticker\":{\"id\":\"a3960eb7-2962-48d7-85e4-19ecf03abc50\",\"type\":\"BasicTicker\"}},\"id\":\"85cd92a8-0393-4233-b715-dd3f842e487b\",\"type\":\"Grid\"},{\"attributes\":{\"callback\":null,\"column_names\":[\"value0\",\"value1\",\"index\",\"tree_american\",\"tree_european\",\"underlier\"],\"data\":{\"index\":[0,1,2,3,4,5,6,7,8,9,10,11,12,13,14,15,16,17,18],\"tree_american\":{\"__ndarray__\":\"AAAAAAAAAAAAAAAAAAAAADVzRDbqC0Q6ZGk3TQ71iTxyAlEmszvBPa+YsrHXHnw+Azyx4lsG/D7Y95cBZCZXP36XtyEPcJc/UK4MR+FOxz+XAXyLvcfqPxUCVWcmBQVAj43lWYnSGEDsRYr4qBsoQB/PgfNtJjRAAAAAAAAAPkABAAAAAABEQAAAAAAAAElAAAAAAAAATkA=\",\"dtype\":\"float64\",\"shape\":[19]},\"tree_european\":{\"__ndarray__\":\"nPC2N+jmxTJKVaUTBy28ODmwgyHMqWQ7P403Zvuk6Tx3r9WOznviPazgqUVdIos+izUCVcmLAj8SIJxLikRYP0vwDKG8hZc/HH0gwrFmxj8dBPwL02bpP/1mpzCcpgNALCtd6wDqFkBysM7IurAlQL1hEK07oDFA6GzsYLOkOUC/ZLiMBTlBQHBO0Rar10VA7cyfv1mSSkA=\",\"dtype\":\"float64\",\"shape\":[19]},\"underlier\":{\"__ndarray__\":\"AAAAAAAAJEAAAAAAAAA0QAAAAAAAAD5AAAAAAAAAREAAAAAAAABJQAAAAAAAAE5AAAAAAACAUUAAAAAAAABUQAAAAAAAgFZAAAAAAAAAWUAAAAAAAIBbQAAAAAAAAF5AAAAAAABAYEAAAAAAAIBhQAAAAAAAwGJAAAAAAAAAZEAAAAAAAEBlQAAAAAAAgGZAAAAAAADAZ0A=\",\"dtype\":\"float64\",\"shape\":[19]},\"value0\":{\"__ndarray__\":\"AAAAgD7JxD8AAACABEKuPwAAAEBJqrA/AAAAQGfPsD8AAACAbpmsPwAAAICyGag/AAAAgBqaoz8AAAAAxWKePwAAAADVt50/AAAAgAIarD8AAACgcC/EPwAAAECCd9w/AAAAoGdj8j8AAACAgNIGQAAAAAAY9xpAAAAAgHK9KUAAAACA1Ck0QAAAAIAHxjtAAAAAgLSlQUA=\",\"dtype\":\"float64\",\"shape\":[19]},\"value1\":{\"__ndarray__\":\"AAAAgAadG8AAAABAjVkbwAAAAGCpORvAAAAAgLlKHMAAAACAuAkfwAAAAACO6iDAAAAAYClRIsAAAACA1rIjwAAAAIBBtiTAAAAAQCykJMAAAADg+AMiwAAAAICvOxrAAAAAAPCL7L8AAAAAufUfQAAAACCfMDFAAAAAYFnKOUAAAAAAOU5BQAAAAMDa60VAAAAA4KekSkA=\",\"dtype\":\"float64\",\"shape\":[19]}}},\"id\":\"382dac0b-f075-44bf-9fa8-4d9d1affb357\",\"type\":\"ColumnDataSource\"},{\"attributes\":{},\"id\":\"f26136c7-2052-42ca-a8dc-8d95699e83e9\",\"type\":\"BasicTicker\"},{\"attributes\":{},\"id\":\"fca17356-8639-45b4-bcc3-5d9716bde424\",\"type\":\"BasicTickFormatter\"},{\"attributes\":{},\"id\":\"f64f962f-2bf8-45d1-bed9-91689582631d\",\"type\":\"BasicTickFormatter\"},{\"attributes\":{},\"id\":\"a8002207-5b50-4f79-85bd-9c6e2f37f29e\",\"type\":\"PanTool\"},{\"attributes\":{},\"id\":\"aef1aaa4-cc42-4f16-8929-ccfa0f367ed8\",\"type\":\"SaveTool\"},{\"attributes\":{\"callback\":null,\"column_names\":[\"value0\",\"value1\",\"index\",\"tree_american\",\"tree_european\",\"underlier\"],\"data\":{\"index\":[0,1,2,3,4,5,6,7,8,9,10,11,12,13,14,15,16,17,18],\"tree_american\":{\"__ndarray__\":\"AAAAAAAAAAAAAAAAAAAAADVzRDbqC0Q6ZGk3TQ71iTxyAlEmszvBPa+YsrHXHnw+Azyx4lsG/D7Y95cBZCZXP36XtyEPcJc/UK4MR+FOxz+XAXyLvcfqPxUCVWcmBQVAj43lWYnSGEDsRYr4qBsoQB/PgfNtJjRAAAAAAAAAPkABAAAAAABEQAAAAAAAAElAAAAAAAAATkA=\",\"dtype\":\"float64\",\"shape\":[19]},\"tree_european\":{\"__ndarray__\":\"nPC2N+jmxTJKVaUTBy28ODmwgyHMqWQ7P403Zvuk6Tx3r9WOznviPazgqUVdIos+izUCVcmLAj8SIJxLikRYP0vwDKG8hZc/HH0gwrFmxj8dBPwL02bpP/1mpzCcpgNALCtd6wDqFkBysM7IurAlQL1hEK07oDFA6GzsYLOkOUC/ZLiMBTlBQHBO0Rar10VA7cyfv1mSSkA=\",\"dtype\":\"float64\",\"shape\":[19]},\"underlier\":{\"__ndarray__\":\"AAAAAAAAJEAAAAAAAAA0QAAAAAAAAD5AAAAAAAAAREAAAAAAAABJQAAAAAAAAE5AAAAAAACAUUAAAAAAAABUQAAAAAAAgFZAAAAAAAAAWUAAAAAAAIBbQAAAAAAAAF5AAAAAAABAYEAAAAAAAIBhQAAAAAAAwGJAAAAAAAAAZEAAAAAAAEBlQAAAAAAAgGZAAAAAAADAZ0A=\",\"dtype\":\"float64\",\"shape\":[19]},\"value0\":{\"__ndarray__\":\"AAAAgD7JxD8AAACABEKuPwAAAEBJqrA/AAAAQGfPsD8AAACAbpmsPwAAAICyGag/AAAAgBqaoz8AAAAAxWKePwAAAADVt50/AAAAgAIarD8AAACgcC/EPwAAAECCd9w/AAAAoGdj8j8AAACAgNIGQAAAAAAY9xpAAAAAgHK9KUAAAACA1Ck0QAAAAIAHxjtAAAAAgLSlQUA=\",\"dtype\":\"float64\",\"shape\":[19]},\"value1\":{\"__ndarray__\":\"AAAAgAadG8AAAABAjVkbwAAAAGCpORvAAAAAgLlKHMAAAACAuAkfwAAAAACO6iDAAAAAYClRIsAAAACA1rIjwAAAAIBBtiTAAAAAQCykJMAAAADg+AMiwAAAAICvOxrAAAAAAPCL7L8AAAAAufUfQAAAACCfMDFAAAAAYFnKOUAAAAAAOU5BQAAAAMDa60VAAAAA4KekSkA=\",\"dtype\":\"float64\",\"shape\":[19]}}},\"id\":\"5f01fc19-2fa2-46c4-a547-e2c07d589dac\",\"type\":\"ColumnDataSource\"},{\"attributes\":{},\"id\":\"ed2ad0a0-480c-44b7-9904-b1b2cdf9bf04\",\"type\":\"ResetTool\"},{\"attributes\":{\"callback\":null},\"id\":\"ebc00b6f-648a-4d75-bc3f-88108e29a427\",\"type\":\"DataRange1d\"},{\"attributes\":{\"formatter\":{\"id\":\"fca17356-8639-45b4-bcc3-5d9716bde424\",\"type\":\"BasicTickFormatter\"},\"plot\":{\"id\":\"a88754f3-cceb-42f6-95b8-9cd9f96390ab\",\"subtype\":\"Figure\",\"type\":\"Plot\"},\"ticker\":{\"id\":\"f26136c7-2052-42ca-a8dc-8d95699e83e9\",\"type\":\"BasicTicker\"}},\"id\":\"cae3d589-1503-454a-8e08-94f180530434\",\"type\":\"LinearAxis\"},{\"attributes\":{\"overlay\":{\"id\":\"7fd9280a-d5da-4e07-a5c1-3f5e29732164\",\"type\":\"BoxAnnotation\"}},\"id\":\"5dcc7955-9fd7-46cf-994a-aef80f05f2b3\",\"type\":\"BoxZoomTool\"},{\"attributes\":{\"data_source\":{\"id\":\"25b47c39-c3de-454a-b6c0-ede2d07a697f\",\"type\":\"ColumnDataSource\"},\"glyph\":{\"id\":\"5c160279-5d36-46f9-bd73-1af50cd0db55\",\"type\":\"Line\"},\"hover_glyph\":null,\"muted_glyph\":null,\"nonselection_glyph\":{\"id\":\"3e28ae7b-54a5-48a5-ae30-5a56f3c67299\",\"type\":\"Line\"},\"selection_glyph\":null,\"view\":{\"id\":\"fddcb16a-f53c-4de3-a8bf-30fe5e605770\",\"type\":\"CDSView\"}},\"id\":\"032c685c-aa8d-4195-8f12-a61011af50e7\",\"type\":\"GlyphRenderer\"},{\"attributes\":{\"data_source\":{\"id\":\"245460e9-4434-4c50-8102-50d6bea78f33\",\"type\":\"ColumnDataSource\"},\"glyph\":{\"id\":\"dae0148c-088f-45ae-87d9-886cfabc4d86\",\"type\":\"Circle\"},\"hover_glyph\":null,\"muted_glyph\":null,\"nonselection_glyph\":{\"id\":\"af138ca1-1be4-4122-a8de-e26180acf058\",\"type\":\"Circle\"},\"selection_glyph\":null,\"view\":{\"id\":\"248b3185-d309-4941-9006-2a6a97686238\",\"type\":\"CDSView\"}},\"id\":\"5d219217-6f0e-4320-af53-11ed3bb201f1\",\"type\":\"GlyphRenderer\"},{\"attributes\":{\"source\":{\"id\":\"382dac0b-f075-44bf-9fa8-4d9d1affb357\",\"type\":\"ColumnDataSource\"}},\"id\":\"9ff3faf3-7826-4ff4-b65a-98c3a2d17a62\",\"type\":\"CDSView\"},{\"attributes\":{},\"id\":\"7cc412f0-7509-46c3-8c1d-82ef5e3d2b6f\",\"type\":\"LinearScale\"},{\"attributes\":{\"line_alpha\":0.1,\"line_color\":\"#1f77b4\",\"x\":{\"field\":\"underlier\"},\"y\":{\"field\":\"tree_european\"}},\"id\":\"776bffec-405a-4a9b-9ebc-8e3e6054fb65\",\"type\":\"Line\"},{\"attributes\":{\"callback\":null,\"column_names\":[\"value0\",\"value1\",\"index\",\"tree_american\",\"tree_european\",\"underlier\"],\"data\":{\"index\":[0,1,2,3,4,5,6,7,8,9,10,11,12,13,14,15,16,17,18],\"tree_american\":{\"__ndarray__\":\"AAAAAAAAAAAAAAAAAAAAADVzRDbqC0Q6ZGk3TQ71iTxyAlEmszvBPa+YsrHXHnw+Azyx4lsG/D7Y95cBZCZXP36XtyEPcJc/UK4MR+FOxz+XAXyLvcfqPxUCVWcmBQVAj43lWYnSGEDsRYr4qBsoQB/PgfNtJjRAAAAAAAAAPkABAAAAAABEQAAAAAAAAElAAAAAAAAATkA=\",\"dtype\":\"float64\",\"shape\":[19]},\"tree_european\":{\"__ndarray__\":\"nPC2N+jmxTJKVaUTBy28ODmwgyHMqWQ7P403Zvuk6Tx3r9WOznviPazgqUVdIos+izUCVcmLAj8SIJxLikRYP0vwDKG8hZc/HH0gwrFmxj8dBPwL02bpP/1mpzCcpgNALCtd6wDqFkBysM7IurAlQL1hEK07oDFA6GzsYLOkOUC/ZLiMBTlBQHBO0Rar10VA7cyfv1mSSkA=\",\"dtype\":\"float64\",\"shape\":[19]},\"underlier\":{\"__ndarray__\":\"AAAAAAAAJEAAAAAAAAA0QAAAAAAAAD5AAAAAAAAAREAAAAAAAABJQAAAAAAAAE5AAAAAAACAUUAAAAAAAABUQAAAAAAAgFZAAAAAAAAAWUAAAAAAAIBbQAAAAAAAAF5AAAAAAABAYEAAAAAAAIBhQAAAAAAAwGJAAAAAAAAAZEAAAAAAAEBlQAAAAAAAgGZAAAAAAADAZ0A=\",\"dtype\":\"float64\",\"shape\":[19]},\"value0\":{\"__ndarray__\":\"AAAAgD7JxD8AAACABEKuPwAAAEBJqrA/AAAAQGfPsD8AAACAbpmsPwAAAICyGag/AAAAgBqaoz8AAAAAxWKePwAAAADVt50/AAAAgAIarD8AAACgcC/EPwAAAECCd9w/AAAAoGdj8j8AAACAgNIGQAAAAAAY9xpAAAAAgHK9KUAAAACA1Ck0QAAAAIAHxjtAAAAAgLSlQUA=\",\"dtype\":\"float64\",\"shape\":[19]},\"value1\":{\"__ndarray__\":\"AAAAgAadG8AAAABAjVkbwAAAAGCpORvAAAAAgLlKHMAAAACAuAkfwAAAAACO6iDAAAAAYClRIsAAAACA1rIjwAAAAIBBtiTAAAAAQCykJMAAAADg+AMiwAAAAICvOxrAAAAAAPCL7L8AAAAAufUfQAAAACCfMDFAAAAAYFnKOUAAAAAAOU5BQAAAAMDa60VAAAAA4KekSkA=\",\"dtype\":\"float64\",\"shape\":[19]}}},\"id\":\"245460e9-4434-4c50-8102-50d6bea78f33\",\"type\":\"ColumnDataSource\"},{\"attributes\":{\"bottom_units\":\"screen\",\"fill_alpha\":{\"value\":0.5},\"fill_color\":{\"value\":\"lightgrey\"},\"left_units\":\"screen\",\"level\":\"overlay\",\"line_alpha\":{\"value\":1.0},\"line_color\":{\"value\":\"black\"},\"line_dash\":[4,4],\"line_width\":{\"value\":2},\"plot\":null,\"render_mode\":\"css\",\"right_units\":\"screen\",\"top_units\":\"screen\"},\"id\":\"7fd9280a-d5da-4e07-a5c1-3f5e29732164\",\"type\":\"BoxAnnotation\"},{\"attributes\":{\"fill_color\":{\"value\":\"#1f77b4\"},\"line_color\":{\"value\":\"#1f77b4\"},\"x\":{\"field\":\"underlier\"},\"y\":{\"field\":\"value1\"}},\"id\":\"6d33eacc-ecfa-4ab5-b0de-2702c420777d\",\"type\":\"Circle\"},{\"attributes\":{\"callback\":null},\"id\":\"a306925a-3dfe-46ad-8b03-8882cb993f78\",\"type\":\"DataRange1d\"},{\"attributes\":{},\"id\":\"a3960eb7-2962-48d7-85e4-19ecf03abc50\",\"type\":\"BasicTicker\"},{\"attributes\":{\"fill_color\":{\"value\":\"red\"},\"line_color\":{\"value\":\"red\"},\"x\":{\"field\":\"underlier\"},\"y\":{\"field\":\"value0\"}},\"id\":\"dae0148c-088f-45ae-87d9-886cfabc4d86\",\"type\":\"Circle\"},{\"attributes\":{},\"id\":\"d9df4fdc-d8b1-4ef6-bcb3-ea1a354b2d70\",\"type\":\"LinearScale\"},{\"attributes\":{\"source\":{\"id\":\"245460e9-4434-4c50-8102-50d6bea78f33\",\"type\":\"ColumnDataSource\"}},\"id\":\"248b3185-d309-4941-9006-2a6a97686238\",\"type\":\"CDSView\"},{\"attributes\":{\"data_source\":{\"id\":\"382dac0b-f075-44bf-9fa8-4d9d1affb357\",\"type\":\"ColumnDataSource\"},\"glyph\":{\"id\":\"6d33eacc-ecfa-4ab5-b0de-2702c420777d\",\"type\":\"Circle\"},\"hover_glyph\":null,\"muted_glyph\":null,\"nonselection_glyph\":{\"id\":\"fd1bfd73-dadc-412c-a983-96e4e317ffec\",\"type\":\"Circle\"},\"selection_glyph\":null,\"view\":{\"id\":\"9ff3faf3-7826-4ff4-b65a-98c3a2d17a62\",\"type\":\"CDSView\"}},\"id\":\"844b39d0-30d5-4b5d-a244-3b8d425334db\",\"type\":\"GlyphRenderer\"},{\"attributes\":{\"source\":{\"id\":\"25b47c39-c3de-454a-b6c0-ede2d07a697f\",\"type\":\"ColumnDataSource\"}},\"id\":\"fddcb16a-f53c-4de3-a8bf-30fe5e605770\",\"type\":\"CDSView\"},{\"attributes\":{\"active_drag\":\"auto\",\"active_inspect\":\"auto\",\"active_scroll\":\"auto\",\"active_tap\":\"auto\",\"tools\":[{\"id\":\"a8002207-5b50-4f79-85bd-9c6e2f37f29e\",\"type\":\"PanTool\"},{\"id\":\"f36f0175-fd58-4846-979f-0fed165c7b01\",\"type\":\"WheelZoomTool\"},{\"id\":\"5dcc7955-9fd7-46cf-994a-aef80f05f2b3\",\"type\":\"BoxZoomTool\"},{\"id\":\"aef1aaa4-cc42-4f16-8929-ccfa0f367ed8\",\"type\":\"SaveTool\"},{\"id\":\"ed2ad0a0-480c-44b7-9904-b1b2cdf9bf04\",\"type\":\"ResetTool\"},{\"id\":\"9d3bf156-ad7d-43a8-bf86-9433ec181bc1\",\"type\":\"HelpTool\"}]},\"id\":\"1aa3bbdc-7fbc-4d27-a41b-fc435ca3174d\",\"type\":\"Toolbar\"},{\"attributes\":{\"dimension\":1,\"plot\":{\"id\":\"a88754f3-cceb-42f6-95b8-9cd9f96390ab\",\"subtype\":\"Figure\",\"type\":\"Plot\"},\"ticker\":{\"id\":\"f26136c7-2052-42ca-a8dc-8d95699e83e9\",\"type\":\"BasicTicker\"}},\"id\":\"6545b96a-ced9-40a5-b2ff-b9bf0e548b41\",\"type\":\"Grid\"},{\"attributes\":{\"fill_alpha\":{\"value\":0.1},\"fill_color\":{\"value\":\"#1f77b4\"},\"line_alpha\":{\"value\":0.1},\"line_color\":{\"value\":\"#1f77b4\"},\"x\":{\"field\":\"underlier\"},\"y\":{\"field\":\"value1\"}},\"id\":\"fd1bfd73-dadc-412c-a983-96e4e317ffec\",\"type\":\"Circle\"},{\"attributes\":{\"source\":{\"id\":\"5f01fc19-2fa2-46c4-a547-e2c07d589dac\",\"type\":\"ColumnDataSource\"}},\"id\":\"4b241cde-5f8b-4706-878a-58dcd90f87cb\",\"type\":\"CDSView\"},{\"attributes\":{},\"id\":\"f36f0175-fd58-4846-979f-0fed165c7b01\",\"type\":\"WheelZoomTool\"},{\"attributes\":{\"fill_alpha\":{\"value\":0.1},\"fill_color\":{\"value\":\"#1f77b4\"},\"line_alpha\":{\"value\":0.1},\"line_color\":{\"value\":\"#1f77b4\"},\"x\":{\"field\":\"underlier\"},\"y\":{\"field\":\"value0\"}},\"id\":\"af138ca1-1be4-4122-a8de-e26180acf058\",\"type\":\"Circle\"},{\"attributes\":{\"line_color\":\"yellow\",\"x\":{\"field\":\"underlier\"},\"y\":{\"field\":\"tree_american\"}},\"id\":\"5c160279-5d36-46f9-bd73-1af50cd0db55\",\"type\":\"Line\"},{\"attributes\":{\"data_source\":{\"id\":\"5f01fc19-2fa2-46c4-a547-e2c07d589dac\",\"type\":\"ColumnDataSource\"},\"glyph\":{\"id\":\"216bf9e5-b79a-4c4a-b19d-400534f8973b\",\"type\":\"Line\"},\"hover_glyph\":null,\"muted_glyph\":null,\"nonselection_glyph\":{\"id\":\"776bffec-405a-4a9b-9ebc-8e3e6054fb65\",\"type\":\"Line\"},\"selection_glyph\":null,\"view\":{\"id\":\"4b241cde-5f8b-4706-878a-58dcd90f87cb\",\"type\":\"CDSView\"}},\"id\":\"dd10609e-0f36-405b-a0da-e23805401fe5\",\"type\":\"GlyphRenderer\"},{\"attributes\":{\"line_color\":\"pink\",\"x\":{\"field\":\"underlier\"},\"y\":{\"field\":\"tree_european\"}},\"id\":\"216bf9e5-b79a-4c4a-b19d-400534f8973b\",\"type\":\"Line\"},{\"attributes\":{\"callback\":null,\"column_names\":[\"value0\",\"value1\",\"index\",\"tree_american\",\"tree_european\",\"underlier\"],\"data\":{\"index\":[0,1,2,3,4,5,6,7,8,9,10,11,12,13,14,15,16,17,18],\"tree_american\":{\"__ndarray__\":\"AAAAAAAAAAAAAAAAAAAAADVzRDbqC0Q6ZGk3TQ71iTxyAlEmszvBPa+YsrHXHnw+Azyx4lsG/D7Y95cBZCZXP36XtyEPcJc/UK4MR+FOxz+XAXyLvcfqPxUCVWcmBQVAj43lWYnSGEDsRYr4qBsoQB/PgfNtJjRAAAAAAAAAPkABAAAAAABEQAAAAAAAAElAAAAAAAAATkA=\",\"dtype\":\"float64\",\"shape\":[19]},\"tree_european\":{\"__ndarray__\":\"nPC2N+jmxTJKVaUTBy28ODmwgyHMqWQ7P403Zvuk6Tx3r9WOznviPazgqUVdIos+izUCVcmLAj8SIJxLikRYP0vwDKG8hZc/HH0gwrFmxj8dBPwL02bpP/1mpzCcpgNALCtd6wDqFkBysM7IurAlQL1hEK07oDFA6GzsYLOkOUC/ZLiMBTlBQHBO0Rar10VA7cyfv1mSSkA=\",\"dtype\":\"float64\",\"shape\":[19]},\"underlier\":{\"__ndarray__\":\"AAAAAAAAJEAAAAAAAAA0QAAAAAAAAD5AAAAAAAAAREAAAAAAAABJQAAAAAAAAE5AAAAAAACAUUAAAAAAAABUQAAAAAAAgFZAAAAAAAAAWUAAAAAAAIBbQAAAAAAAAF5AAAAAAABAYEAAAAAAAIBhQAAAAAAAwGJAAAAAAAAAZEAAAAAAAEBlQAAAAAAAgGZAAAAAAADAZ0A=\",\"dtype\":\"float64\",\"shape\":[19]},\"value0\":{\"__ndarray__\":\"AAAAgD7JxD8AAACABEKuPwAAAEBJqrA/AAAAQGfPsD8AAACAbpmsPwAAAICyGag/AAAAgBqaoz8AAAAAxWKePwAAAADVt50/AAAAgAIarD8AAACgcC/EPwAAAECCd9w/AAAAoGdj8j8AAACAgNIGQAAAAAAY9xpAAAAAgHK9KUAAAACA1Ck0QAAAAIAHxjtAAAAAgLSlQUA=\",\"dtype\":\"float64\",\"shape\":[19]},\"value1\":{\"__ndarray__\":\"AAAAgAadG8AAAABAjVkbwAAAAGCpORvAAAAAgLlKHMAAAACAuAkfwAAAAACO6iDAAAAAYClRIsAAAACA1rIjwAAAAIBBtiTAAAAAQCykJMAAAADg+AMiwAAAAICvOxrAAAAAAPCL7L8AAAAAufUfQAAAACCfMDFAAAAAYFnKOUAAAAAAOU5BQAAAAMDa60VAAAAA4KekSkA=\",\"dtype\":\"float64\",\"shape\":[19]}}},\"id\":\"25b47c39-c3de-454a-b6c0-ede2d07a697f\",\"type\":\"ColumnDataSource\"}],\"root_ids\":[\"a88754f3-cceb-42f6-95b8-9cd9f96390ab\"]},\"title\":\"Bokeh Application\",\"version\":\"0.12.13\"}};\n",
       "  var render_items = [{\"docid\":\"96bccc38-fc50-4539-8eda-2604b510b900\",\"elementid\":\"ceb3ecc8-ff0c-40c5-993d-390233290ac1\",\"modelid\":\"a88754f3-cceb-42f6-95b8-9cd9f96390ab\"}];\n",
       "  root.Bokeh.embed.embed_items_notebook(docs_json, render_items);\n",
       "\n",
       "  }\n",
       "  if (root.Bokeh !== undefined) {\n",
       "    embed_document(root);\n",
       "  } else {\n",
       "    var attempts = 0;\n",
       "    var timer = setInterval(function(root) {\n",
       "      if (root.Bokeh !== undefined) {\n",
       "        embed_document(root);\n",
       "        clearInterval(timer);\n",
       "      }\n",
       "      attempts++;\n",
       "      if (attempts > 100) {\n",
       "        console.log(\"Bokeh: ERROR: Unable to run BokehJS code because BokehJS library is missing\")\n",
       "        clearInterval(timer);\n",
       "      }\n",
       "    }, 10, root)\n",
       "  }\n",
       "})(window);"
      ],
      "application/vnd.bokehjs_exec.v0+json": ""
     },
     "metadata": {
      "application/vnd.bokehjs_exec.v0+json": {
       "id": "a88754f3-cceb-42f6-95b8-9cd9f96390ab"
      }
     },
     "output_type": "display_data"
    }
   ],
   "source": [
    "bp.show(p)"
   ]
  },
  {
   "cell_type": "markdown",
   "metadata": {},
   "source": [
    "# considerations"
   ]
  },
  {
   "cell_type": "markdown",
   "metadata": {},
   "source": [
    "* Europeanとの乖離を目的変数としたほうが良いかもしれない\n",
    "* doneの場合のリワードを$$行使価値-\\text{European value}$$とする？\n",
    "* それだとDQNの自然なフローにならない気もする"
   ]
  },
  {
   "cell_type": "markdown",
   "metadata": {},
   "source": [
    "# save model"
   ]
  },
  {
   "cell_type": "code",
   "execution_count": null,
   "metadata": {},
   "outputs": [],
   "source": [
    "type(model)"
   ]
  },
  {
   "cell_type": "code",
   "execution_count": null,
   "metadata": {},
   "outputs": [],
   "source": [
    "torch.save(model.state_dict() , \"models/optionDQN3\" )"
   ]
  },
  {
   "cell_type": "markdown",
   "metadata": {},
   "source": [
    "# load model"
   ]
  },
  {
   "cell_type": "code",
   "execution_count": null,
   "metadata": {},
   "outputs": [],
   "source": [
    "saved_model = Net(2,2) "
   ]
  },
  {
   "cell_type": "code",
   "execution_count": null,
   "metadata": {},
   "outputs": [],
   "source": [
    "saved_model.load_state_dict(torch.load(\"models/optionDQN2\"))"
   ]
  },
  {
   "cell_type": "code",
   "execution_count": null,
   "metadata": {},
   "outputs": [],
   "source": [
    "model = saved_model"
   ]
  },
  {
   "cell_type": "markdown",
   "metadata": {},
   "source": [
    "## obsolete below"
   ]
  },
  {
   "cell_type": "code",
   "execution_count": null,
   "metadata": {},
   "outputs": [],
   "source": [
    "model = Net(n_in=28*28*1, n_mid=100, n_out=10)  # ネットワークのオブジェクトを生成\n",
    "print(model)"
   ]
  },
  {
   "cell_type": "code",
   "execution_count": null,
   "metadata": {},
   "outputs": [],
   "source": [
    "model = nn.Sequential()"
   ]
  },
  {
   "cell_type": "code",
   "execution_count": null,
   "metadata": {},
   "outputs": [],
   "source": [
    "model = torch.nn.modules.container.Sequential()"
   ]
  },
  {
   "cell_type": "code",
   "execution_count": null,
   "metadata": {},
   "outputs": [],
   "source": [
    "model.load_state_dict(torch.load(\"models/optionDQN2\"))"
   ]
  },
  {
   "cell_type": "markdown",
   "metadata": {},
   "source": [
    "# sandbox"
   ]
  },
  {
   "cell_type": "code",
   "execution_count": null,
   "metadata": {},
   "outputs": [],
   "source": [
    "list(cartpole_env.agent.brain.model.parameters())[0].shape"
   ]
  },
  {
   "cell_type": "code",
   "execution_count": null,
   "metadata": {},
   "outputs": [],
   "source": [
    "model.type\n"
   ]
  },
  {
   "cell_type": "markdown",
   "metadata": {},
   "source": [
    "# 参考（書籍のoriginal Environment）"
   ]
  },
  {
   "cell_type": "code",
   "execution_count": null,
   "metadata": {},
   "outputs": [],
   "source": [
    "class Environment:\n",
    "\n",
    "    def __init__(self):\n",
    "        self.env = gym.make(ENV)  # 実行する課題を設定\n",
    "        num_states = self.env.observation_space.shape[0]  # 課題の状態数4を取得\n",
    "        num_actions = self.env.action_space.n  # CartPoleの行動（右に左に押す）の2を取得\n",
    "        self.agent = Agent(num_states, num_actions)  # 環境内で行動するAgentを生成\n",
    "\n",
    "        \n",
    "    def run(self):\n",
    "        '''実行'''\n",
    "        episode_10_list = np.zeros(10)  # 10試行分の立ち続けたstep数を格納し、平均ステップ数を出力に利用\n",
    "        complete_episodes = 0  # 195step以上連続で立ち続けた試行数\n",
    "        episode_final = False  # 最後の試行フラグ\n",
    "        frames = []  # 最後の試行を動画にするために画像を格納する変数\n",
    "\n",
    "        for episode in range(NUM_EPISODES):  # 最大試行数分繰り返す\n",
    "            observation = self.env.reset()  # 環境の初期化\n",
    "\n",
    "            state = observation  # 観測をそのまま状態sとして使用\n",
    "            state = torch.from_numpy(state).type(\n",
    "                torch.FloatTensor)  # NumPy変数をPyTorchのテンソルに変換\n",
    "            state = torch.unsqueeze(state, 0)  # size 4をsize 1x4に変換\n",
    "\n",
    "            for step in range(MAX_STEPS):  # 1エピソードのループ\n",
    "\n",
    "                if episode_final is True:  # 最終試行ではframesに各時刻の画像を追加していく\n",
    "                    frames.append(self.env.render(mode='rgb_array'))\n",
    "\n",
    "                action = self.agent.get_action(state, episode)  # 行動を求める\n",
    "\n",
    "                # 行動a_tの実行により、s_{t+1}とdoneフラグを求める\n",
    "                # actionから.item()を指定して、中身を取り出す\n",
    "                observation_next, _, done, _ = self.env.step(\n",
    "                    action.item())  # rewardとinfoは使わないので_にする\n",
    "\n",
    "                # 報酬を与える。さらにepisodeの終了評価と、state_nextを設定する\n",
    "                if done:  # ステップ数が200経過するか、一定角度以上傾くとdoneはtrueになる\n",
    "                    state_next = None  # 次の状態はないので、Noneを格納\n",
    "\n",
    "                    # 直近10episodeの立てたstep数リストに追加\n",
    "                    episode_10_list = np.hstack(\n",
    "                        (episode_10_list[1:], step + 1))\n",
    "\n",
    "                    if step < 195:\n",
    "                        reward = torch.FloatTensor(\n",
    "                            [-1.0])  # 途中でこけたら罰則として報酬-1を与える\n",
    "                        complete_episodes = 0  # 連続成功記録をリセット\n",
    "                    else:\n",
    "                        reward = torch.FloatTensor([1.0])  # 立ったまま終了時は報酬1を与える\n",
    "                        complete_episodes = complete_episodes + 1  # 連続記録を更新\n",
    "                else:\n",
    "                    reward = torch.FloatTensor([0.0])  # 普段は報酬0\n",
    "                    state_next = observation_next  # 観測をそのまま状態とする\n",
    "                    state_next = torch.from_numpy(state_next).type(\n",
    "                        torch.FloatTensor)  # numpy変数をPyTorchのテンソルに変換\n",
    "                    state_next = torch.unsqueeze(state_next, 0)  # size 4をsize 1x4に変換\n",
    "\n",
    "                # メモリに経験を追加\n",
    "                self.agent.memorize(state, action, state_next, reward)\n",
    "\n",
    "                # Experience ReplayでQ関数を更新する\n",
    "                self.agent.update_q_function()\n",
    "\n",
    "                # 観測の更新\n",
    "                state = state_next\n",
    "\n",
    "                # 終了時の処理\n",
    "                if done:\n",
    "                    print('%d Episode: Finished after %d steps：10試行の平均step数 = %.1lf' % (\n",
    "                        episode, step + 1, episode_10_list.mean()))\n",
    "                    break\n",
    "\n",
    "            if episode_final is True:\n",
    "                # 動画を保存と描画\n",
    "                display_frames_as_gif(frames)\n",
    "                break\n",
    "\n",
    "            # 10連続で200step経ち続けたら成功\n",
    "            if complete_episodes >= 10:\n",
    "                print('10回連続成功')\n",
    "                episode_final = True  # 次の試行を描画を行う最終試行とする"
   ]
  },
  {
   "cell_type": "code",
   "execution_count": null,
   "metadata": {},
   "outputs": [],
   "source": [
    "# main クラス\n",
    "cartpole_env = Environment()\n",
    "cartpole_env.run()\n"
   ]
  }
 ],
 "metadata": {
  "jupytext": {
   "formats": "ipynb,py"
  },
  "kernelspec": {
   "display_name": "Python [conda env:base2]",
   "language": "python",
   "name": "conda-env-base2-py"
  },
  "language_info": {
   "codemirror_mode": {
    "name": "ipython",
    "version": 3
   },
   "file_extension": ".py",
   "mimetype": "text/x-python",
   "name": "python",
   "nbconvert_exporter": "python",
   "pygments_lexer": "ipython3",
   "version": "3.5.4"
  },
  "toc": {
   "colors": {
    "hover_highlight": "#DAA520",
    "navigate_num": "#000000",
    "navigate_text": "#333333",
    "running_highlight": "#FF0000",
    "selected_highlight": "#FFD700",
    "sidebar_border": "#EEEEEE",
    "wrapper_background": "#FFFFFF"
   },
   "moveMenuLeft": true,
   "nav_menu": {
    "height": "209px",
    "width": "252px"
   },
   "navigate_menu": true,
   "number_sections": true,
   "sideBar": false,
   "threshold": 4,
   "toc_cell": true,
   "toc_position": {
    "height": "499px",
    "left": "2px",
    "right": "1669.6px",
    "top": "111px",
    "width": "171px"
   },
   "toc_section_display": "block",
   "toc_window_display": true,
   "widenNotebook": false
  }
 },
 "nbformat": 4,
 "nbformat_minor": 2
}
