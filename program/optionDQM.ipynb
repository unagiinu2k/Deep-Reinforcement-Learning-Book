{
 "cells": [
  {
   "cell_type": "code",
   "execution_count": null,
   "metadata": {},
   "outputs": [],
   "source": []
  },
  {
   "cell_type": "code",
   "execution_count": null,
   "metadata": {},
   "outputs": [],
   "source": [
    "1+1"
   ]
  },
  {
   "cell_type": "code",
   "execution_count": 154,
   "metadata": {},
   "outputs": [
    {
     "name": "stdout",
     "output_type": "stream",
     "text": [
      "[master b03c090] checkpoint\n",
      " 1 file changed, 849 insertions(+), 247 deletions(-)\n"
     ]
    }
   ],
   "source": [
    "%%bash\n",
    "git commit -a -m \"checkpoint\""
   ]
  },
  {
   "cell_type": "code",
   "execution_count": null,
   "metadata": {},
   "outputs": [],
   "source": []
  },
  {
   "cell_type": "markdown",
   "metadata": {
    "toc": "true"
   },
   "source": [
    "# Table of Contents\n",
    " <p><div class=\"lev1 toc-item\"><a href=\"#パッケージのimport\" data-toc-modified-id=\"パッケージのimport-1\"><span class=\"toc-item-num\">1&nbsp;&nbsp;</span>パッケージのimport</a></div><div class=\"lev1 toc-item\"><a href=\"#namedtuple\" data-toc-modified-id=\"namedtuple-2\"><span class=\"toc-item-num\">2&nbsp;&nbsp;</span>namedtuple</a></div><div class=\"lev1 toc-item\"><a href=\"#定数の設定\" data-toc-modified-id=\"定数の設定-3\"><span class=\"toc-item-num\">3&nbsp;&nbsp;</span>定数の設定</a></div><div class=\"lev1 toc-item\"><a href=\"#経験を保存するメモリクラスを定義します\" data-toc-modified-id=\"経験を保存するメモリクラスを定義します-4\"><span class=\"toc-item-num\">4&nbsp;&nbsp;</span>経験を保存するメモリクラスを定義します</a></div><div class=\"lev2 toc-item\"><a href=\"#sandbox\" data-toc-modified-id=\"sandbox-41\"><span class=\"toc-item-num\">4.1&nbsp;&nbsp;</span>sandbox</a></div><div class=\"lev1 toc-item\"><a href=\"#brainstorming\" data-toc-modified-id=\"brainstorming-5\"><span class=\"toc-item-num\">5&nbsp;&nbsp;</span>brainstorming</a></div><div class=\"lev1 toc-item\"><a href=\"#Brain\" data-toc-modified-id=\"Brain-6\"><span class=\"toc-item-num\">6&nbsp;&nbsp;</span>Brain</a></div><div class=\"lev1 toc-item\"><a href=\"#Agent\" data-toc-modified-id=\"Agent-7\"><span class=\"toc-item-num\">7&nbsp;&nbsp;</span>Agent</a></div><div class=\"lev1 toc-item\"><a href=\"#pricer\" data-toc-modified-id=\"pricer-8\"><span class=\"toc-item-num\">8&nbsp;&nbsp;</span>pricer</a></div><div class=\"lev2 toc-item\"><a href=\"#class-version-zero\" data-toc-modified-id=\"class-version-zero-81\"><span class=\"toc-item-num\">8.1&nbsp;&nbsp;</span>class version zero</a></div><div class=\"lev1 toc-item\"><a href=\"#replacing-step()-and-state-initialization\" data-toc-modified-id=\"replacing-step()-and-state-initialization-9\"><span class=\"toc-item-num\">9&nbsp;&nbsp;</span>replacing step() and state initialization</a></div><div class=\"lev2 toc-item\"><a href=\"#sandbox\" data-toc-modified-id=\"sandbox-91\"><span class=\"toc-item-num\">9.1&nbsp;&nbsp;</span>sandbox</a></div><div class=\"lev1 toc-item\"><a href=\"#Environment改（大幅改修した）\" data-toc-modified-id=\"Environment改（大幅改修した）-10\"><span class=\"toc-item-num\">10&nbsp;&nbsp;</span>Environment改（大幅改修した）</a></div><div class=\"lev2 toc-item\"><a href=\"#Version-1\" data-toc-modified-id=\"Version-1-101\"><span class=\"toc-item-num\">10.1&nbsp;&nbsp;</span>Version 1</a></div><div class=\"lev3 toc-item\"><a href=\"#To-be-determined\" data-toc-modified-id=\"To-be-determined-1011\"><span class=\"toc-item-num\">10.1.1&nbsp;&nbsp;</span>To be determined</a></div><div class=\"lev3 toc-item\"><a href=\"#implementation\" data-toc-modified-id=\"implementation-1012\"><span class=\"toc-item-num\">10.1.2&nbsp;&nbsp;</span>implementation</a></div><div class=\"lev1 toc-item\"><a href=\"#predict\" data-toc-modified-id=\"predict-11\"><span class=\"toc-item-num\">11&nbsp;&nbsp;</span>predict</a></div><div class=\"lev1 toc-item\"><a href=\"#save-model\" data-toc-modified-id=\"save-model-12\"><span class=\"toc-item-num\">12&nbsp;&nbsp;</span>save model</a></div><div class=\"lev1 toc-item\"><a href=\"#sandbox\" data-toc-modified-id=\"sandbox-13\"><span class=\"toc-item-num\">13&nbsp;&nbsp;</span>sandbox</a></div><div class=\"lev1 toc-item\"><a href=\"#参考（書籍のoriginal-Environment）\" data-toc-modified-id=\"参考（書籍のoriginal-Environment）-14\"><span class=\"toc-item-num\">14&nbsp;&nbsp;</span>参考（書籍のoriginal Environment）</a></div>"
   ]
  },
  {
   "cell_type": "markdown",
   "metadata": {},
   "source": [
    "\n",
    "** 5.3、5.4  PyTorchでDQN **"
   ]
  },
  {
   "cell_type": "markdown",
   "metadata": {},
   "source": [
    "# パッケージのimport"
   ]
  },
  {
   "cell_type": "code",
   "execution_count": 1,
   "metadata": {},
   "outputs": [],
   "source": [
    "import numpy as np\n",
    "import matplotlib.pyplot as plt\n",
    "%matplotlib inline\n",
    "import gym"
   ]
  },
  {
   "cell_type": "markdown",
   "metadata": {},
   "source": [
    "# namedtuple"
   ]
  },
  {
   "cell_type": "markdown",
   "metadata": {},
   "source": [
    "本コードでは、namedtupleを使用します。\n",
    "\n",
    "namedtupleを使うことで、値をフィールド名とペアで格納できます。\n",
    "\n",
    "すると値に対して、フィールド名でアクセスできて便利です。\n",
    "\n",
    "https://docs.python.jp/3/library/collections.html#collections.namedtuple\n",
    "\n",
    "以下は使用例です"
   ]
  },
  {
   "cell_type": "code",
   "execution_count": 2,
   "metadata": {},
   "outputs": [
    {
     "name": "stdout",
     "output_type": "stream",
     "text": [
      "tr(name_a='名前Aです', value_b=100)\n",
      "100\n"
     ]
    }
   ],
   "source": [
    "from collections import namedtuple\n",
    "\n",
    "Tr = namedtuple('tr', ('name_a', 'value_b'))\n",
    "Tr_object = Tr('名前Aです', 100)\n",
    "\n",
    "print(Tr_object)  # 出力：tr(name_a='名前Aです', value_b=100)\n",
    "print(Tr_object.value_b)  # 出力：100"
   ]
  },
  {
   "cell_type": "code",
   "execution_count": null,
   "metadata": {},
   "outputs": [],
   "source": [
    "Tr_object.name_a"
   ]
  },
  {
   "cell_type": "markdown",
   "metadata": {},
   "source": [
    "namedtupleを生成\n",
    "from collections import namedtuple\n",
    "\n",
    "Transition = namedtuple(\n",
    "    'Transition', ('s', 't', 'action', 'next_s' , \"next_t\", 'reward', 'done'))\n"
   ]
  },
  {
   "cell_type": "code",
   "execution_count": 3,
   "metadata": {},
   "outputs": [],
   "source": [
    "#namedtupleを生成\n",
    "from collections import namedtuple\n",
    "\n",
    "Transition = namedtuple(\n",
    "    'Transition', ('state', 'action', 'next_state', 'reward'))#,'done'))\n"
   ]
  },
  {
   "cell_type": "markdown",
   "metadata": {},
   "source": [
    "# 定数の設定"
   ]
  },
  {
   "cell_type": "code",
   "execution_count": 97,
   "metadata": {},
   "outputs": [],
   "source": [
    "spot_price = 127.62\n",
    "volatility = 0.20 # the historical vols or implied vols\n",
    "dividend_rate =  0.0163\n",
    "risk_free_rate = 0.001\n",
    "maturity = 1\n",
    "dt = 0.1\n",
    "\n",
    "strike_price = 130\n",
    "\n",
    "#steps = 200\n",
    "pricer_steps = 100\n",
    "\n",
    "#dt = maturity / steps"
   ]
  },
  {
   "cell_type": "code",
   "execution_count": 98,
   "metadata": {},
   "outputs": [],
   "source": [
    "#ENV = 'CartPole-v0'  # 使用する課題名\n",
    "GAMMA = np.exp(-dt * risk_free_rate)  # 時間割引率\n",
    "MAX_STEPS = 200  # 1試行のstep数\n",
    "#NUM_EPISODES = 500  # 最大試行回数"
   ]
  },
  {
   "cell_type": "markdown",
   "metadata": {},
   "source": [
    "# 経験を保存するメモリクラスを定義します"
   ]
  },
  {
   "cell_type": "markdown",
   "metadata": {},
   "source": [
    "* 概ね書籍のままの実装でいけるはず（？）$\\Rightarrow$ doneを追加した$\\Rightarrow$やっぱりやめた。（終了判定の方を変更するほうが素直なため）\n",
    "* ただし、おそらくサンプル取得時に完全にランダムにしないで3項ツリー的な３つのnext stateをまとめてmini batfchに含めたほうがいいのではないかという気がする"
   ]
  },
  {
   "cell_type": "code",
   "execution_count": 6,
   "metadata": {},
   "outputs": [],
   "source": [
    "class ReplayMemory:\n",
    "\n",
    "    def __init__(self, CAPACITY):\n",
    "        self.capacity = CAPACITY  # メモリの最大長さ\n",
    "        self.memory = []  # 経験を保存する変数\n",
    "        self.index = 0  # 保存するindexを示す変数\n",
    "\n",
    "    def push(self, state, action, state_next, reward):# , done):\n",
    "        '''transition = (state, action, state_next, reward)をメモリに保存する'''\n",
    "\n",
    "        if len(self.memory) < self.capacity:\n",
    "            self.memory.append(None)  # メモリが満タンでないときは足す\n",
    "\n",
    "        # namedtupleのTransitionを使用し、値とフィールド名をペアにして保存します\n",
    "        self.memory[self.index] = Transition(state, action, state_next, reward)# , done)\n",
    "\n",
    "        self.index = (self.index + 1) % self.capacity  # 保存するindexを1つずらす\n",
    "\n",
    "    def sample(self, batch_size):\n",
    "        '''batch_size分だけ、ランダムに保存内容を取り出す'''\n",
    "        return random.sample(self.memory, batch_size)\n",
    "\n",
    "    def __len__(self):\n",
    "        '''関数lenに対して、現在の変数memoryの長さを返す'''\n",
    "        return len(self.memory)"
   ]
  },
  {
   "cell_type": "markdown",
   "metadata": {},
   "source": [
    "## sandbox"
   ]
  },
  {
   "cell_type": "code",
   "execution_count": 7,
   "metadata": {},
   "outputs": [],
   "source": [
    "import random"
   ]
  },
  {
   "cell_type": "code",
   "execution_count": null,
   "metadata": {},
   "outputs": [],
   "source": [
    "tmp = ReplayMemory(3)"
   ]
  },
  {
   "cell_type": "code",
   "execution_count": null,
   "metadata": {},
   "outputs": [],
   "source": [
    "\n",
    "tmp.push(100,0.1, 0 , 101)#,  True)"
   ]
  },
  {
   "cell_type": "code",
   "execution_count": null,
   "metadata": {},
   "outputs": [],
   "source": [
    "tmp.sample(2)"
   ]
  },
  {
   "cell_type": "markdown",
   "metadata": {},
   "source": [
    "# brainstorming\n",
    "\n",
    "* 素直な実装ではnum_statesは２となる。（$S$および$t$）\n",
    "* brainもたぶん書籍のままの実装でいける？？\n"
   ]
  },
  {
   "cell_type": "markdown",
   "metadata": {},
   "source": [
    "# Brain\n",
    "\n",
    "エージェントが持つ脳となるクラスです、DQNを実行します"
   ]
  },
  {
   "cell_type": "markdown",
   "metadata": {},
   "source": [
    "methodは\n",
    "\n",
    "* replay: Experience Replayでネットワークの結合パラメータを学習\n",
    "* decide_action: アクション決定"
   ]
  },
  {
   "cell_type": "markdown",
   "metadata": {},
   "source": [
    "Q関数をディープラーニングのネットワークをクラスとして定義"
   ]
  },
  {
   "cell_type": "code",
   "execution_count": 8,
   "metadata": {},
   "outputs": [],
   "source": [
    "import random\n",
    "import torch\n",
    "from torch import nn\n",
    "from torch import optim\n",
    "import torch.nn.functional as F\n",
    "\n",
    "BATCH_SIZE = 32\n",
    "CAPACITY = 10000"
   ]
  },
  {
   "cell_type": "markdown",
   "metadata": {},
   "source": [
    "* もともと次がdoneの場合は学習に使っていない.?と思ったがそんなことはなかった。\n",
    "* そのままだと学習が正しく進むわけがないので修正していく、というのは勘違いでここはいじらなくてよかった。"
   ]
  },
  {
   "cell_type": "code",
   "execution_count": 408,
   "metadata": {},
   "outputs": [],
   "source": [
    "class Brain:\n",
    "    def __init__(self, num_states, num_actions):\n",
    "        self.num_actions = num_actions  # CartPoleの行動（右に左に押す）の2を取得\n",
    "\n",
    "        # 経験を記憶するメモリオブジェクトを生成\n",
    "        self.memory = ReplayMemory(CAPACITY)\n",
    "\n",
    "        # ニューラルネットワークを構築\n",
    "        self.model = nn.Sequential()\n",
    "        self.model.add_module('fc1', nn.Linear(num_states, 144))\n",
    "        self.model.add_module('relu1', nn.ReLU())\n",
    "        #self.model.add_module('fc2', nn.Linear(32, 32))\n",
    "        #self.model.add_module('relu2', nn.ReLU())\n",
    "        self.model.add_module('fc3', nn.Linear(144, num_actions))\n",
    "\n",
    "        print(self.model)  # ネットワークの形を出力\n",
    "        print(list(self.model.parameters()))\n",
    "\n",
    "        # 最適化手法の設定\n",
    "        self.optimizer = optim.Adam(self.model.parameters(), lr=0.0001)\n",
    "\n",
    "    def replay(self):\n",
    "        '''Experience Replayでネットワークの結合パラメータを学習'''\n",
    "\n",
    "        # -----------------------------------------\n",
    "        # 1. メモリサイズの確認\n",
    "        # -----------------------------------------\n",
    "        # 1.1 メモリサイズがミニバッチより小さい間は何もしない\n",
    "        #print(\"memory .size : {}\".format(len(self.memory)))\n",
    "        if len(self.memory) < BATCH_SIZE:\n",
    "            return\n",
    "\n",
    "        # -----------------------------------------\n",
    "        # 2. ミニバッチの作成\n",
    "        # -----------------------------------------\n",
    "        # 2.1 メモリからミニバッチ分のデータを取り出す\n",
    "        transitions = self.memory.sample(BATCH_SIZE)\n",
    "\n",
    "        # 2.2 各変数をミニバッチに対応する形に変形\n",
    "        # transitionsは1stepごとの(state, action, state_next, reward)が、BATCH_SIZE分格納されている\n",
    "        # つまり、(state, action, state_next, reward)×BATCH_SIZE\n",
    "        # これをミニバッチにしたい。つまり\n",
    "        # (state×BATCH_SIZE, action×BATCH_SIZE, state_next×BATCH_SIZE, reward×BATCH_SIZE)にする\n",
    "        batch = Transition(*zip(*transitions))\n",
    "\n",
    "        # 2.3 各変数の要素をミニバッチに対応する形に変形し、ネットワークで扱えるようVariableにする\n",
    "        # 例えばstateの場合、[torch.FloatTensor of size 1x4]がBATCH_SIZE分並んでいるのですが、\n",
    "        # それを torch.FloatTensor of size BATCH_SIZEx4 に変換します\n",
    "        # 状態、行動、報酬、non_finalの状態のミニバッチのVariableを作成\n",
    "        # catはConcatenates（結合）のことです。\n",
    "        state_batch = torch.cat(batch.state)\n",
    "        action_batch = torch.cat(batch.action)\n",
    "        reward_batch = torch.cat(batch.reward)\n",
    "        #done_batch = torch.cat(batch.done)\n",
    "        all_final = (len([s for s in batch.next_state if s is not None]) == 0)\n",
    "        if not all_final:\n",
    "        #try\n",
    "            non_final_next_states = torch.cat([s for s in batch.next_state\n",
    "                                           if s is not None])\n",
    "        #except:\n",
    "        #    print()\n",
    "\n",
    "        # -----------------------------------------\n",
    "        # 3. 教師信号となるQ(s_t, a_t)値を求める\n",
    "        # -----------------------------------------\n",
    "        # 3.1 ネットワークを推論モードに切り替える\n",
    "        self.model.eval()\n",
    "\n",
    "        # 3.2 ネットワークが出力したQ(s_t, a_t)を求める\n",
    "        # self.model(state_batch)は、右左の両方のQ値を出力しており\n",
    "        # [torch.FloatTensor of size BATCH_SIZEx2]になっている。\n",
    "        # ここから実行したアクションa_tに対応するQ値を求めるため、action_batchで行った行動a_tが右か左かのindexを求め\n",
    "        # それに対応するQ値をgatherでひっぱり出す。\n",
    "        state_action_values = self.model(state_batch).gather(1, action_batch)\n",
    "\n",
    "        # 3.3 max{Q(s_t+1, a)}値を求める。ただし次の状態があるかに注意。\n",
    "        # まずは全部0にしておく\n",
    "        next_state_values = torch.zeros(BATCH_SIZE)\n",
    "        \n",
    "        if not all_final:\n",
    "            # cartpoleがdoneになっておらず、next_stateがあるかをチェックするインデックスマスクを作成\n",
    "            non_final_mask = torch.ByteTensor(tuple(map(lambda s: s is not None,\n",
    "                                                        batch.next_state)))\n",
    "\n",
    "\n",
    "            # 次の状態があるindexの最大Q値を求める\n",
    "            # 出力にアクセスし、max(1)で列方向の最大値の[値、index]を求めます\n",
    "            # そしてそのQ値（index=0）を出力します\n",
    "            # detachでその値を取り出します\n",
    "            next_state_values[non_final_mask] = self.model(\n",
    "                non_final_next_states).max(1)[0].detach()\n",
    "\n",
    "        # 3.4 教師となるQ(s_t, a_t)値を、Q学習の式から求める\n",
    "        expected_state_action_values = reward_batch + GAMMA * next_state_values\n",
    "\n",
    "        # -----------------------------------------\n",
    "        # 4. 結合パラメータの更新\n",
    "        # -----------------------------------------\n",
    "        # 4.1 ネットワークを訓練モードに切り替える\n",
    "        self.model.train()\n",
    "\n",
    "        # 4.2 損失関数を計算する（smooth_l1_lossはHuberloss）\n",
    "        # expected_state_action_valuesは\n",
    "        # sizeが[minbatch]になっているので、unsqueezeで[minibatch x 1]へ\n",
    "        loss = F.smooth_l1_loss(state_action_values,\n",
    "                                expected_state_action_values.unsqueeze(1))\n",
    "\n",
    "        # 4.3 結合パラメータを更新する\n",
    "        self.optimizer.zero_grad()  # 勾配をリセット\n",
    "        loss.backward()  # バックプロパゲーションを計算\n",
    "        self.optimizer.step()  # 結合パラメータを更新\n",
    "\n",
    "    def decide_action(self, state, episode):\n",
    "        '''現在の状態に応じて、行動を決定する'''\n",
    "        # ε-greedy法で徐々に最適行動のみを採用する\n",
    "        epsilon = 0.5 * (1 / (episode + 1))\n",
    "\n",
    "        if epsilon <= np.random.uniform(0, 1):\n",
    "            self.model.eval()  # ネットワークを推論モードに切り替える\n",
    "            with torch.no_grad():\n",
    "                action = self.model(state).max(1)[1].view(1, 1)\n",
    "            # ネットワークの出力の最大値のindexを取り出します = max(1)[1]\n",
    "            # .view(1,1)は[torch.LongTensor of size 1]　を size 1x1 に変換します\n",
    "\n",
    "        else:\n",
    "            # 0,1の行動をランダムに返す\n",
    "            action = torch.LongTensor(\n",
    "                [[random.randrange(self.num_actions)]])  # 0,1の行動をランダムに返す\n",
    "            # actionは[torch.LongTensor of size 1x1]の形になります\n",
    "\n",
    "        return action"
   ]
  },
  {
   "cell_type": "markdown",
   "metadata": {},
   "source": [
    "# Agent\n",
    "CartPoleで動くエージェントクラスです、棒付き台車そのものになります\n",
    "\n",
    "methodは\n",
    "\n",
    "\n",
    "* 行動価値Qを更新\n",
    "*  状態を与えると行動を決定\n",
    "*  状態、選択するアクション、次の状態、報酬などを記憶"
   ]
  },
  {
   "cell_type": "code",
   "execution_count": 409,
   "metadata": {},
   "outputs": [],
   "source": [
    "class Agent:\n",
    "    def __init__(self, num_states, num_actions):\n",
    "        '''課題の状態と行動の数を設定する'''\n",
    "        self.brain = Brain(num_states, num_actions)  # エージェントが行動を決定するための頭脳を生成\n",
    "\n",
    "    def update_q_function(self):\n",
    "        '''Q関数を更新する'''\n",
    "        self.brain.replay()\n",
    "\n",
    "    def get_action(self, state, episode):\n",
    "        '''行動を決定する'''\n",
    "        action = self.brain.decide_action(state, episode)\n",
    "        return action\n",
    "\n",
    "    def memorize(self, state, action, state_next, reward): #, done):\n",
    "        '''memoryオブジェクトに、state, action, state_next, rewardの内容を保存する'''\n",
    "        self.brain.memory.push(state, action, state_next, reward)# , done)"
   ]
  },
  {
   "cell_type": "markdown",
   "metadata": {},
   "source": [
    "# pricer"
   ]
  },
  {
   "cell_type": "code",
   "execution_count": 11,
   "metadata": {},
   "outputs": [],
   "source": [
    "import QuantLib as ql "
   ]
  },
  {
   "cell_type": "markdown",
   "metadata": {},
   "source": [
    "## class version zero"
   ]
  },
  {
   "cell_type": "code",
   "execution_count": 43,
   "metadata": {},
   "outputs": [],
   "source": [
    "class cl_am_call:\n",
    "    def price(self , spot_price, strike_price, maturity):\n",
    "        if maturity <= 0:\n",
    "            exercise_value = np.max([0 , spot_price - strike_price])\n",
    "            return (exercise_value)\n",
    "        dummy_strike = strike_price / spot_price\n",
    "        \n",
    "\n",
    "        option_type = ql.Option.Call\n",
    "        payoff = ql.PlainVanillaPayoff(option_type, dummy_strike)\n",
    "        \n",
    "        maturity_date = self.calculation_date + int(365.0 * maturity)\n",
    "        settlement = self.calculation_date\n",
    "        am_exercise = ql.AmericanExercise(settlement, maturity_date)\n",
    "        \n",
    "        american_option = ql.VanillaOption(payoff, am_exercise)\n",
    "        american_option.setPricingEngine(self.binomial_engine)\n",
    "        ql.Settings.instance().evaluationDate = self.calculation_date\n",
    "\n",
    "        return (american_option.NPV() * spot_price)\n",
    "        \n",
    "\n",
    "    def __init__(self , volatility , dividend_rate , risk_free_rate  ,steps):\n",
    "        day_count = ql.Actual365Fixed()\n",
    "        #calendar = ql.UnitedStates()\n",
    "        calendar = ql.Japan()\n",
    "        self.calculation_date = ql.Date(8, 5, 2015)\n",
    "        dummy_spot = 1\n",
    "        \n",
    "        self.spot_handle = ql.QuoteHandle(ql.SimpleQuote(1.0))\n",
    "\n",
    "        ql.Settings.instance().evaluationDate = self.calculation_date\n",
    "\n",
    "\n",
    "        self.flat_ts = ql.YieldTermStructureHandle(\n",
    "            ql.FlatForward(self.calculation_date, risk_free_rate, day_count)\n",
    "        )\n",
    "\n",
    "        self.dividend_yield = ql.YieldTermStructureHandle(\n",
    "            ql.FlatForward(self.calculation_date, dividend_rate, day_count)\n",
    "        )\n",
    "\n",
    "        #### volatility\n",
    "\n",
    "        self.flat_vol_ts = ql.BlackVolTermStructureHandle(\n",
    "            ql.BlackConstantVol(self.calculation_date, calendar, volatility, day_count)\n",
    "        )\n",
    "\n",
    "        #### BS framework\n",
    "\n",
    "        self.bsm_process = ql.BlackScholesMertonProcess(self.spot_handle, \n",
    "                                                   self.dividend_yield, \n",
    "                                                   self.flat_ts, \n",
    "                                                   self.flat_vol_ts)\n",
    "\n",
    "\n",
    "        self.binomial_engine = ql.BinomialVanillaEngine(self.bsm_process, \"crr\", steps)\n",
    "        \n",
    "\n"
   ]
  },
  {
   "cell_type": "code",
   "execution_count": null,
   "metadata": {},
   "outputs": [],
   "source": [
    "am_call = cl_am_call(volatility ,  dividend_rate ,  risk_free_rate , pricer_steps)"
   ]
  },
  {
   "cell_type": "code",
   "execution_count": null,
   "metadata": {},
   "outputs": [],
   "source": [
    "am_call.price(spot_price, strike_price, maturity)"
   ]
  },
  {
   "cell_type": "code",
   "execution_count": null,
   "metadata": {},
   "outputs": [],
   "source": [
    "am_call.price(1 , 100, 0.1)"
   ]
  },
  {
   "cell_type": "markdown",
   "metadata": {},
   "source": [
    "# replacing step() and state initialization\n",
    "\n",
    "* initializationをどうするかな・・\n"
   ]
  },
  {
   "cell_type": "code",
   "execution_count": 404,
   "metadata": {},
   "outputs": [],
   "source": [
    "class  decision2next_state:\n",
    "    \n",
    "    def __init__(self ,  S0_floor , S0_cap , is_S0_uniform ,  volatility , dividend_rate , risk_free_rate  , dt , Maturity):\n",
    "        self.S0_floor = S0_floor\n",
    "        self.S0_cap = S0_cap\n",
    "        self.is_S0_uniform = is_S0_uniform\n",
    "        self.volatility = volatility\n",
    "        self.dividend_rate = dividend_rate\n",
    "        self.risk_free_rate = risk_free_rate\n",
    "        self.dt = dt\n",
    "        self.Maturity = Maturity\n",
    "        \n",
    "        self.barbeta_dt = (risk_free_rate - dividend_rate - volatility**2 * 0.5) * dt\n",
    "        self.sd = volatility * np.sqrt(dt)\n",
    "    \n",
    "    def reset(self):\n",
    "        T0 = 0    \n",
    "        if True:\n",
    "            #state0 = np.array([self.S0 , T0])\n",
    "            if self.is_S0_uniform:\n",
    "                state0 = np.array([self.S0_floor + np.random.rand() * (self.S0_cap - self.S0_floor) , T0])\n",
    "            else:\n",
    "                state0 = np.array([self.S0_floor * np.power(self.S0_cap / self.S0_floor ,  np.random.rand()) , T0])\n",
    "        else :\n",
    "            state0 = torch.Tensor(np.array([[self.S0 , T0]]))\n",
    "        return state0\n",
    "        \n",
    "    \n",
    "    def step(self , state , action):\n",
    "             #stateはtorch.tensor torch.Size([1, 2])\n",
    "            if False:\n",
    "                #next_state = state.copy()\n",
    "                S = state[0]\n",
    "                T = state[1]\n",
    "            else:               \n",
    "                #next_state = state.clone()\n",
    "                S = state[0][0].item()\n",
    "                T = state[0][1].item()    \n",
    "            T_next = T + self.dt\n",
    "            S_return = self.barbeta_dt + self.sd * np.random.randn()  \n",
    "            \n",
    "            S_next = S * np.exp(S_return)\n",
    "            if True:\n",
    "                state_next =np.array([S_next , T_next])\n",
    "            else:\n",
    "                state_next = torch.Tensor(np.array([[S_next , T_next]]))\n",
    "            done = (action == 1) or (T >= self.Maturity) \n",
    "            if done:\n",
    "                S_next = None\n",
    "            return state_next , done\n",
    "    "
   ]
  },
  {
   "cell_type": "markdown",
   "metadata": {},
   "source": [
    "## sandbox"
   ]
  },
  {
   "cell_type": "code",
   "execution_count": 327,
   "metadata": {},
   "outputs": [],
   "source": [
    "my_stepper = decision2next_state(spot_price / 10 , spot_price * 10, volatility , dividend_rate , risk_free_rate , 0.1 , 1)"
   ]
  },
  {
   "cell_type": "code",
   "execution_count": null,
   "metadata": {},
   "outputs": [],
   "source": [
    "tmp_state = torch.Tensor(np.array([[100 , 0]]))"
   ]
  },
  {
   "cell_type": "code",
   "execution_count": null,
   "metadata": {},
   "outputs": [],
   "source": [
    "tmp_state = np.array([100,0])"
   ]
  },
  {
   "cell_type": "code",
   "execution_count": null,
   "metadata": {},
   "outputs": [],
   "source": [
    "type(tmp_state)"
   ]
  },
  {
   "cell_type": "code",
   "execution_count": null,
   "metadata": {},
   "outputs": [],
   "source": [
    "my_stepper.step(tmp_state , 0)"
   ]
  },
  {
   "cell_type": "code",
   "execution_count": null,
   "metadata": {},
   "outputs": [],
   "source": [
    "my_stepper.reset()"
   ]
  },
  {
   "cell_type": "markdown",
   "metadata": {},
   "source": [
    "# Environment改（大幅改修した）\n",
    "CartPoleを実行する環境のクラスです\n",
    "\n",
    "* for loopは二重になっている\n",
    "* 外側のループはEPISODEに関して\n",
    "    * Episode = 試行：一回ポールを立てて倒れるか200ステップ経過するまでを１エピソードと数える\n",
    "    * 内側のループはステップに関して\n",
    "        * 初期状態のBrainを使って、1ステップ目から左右にコントロールしていくことからスタート\n",
    "        * 各ステップごとに状態と遷移を記録する。\n",
    "        * 同様に各ステップごとに行動価値関数をアップデートしていく\n",
    "    * 10エピソード連続で200ステップまで持ちこたえられたら成功\n",
    "    "
   ]
  },
  {
   "cell_type": "markdown",
   "metadata": {},
   "source": [
    "## Version 1\n",
    "* まずはMCパスを発生させて、episode $\\approx$ pathであるような形でやってみよう\n",
    "* 後々、MCパスはtrinomial tree上のみを推移するようにするかもしれないが、ここでは素直にMCパスを普通に発生させてみよう\n",
    "    * MCパス発生はquantlibにやらせてもいいが自分で実装してしまってもいいかな\n",
    "* env.stepを\n",
    "```\n",
    " 1 time step推進\n",
    "```\n",
    "に置き換える。\n",
    "\n",
    "\n",
    "### To be determined\n",
    "* QLはここに取り込む？ $\\Rightarrow$ maybe yes\n",
    "* MCもここで？ $\\Rightarrow$ maybe yes\n",
    "    * gymの場合は時間推進はgymが面倒見てくれていた。そのgymはEnvironmentクラスのメンバーになっている。\n",
    "* 書籍にあったような20回連続でみたいな終了判定基準はもはや適切ではない。ではどのような終了判定基準が良いか\n",
    "```\n",
    "現状では正解がわかっているのでいろいろズルをしよう。例えば、10パス連続で最適行使の判定を正解できたときetc\n",
    "```\n",
    "* reward設計\n",
    "```\n",
    "行使した場合にはrewardを払って行動価値関数がゼロのnext stateに飛ぶ\n",
    "```\n",
    "とする."
   ]
  },
  {
   "cell_type": "markdown",
   "metadata": {},
   "source": [
    "### implementation"
   ]
  },
  {
   "cell_type": "code",
   "execution_count": null,
   "metadata": {},
   "outputs": [],
   "source": [
    "np.random.randn()"
   ]
  },
  {
   "cell_type": "markdown",
   "metadata": {},
   "source": [
    "import QuantLib as ql "
   ]
  },
  {
   "cell_type": "code",
   "execution_count": 217,
   "metadata": {},
   "outputs": [
    {
     "data": {
      "text/plain": [
       "False"
      ]
     },
     "execution_count": 217,
     "metadata": {},
     "output_type": "execute_result"
    }
   ],
   "source": [
    "1 != 1"
   ]
  },
  {
   "cell_type": "code",
   "execution_count": 410,
   "metadata": {},
   "outputs": [],
   "source": [
    "class myEnvironment:\n",
    "\n",
    "    def __init__(self, S0_floor , S0_cap , is_S0_uniform , vol , q , r , K , T , dt ,pricer_steps):\n",
    "        #self.env = gym.make(ENV)  # 実行する課題を設定\n",
    "        self.S0_floor = S0_floor\n",
    "        self.S0_cap = S0_cap\n",
    "        self.is_S0_uniform = is_S0_uniform\n",
    "        self.vol = vol\n",
    "        self.q = q\n",
    "        self.r = r\n",
    "        self.K = K\n",
    "        self.T = T\n",
    "        self.dt = dt\n",
    "        self.stepper = decision2next_state(S0_floor , S0_cap , is_S0_uniform , vol , q , r , dt, T)\n",
    "        \n",
    "        num_states = 2# S and t\n",
    "        num_actions = 2 # exercise or hold \n",
    "        self.agent = Agent(num_states, num_actions)  # 環境内で行動するAgentを生成\n",
    "        self.pricer = cl_am_call(vol ,  q ,  r , steps = pricer_steps)\n",
    "\n",
    "        \n",
    "    def run(self , n_episodes , is_silent = False):\n",
    "        '''実行'''\n",
    "        episode_10_list = np.zeros(10)  # 10試行分の立ち続けたstep数を格納し、平均ステップ数を出力に利用\n",
    "        #complete episodesを終了条件にするのはもはや適切ではない\n",
    "        complete_episodes = 0  # 195step以上連続で立ち続けた試行数\n",
    "        episode_final = False  # 最後の試行フラグ\n",
    "        frames = []  # 最後の試行を動画にするために画像を格納する変数\n",
    "\n",
    "        for episode in range(n_episodes):  # 最大試行数分繰り返す\n",
    "            #observation = self.env.reset()  # 環境の初期化\n",
    "            observation = self.stepper.reset()\n",
    "            run_percent = int(episode * 100 / n_episodes)\n",
    "            if run_percent != int((episode -1) * 100 / n_episodes):              \n",
    "                \n",
    "                print(\"finished {} percent ({} / {})\".format(run_percent , episode , n_episodes))\n",
    "                #print(\"finished {} episodes\".format(episode))\n",
    "\n",
    "            state = observation  # 観測をそのまま状態sとして使用\n",
    "            if True:\n",
    "                #print(type(state))\n",
    "                state = torch.from_numpy(state).type(torch.FloatTensor)  # NumPy変数をPyTorchのテンソルに変換\n",
    "                state = torch.unsqueeze(state, 0)  # size 4をsize 1x4に変換\n",
    "\n",
    "            for step in range(MAX_STEPS):  # 1エピソードのループ\n",
    "\n",
    "                action = self.agent.get_action(state, episode)  # 行動を求める。\n",
    "                ### * episodeを食わせるのはQ学習の定義を見れば納得できる。ここは書籍のままの\n",
    "        \n",
    "                \n",
    "                # 行動a_tの実行により、s_{t+1}とdoneフラグを求める\n",
    "                # actionから.item()を指定して、中身を取り出す\n",
    " \n",
    "                observation_next , done = self.stepper.step(state , action.item())\n",
    "                #print(\"done is {}\".format(done))\n",
    "\n",
    "                # 報酬を与える。さらにepisodeの終了評価と、state_nextを設定する\n",
    "                if done:  # ステップ数が200経過するか、一定角度以上傾くとdoneはtrueになる\n",
    "                    state_next = None  # 次の状態はないので、Noneを格納\n",
    "       \n",
    "\n",
    "                    # 直近10episodeの立てたstep数リストに追加\n",
    "                    episode_10_list = np.hstack(\n",
    "                        (episode_10_list[1:], step + 1))\n",
    "                    if True:\n",
    "                        exercise_value = state[0][0].item() - self.K   \n",
    "                        if state[0][1].item() >= self.T:\n",
    "                            exercise_value = np.max([exercise_value , 0.0])\n",
    "                        \n",
    "                        reward = torch.FloatTensor([exercise_value]) \n",
    "                        complete_episodes = complete_episodes + 1  ## * 暫定的な処理\n",
    "                    \n",
    "\n",
    "                else:\n",
    "                    reward = torch.FloatTensor([0.0])  # 普段は報酬0\n",
    "                    state_next = observation_next  # 観測をそのまま状態とする\n",
    "                    if True:\n",
    "                        state_next = torch.from_numpy(state_next).type(\n",
    "                        torch.FloatTensor)  # numpy変数をPyTorchのテンソルに変換\n",
    "                        state_next = torch.unsqueeze(state_next, 0)  # size 4をsize 1x4に変換\n",
    "\n",
    "                # メモリに経験を追加\n",
    "                self.agent.memorize(state, action, state_next, reward)\n",
    "\n",
    "                # Experience ReplayでQ関数を更新する\n",
    "                if True:\n",
    "                    self.agent.update_q_function()\n",
    "                else:\n",
    "                    try:\n",
    "                        self.agent.update_q_function()\n",
    "                    except:\n",
    "                        print(\"something is wrong\")\n",
    "                        break\n",
    "\n",
    "\n",
    "\n",
    "                # 終了時の処理\n",
    "                if done:\n",
    "                    #print('%d Episode: Finished after %d steps：10試行の平均step数 = %.1lf' % (\n",
    "                    #    episode, step + 1, episode_10_list.mean()))\n",
    "                    #print(\"exercise value is {}\".format(exercise_value))\n",
    "                    #print(type(state))\n",
    "\n",
    "                    error = exercise_value - self.pricer.price(state[0][0].item(), self.K , self.T - state[0][1].item())\n",
    "                    if not is_silent:\n",
    "                        print(\"S : {:.2f} / t : {:.2f} / exercise value : {:.2f} / error : {:.2f}\".format(state[0][0].item() , state[0][1].item() , exercise_value , error))\n",
    "                    break\n",
    "                    ## ** error \n",
    "                                # 観測の更新\n",
    "                state = state_next\n",
    "            if episode_final:\n",
    "                break\n",
    "\n",
    "            # 10連続で200step経ち続けたら成功\n",
    "            if complete_episodes >= n_episodes:\n",
    "                #print('10回連続成功')\n",
    "                episode_final = True  # 次の試行を描画を行う最終試行とする"
   ]
  },
  {
   "cell_type": "code",
   "execution_count": 411,
   "metadata": {},
   "outputs": [
    {
     "name": "stdout",
     "output_type": "stream",
     "text": [
      "Sequential(\n",
      "  (fc1): Linear(in_features=2, out_features=144, bias=True)\n",
      "  (relu1): ReLU()\n",
      "  (fc3): Linear(in_features=144, out_features=2, bias=True)\n",
      ")\n",
      "[Parameter containing:\n",
      "tensor([[ 0.6981, -0.0849],\n",
      "        [-0.6582,  0.3530],\n",
      "        [-0.6553, -0.0313],\n",
      "        [-0.3773, -0.4205],\n",
      "        [-0.2206,  0.5636],\n",
      "        [ 0.4431, -0.6152],\n",
      "        [ 0.4862, -0.6348],\n",
      "        [ 0.1302,  0.5563],\n",
      "        [-0.0908,  0.3378],\n",
      "        [-0.1018,  0.2236],\n",
      "        [-0.0733, -0.1701],\n",
      "        [ 0.0446,  0.4270],\n",
      "        [ 0.1825,  0.4255],\n",
      "        [ 0.6724,  0.3806],\n",
      "        [ 0.1033,  0.5236],\n",
      "        [-0.4597,  0.6533],\n",
      "        [-0.5368, -0.2735],\n",
      "        [ 0.1187,  0.4111],\n",
      "        [-0.3570,  0.4112],\n",
      "        [ 0.2802, -0.3206],\n",
      "        [ 0.2139,  0.4928],\n",
      "        [-0.2949,  0.3832],\n",
      "        [-0.1855,  0.4671],\n",
      "        [-0.4403,  0.6996],\n",
      "        [ 0.5976, -0.1792],\n",
      "        [-0.2787, -0.7000],\n",
      "        [ 0.3885,  0.5761],\n",
      "        [ 0.3127,  0.6777],\n",
      "        [ 0.1011, -0.4971],\n",
      "        [-0.0723,  0.4007],\n",
      "        [ 0.1501, -0.0417],\n",
      "        [-0.5381, -0.6931],\n",
      "        [-0.1078,  0.2246],\n",
      "        [-0.2601, -0.6308],\n",
      "        [-0.6310,  0.6229],\n",
      "        [-0.6308,  0.5942],\n",
      "        [-0.0357,  0.0963],\n",
      "        [ 0.2162,  0.2787],\n",
      "        [ 0.1261, -0.0430],\n",
      "        [-0.5453, -0.1463],\n",
      "        [-0.0055, -0.1478],\n",
      "        [ 0.4899, -0.2923],\n",
      "        [ 0.2226,  0.3979],\n",
      "        [ 0.3322,  0.1159],\n",
      "        [ 0.0097, -0.3497],\n",
      "        [-0.3390, -0.3357],\n",
      "        [-0.1732, -0.3216],\n",
      "        [-0.0160, -0.0731],\n",
      "        [ 0.6046, -0.6394],\n",
      "        [ 0.4442, -0.2051],\n",
      "        [-0.6463, -0.0560],\n",
      "        [ 0.4480,  0.5693],\n",
      "        [ 0.6285,  0.4356],\n",
      "        [ 0.4382,  0.6797],\n",
      "        [-0.1547, -0.2191],\n",
      "        [-0.2870,  0.0439],\n",
      "        [-0.1065, -0.1942],\n",
      "        [ 0.2558, -0.3410],\n",
      "        [ 0.3422, -0.3695],\n",
      "        [ 0.6615,  0.0937],\n",
      "        [-0.2041, -0.0779],\n",
      "        [ 0.2024,  0.4087],\n",
      "        [ 0.1286, -0.4912],\n",
      "        [ 0.1246, -0.6625],\n",
      "        [-0.3707, -0.6494],\n",
      "        [ 0.4825, -0.5558],\n",
      "        [-0.6457,  0.0840],\n",
      "        [-0.6429,  0.6631],\n",
      "        [ 0.1377,  0.6783],\n",
      "        [-0.2001,  0.0792],\n",
      "        [ 0.1888,  0.6449],\n",
      "        [ 0.3926,  0.1578],\n",
      "        [-0.2728,  0.6014],\n",
      "        [-0.5385,  0.1679],\n",
      "        [ 0.5982, -0.6552],\n",
      "        [ 0.2969,  0.5276],\n",
      "        [-0.4468,  0.6808],\n",
      "        [-0.3030,  0.0396],\n",
      "        [ 0.1358,  0.0752],\n",
      "        [-0.1889, -0.2736],\n",
      "        [ 0.0034, -0.2085],\n",
      "        [-0.1822, -0.5599],\n",
      "        [ 0.3924,  0.0807],\n",
      "        [-0.1177, -0.5952],\n",
      "        [ 0.0668,  0.0130],\n",
      "        [-0.0128, -0.5531],\n",
      "        [-0.2380,  0.6538],\n",
      "        [-0.5908, -0.5379],\n",
      "        [ 0.6439,  0.4845],\n",
      "        [ 0.5253,  0.4934],\n",
      "        [-0.5810, -0.4083],\n",
      "        [ 0.0836, -0.1499],\n",
      "        [-0.2545,  0.6938],\n",
      "        [ 0.3754,  0.5589],\n",
      "        [ 0.2484,  0.6454],\n",
      "        [-0.0625,  0.5676],\n",
      "        [ 0.0849,  0.2861],\n",
      "        [-0.0910, -0.0508],\n",
      "        [-0.5571,  0.5252],\n",
      "        [ 0.0773,  0.4505],\n",
      "        [ 0.2325,  0.4368],\n",
      "        [ 0.0853, -0.3554],\n",
      "        [-0.2527,  0.4734],\n",
      "        [ 0.1160,  0.6836],\n",
      "        [-0.5289,  0.4960],\n",
      "        [ 0.2200,  0.5501],\n",
      "        [ 0.2851, -0.3619],\n",
      "        [ 0.0132, -0.5616],\n",
      "        [ 0.1908, -0.4502],\n",
      "        [-0.6962,  0.5247],\n",
      "        [ 0.2323,  0.6574],\n",
      "        [-0.5709, -0.5504],\n",
      "        [-0.6538,  0.4306],\n",
      "        [-0.2084, -0.4564],\n",
      "        [ 0.6489,  0.1972],\n",
      "        [ 0.3818,  0.4679],\n",
      "        [ 0.1554,  0.6794],\n",
      "        [ 0.5130, -0.2930],\n",
      "        [-0.0655, -0.3625],\n",
      "        [-0.0986, -0.2601],\n",
      "        [ 0.0234,  0.5385],\n",
      "        [-0.0945, -0.0970],\n",
      "        [ 0.3014,  0.5744],\n",
      "        [-0.0264, -0.4420],\n",
      "        [-0.0718, -0.1091],\n",
      "        [-0.4526,  0.2873],\n",
      "        [ 0.2445, -0.7058],\n",
      "        [-0.4120, -0.2006],\n",
      "        [ 0.6864, -0.5669],\n",
      "        [ 0.0999, -0.3411],\n",
      "        [ 0.4745,  0.6305],\n",
      "        [-0.2993, -0.5143],\n",
      "        [ 0.7026, -0.3721],\n",
      "        [-0.3456,  0.4274],\n",
      "        [ 0.4540,  0.0221],\n",
      "        [-0.3940,  0.4207],\n",
      "        [-0.4682, -0.0085],\n",
      "        [ 0.1407,  0.2957],\n",
      "        [ 0.3372,  0.6209],\n",
      "        [-0.2180, -0.0929],\n",
      "        [-0.5695, -0.0245],\n",
      "        [ 0.0042, -0.6528],\n",
      "        [ 0.1592,  0.4186],\n",
      "        [ 0.6779, -0.1499]], requires_grad=True), Parameter containing:\n",
      "tensor([ 0.3532,  0.6001,  0.4376,  0.1071,  0.5773,  0.6541,  0.3066,  0.5907,\n",
      "         0.4438,  0.1637,  0.5549, -0.0534, -0.1638, -0.3568, -0.3907,  0.4824,\n",
      "        -0.6065,  0.5900,  0.1561,  0.2427,  0.0249,  0.5597, -0.3509, -0.3132,\n",
      "         0.6595,  0.4774,  0.1795, -0.0650, -0.5476, -0.2185, -0.2513,  0.3942,\n",
      "        -0.5877,  0.0718, -0.2915, -0.5522, -0.1153,  0.0500, -0.5415,  0.4812,\n",
      "        -0.6846, -0.3837,  0.2779,  0.5921, -0.0254,  0.5052, -0.2324, -0.1841,\n",
      "        -0.5541,  0.6838,  0.2408,  0.5082, -0.6000, -0.4882, -0.0778,  0.1080,\n",
      "         0.4787,  0.2981,  0.4096,  0.4039, -0.5018,  0.5505, -0.0070,  0.0460,\n",
      "         0.4063,  0.1132,  0.4279, -0.0560, -0.3308,  0.5725, -0.4822, -0.0168,\n",
      "         0.2656, -0.2716,  0.4419,  0.3868, -0.3221,  0.1794,  0.6990,  0.2044,\n",
      "         0.1277,  0.7036, -0.6105,  0.4649, -0.7048,  0.2585,  0.1902,  0.2078,\n",
      "         0.3814, -0.6267, -0.4135,  0.1826, -0.3330, -0.3647,  0.4186, -0.1068,\n",
      "         0.5327, -0.5872, -0.6409,  0.6779,  0.4346,  0.4334,  0.2560, -0.6483,\n",
      "        -0.2355, -0.1211, -0.5681,  0.0066,  0.0375,  0.1372, -0.1336, -0.0480,\n",
      "        -0.1054,  0.5257,  0.6898,  0.5499, -0.3429,  0.0300, -0.1137,  0.5706,\n",
      "         0.3914, -0.3118, -0.4688, -0.5806,  0.5356, -0.5387,  0.6813,  0.2560,\n",
      "         0.3083, -0.5671, -0.4648, -0.6590, -0.1763,  0.4603,  0.6164, -0.4033,\n",
      "        -0.6168,  0.2176,  0.0298,  0.5972,  0.2123, -0.1806,  0.6292,  0.2171],\n",
      "       requires_grad=True), Parameter containing:\n",
      "tensor([[ 0.0669, -0.0400,  0.0623,  0.0501,  0.0359, -0.0667, -0.0659,  0.0211,\n",
      "         -0.0059, -0.0830,  0.0637,  0.0357,  0.0763, -0.0485, -0.0541,  0.0473,\n",
      "          0.0763,  0.0618, -0.0562, -0.0639,  0.0607, -0.0532, -0.0141, -0.0789,\n",
      "         -0.0243,  0.0804, -0.0718, -0.0422,  0.0056, -0.0754,  0.0747,  0.0347,\n",
      "          0.0691,  0.0308, -0.0384,  0.0831, -0.0661, -0.0478,  0.0001, -0.0369,\n",
      "          0.0227,  0.0196, -0.0077,  0.0530, -0.0628,  0.0328, -0.0586,  0.0604,\n",
      "         -0.0580,  0.0377,  0.0653,  0.0404, -0.0396, -0.0133, -0.0119, -0.0163,\n",
      "         -0.0413, -0.0586,  0.0108, -0.0037,  0.0401, -0.0651,  0.0472, -0.0381,\n",
      "         -0.0303, -0.0110,  0.0021, -0.0234, -0.0328, -0.0510, -0.0090,  0.0641,\n",
      "         -0.0351,  0.0293, -0.0207, -0.0381, -0.0003,  0.0662,  0.0826, -0.0117,\n",
      "         -0.0032,  0.0462,  0.0364, -0.0628,  0.0498, -0.0677,  0.0380, -0.0681,\n",
      "         -0.0312, -0.0674, -0.0178,  0.0668,  0.0545, -0.0574, -0.0264, -0.0060,\n",
      "          0.0110,  0.0090,  0.0749, -0.0143, -0.0420,  0.0192,  0.0735, -0.0426,\n",
      "         -0.0174, -0.0326,  0.0184, -0.0452, -0.0048, -0.0399,  0.0545, -0.0181,\n",
      "         -0.0636,  0.0399,  0.0821, -0.0427, -0.0486, -0.0269,  0.0563, -0.0332,\n",
      "          0.0733,  0.0708,  0.0291,  0.0621,  0.0575, -0.0739,  0.0294,  0.0063,\n",
      "          0.0562,  0.0142,  0.0121, -0.0299, -0.0826, -0.0515,  0.0209,  0.0219,\n",
      "         -0.0756,  0.0486,  0.0034, -0.0368,  0.0085, -0.0236, -0.0581, -0.0525],\n",
      "        [-0.0349, -0.0829, -0.0360, -0.0642,  0.0079, -0.0213, -0.0079,  0.0535,\n",
      "          0.0394, -0.0207,  0.0185,  0.0369, -0.0767,  0.0638, -0.0050,  0.0401,\n",
      "          0.0179, -0.0647,  0.0406,  0.0817, -0.0817,  0.0388, -0.0112,  0.0222,\n",
      "          0.0660, -0.0351,  0.0610, -0.0441,  0.0510, -0.0248, -0.0617, -0.0425,\n",
      "         -0.0188, -0.0059, -0.0800, -0.0471,  0.0367, -0.0278,  0.0544, -0.0363,\n",
      "         -0.0478,  0.0237,  0.0450, -0.0101,  0.0787, -0.0380,  0.0690,  0.0553,\n",
      "          0.0501, -0.0405, -0.0201,  0.0013,  0.0498, -0.0390, -0.0279, -0.0709,\n",
      "         -0.0312, -0.0037,  0.0582, -0.0376, -0.0547, -0.0235, -0.0737,  0.0020,\n",
      "          0.0599, -0.0582,  0.0398,  0.0093,  0.0407,  0.0451,  0.0800, -0.0308,\n",
      "         -0.0450, -0.0628, -0.0220,  0.0132,  0.0588, -0.0369,  0.0519,  0.0598,\n",
      "          0.0682,  0.0506, -0.0476, -0.0273, -0.0618,  0.0584,  0.0463, -0.0591,\n",
      "         -0.0244, -0.0046,  0.0650,  0.0567,  0.0495,  0.0264, -0.0699, -0.0005,\n",
      "         -0.0023, -0.0031, -0.0268,  0.0278,  0.0610, -0.0131, -0.0231,  0.0070,\n",
      "         -0.0504, -0.0422, -0.0102,  0.0406, -0.0122,  0.0089, -0.0800, -0.0745,\n",
      "          0.0127, -0.0420, -0.0565,  0.0342, -0.0394, -0.0162, -0.0637,  0.0453,\n",
      "         -0.0612,  0.0601,  0.0049,  0.0103,  0.0359, -0.0358, -0.0620, -0.0025,\n",
      "         -0.0433,  0.0412,  0.0652,  0.0007, -0.0553,  0.0627, -0.0433,  0.0090,\n",
      "          0.0783, -0.0011, -0.0786,  0.0509, -0.0514,  0.0294, -0.0727,  0.0420]],\n",
      "       requires_grad=True), Parameter containing:\n",
      "tensor([ 0.0089, -0.0288], requires_grad=True)]\n"
     ]
    }
   ],
   "source": [
    "# main クラス\n",
    "cartpole_env = myEnvironment(spot_price / 10 , spot_price * 2 , True , volatility , dividend_rate , risk_free_rate , strike_price , maturity , dt , pricer_steps)"
   ]
  },
  {
   "cell_type": "code",
   "execution_count": 414,
   "metadata": {},
   "outputs": [
    {
     "name": "stdout",
     "output_type": "stream",
     "text": [
      "finished 0 percent (0 / 100)\n",
      "S : 129.88 / t : 0.00 / exercise value : -0.12 / error : -9.52\n",
      "finished 1 percent (1 / 100)\n",
      "S : 48.51 / t : 0.00 / exercise value : -81.49 / error : -81.49\n",
      "finished 2 percent (2 / 100)\n",
      "S : 187.34 / t : 0.00 / exercise value : 57.34 / error : 0.00\n",
      "finished 3 percent (3 / 100)\n",
      "S : 51.48 / t : 0.00 / exercise value : -78.52 / error : -78.52\n",
      "finished 4 percent (4 / 100)\n",
      "S : 22.74 / t : 0.00 / exercise value : -107.26 / error : -107.26\n",
      "finished 5 percent (5 / 100)\n",
      "S : 25.50 / t : 0.00 / exercise value : -104.50 / error : -104.50\n",
      "finished 6 percent (6 / 100)\n",
      "S : 243.26 / t : 0.00 / exercise value : 113.26 / error : -0.00\n",
      "finished 7 percent (7 / 100)\n",
      "S : 98.93 / t : 0.00 / exercise value : -31.07 / error : -31.82\n",
      "finished 8 percent (8 / 100)\n",
      "S : 76.38 / t : 0.00 / exercise value : -53.62 / error : -53.63\n",
      "finished 9 percent (9 / 100)\n",
      "S : 209.82 / t : 0.00 / exercise value : 79.82 / error : 0.00\n",
      "finished 10 percent (10 / 100)\n",
      "S : 175.14 / t : 0.00 / exercise value : 45.14 / error : -0.04\n",
      "finished 11 percent (11 / 100)\n",
      "S : 105.59 / t : 0.00 / exercise value : -24.41 / error : -25.97\n",
      "finished 12 percent (12 / 100)\n",
      "S : 202.18 / t : 0.00 / exercise value : 72.18 / error : -0.00\n",
      "finished 13 percent (13 / 100)\n",
      "S : 18.20 / t : 0.00 / exercise value : -111.80 / error : -111.80\n",
      "finished 14 percent (14 / 100)\n",
      "S : 194.83 / t : 0.00 / exercise value : 64.83 / error : 0.00\n",
      "finished 15 percent (15 / 100)\n",
      "S : 129.19 / t : 0.00 / exercise value : -0.81 / error : -9.88\n",
      "finished 16 percent (16 / 100)\n",
      "S : 19.79 / t : 0.00 / exercise value : -110.21 / error : -110.21\n",
      "finished 17 percent (17 / 100)\n",
      "S : 51.28 / t : 0.00 / exercise value : -78.72 / error : -78.72\n",
      "finished 18 percent (18 / 100)\n",
      "S : 118.82 / t : 0.10 / exercise value : -11.18 / error : -15.54\n",
      "finished 19 percent (19 / 100)\n",
      "S : 118.81 / t : 0.00 / exercise value : -11.19 / error : -15.93\n",
      "finished 20 percent (20 / 100)\n",
      "S : 128.01 / t : 0.00 / exercise value : -1.99 / error : -10.50\n",
      "finished 21 percent (21 / 100)\n",
      "S : 187.94 / t : 0.00 / exercise value : 57.94 / error : 0.00\n",
      "finished 22 percent (22 / 100)\n",
      "S : 219.33 / t : 0.00 / exercise value : 89.33 / error : 0.00\n",
      "finished 23 percent (23 / 100)\n",
      "S : 242.99 / t : 0.00 / exercise value : 112.99 / error : -0.00\n",
      "finished 24 percent (24 / 100)\n",
      "S : 84.06 / t : 0.00 / exercise value : -45.94 / error : -46.02\n",
      "finished 25 percent (25 / 100)\n",
      "S : 78.51 / t : 0.00 / exercise value : -51.49 / error : -51.52\n",
      "finished 26 percent (26 / 100)\n",
      "S : 167.09 / t : 0.00 / exercise value : 37.09 / error : -0.38\n",
      "finished 27 percent (27 / 100)\n",
      "S : 211.42 / t : 0.00 / exercise value : 81.42 / error : 0.00\n",
      "finished 28 percent (28 / 100)\n",
      "S : 16.51 / t : 0.00 / exercise value : -113.49 / error : -113.49\n",
      "finished 29 percent (29 / 100)\n",
      "S : 111.97 / t : 0.00 / exercise value : -18.03 / error : -20.83\n",
      "finished 30 percent (30 / 100)\n",
      "S : 35.53 / t : 0.00 / exercise value : -94.47 / error : -94.47\n",
      "finished 31 percent (31 / 100)\n",
      "S : 65.29 / t : 0.00 / exercise value : -64.71 / error : -64.71\n",
      "finished 32 percent (32 / 100)\n",
      "S : 32.68 / t : 0.00 / exercise value : -97.32 / error : -97.32\n",
      "finished 33 percent (33 / 100)\n",
      "S : 203.52 / t : 0.00 / exercise value : 73.52 / error : -0.00\n",
      "finished 34 percent (34 / 100)\n",
      "S : 51.79 / t : 0.00 / exercise value : -78.21 / error : -78.21\n",
      "finished 35 percent (35 / 100)\n",
      "S : 66.94 / t : 0.00 / exercise value : -63.06 / error : -63.06\n",
      "finished 36 percent (36 / 100)\n",
      "S : 153.16 / t : 0.00 / exercise value : 23.16 / error : -2.02\n",
      "finished 37 percent (37 / 100)\n",
      "S : 47.45 / t : 0.00 / exercise value : -82.55 / error : -82.55\n",
      "finished 38 percent (38 / 100)\n",
      "S : 203.07 / t : 0.00 / exercise value : 73.07 / error : 0.00\n",
      "finished 39 percent (39 / 100)\n",
      "S : 170.69 / t : 0.00 / exercise value : 40.69 / error : -0.18\n",
      "finished 40 percent (40 / 100)\n",
      "S : 180.33 / t : 0.00 / exercise value : 50.33 / error : 0.00\n",
      "finished 41 percent (41 / 100)\n",
      "S : 175.54 / t : 0.00 / exercise value : 45.54 / error : -0.03\n",
      "finished 42 percent (42 / 100)\n",
      "S : 34.89 / t : 0.00 / exercise value : -95.11 / error : -95.11\n",
      "finished 43 percent (43 / 100)\n",
      "S : 200.88 / t : 0.00 / exercise value : 70.88 / error : 0.00\n",
      "finished 44 percent (44 / 100)\n",
      "S : 199.64 / t : 0.00 / exercise value : 69.64 / error : 0.00\n",
      "finished 45 percent (45 / 100)\n",
      "S : 65.57 / t : 0.00 / exercise value : -64.43 / error : -64.43\n",
      "finished 46 percent (46 / 100)\n",
      "S : 216.09 / t : 0.00 / exercise value : 86.09 / error : 0.00\n",
      "finished 47 percent (47 / 100)\n",
      "S : 66.32 / t : 0.00 / exercise value : -63.68 / error : -63.68\n",
      "finished 48 percent (48 / 100)\n",
      "S : 134.21 / t : 0.00 / exercise value : 4.21 / error : -7.58\n",
      "finished 49 percent (49 / 100)\n",
      "S : 92.92 / t : 0.00 / exercise value : -37.08 / error : -37.43\n",
      "finished 50 percent (50 / 100)\n",
      "S : 101.96 / t : 0.00 / exercise value : -28.04 / error : -29.10\n",
      "finished 51 percent (51 / 100)\n",
      "S : 29.32 / t : 0.00 / exercise value : -100.68 / error : -100.68\n",
      "finished 52 percent (52 / 100)\n",
      "S : 217.07 / t : 0.00 / exercise value : 87.07 / error : 0.00\n",
      "finished 53 percent (53 / 100)\n",
      "S : 171.86 / t : 0.00 / exercise value : 41.86 / error : -0.13\n",
      "finished 54 percent (54 / 100)\n",
      "S : 203.48 / t : 0.00 / exercise value : 73.48 / error : 0.00\n",
      "finished 55 percent (55 / 100)\n",
      "S : 43.51 / t : 0.00 / exercise value : -86.49 / error : -86.49\n",
      "finished 56 percent (56 / 100)\n",
      "S : 144.95 / t : 0.00 / exercise value : 14.95 / error : -3.88\n",
      "finished 57 percent (57 / 100)\n",
      "S : 65.81 / t : 0.00 / exercise value : -64.19 / error : -64.19\n",
      "finished 58 percent (58 / 100)\n",
      "S : 239.68 / t : 0.00 / exercise value : 109.68 / error : 0.00\n",
      "finished 59 percent (59 / 100)\n",
      "S : 225.95 / t : 0.00 / exercise value : 95.95 / error : 0.00\n",
      "finished 60 percent (60 / 100)\n",
      "S : 101.46 / t : 0.00 / exercise value : -28.54 / error : -29.55\n",
      "finished 61 percent (61 / 100)\n",
      "S : 251.58 / t : 0.00 / exercise value : 121.58 / error : 0.00\n",
      "finished 62 percent (62 / 100)\n",
      "S : 110.51 / t : 0.00 / exercise value : -19.49 / error : -21.94\n",
      "finished 63 percent (63 / 100)\n",
      "S : 142.74 / t : 0.00 / exercise value : 12.74 / error : -4.52\n",
      "finished 64 percent (64 / 100)\n",
      "S : 97.52 / t : 0.00 / exercise value : -32.48 / error : -33.12\n",
      "finished 65 percent (65 / 100)\n",
      "S : 208.05 / t : 0.00 / exercise value : 78.05 / error : 0.00\n",
      "finished 66 percent (66 / 100)\n",
      "S : 41.75 / t : 0.00 / exercise value : -88.25 / error : -88.25\n",
      "finished 67 percent (67 / 100)\n",
      "S : 138.97 / t : 0.00 / exercise value : 8.97 / error : -5.75\n",
      "finished 68 percent (68 / 100)\n",
      "S : 248.03 / t : 0.00 / exercise value : 118.03 / error : -0.00\n",
      "finished 69 percent (69 / 100)\n",
      "S : 96.25 / t : 0.00 / exercise value : -33.75 / error : -34.29\n",
      "finished 70 percent (70 / 100)\n",
      "S : 191.11 / t : 0.00 / exercise value : 61.11 / error : 0.00\n",
      "finished 71 percent (71 / 100)\n",
      "S : 156.45 / t : 0.00 / exercise value : 26.45 / error : -1.49\n",
      "finished 72 percent (72 / 100)\n",
      "S : 110.72 / t : 0.00 / exercise value : -19.28 / error : -21.77\n",
      "finished 73 percent (73 / 100)\n",
      "S : 112.75 / t : 0.00 / exercise value : -17.25 / error : -20.24\n",
      "finished 74 percent (74 / 100)\n",
      "S : 77.93 / t : 0.00 / exercise value : -52.07 / error : -52.09\n",
      "finished 75 percent (75 / 100)\n",
      "S : 80.30 / t : 0.00 / exercise value : -49.70 / error : -49.74\n",
      "finished 76 percent (76 / 100)\n",
      "S : 249.86 / t : 0.00 / exercise value : 119.86 / error : -0.00\n",
      "finished 77 percent (77 / 100)\n",
      "S : 229.26 / t : 0.00 / exercise value : 99.26 / error : 0.00\n",
      "finished 78 percent (78 / 100)\n",
      "S : 76.70 / t : 0.00 / exercise value : -53.30 / error : -53.32\n",
      "finished 79 percent (79 / 100)\n",
      "S : 129.34 / t : 0.00 / exercise value : -0.66 / error : -9.80\n",
      "finished 80 percent (80 / 100)\n",
      "S : 235.38 / t : 0.00 / exercise value : 105.38 / error : 0.00\n",
      "finished 81 percent (81 / 100)\n",
      "S : 223.80 / t : 0.00 / exercise value : 93.80 / error : 0.00\n",
      "finished 82 percent (82 / 100)\n",
      "S : 73.78 / t : 0.00 / exercise value : -56.22 / error : -56.23\n",
      "finished 83 percent (83 / 100)\n",
      "S : 188.66 / t : 0.00 / exercise value : 58.66 / error : 0.00\n",
      "finished 84 percent (84 / 100)\n",
      "S : 244.06 / t : 0.00 / exercise value : 114.06 / error : -0.00\n",
      "finished 85 percent (85 / 100)\n",
      "S : 198.35 / t : 0.00 / exercise value : 68.35 / error : 0.00\n",
      "finished 86 percent (86 / 100)\n",
      "S : 14.93 / t : 0.00 / exercise value : -115.07 / error : -115.07\n",
      "finished 87 percent (87 / 100)\n",
      "S : 253.57 / t : 0.00 / exercise value : 123.57 / error : 0.00\n",
      "finished 88 percent (88 / 100)\n",
      "S : 46.69 / t : 0.00 / exercise value : -83.31 / error : -83.31\n",
      "finished 89 percent (89 / 100)\n",
      "S : 14.57 / t : 0.00 / exercise value : -115.43 / error : -115.43\n",
      "finished 90 percent (90 / 100)\n",
      "S : 181.76 / t : 0.00 / exercise value : 51.76 / error : 0.00\n",
      "finished 91 percent (91 / 100)\n",
      "S : 123.47 / t : 0.00 / exercise value : -6.53 / error : -13.01\n",
      "finished 92 percent (92 / 100)\n",
      "S : 153.36 / t : 0.00 / exercise value : 23.36 / error : -1.99\n",
      "finished 93 percent (93 / 100)\n",
      "S : 100.94 / t : 0.00 / exercise value : -29.06 / error : -30.01\n",
      "finished 94 percent (94 / 100)\n",
      "S : 219.77 / t : 0.00 / exercise value : 89.77 / error : 0.00\n",
      "finished 95 percent (95 / 100)\n",
      "S : 209.55 / t : 0.00 / exercise value : 79.55 / error : 0.00\n",
      "finished 96 percent (96 / 100)\n",
      "S : 210.87 / t : 0.00 / exercise value : 80.87 / error : 0.00\n",
      "finished 97 percent (97 / 100)\n",
      "S : 192.26 / t : 0.00 / exercise value : 62.26 / error : 0.00\n",
      "finished 98 percent (98 / 100)\n",
      "S : 167.40 / t : 0.00 / exercise value : 37.40 / error : -0.36\n",
      "finished 99 percent (99 / 100)\n",
      "S : 94.58 / t : 0.00 / exercise value : -35.42 / error : -35.85\n"
     ]
    }
   ],
   "source": [
    "cartpole_env.run(100, False)"
   ]
  },
  {
   "cell_type": "code",
   "execution_count": null,
   "metadata": {},
   "outputs": [
    {
     "name": "stdout",
     "output_type": "stream",
     "text": [
      "finished 1 percent (200 / 20000)\n",
      "finished 2 percent (400 / 20000)\n"
     ]
    }
   ],
   "source": [
    "cartpole_env.run(20000, True)"
   ]
  },
  {
   "cell_type": "markdown",
   "metadata": {},
   "source": [
    "cartpole_env.run(2000000, True)"
   ]
  },
  {
   "cell_type": "markdown",
   "metadata": {},
   "source": [
    "# predict\n"
   ]
  },
  {
   "cell_type": "code",
   "execution_count": 385,
   "metadata": {},
   "outputs": [],
   "source": [
    "model = cartpole_env.agent.brain.model"
   ]
  },
  {
   "cell_type": "code",
   "execution_count": 386,
   "metadata": {},
   "outputs": [
    {
     "data": {
      "text/plain": [
       "Sequential(\n",
       "  (fc1): Linear(in_features=2, out_features=144, bias=True)\n",
       "  (relu1): ReLU()\n",
       "  (fc3): Linear(in_features=144, out_features=2, bias=True)\n",
       ")"
      ]
     },
     "execution_count": 386,
     "metadata": {},
     "output_type": "execute_result"
    }
   ],
   "source": [
    "model.eval()"
   ]
  },
  {
   "cell_type": "code",
   "execution_count": 387,
   "metadata": {},
   "outputs": [],
   "source": [
    "run_underliers = [float(i) * 10 for i in range(1 , 20)]"
   ]
  },
  {
   "cell_type": "code",
   "execution_count": 388,
   "metadata": {},
   "outputs": [],
   "source": [
    "run_t = 0.2"
   ]
  },
  {
   "cell_type": "code",
   "execution_count": 389,
   "metadata": {},
   "outputs": [],
   "source": [
    "run_input = torch.tensor([\n",
    "    [s , run_t] for s in run_underliers\n",
    "])"
   ]
  },
  {
   "cell_type": "code",
   "execution_count": 390,
   "metadata": {},
   "outputs": [],
   "source": [
    "run_outputs = model(run_input)"
   ]
  },
  {
   "cell_type": "code",
   "execution_count": 391,
   "metadata": {},
   "outputs": [],
   "source": [
    "import pandas as pd"
   ]
  },
  {
   "cell_type": "code",
   "execution_count": 392,
   "metadata": {},
   "outputs": [],
   "source": [
    "df_output = pd.DataFrame({\"underlier\" : run_underliers, \n",
    "              \"value0\" : [x.item() for x in run_outputs[:,0]]  , \n",
    "              \"value1\" : [x.item() for x in run_outputs[:,1]] } )"
   ]
  },
  {
   "cell_type": "code",
   "execution_count": 393,
   "metadata": {},
   "outputs": [
    {
     "data": {
      "text/html": [
       "\n",
       "    <div class=\"bk-root\">\n",
       "        <a href=\"https://bokeh.pydata.org\" target=\"_blank\" class=\"bk-logo bk-logo-small bk-logo-notebook\"></a>\n",
       "        <span id=\"5a4531d2-9694-403a-9f3d-4578bd4154a2\">Loading BokehJS ...</span>\n",
       "    </div>"
      ]
     },
     "metadata": {},
     "output_type": "display_data"
    },
    {
     "data": {
      "application/javascript": [
       "\n",
       "(function(root) {\n",
       "  function now() {\n",
       "    return new Date();\n",
       "  }\n",
       "\n",
       "  var force = true;\n",
       "\n",
       "  if (typeof (root._bokeh_onload_callbacks) === \"undefined\" || force === true) {\n",
       "    root._bokeh_onload_callbacks = [];\n",
       "    root._bokeh_is_loading = undefined;\n",
       "  }\n",
       "\n",
       "  var JS_MIME_TYPE = 'application/javascript';\n",
       "  var HTML_MIME_TYPE = 'text/html';\n",
       "  var EXEC_MIME_TYPE = 'application/vnd.bokehjs_exec.v0+json';\n",
       "  var CLASS_NAME = 'output_bokeh rendered_html';\n",
       "\n",
       "  /**\n",
       "   * Render data to the DOM node\n",
       "   */\n",
       "  function render(props, node) {\n",
       "    var script = document.createElement(\"script\");\n",
       "    node.appendChild(script);\n",
       "  }\n",
       "\n",
       "  /**\n",
       "   * Handle when an output is cleared or removed\n",
       "   */\n",
       "  function handleClearOutput(event, handle) {\n",
       "    var cell = handle.cell;\n",
       "\n",
       "    var id = cell.output_area._bokeh_element_id;\n",
       "    var server_id = cell.output_area._bokeh_server_id;\n",
       "    // Clean up Bokeh references\n",
       "    if (id !== undefined) {\n",
       "      Bokeh.index[id].model.document.clear();\n",
       "      delete Bokeh.index[id];\n",
       "    }\n",
       "\n",
       "    if (server_id !== undefined) {\n",
       "      // Clean up Bokeh references\n",
       "      var cmd = \"from bokeh.io.state import curstate; print(curstate().uuid_to_server['\" + server_id + \"'].get_sessions()[0].document.roots[0]._id)\";\n",
       "      cell.notebook.kernel.execute(cmd, {\n",
       "        iopub: {\n",
       "          output: function(msg) {\n",
       "            var element_id = msg.content.text.trim();\n",
       "            Bokeh.index[element_id].model.document.clear();\n",
       "            delete Bokeh.index[element_id];\n",
       "          }\n",
       "        }\n",
       "      });\n",
       "      // Destroy server and session\n",
       "      var cmd = \"import bokeh.io.notebook as ion; ion.destroy_server('\" + server_id + \"')\";\n",
       "      cell.notebook.kernel.execute(cmd);\n",
       "    }\n",
       "  }\n",
       "\n",
       "  /**\n",
       "   * Handle when a new output is added\n",
       "   */\n",
       "  function handleAddOutput(event, handle) {\n",
       "    var output_area = handle.output_area;\n",
       "    var output = handle.output;\n",
       "\n",
       "    // limit handleAddOutput to display_data with EXEC_MIME_TYPE content only\n",
       "    if ((output.output_type != \"display_data\") || (!output.data.hasOwnProperty(EXEC_MIME_TYPE))) {\n",
       "      return\n",
       "    }\n",
       "\n",
       "    var toinsert = output_area.element.find(\".\" + CLASS_NAME.split(' ')[0]);\n",
       "\n",
       "    if (output.metadata[EXEC_MIME_TYPE][\"id\"] !== undefined) {\n",
       "      toinsert[0].firstChild.textContent = output.data[JS_MIME_TYPE];\n",
       "      // store reference to embed id on output_area\n",
       "      output_area._bokeh_element_id = output.metadata[EXEC_MIME_TYPE][\"id\"];\n",
       "    }\n",
       "    if (output.metadata[EXEC_MIME_TYPE][\"server_id\"] !== undefined) {\n",
       "      var bk_div = document.createElement(\"div\");\n",
       "      bk_div.innerHTML = output.data[HTML_MIME_TYPE];\n",
       "      var script_attrs = bk_div.children[0].attributes;\n",
       "      for (var i = 0; i < script_attrs.length; i++) {\n",
       "        toinsert[0].firstChild.setAttribute(script_attrs[i].name, script_attrs[i].value);\n",
       "      }\n",
       "      // store reference to server id on output_area\n",
       "      output_area._bokeh_server_id = output.metadata[EXEC_MIME_TYPE][\"server_id\"];\n",
       "    }\n",
       "  }\n",
       "\n",
       "  function register_renderer(events, OutputArea) {\n",
       "\n",
       "    function append_mime(data, metadata, element) {\n",
       "      // create a DOM node to render to\n",
       "      var toinsert = this.create_output_subarea(\n",
       "        metadata,\n",
       "        CLASS_NAME,\n",
       "        EXEC_MIME_TYPE\n",
       "      );\n",
       "      this.keyboard_manager.register_events(toinsert);\n",
       "      // Render to node\n",
       "      var props = {data: data, metadata: metadata[EXEC_MIME_TYPE]};\n",
       "      render(props, toinsert[0]);\n",
       "      element.append(toinsert);\n",
       "      return toinsert\n",
       "    }\n",
       "\n",
       "    /* Handle when an output is cleared or removed */\n",
       "    events.on('clear_output.CodeCell', handleClearOutput);\n",
       "    events.on('delete.Cell', handleClearOutput);\n",
       "\n",
       "    /* Handle when a new output is added */\n",
       "    events.on('output_added.OutputArea', handleAddOutput);\n",
       "\n",
       "    /**\n",
       "     * Register the mime type and append_mime function with output_area\n",
       "     */\n",
       "    OutputArea.prototype.register_mime_type(EXEC_MIME_TYPE, append_mime, {\n",
       "      /* Is output safe? */\n",
       "      safe: true,\n",
       "      /* Index of renderer in `output_area.display_order` */\n",
       "      index: 0\n",
       "    });\n",
       "  }\n",
       "\n",
       "  // register the mime type if in Jupyter Notebook environment and previously unregistered\n",
       "  if (root.Jupyter !== undefined) {\n",
       "    var events = require('base/js/events');\n",
       "    var OutputArea = require('notebook/js/outputarea').OutputArea;\n",
       "\n",
       "    if (OutputArea.prototype.mime_types().indexOf(EXEC_MIME_TYPE) == -1) {\n",
       "      register_renderer(events, OutputArea);\n",
       "    }\n",
       "  }\n",
       "\n",
       "  \n",
       "  if (typeof (root._bokeh_timeout) === \"undefined\" || force === true) {\n",
       "    root._bokeh_timeout = Date.now() + 5000;\n",
       "    root._bokeh_failed_load = false;\n",
       "  }\n",
       "\n",
       "  var NB_LOAD_WARNING = {'data': {'text/html':\n",
       "     \"<div style='background-color: #fdd'>\\n\"+\n",
       "     \"<p>\\n\"+\n",
       "     \"BokehJS does not appear to have successfully loaded. If loading BokehJS from CDN, this \\n\"+\n",
       "     \"may be due to a slow or bad network connection. Possible fixes:\\n\"+\n",
       "     \"</p>\\n\"+\n",
       "     \"<ul>\\n\"+\n",
       "     \"<li>re-rerun `output_notebook()` to attempt to load from CDN again, or</li>\\n\"+\n",
       "     \"<li>use INLINE resources instead, as so:</li>\\n\"+\n",
       "     \"</ul>\\n\"+\n",
       "     \"<code>\\n\"+\n",
       "     \"from bokeh.resources import INLINE\\n\"+\n",
       "     \"output_notebook(resources=INLINE)\\n\"+\n",
       "     \"</code>\\n\"+\n",
       "     \"</div>\"}};\n",
       "\n",
       "  function display_loaded() {\n",
       "    var el = document.getElementById(\"5a4531d2-9694-403a-9f3d-4578bd4154a2\");\n",
       "    if (el != null) {\n",
       "      el.textContent = \"BokehJS is loading...\";\n",
       "    }\n",
       "    if (root.Bokeh !== undefined) {\n",
       "      if (el != null) {\n",
       "        el.textContent = \"BokehJS \" + root.Bokeh.version + \" successfully loaded.\";\n",
       "      }\n",
       "    } else if (Date.now() < root._bokeh_timeout) {\n",
       "      setTimeout(display_loaded, 100)\n",
       "    }\n",
       "  }\n",
       "\n",
       "\n",
       "  function run_callbacks() {\n",
       "    try {\n",
       "      root._bokeh_onload_callbacks.forEach(function(callback) { callback() });\n",
       "    }\n",
       "    finally {\n",
       "      delete root._bokeh_onload_callbacks\n",
       "    }\n",
       "    console.info(\"Bokeh: all callbacks have finished\");\n",
       "  }\n",
       "\n",
       "  function load_libs(js_urls, callback) {\n",
       "    root._bokeh_onload_callbacks.push(callback);\n",
       "    if (root._bokeh_is_loading > 0) {\n",
       "      console.log(\"Bokeh: BokehJS is being loaded, scheduling callback at\", now());\n",
       "      return null;\n",
       "    }\n",
       "    if (js_urls == null || js_urls.length === 0) {\n",
       "      run_callbacks();\n",
       "      return null;\n",
       "    }\n",
       "    console.log(\"Bokeh: BokehJS not loaded, scheduling load and callback at\", now());\n",
       "    root._bokeh_is_loading = js_urls.length;\n",
       "    for (var i = 0; i < js_urls.length; i++) {\n",
       "      var url = js_urls[i];\n",
       "      var s = document.createElement('script');\n",
       "      s.src = url;\n",
       "      s.async = false;\n",
       "      s.onreadystatechange = s.onload = function() {\n",
       "        root._bokeh_is_loading--;\n",
       "        if (root._bokeh_is_loading === 0) {\n",
       "          console.log(\"Bokeh: all BokehJS libraries loaded\");\n",
       "          run_callbacks()\n",
       "        }\n",
       "      };\n",
       "      s.onerror = function() {\n",
       "        console.warn(\"failed to load library \" + url);\n",
       "      };\n",
       "      console.log(\"Bokeh: injecting script tag for BokehJS library: \", url);\n",
       "      document.getElementsByTagName(\"head\")[0].appendChild(s);\n",
       "    }\n",
       "  };var element = document.getElementById(\"5a4531d2-9694-403a-9f3d-4578bd4154a2\");\n",
       "  if (element == null) {\n",
       "    console.log(\"Bokeh: ERROR: autoload.js configured with elementid '5a4531d2-9694-403a-9f3d-4578bd4154a2' but no matching script tag was found. \")\n",
       "    return false;\n",
       "  }\n",
       "\n",
       "  var js_urls = [\"https://cdn.pydata.org/bokeh/release/bokeh-0.12.13.min.js\", \"https://cdn.pydata.org/bokeh/release/bokeh-widgets-0.12.13.min.js\", \"https://cdn.pydata.org/bokeh/release/bokeh-tables-0.12.13.min.js\", \"https://cdn.pydata.org/bokeh/release/bokeh-gl-0.12.13.min.js\"];\n",
       "\n",
       "  var inline_js = [\n",
       "    function(Bokeh) {\n",
       "      Bokeh.set_log_level(\"info\");\n",
       "    },\n",
       "    \n",
       "    function(Bokeh) {\n",
       "      \n",
       "    },\n",
       "    function(Bokeh) {\n",
       "      console.log(\"Bokeh: injecting CSS: https://cdn.pydata.org/bokeh/release/bokeh-0.12.13.min.css\");\n",
       "      Bokeh.embed.inject_css(\"https://cdn.pydata.org/bokeh/release/bokeh-0.12.13.min.css\");\n",
       "      console.log(\"Bokeh: injecting CSS: https://cdn.pydata.org/bokeh/release/bokeh-widgets-0.12.13.min.css\");\n",
       "      Bokeh.embed.inject_css(\"https://cdn.pydata.org/bokeh/release/bokeh-widgets-0.12.13.min.css\");\n",
       "      console.log(\"Bokeh: injecting CSS: https://cdn.pydata.org/bokeh/release/bokeh-tables-0.12.13.min.css\");\n",
       "      Bokeh.embed.inject_css(\"https://cdn.pydata.org/bokeh/release/bokeh-tables-0.12.13.min.css\");\n",
       "    }\n",
       "  ];\n",
       "\n",
       "  function run_inline_js() {\n",
       "    \n",
       "    if ((root.Bokeh !== undefined) || (force === true)) {\n",
       "      for (var i = 0; i < inline_js.length; i++) {\n",
       "        inline_js[i].call(root, root.Bokeh);\n",
       "      }if (force === true) {\n",
       "        display_loaded();\n",
       "      }} else if (Date.now() < root._bokeh_timeout) {\n",
       "      setTimeout(run_inline_js, 100);\n",
       "    } else if (!root._bokeh_failed_load) {\n",
       "      console.log(\"Bokeh: BokehJS failed to load within specified timeout.\");\n",
       "      root._bokeh_failed_load = true;\n",
       "    } else if (force !== true) {\n",
       "      var cell = $(document.getElementById(\"5a4531d2-9694-403a-9f3d-4578bd4154a2\")).parents('.cell').data().cell;\n",
       "      cell.output_area.append_execute_result(NB_LOAD_WARNING)\n",
       "    }\n",
       "\n",
       "  }\n",
       "\n",
       "  if (root._bokeh_is_loading === 0) {\n",
       "    console.log(\"Bokeh: BokehJS loaded, going straight to plotting\");\n",
       "    run_inline_js();\n",
       "  } else {\n",
       "    load_libs(js_urls, function() {\n",
       "      console.log(\"Bokeh: BokehJS plotting callback run at\", now());\n",
       "      run_inline_js();\n",
       "    });\n",
       "  }\n",
       "}(window));"
      ],
      "application/vnd.bokehjs_load.v0+json": "\n(function(root) {\n  function now() {\n    return new Date();\n  }\n\n  var force = true;\n\n  if (typeof (root._bokeh_onload_callbacks) === \"undefined\" || force === true) {\n    root._bokeh_onload_callbacks = [];\n    root._bokeh_is_loading = undefined;\n  }\n\n  \n\n  \n  if (typeof (root._bokeh_timeout) === \"undefined\" || force === true) {\n    root._bokeh_timeout = Date.now() + 5000;\n    root._bokeh_failed_load = false;\n  }\n\n  var NB_LOAD_WARNING = {'data': {'text/html':\n     \"<div style='background-color: #fdd'>\\n\"+\n     \"<p>\\n\"+\n     \"BokehJS does not appear to have successfully loaded. If loading BokehJS from CDN, this \\n\"+\n     \"may be due to a slow or bad network connection. Possible fixes:\\n\"+\n     \"</p>\\n\"+\n     \"<ul>\\n\"+\n     \"<li>re-rerun `output_notebook()` to attempt to load from CDN again, or</li>\\n\"+\n     \"<li>use INLINE resources instead, as so:</li>\\n\"+\n     \"</ul>\\n\"+\n     \"<code>\\n\"+\n     \"from bokeh.resources import INLINE\\n\"+\n     \"output_notebook(resources=INLINE)\\n\"+\n     \"</code>\\n\"+\n     \"</div>\"}};\n\n  function display_loaded() {\n    var el = document.getElementById(\"5a4531d2-9694-403a-9f3d-4578bd4154a2\");\n    if (el != null) {\n      el.textContent = \"BokehJS is loading...\";\n    }\n    if (root.Bokeh !== undefined) {\n      if (el != null) {\n        el.textContent = \"BokehJS \" + root.Bokeh.version + \" successfully loaded.\";\n      }\n    } else if (Date.now() < root._bokeh_timeout) {\n      setTimeout(display_loaded, 100)\n    }\n  }\n\n\n  function run_callbacks() {\n    try {\n      root._bokeh_onload_callbacks.forEach(function(callback) { callback() });\n    }\n    finally {\n      delete root._bokeh_onload_callbacks\n    }\n    console.info(\"Bokeh: all callbacks have finished\");\n  }\n\n  function load_libs(js_urls, callback) {\n    root._bokeh_onload_callbacks.push(callback);\n    if (root._bokeh_is_loading > 0) {\n      console.log(\"Bokeh: BokehJS is being loaded, scheduling callback at\", now());\n      return null;\n    }\n    if (js_urls == null || js_urls.length === 0) {\n      run_callbacks();\n      return null;\n    }\n    console.log(\"Bokeh: BokehJS not loaded, scheduling load and callback at\", now());\n    root._bokeh_is_loading = js_urls.length;\n    for (var i = 0; i < js_urls.length; i++) {\n      var url = js_urls[i];\n      var s = document.createElement('script');\n      s.src = url;\n      s.async = false;\n      s.onreadystatechange = s.onload = function() {\n        root._bokeh_is_loading--;\n        if (root._bokeh_is_loading === 0) {\n          console.log(\"Bokeh: all BokehJS libraries loaded\");\n          run_callbacks()\n        }\n      };\n      s.onerror = function() {\n        console.warn(\"failed to load library \" + url);\n      };\n      console.log(\"Bokeh: injecting script tag for BokehJS library: \", url);\n      document.getElementsByTagName(\"head\")[0].appendChild(s);\n    }\n  };var element = document.getElementById(\"5a4531d2-9694-403a-9f3d-4578bd4154a2\");\n  if (element == null) {\n    console.log(\"Bokeh: ERROR: autoload.js configured with elementid '5a4531d2-9694-403a-9f3d-4578bd4154a2' but no matching script tag was found. \")\n    return false;\n  }\n\n  var js_urls = [\"https://cdn.pydata.org/bokeh/release/bokeh-0.12.13.min.js\", \"https://cdn.pydata.org/bokeh/release/bokeh-widgets-0.12.13.min.js\", \"https://cdn.pydata.org/bokeh/release/bokeh-tables-0.12.13.min.js\", \"https://cdn.pydata.org/bokeh/release/bokeh-gl-0.12.13.min.js\"];\n\n  var inline_js = [\n    function(Bokeh) {\n      Bokeh.set_log_level(\"info\");\n    },\n    \n    function(Bokeh) {\n      \n    },\n    function(Bokeh) {\n      console.log(\"Bokeh: injecting CSS: https://cdn.pydata.org/bokeh/release/bokeh-0.12.13.min.css\");\n      Bokeh.embed.inject_css(\"https://cdn.pydata.org/bokeh/release/bokeh-0.12.13.min.css\");\n      console.log(\"Bokeh: injecting CSS: https://cdn.pydata.org/bokeh/release/bokeh-widgets-0.12.13.min.css\");\n      Bokeh.embed.inject_css(\"https://cdn.pydata.org/bokeh/release/bokeh-widgets-0.12.13.min.css\");\n      console.log(\"Bokeh: injecting CSS: https://cdn.pydata.org/bokeh/release/bokeh-tables-0.12.13.min.css\");\n      Bokeh.embed.inject_css(\"https://cdn.pydata.org/bokeh/release/bokeh-tables-0.12.13.min.css\");\n    }\n  ];\n\n  function run_inline_js() {\n    \n    if ((root.Bokeh !== undefined) || (force === true)) {\n      for (var i = 0; i < inline_js.length; i++) {\n        inline_js[i].call(root, root.Bokeh);\n      }if (force === true) {\n        display_loaded();\n      }} else if (Date.now() < root._bokeh_timeout) {\n      setTimeout(run_inline_js, 100);\n    } else if (!root._bokeh_failed_load) {\n      console.log(\"Bokeh: BokehJS failed to load within specified timeout.\");\n      root._bokeh_failed_load = true;\n    } else if (force !== true) {\n      var cell = $(document.getElementById(\"5a4531d2-9694-403a-9f3d-4578bd4154a2\")).parents('.cell').data().cell;\n      cell.output_area.append_execute_result(NB_LOAD_WARNING)\n    }\n\n  }\n\n  if (root._bokeh_is_loading === 0) {\n    console.log(\"Bokeh: BokehJS loaded, going straight to plotting\");\n    run_inline_js();\n  } else {\n    load_libs(js_urls, function() {\n      console.log(\"Bokeh: BokehJS plotting callback run at\", now());\n      run_inline_js();\n    });\n  }\n}(window));"
     },
     "metadata": {},
     "output_type": "display_data"
    }
   ],
   "source": [
    "import bokeh.plotting as bp\n",
    "from bokeh import palettes \n",
    "bp.output_notebook()\n",
    "from bokeh.models import ColumnDataSource"
   ]
  },
  {
   "cell_type": "code",
   "execution_count": 394,
   "metadata": {},
   "outputs": [],
   "source": [
    "p = bp.figure()"
   ]
  },
  {
   "cell_type": "markdown",
   "metadata": {},
   "source": [
    "value0は継続価値"
   ]
  },
  {
   "cell_type": "code",
   "execution_count": 395,
   "metadata": {},
   "outputs": [
    {
     "data": {
      "text/html": [
       "<div style=\"display: table;\"><div style=\"display: table-row;\"><div style=\"display: table-cell;\"><b title=\"bokeh.models.renderers.GlyphRenderer\">GlyphRenderer</b>(</div><div style=\"display: table-cell;\">id&nbsp;=&nbsp;'a7de8575-48db-4c9c-8149-46b847dc2f20', <span id=\"7e9c9e36-6275-475b-b313-a626294d399f\" style=\"cursor: pointer;\">&hellip;)</span></div></div><div class=\"6c4b48aa-cec7-4a25-b84c-5c75fcadd726\" style=\"display: none;\"><div style=\"display: table-cell;\"></div><div style=\"display: table-cell;\">data_source&nbsp;=&nbsp;ColumnDataSource(id='e1d4cae2-b41b-46ab-93f6-4abfc7032f9f', ...),</div></div><div class=\"6c4b48aa-cec7-4a25-b84c-5c75fcadd726\" style=\"display: none;\"><div style=\"display: table-cell;\"></div><div style=\"display: table-cell;\">glyph&nbsp;=&nbsp;Circle(id='e999ba4b-9b01-4b02-9720-52139a2632c9', ...),</div></div><div class=\"6c4b48aa-cec7-4a25-b84c-5c75fcadd726\" style=\"display: none;\"><div style=\"display: table-cell;\"></div><div style=\"display: table-cell;\">hover_glyph&nbsp;=&nbsp;None,</div></div><div class=\"6c4b48aa-cec7-4a25-b84c-5c75fcadd726\" style=\"display: none;\"><div style=\"display: table-cell;\"></div><div style=\"display: table-cell;\">js_event_callbacks&nbsp;=&nbsp;{},</div></div><div class=\"6c4b48aa-cec7-4a25-b84c-5c75fcadd726\" style=\"display: none;\"><div style=\"display: table-cell;\"></div><div style=\"display: table-cell;\">js_property_callbacks&nbsp;=&nbsp;{},</div></div><div class=\"6c4b48aa-cec7-4a25-b84c-5c75fcadd726\" style=\"display: none;\"><div style=\"display: table-cell;\"></div><div style=\"display: table-cell;\">level&nbsp;=&nbsp;'glyph',</div></div><div class=\"6c4b48aa-cec7-4a25-b84c-5c75fcadd726\" style=\"display: none;\"><div style=\"display: table-cell;\"></div><div style=\"display: table-cell;\">muted&nbsp;=&nbsp;False,</div></div><div class=\"6c4b48aa-cec7-4a25-b84c-5c75fcadd726\" style=\"display: none;\"><div style=\"display: table-cell;\"></div><div style=\"display: table-cell;\">muted_glyph&nbsp;=&nbsp;None,</div></div><div class=\"6c4b48aa-cec7-4a25-b84c-5c75fcadd726\" style=\"display: none;\"><div style=\"display: table-cell;\"></div><div style=\"display: table-cell;\">name&nbsp;=&nbsp;None,</div></div><div class=\"6c4b48aa-cec7-4a25-b84c-5c75fcadd726\" style=\"display: none;\"><div style=\"display: table-cell;\"></div><div style=\"display: table-cell;\">nonselection_glyph&nbsp;=&nbsp;Circle(id='d68e183a-cb18-400a-aeb4-5d27688499e0', ...),</div></div><div class=\"6c4b48aa-cec7-4a25-b84c-5c75fcadd726\" style=\"display: none;\"><div style=\"display: table-cell;\"></div><div style=\"display: table-cell;\">selection_glyph&nbsp;=&nbsp;None,</div></div><div class=\"6c4b48aa-cec7-4a25-b84c-5c75fcadd726\" style=\"display: none;\"><div style=\"display: table-cell;\"></div><div style=\"display: table-cell;\">subscribed_events&nbsp;=&nbsp;[],</div></div><div class=\"6c4b48aa-cec7-4a25-b84c-5c75fcadd726\" style=\"display: none;\"><div style=\"display: table-cell;\"></div><div style=\"display: table-cell;\">tags&nbsp;=&nbsp;[],</div></div><div class=\"6c4b48aa-cec7-4a25-b84c-5c75fcadd726\" style=\"display: none;\"><div style=\"display: table-cell;\"></div><div style=\"display: table-cell;\">view&nbsp;=&nbsp;CDSView(id='36aedb06-adb8-4e26-9e15-752d3e0845bc', ...),</div></div><div class=\"6c4b48aa-cec7-4a25-b84c-5c75fcadd726\" style=\"display: none;\"><div style=\"display: table-cell;\"></div><div style=\"display: table-cell;\">visible&nbsp;=&nbsp;True,</div></div><div class=\"6c4b48aa-cec7-4a25-b84c-5c75fcadd726\" style=\"display: none;\"><div style=\"display: table-cell;\"></div><div style=\"display: table-cell;\">x_range_name&nbsp;=&nbsp;'default',</div></div><div class=\"6c4b48aa-cec7-4a25-b84c-5c75fcadd726\" style=\"display: none;\"><div style=\"display: table-cell;\"></div><div style=\"display: table-cell;\">y_range_name&nbsp;=&nbsp;'default')</div></div></div>\n",
       "<script>\n",
       "(function() {\n",
       "  var expanded = false;\n",
       "  var ellipsis = document.getElementById(\"7e9c9e36-6275-475b-b313-a626294d399f\");\n",
       "  ellipsis.addEventListener(\"click\", function() {\n",
       "    var rows = document.getElementsByClassName(\"6c4b48aa-cec7-4a25-b84c-5c75fcadd726\");\n",
       "    for (var i = 0; i < rows.length; i++) {\n",
       "      var el = rows[i];\n",
       "      el.style.display = expanded ? \"none\" : \"table-row\";\n",
       "    }\n",
       "    ellipsis.innerHTML = expanded ? \"&hellip;)\" : \"&lsaquo;&lsaquo;&lsaquo;\";\n",
       "    expanded = !expanded;\n",
       "  });\n",
       "})();\n",
       "</script>\n"
      ],
      "text/plain": [
       "GlyphRenderer(id='a7de8575-48db-4c9c-8149-46b847dc2f20', ...)"
      ]
     },
     "execution_count": 395,
     "metadata": {},
     "output_type": "execute_result"
    }
   ],
   "source": [
    "p.scatter(x = \"underlier\", y = \"value0\" ,source = df_output , color = \"red\")"
   ]
  },
  {
   "cell_type": "markdown",
   "metadata": {},
   "source": [
    "value1は行使価値"
   ]
  },
  {
   "cell_type": "code",
   "execution_count": 396,
   "metadata": {},
   "outputs": [
    {
     "data": {
      "text/html": [
       "<div style=\"display: table;\"><div style=\"display: table-row;\"><div style=\"display: table-cell;\"><b title=\"bokeh.models.renderers.GlyphRenderer\">GlyphRenderer</b>(</div><div style=\"display: table-cell;\">id&nbsp;=&nbsp;'9eb5a218-83a2-428b-a511-0b0fddf18b07', <span id=\"677149c1-4725-4fca-969b-126a6e4e408d\" style=\"cursor: pointer;\">&hellip;)</span></div></div><div class=\"2191931d-32c8-4ce8-8fa4-6e98fe62c395\" style=\"display: none;\"><div style=\"display: table-cell;\"></div><div style=\"display: table-cell;\">data_source&nbsp;=&nbsp;ColumnDataSource(id='1f0d7e74-36a9-43a9-bbe0-40d3b0ce9bb1', ...),</div></div><div class=\"2191931d-32c8-4ce8-8fa4-6e98fe62c395\" style=\"display: none;\"><div style=\"display: table-cell;\"></div><div style=\"display: table-cell;\">glyph&nbsp;=&nbsp;Circle(id='d556c695-85c8-438c-8d28-c5551abde6d0', ...),</div></div><div class=\"2191931d-32c8-4ce8-8fa4-6e98fe62c395\" style=\"display: none;\"><div style=\"display: table-cell;\"></div><div style=\"display: table-cell;\">hover_glyph&nbsp;=&nbsp;None,</div></div><div class=\"2191931d-32c8-4ce8-8fa4-6e98fe62c395\" style=\"display: none;\"><div style=\"display: table-cell;\"></div><div style=\"display: table-cell;\">js_event_callbacks&nbsp;=&nbsp;{},</div></div><div class=\"2191931d-32c8-4ce8-8fa4-6e98fe62c395\" style=\"display: none;\"><div style=\"display: table-cell;\"></div><div style=\"display: table-cell;\">js_property_callbacks&nbsp;=&nbsp;{},</div></div><div class=\"2191931d-32c8-4ce8-8fa4-6e98fe62c395\" style=\"display: none;\"><div style=\"display: table-cell;\"></div><div style=\"display: table-cell;\">level&nbsp;=&nbsp;'glyph',</div></div><div class=\"2191931d-32c8-4ce8-8fa4-6e98fe62c395\" style=\"display: none;\"><div style=\"display: table-cell;\"></div><div style=\"display: table-cell;\">muted&nbsp;=&nbsp;False,</div></div><div class=\"2191931d-32c8-4ce8-8fa4-6e98fe62c395\" style=\"display: none;\"><div style=\"display: table-cell;\"></div><div style=\"display: table-cell;\">muted_glyph&nbsp;=&nbsp;None,</div></div><div class=\"2191931d-32c8-4ce8-8fa4-6e98fe62c395\" style=\"display: none;\"><div style=\"display: table-cell;\"></div><div style=\"display: table-cell;\">name&nbsp;=&nbsp;None,</div></div><div class=\"2191931d-32c8-4ce8-8fa4-6e98fe62c395\" style=\"display: none;\"><div style=\"display: table-cell;\"></div><div style=\"display: table-cell;\">nonselection_glyph&nbsp;=&nbsp;Circle(id='3d3cbddf-683b-4086-aa3a-949eebb2879b', ...),</div></div><div class=\"2191931d-32c8-4ce8-8fa4-6e98fe62c395\" style=\"display: none;\"><div style=\"display: table-cell;\"></div><div style=\"display: table-cell;\">selection_glyph&nbsp;=&nbsp;None,</div></div><div class=\"2191931d-32c8-4ce8-8fa4-6e98fe62c395\" style=\"display: none;\"><div style=\"display: table-cell;\"></div><div style=\"display: table-cell;\">subscribed_events&nbsp;=&nbsp;[],</div></div><div class=\"2191931d-32c8-4ce8-8fa4-6e98fe62c395\" style=\"display: none;\"><div style=\"display: table-cell;\"></div><div style=\"display: table-cell;\">tags&nbsp;=&nbsp;[],</div></div><div class=\"2191931d-32c8-4ce8-8fa4-6e98fe62c395\" style=\"display: none;\"><div style=\"display: table-cell;\"></div><div style=\"display: table-cell;\">view&nbsp;=&nbsp;CDSView(id='6cce283a-1bde-4122-b989-4ea4de83393d', ...),</div></div><div class=\"2191931d-32c8-4ce8-8fa4-6e98fe62c395\" style=\"display: none;\"><div style=\"display: table-cell;\"></div><div style=\"display: table-cell;\">visible&nbsp;=&nbsp;True,</div></div><div class=\"2191931d-32c8-4ce8-8fa4-6e98fe62c395\" style=\"display: none;\"><div style=\"display: table-cell;\"></div><div style=\"display: table-cell;\">x_range_name&nbsp;=&nbsp;'default',</div></div><div class=\"2191931d-32c8-4ce8-8fa4-6e98fe62c395\" style=\"display: none;\"><div style=\"display: table-cell;\"></div><div style=\"display: table-cell;\">y_range_name&nbsp;=&nbsp;'default')</div></div></div>\n",
       "<script>\n",
       "(function() {\n",
       "  var expanded = false;\n",
       "  var ellipsis = document.getElementById(\"677149c1-4725-4fca-969b-126a6e4e408d\");\n",
       "  ellipsis.addEventListener(\"click\", function() {\n",
       "    var rows = document.getElementsByClassName(\"2191931d-32c8-4ce8-8fa4-6e98fe62c395\");\n",
       "    for (var i = 0; i < rows.length; i++) {\n",
       "      var el = rows[i];\n",
       "      el.style.display = expanded ? \"none\" : \"table-row\";\n",
       "    }\n",
       "    ellipsis.innerHTML = expanded ? \"&hellip;)\" : \"&lsaquo;&lsaquo;&lsaquo;\";\n",
       "    expanded = !expanded;\n",
       "  });\n",
       "})();\n",
       "</script>\n"
      ],
      "text/plain": [
       "GlyphRenderer(id='9eb5a218-83a2-428b-a511-0b0fddf18b07', ...)"
      ]
     },
     "execution_count": 396,
     "metadata": {},
     "output_type": "execute_result"
    }
   ],
   "source": [
    "p.scatter(x = \"underlier\", y = \"value1\" ,source = df_output)"
   ]
  },
  {
   "cell_type": "code",
   "execution_count": 397,
   "metadata": {},
   "outputs": [
    {
     "data": {
      "text/html": [
       "\n",
       "<div class=\"bk-root\">\n",
       "    <div class=\"bk-plotdiv\" id=\"ff67c2aa-a3a5-4f79-ba72-d9e745cd78d8\"></div>\n",
       "</div>"
      ]
     },
     "metadata": {},
     "output_type": "display_data"
    },
    {
     "data": {
      "application/javascript": [
       "(function(root) {\n",
       "  function embed_document(root) {\n",
       "    \n",
       "  var docs_json = {\"fa1925ff-4485-47ad-a7da-59ac9fca56ca\":{\"roots\":{\"references\":[{\"attributes\":{\"data_source\":{\"id\":\"1f0d7e74-36a9-43a9-bbe0-40d3b0ce9bb1\",\"type\":\"ColumnDataSource\"},\"glyph\":{\"id\":\"d556c695-85c8-438c-8d28-c5551abde6d0\",\"type\":\"Circle\"},\"hover_glyph\":null,\"muted_glyph\":null,\"nonselection_glyph\":{\"id\":\"3d3cbddf-683b-4086-aa3a-949eebb2879b\",\"type\":\"Circle\"},\"selection_glyph\":null,\"view\":{\"id\":\"6cce283a-1bde-4122-b989-4ea4de83393d\",\"type\":\"CDSView\"}},\"id\":\"9eb5a218-83a2-428b-a511-0b0fddf18b07\",\"type\":\"GlyphRenderer\"},{\"attributes\":{},\"id\":\"ca85293b-0a15-45b5-85e6-af71b4ad0eae\",\"type\":\"BasicTickFormatter\"},{\"attributes\":{\"callback\":null,\"column_names\":[\"index\",\"underlier\",\"value0\",\"value1\"],\"data\":{\"index\":[0,1,2,3,4,5,6,7,8,9,10,11,12,13,14,15,16,17,18],\"underlier\":{\"__ndarray__\":\"AAAAAAAAJEAAAAAAAAA0QAAAAAAAAD5AAAAAAAAAREAAAAAAAABJQAAAAAAAAE5AAAAAAACAUUAAAAAAAABUQAAAAAAAgFZAAAAAAAAAWUAAAAAAAIBbQAAAAAAAAF5AAAAAAABAYEAAAAAAAIBhQAAAAAAAwGJAAAAAAAAAZEAAAAAAAEBlQAAAAAAAgGZAAAAAAADAZ0A=\",\"dtype\":\"float64\",\"shape\":[19]},\"value0\":{\"__ndarray__\":\"AAAA4PHPH8AAAACA9LgbwAAAAIAtZxDAAAAAAD4v7L8AAACAvbYCQAAAAKCkPBZAAAAAYPWOIUAAAABAmP8nQAAAAIA7cC5AAAAAAG9wMkAAAACgwKg1QAAAAAAS4ThAAAAAwGMZPEAAAABAtVE/QAAAAEADRUFAAAAAACzhQkAAAADAVH1EQAAAAMB9GUZAAAAAQKa1R0A=\",\"dtype\":\"float64\",\"shape\":[19]},\"value1\":{\"__ndarray__\":\"AAAAYPKHIMAAAAAgMj8bwAAAAMAwmg3AAAAAABd5xr8AAACAEcsKQAAAAEDZfhtAAAAAgBTMJEAAAABgvdgrQAAAAOCycjFAAAAAQAf5NEAAAABAW384QAAAAOCuBTxAAAAAoAOMP0AAAACgK4lBQAAAAKBVTENAAAAAAIAPRUAAAACAqdJGQAAAAEDUlUhAAAAAIP5YSkA=\",\"dtype\":\"float64\",\"shape\":[19]}}},\"id\":\"1f0d7e74-36a9-43a9-bbe0-40d3b0ce9bb1\",\"type\":\"ColumnDataSource\"},{\"attributes\":{},\"id\":\"6f258854-8a58-44d6-9b5d-8b1d0eed0e2d\",\"type\":\"LinearScale\"},{\"attributes\":{\"callback\":null},\"id\":\"52c5d827-6050-4e18-a979-0b0c6b0ffa14\",\"type\":\"DataRange1d\"},{\"attributes\":{\"plot\":null,\"text\":\"\"},\"id\":\"1b439618-3c8a-482c-b5cc-e1ed754f4cca\",\"type\":\"Title\"},{\"attributes\":{},\"id\":\"266858c6-08f6-4678-ad05-a43a6711ffa8\",\"type\":\"BasicTicker\"},{\"attributes\":{},\"id\":\"b09471bb-4f63-4f4c-99e0-5a9cde4b3de1\",\"type\":\"BasicTickFormatter\"},{\"attributes\":{\"fill_color\":{\"value\":\"#1f77b4\"},\"line_color\":{\"value\":\"#1f77b4\"},\"x\":{\"field\":\"underlier\"},\"y\":{\"field\":\"value1\"}},\"id\":\"d556c695-85c8-438c-8d28-c5551abde6d0\",\"type\":\"Circle\"},{\"attributes\":{\"bottom_units\":\"screen\",\"fill_alpha\":{\"value\":0.5},\"fill_color\":{\"value\":\"lightgrey\"},\"left_units\":\"screen\",\"level\":\"overlay\",\"line_alpha\":{\"value\":1.0},\"line_color\":{\"value\":\"black\"},\"line_dash\":[4,4],\"line_width\":{\"value\":2},\"plot\":null,\"render_mode\":\"css\",\"right_units\":\"screen\",\"top_units\":\"screen\"},\"id\":\"7071a8d9-7257-4b51-a36b-9cceaf7be3d1\",\"type\":\"BoxAnnotation\"},{\"attributes\":{\"formatter\":{\"id\":\"ca85293b-0a15-45b5-85e6-af71b4ad0eae\",\"type\":\"BasicTickFormatter\"},\"plot\":{\"id\":\"280eebcb-b334-49a2-8c36-32028694ae47\",\"subtype\":\"Figure\",\"type\":\"Plot\"},\"ticker\":{\"id\":\"a8827076-7298-4943-a643-14960b3e9ccb\",\"type\":\"BasicTicker\"}},\"id\":\"f56d2369-4050-4ed7-a4ce-7dd469eb2804\",\"type\":\"LinearAxis\"},{\"attributes\":{\"fill_alpha\":{\"value\":0.1},\"fill_color\":{\"value\":\"#1f77b4\"},\"line_alpha\":{\"value\":0.1},\"line_color\":{\"value\":\"#1f77b4\"},\"x\":{\"field\":\"underlier\"},\"y\":{\"field\":\"value1\"}},\"id\":\"3d3cbddf-683b-4086-aa3a-949eebb2879b\",\"type\":\"Circle\"},{\"attributes\":{\"source\":{\"id\":\"1f0d7e74-36a9-43a9-bbe0-40d3b0ce9bb1\",\"type\":\"ColumnDataSource\"}},\"id\":\"6cce283a-1bde-4122-b989-4ea4de83393d\",\"type\":\"CDSView\"},{\"attributes\":{\"formatter\":{\"id\":\"b09471bb-4f63-4f4c-99e0-5a9cde4b3de1\",\"type\":\"BasicTickFormatter\"},\"plot\":{\"id\":\"280eebcb-b334-49a2-8c36-32028694ae47\",\"subtype\":\"Figure\",\"type\":\"Plot\"},\"ticker\":{\"id\":\"266858c6-08f6-4678-ad05-a43a6711ffa8\",\"type\":\"BasicTicker\"}},\"id\":\"6273e86e-10d2-4f71-9364-7db3d9d66dbf\",\"type\":\"LinearAxis\"},{\"attributes\":{},\"id\":\"67c21c3c-6482-4e60-8626-be927e9282e0\",\"type\":\"LinearScale\"},{\"attributes\":{\"dimension\":1,\"plot\":{\"id\":\"280eebcb-b334-49a2-8c36-32028694ae47\",\"subtype\":\"Figure\",\"type\":\"Plot\"},\"ticker\":{\"id\":\"266858c6-08f6-4678-ad05-a43a6711ffa8\",\"type\":\"BasicTicker\"}},\"id\":\"bd14624b-8d20-4a2a-bc6d-4b1c4f46ffbd\",\"type\":\"Grid\"},{\"attributes\":{},\"id\":\"ec54e44b-4ad6-4124-b95e-96da2f88a7ce\",\"type\":\"SaveTool\"},{\"attributes\":{},\"id\":\"c674bf7d-def5-45ff-9041-60690fc9892a\",\"type\":\"PanTool\"},{\"attributes\":{},\"id\":\"4f8acedf-2f7e-448e-9290-9315b34aa248\",\"type\":\"ResetTool\"},{\"attributes\":{},\"id\":\"393e7f1d-921b-48c6-9f53-256ae32232a1\",\"type\":\"HelpTool\"},{\"attributes\":{\"data_source\":{\"id\":\"e1d4cae2-b41b-46ab-93f6-4abfc7032f9f\",\"type\":\"ColumnDataSource\"},\"glyph\":{\"id\":\"e999ba4b-9b01-4b02-9720-52139a2632c9\",\"type\":\"Circle\"},\"hover_glyph\":null,\"muted_glyph\":null,\"nonselection_glyph\":{\"id\":\"d68e183a-cb18-400a-aeb4-5d27688499e0\",\"type\":\"Circle\"},\"selection_glyph\":null,\"view\":{\"id\":\"36aedb06-adb8-4e26-9e15-752d3e0845bc\",\"type\":\"CDSView\"}},\"id\":\"a7de8575-48db-4c9c-8149-46b847dc2f20\",\"type\":\"GlyphRenderer\"},{\"attributes\":{\"overlay\":{\"id\":\"7071a8d9-7257-4b51-a36b-9cceaf7be3d1\",\"type\":\"BoxAnnotation\"}},\"id\":\"c1366067-07e3-4b56-a335-c3b0a3f4f005\",\"type\":\"BoxZoomTool\"},{\"attributes\":{\"source\":{\"id\":\"e1d4cae2-b41b-46ab-93f6-4abfc7032f9f\",\"type\":\"ColumnDataSource\"}},\"id\":\"36aedb06-adb8-4e26-9e15-752d3e0845bc\",\"type\":\"CDSView\"},{\"attributes\":{},\"id\":\"8961f05c-3d55-4e8d-9e98-a6a7e11d58c5\",\"type\":\"WheelZoomTool\"},{\"attributes\":{\"active_drag\":\"auto\",\"active_inspect\":\"auto\",\"active_scroll\":\"auto\",\"active_tap\":\"auto\",\"tools\":[{\"id\":\"c674bf7d-def5-45ff-9041-60690fc9892a\",\"type\":\"PanTool\"},{\"id\":\"8961f05c-3d55-4e8d-9e98-a6a7e11d58c5\",\"type\":\"WheelZoomTool\"},{\"id\":\"c1366067-07e3-4b56-a335-c3b0a3f4f005\",\"type\":\"BoxZoomTool\"},{\"id\":\"ec54e44b-4ad6-4124-b95e-96da2f88a7ce\",\"type\":\"SaveTool\"},{\"id\":\"4f8acedf-2f7e-448e-9290-9315b34aa248\",\"type\":\"ResetTool\"},{\"id\":\"393e7f1d-921b-48c6-9f53-256ae32232a1\",\"type\":\"HelpTool\"}]},\"id\":\"c227aa8b-a64d-459b-a7ff-94e0a2749837\",\"type\":\"Toolbar\"},{\"attributes\":{\"callback\":null,\"column_names\":[\"index\",\"underlier\",\"value0\",\"value1\"],\"data\":{\"index\":[0,1,2,3,4,5,6,7,8,9,10,11,12,13,14,15,16,17,18],\"underlier\":{\"__ndarray__\":\"AAAAAAAAJEAAAAAAAAA0QAAAAAAAAD5AAAAAAAAAREAAAAAAAABJQAAAAAAAAE5AAAAAAACAUUAAAAAAAABUQAAAAAAAgFZAAAAAAAAAWUAAAAAAAIBbQAAAAAAAAF5AAAAAAABAYEAAAAAAAIBhQAAAAAAAwGJAAAAAAAAAZEAAAAAAAEBlQAAAAAAAgGZAAAAAAADAZ0A=\",\"dtype\":\"float64\",\"shape\":[19]},\"value0\":{\"__ndarray__\":\"AAAA4PHPH8AAAACA9LgbwAAAAIAtZxDAAAAAAD4v7L8AAACAvbYCQAAAAKCkPBZAAAAAYPWOIUAAAABAmP8nQAAAAIA7cC5AAAAAAG9wMkAAAACgwKg1QAAAAAAS4ThAAAAAwGMZPEAAAABAtVE/QAAAAEADRUFAAAAAACzhQkAAAADAVH1EQAAAAMB9GUZAAAAAQKa1R0A=\",\"dtype\":\"float64\",\"shape\":[19]},\"value1\":{\"__ndarray__\":\"AAAAYPKHIMAAAAAgMj8bwAAAAMAwmg3AAAAAABd5xr8AAACAEcsKQAAAAEDZfhtAAAAAgBTMJEAAAABgvdgrQAAAAOCycjFAAAAAQAf5NEAAAABAW384QAAAAOCuBTxAAAAAoAOMP0AAAACgK4lBQAAAAKBVTENAAAAAAIAPRUAAAACAqdJGQAAAAEDUlUhAAAAAIP5YSkA=\",\"dtype\":\"float64\",\"shape\":[19]}}},\"id\":\"e1d4cae2-b41b-46ab-93f6-4abfc7032f9f\",\"type\":\"ColumnDataSource\"},{\"attributes\":{\"callback\":null},\"id\":\"6f444136-5832-4a3c-9a23-363e3e62166a\",\"type\":\"DataRange1d\"},{\"attributes\":{\"fill_color\":{\"value\":\"red\"},\"line_color\":{\"value\":\"red\"},\"x\":{\"field\":\"underlier\"},\"y\":{\"field\":\"value0\"}},\"id\":\"e999ba4b-9b01-4b02-9720-52139a2632c9\",\"type\":\"Circle\"},{\"attributes\":{\"plot\":{\"id\":\"280eebcb-b334-49a2-8c36-32028694ae47\",\"subtype\":\"Figure\",\"type\":\"Plot\"},\"ticker\":{\"id\":\"a8827076-7298-4943-a643-14960b3e9ccb\",\"type\":\"BasicTicker\"}},\"id\":\"ed71838a-92cb-4683-b73e-47c9ba262cad\",\"type\":\"Grid\"},{\"attributes\":{},\"id\":\"a8827076-7298-4943-a643-14960b3e9ccb\",\"type\":\"BasicTicker\"},{\"attributes\":{\"fill_alpha\":{\"value\":0.1},\"fill_color\":{\"value\":\"#1f77b4\"},\"line_alpha\":{\"value\":0.1},\"line_color\":{\"value\":\"#1f77b4\"},\"x\":{\"field\":\"underlier\"},\"y\":{\"field\":\"value0\"}},\"id\":\"d68e183a-cb18-400a-aeb4-5d27688499e0\",\"type\":\"Circle\"},{\"attributes\":{\"below\":[{\"id\":\"f56d2369-4050-4ed7-a4ce-7dd469eb2804\",\"type\":\"LinearAxis\"}],\"left\":[{\"id\":\"6273e86e-10d2-4f71-9364-7db3d9d66dbf\",\"type\":\"LinearAxis\"}],\"renderers\":[{\"id\":\"f56d2369-4050-4ed7-a4ce-7dd469eb2804\",\"type\":\"LinearAxis\"},{\"id\":\"ed71838a-92cb-4683-b73e-47c9ba262cad\",\"type\":\"Grid\"},{\"id\":\"6273e86e-10d2-4f71-9364-7db3d9d66dbf\",\"type\":\"LinearAxis\"},{\"id\":\"bd14624b-8d20-4a2a-bc6d-4b1c4f46ffbd\",\"type\":\"Grid\"},{\"id\":\"7071a8d9-7257-4b51-a36b-9cceaf7be3d1\",\"type\":\"BoxAnnotation\"},{\"id\":\"a7de8575-48db-4c9c-8149-46b847dc2f20\",\"type\":\"GlyphRenderer\"},{\"id\":\"9eb5a218-83a2-428b-a511-0b0fddf18b07\",\"type\":\"GlyphRenderer\"}],\"title\":{\"id\":\"1b439618-3c8a-482c-b5cc-e1ed754f4cca\",\"type\":\"Title\"},\"toolbar\":{\"id\":\"c227aa8b-a64d-459b-a7ff-94e0a2749837\",\"type\":\"Toolbar\"},\"x_range\":{\"id\":\"52c5d827-6050-4e18-a979-0b0c6b0ffa14\",\"type\":\"DataRange1d\"},\"x_scale\":{\"id\":\"6f258854-8a58-44d6-9b5d-8b1d0eed0e2d\",\"type\":\"LinearScale\"},\"y_range\":{\"id\":\"6f444136-5832-4a3c-9a23-363e3e62166a\",\"type\":\"DataRange1d\"},\"y_scale\":{\"id\":\"67c21c3c-6482-4e60-8626-be927e9282e0\",\"type\":\"LinearScale\"}},\"id\":\"280eebcb-b334-49a2-8c36-32028694ae47\",\"subtype\":\"Figure\",\"type\":\"Plot\"}],\"root_ids\":[\"280eebcb-b334-49a2-8c36-32028694ae47\"]},\"title\":\"Bokeh Application\",\"version\":\"0.12.13\"}};\n",
       "  var render_items = [{\"docid\":\"fa1925ff-4485-47ad-a7da-59ac9fca56ca\",\"elementid\":\"ff67c2aa-a3a5-4f79-ba72-d9e745cd78d8\",\"modelid\":\"280eebcb-b334-49a2-8c36-32028694ae47\"}];\n",
       "  root.Bokeh.embed.embed_items_notebook(docs_json, render_items);\n",
       "\n",
       "  }\n",
       "  if (root.Bokeh !== undefined) {\n",
       "    embed_document(root);\n",
       "  } else {\n",
       "    var attempts = 0;\n",
       "    var timer = setInterval(function(root) {\n",
       "      if (root.Bokeh !== undefined) {\n",
       "        embed_document(root);\n",
       "        clearInterval(timer);\n",
       "      }\n",
       "      attempts++;\n",
       "      if (attempts > 100) {\n",
       "        console.log(\"Bokeh: ERROR: Unable to run BokehJS code because BokehJS library is missing\")\n",
       "        clearInterval(timer);\n",
       "      }\n",
       "    }, 10, root)\n",
       "  }\n",
       "})(window);"
      ],
      "application/vnd.bokehjs_exec.v0+json": ""
     },
     "metadata": {
      "application/vnd.bokehjs_exec.v0+json": {
       "id": "280eebcb-b334-49a2-8c36-32028694ae47"
      }
     },
     "output_type": "display_data"
    }
   ],
   "source": [
    "bp.show(p)"
   ]
  },
  {
   "cell_type": "markdown",
   "metadata": {},
   "source": [
    "# save model"
   ]
  },
  {
   "cell_type": "code",
   "execution_count": 325,
   "metadata": {},
   "outputs": [],
   "source": [
    "torch.save(model.state_dict() , \"models/optionDQN3\" )"
   ]
  },
  {
   "cell_type": "markdown",
   "metadata": {},
   "source": [
    "# sandbox"
   ]
  },
  {
   "cell_type": "code",
   "execution_count": null,
   "metadata": {},
   "outputs": [],
   "source": [
    "list(cartpole_env.agent.brain.model.parameters())[0].shape"
   ]
  },
  {
   "cell_type": "markdown",
   "metadata": {},
   "source": [
    "# 参考（書籍のoriginal Environment）"
   ]
  },
  {
   "cell_type": "code",
   "execution_count": null,
   "metadata": {},
   "outputs": [],
   "source": [
    "class Environment:\n",
    "\n",
    "    def __init__(self):\n",
    "        self.env = gym.make(ENV)  # 実行する課題を設定\n",
    "        num_states = self.env.observation_space.shape[0]  # 課題の状態数4を取得\n",
    "        num_actions = self.env.action_space.n  # CartPoleの行動（右に左に押す）の2を取得\n",
    "        self.agent = Agent(num_states, num_actions)  # 環境内で行動するAgentを生成\n",
    "\n",
    "        \n",
    "    def run(self):\n",
    "        '''実行'''\n",
    "        episode_10_list = np.zeros(10)  # 10試行分の立ち続けたstep数を格納し、平均ステップ数を出力に利用\n",
    "        complete_episodes = 0  # 195step以上連続で立ち続けた試行数\n",
    "        episode_final = False  # 最後の試行フラグ\n",
    "        frames = []  # 最後の試行を動画にするために画像を格納する変数\n",
    "\n",
    "        for episode in range(NUM_EPISODES):  # 最大試行数分繰り返す\n",
    "            observation = self.env.reset()  # 環境の初期化\n",
    "\n",
    "            state = observation  # 観測をそのまま状態sとして使用\n",
    "            state = torch.from_numpy(state).type(\n",
    "                torch.FloatTensor)  # NumPy変数をPyTorchのテンソルに変換\n",
    "            state = torch.unsqueeze(state, 0)  # size 4をsize 1x4に変換\n",
    "\n",
    "            for step in range(MAX_STEPS):  # 1エピソードのループ\n",
    "\n",
    "                if episode_final is True:  # 最終試行ではframesに各時刻の画像を追加していく\n",
    "                    frames.append(self.env.render(mode='rgb_array'))\n",
    "\n",
    "                action = self.agent.get_action(state, episode)  # 行動を求める\n",
    "\n",
    "                # 行動a_tの実行により、s_{t+1}とdoneフラグを求める\n",
    "                # actionから.item()を指定して、中身を取り出す\n",
    "                observation_next, _, done, _ = self.env.step(\n",
    "                    action.item())  # rewardとinfoは使わないので_にする\n",
    "\n",
    "                # 報酬を与える。さらにepisodeの終了評価と、state_nextを設定する\n",
    "                if done:  # ステップ数が200経過するか、一定角度以上傾くとdoneはtrueになる\n",
    "                    state_next = None  # 次の状態はないので、Noneを格納\n",
    "\n",
    "                    # 直近10episodeの立てたstep数リストに追加\n",
    "                    episode_10_list = np.hstack(\n",
    "                        (episode_10_list[1:], step + 1))\n",
    "\n",
    "                    if step < 195:\n",
    "                        reward = torch.FloatTensor(\n",
    "                            [-1.0])  # 途中でこけたら罰則として報酬-1を与える\n",
    "                        complete_episodes = 0  # 連続成功記録をリセット\n",
    "                    else:\n",
    "                        reward = torch.FloatTensor([1.0])  # 立ったまま終了時は報酬1を与える\n",
    "                        complete_episodes = complete_episodes + 1  # 連続記録を更新\n",
    "                else:\n",
    "                    reward = torch.FloatTensor([0.0])  # 普段は報酬0\n",
    "                    state_next = observation_next  # 観測をそのまま状態とする\n",
    "                    state_next = torch.from_numpy(state_next).type(\n",
    "                        torch.FloatTensor)  # numpy変数をPyTorchのテンソルに変換\n",
    "                    state_next = torch.unsqueeze(state_next, 0)  # size 4をsize 1x4に変換\n",
    "\n",
    "                # メモリに経験を追加\n",
    "                self.agent.memorize(state, action, state_next, reward)\n",
    "\n",
    "                # Experience ReplayでQ関数を更新する\n",
    "                self.agent.update_q_function()\n",
    "\n",
    "                # 観測の更新\n",
    "                state = state_next\n",
    "\n",
    "                # 終了時の処理\n",
    "                if done:\n",
    "                    print('%d Episode: Finished after %d steps：10試行の平均step数 = %.1lf' % (\n",
    "                        episode, step + 1, episode_10_list.mean()))\n",
    "                    break\n",
    "\n",
    "            if episode_final is True:\n",
    "                # 動画を保存と描画\n",
    "                display_frames_as_gif(frames)\n",
    "                break\n",
    "\n",
    "            # 10連続で200step経ち続けたら成功\n",
    "            if complete_episodes >= 10:\n",
    "                print('10回連続成功')\n",
    "                episode_final = True  # 次の試行を描画を行う最終試行とする"
   ]
  },
  {
   "cell_type": "code",
   "execution_count": null,
   "metadata": {},
   "outputs": [],
   "source": [
    "# main クラス\n",
    "cartpole_env = Environment()\n",
    "cartpole_env.run()\n"
   ]
  }
 ],
 "metadata": {
  "kernelspec": {
   "display_name": "Python [conda env:base2]",
   "language": "python",
   "name": "conda-env-base2-py"
  },
  "language_info": {
   "codemirror_mode": {
    "name": "ipython",
    "version": 3
   },
   "file_extension": ".py",
   "mimetype": "text/x-python",
   "name": "python",
   "nbconvert_exporter": "python",
   "pygments_lexer": "ipython3",
   "version": "3.5.4"
  },
  "toc": {
   "colors": {
    "hover_highlight": "#DAA520",
    "navigate_num": "#000000",
    "navigate_text": "#333333",
    "running_highlight": "#FF0000",
    "selected_highlight": "#FFD700",
    "sidebar_border": "#EEEEEE",
    "wrapper_background": "#FFFFFF"
   },
   "moveMenuLeft": true,
   "nav_menu": {
    "height": "209px",
    "width": "252px"
   },
   "navigate_menu": true,
   "number_sections": true,
   "sideBar": true,
   "threshold": 4,
   "toc_cell": true,
   "toc_position": {
    "height": "671px",
    "left": "0px",
    "right": "1669.6px",
    "top": "110px",
    "width": "194px"
   },
   "toc_section_display": "block",
   "toc_window_display": true,
   "widenNotebook": false
  }
 },
 "nbformat": 4,
 "nbformat_minor": 2
}
