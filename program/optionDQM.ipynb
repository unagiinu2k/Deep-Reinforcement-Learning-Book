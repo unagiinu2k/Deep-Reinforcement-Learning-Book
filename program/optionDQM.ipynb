{
 "cells": [
  {
   "cell_type": "code",
   "execution_count": null,
   "metadata": {},
   "outputs": [],
   "source": []
  },
  {
   "cell_type": "code",
   "execution_count": null,
   "metadata": {},
   "outputs": [],
   "source": []
  },
  {
   "cell_type": "code",
   "execution_count": null,
   "metadata": {},
   "outputs": [],
   "source": [
    "1+1"
   ]
  },
  {
   "cell_type": "code",
   "execution_count": null,
   "metadata": {},
   "outputs": [],
   "source": [
    "%%bash\n",
    "git commit -a -m \"checkpoint\""
   ]
  },
  {
   "cell_type": "code",
   "execution_count": null,
   "metadata": {},
   "outputs": [],
   "source": []
  },
  {
   "cell_type": "markdown",
   "metadata": {
    "toc": "true"
   },
   "source": [
    "# Table of Contents\n",
    " <p><div class=\"lev1 toc-item\"><a href=\"#パッケージのimport\" data-toc-modified-id=\"パッケージのimport-1\"><span class=\"toc-item-num\">1&nbsp;&nbsp;</span>パッケージのimport</a></div><div class=\"lev1 toc-item\"><a href=\"#namedtuple\" data-toc-modified-id=\"namedtuple-2\"><span class=\"toc-item-num\">2&nbsp;&nbsp;</span>namedtuple</a></div><div class=\"lev1 toc-item\"><a href=\"#定数の設定\" data-toc-modified-id=\"定数の設定-3\"><span class=\"toc-item-num\">3&nbsp;&nbsp;</span>定数の設定</a></div><div class=\"lev1 toc-item\"><a href=\"#経験を保存するメモリクラスを定義します\" data-toc-modified-id=\"経験を保存するメモリクラスを定義します-4\"><span class=\"toc-item-num\">4&nbsp;&nbsp;</span>経験を保存するメモリクラスを定義します</a></div><div class=\"lev2 toc-item\"><a href=\"#sandbox\" data-toc-modified-id=\"sandbox-41\"><span class=\"toc-item-num\">4.1&nbsp;&nbsp;</span>sandbox</a></div><div class=\"lev1 toc-item\"><a href=\"#brainstorming\" data-toc-modified-id=\"brainstorming-5\"><span class=\"toc-item-num\">5&nbsp;&nbsp;</span>brainstorming</a></div><div class=\"lev1 toc-item\"><a href=\"#define-model-class\" data-toc-modified-id=\"define-model-class-6\"><span class=\"toc-item-num\">6&nbsp;&nbsp;</span>define model class</a></div><div class=\"lev1 toc-item\"><a href=\"#Brain\" data-toc-modified-id=\"Brain-7\"><span class=\"toc-item-num\">7&nbsp;&nbsp;</span>Brain</a></div><div class=\"lev1 toc-item\"><a href=\"#Agent\" data-toc-modified-id=\"Agent-8\"><span class=\"toc-item-num\">8&nbsp;&nbsp;</span>Agent</a></div><div class=\"lev1 toc-item\"><a href=\"#pricer\" data-toc-modified-id=\"pricer-9\"><span class=\"toc-item-num\">9&nbsp;&nbsp;</span>pricer</a></div><div class=\"lev2 toc-item\"><a href=\"#class-version-zero\" data-toc-modified-id=\"class-version-zero-91\"><span class=\"toc-item-num\">9.1&nbsp;&nbsp;</span>class version zero</a></div><div class=\"lev1 toc-item\"><a href=\"#replacing-step()-and-state-initialization\" data-toc-modified-id=\"replacing-step()-and-state-initialization-10\"><span class=\"toc-item-num\">10&nbsp;&nbsp;</span>replacing step() and state initialization</a></div><div class=\"lev2 toc-item\"><a href=\"#sandbox\" data-toc-modified-id=\"sandbox-101\"><span class=\"toc-item-num\">10.1&nbsp;&nbsp;</span>sandbox</a></div><div class=\"lev1 toc-item\"><a href=\"#Environment改（大幅改修した）\" data-toc-modified-id=\"Environment改（大幅改修した）-11\"><span class=\"toc-item-num\">11&nbsp;&nbsp;</span>Environment改（大幅改修した）</a></div><div class=\"lev2 toc-item\"><a href=\"#Version-1\" data-toc-modified-id=\"Version-1-111\"><span class=\"toc-item-num\">11.1&nbsp;&nbsp;</span>Version 1</a></div><div class=\"lev3 toc-item\"><a href=\"#To-be-determined\" data-toc-modified-id=\"To-be-determined-1111\"><span class=\"toc-item-num\">11.1.1&nbsp;&nbsp;</span>To be determined</a></div><div class=\"lev3 toc-item\"><a href=\"#implementation\" data-toc-modified-id=\"implementation-1112\"><span class=\"toc-item-num\">11.1.2&nbsp;&nbsp;</span>implementation</a></div><div class=\"lev1 toc-item\"><a href=\"#predict\" data-toc-modified-id=\"predict-12\"><span class=\"toc-item-num\">12&nbsp;&nbsp;</span>predict</a></div><div class=\"lev1 toc-item\"><a href=\"#save-model\" data-toc-modified-id=\"save-model-13\"><span class=\"toc-item-num\">13&nbsp;&nbsp;</span>save model</a></div><div class=\"lev1 toc-item\"><a href=\"#load-model\" data-toc-modified-id=\"load-model-14\"><span class=\"toc-item-num\">14&nbsp;&nbsp;</span>load model</a></div><div class=\"lev2 toc-item\"><a href=\"#obsolete-below\" data-toc-modified-id=\"obsolete-below-141\"><span class=\"toc-item-num\">14.1&nbsp;&nbsp;</span>obsolete below</a></div><div class=\"lev1 toc-item\"><a href=\"#sandbox\" data-toc-modified-id=\"sandbox-15\"><span class=\"toc-item-num\">15&nbsp;&nbsp;</span>sandbox</a></div><div class=\"lev1 toc-item\"><a href=\"#参考（書籍のoriginal-Environment）\" data-toc-modified-id=\"参考（書籍のoriginal-Environment）-16\"><span class=\"toc-item-num\">16&nbsp;&nbsp;</span>参考（書籍のoriginal Environment）</a></div>"
   ]
  },
  {
   "cell_type": "markdown",
   "metadata": {},
   "source": [
    "\n",
    "** 5.3、5.4  PyTorchでDQN **"
   ]
  },
  {
   "cell_type": "markdown",
   "metadata": {},
   "source": [
    "# パッケージのimport"
   ]
  },
  {
   "cell_type": "code",
   "execution_count": 1,
   "metadata": {},
   "outputs": [],
   "source": [
    "import numpy as np\n",
    "import matplotlib.pyplot as plt\n",
    "%matplotlib inline\n",
    "import gym"
   ]
  },
  {
   "cell_type": "markdown",
   "metadata": {},
   "source": [
    "# namedtuple"
   ]
  },
  {
   "cell_type": "markdown",
   "metadata": {},
   "source": [
    "本コードでは、namedtupleを使用します。\n",
    "\n",
    "namedtupleを使うことで、値をフィールド名とペアで格納できます。\n",
    "\n",
    "すると値に対して、フィールド名でアクセスできて便利です。\n",
    "\n",
    "https://docs.python.jp/3/library/collections.html#collections.namedtuple\n",
    "\n",
    "以下は使用例です"
   ]
  },
  {
   "cell_type": "code",
   "execution_count": 2,
   "metadata": {},
   "outputs": [
    {
     "name": "stdout",
     "output_type": "stream",
     "text": [
      "tr(name_a='名前Aです', value_b=100)\n",
      "100\n"
     ]
    }
   ],
   "source": [
    "from collections import namedtuple\n",
    "\n",
    "Tr = namedtuple('tr', ('name_a', 'value_b'))\n",
    "Tr_object = Tr('名前Aです', 100)\n",
    "\n",
    "print(Tr_object)  # 出力：tr(name_a='名前Aです', value_b=100)\n",
    "print(Tr_object.value_b)  # 出力：100"
   ]
  },
  {
   "cell_type": "code",
   "execution_count": 3,
   "metadata": {},
   "outputs": [
    {
     "data": {
      "text/plain": [
       "'名前Aです'"
      ]
     },
     "execution_count": 3,
     "metadata": {},
     "output_type": "execute_result"
    }
   ],
   "source": [
    "Tr_object.name_a"
   ]
  },
  {
   "cell_type": "markdown",
   "metadata": {},
   "source": [
    "namedtupleを生成\n",
    "from collections import namedtuple\n",
    "\n",
    "Transition = namedtuple(\n",
    "    'Transition', ('s', 't', 'action', 'next_s' , \"next_t\", 'reward', 'done'))\n"
   ]
  },
  {
   "cell_type": "code",
   "execution_count": 4,
   "metadata": {},
   "outputs": [],
   "source": [
    "#namedtupleを生成\n",
    "from collections import namedtuple\n",
    "\n",
    "Transition = namedtuple(\n",
    "    'Transition', ('state', 'action', 'next_state', 'reward'))#,'done'))\n"
   ]
  },
  {
   "cell_type": "markdown",
   "metadata": {},
   "source": [
    "# 定数の設定"
   ]
  },
  {
   "cell_type": "code",
   "execution_count": 5,
   "metadata": {},
   "outputs": [],
   "source": [
    "spot_price = 127.62\n",
    "volatility = 0.20 # the historical vols or implied vols\n",
    "dividend_rate =  0.063\n",
    "risk_free_rate = 0.001\n",
    "maturity = 1\n",
    "dt = 0.1\n",
    "\n",
    "strike_price = 130\n",
    "\n",
    "#steps = 200\n",
    "pricer_steps = 100\n",
    "\n",
    "#dt = maturity / steps"
   ]
  },
  {
   "cell_type": "code",
   "execution_count": 6,
   "metadata": {},
   "outputs": [],
   "source": [
    "#ENV = 'CartPole-v0'  # 使用する課題名\n",
    "GAMMA = np.exp(-dt * risk_free_rate)  # 時間割引率\n",
    "MAX_STEPS = 200  # 1試行のstep数\n",
    "#NUM_EPISODES = 500  # 最大試行回数"
   ]
  },
  {
   "cell_type": "markdown",
   "metadata": {},
   "source": [
    "# 経験を保存するメモリクラスを定義します"
   ]
  },
  {
   "cell_type": "markdown",
   "metadata": {},
   "source": [
    "* 概ね書籍のままの実装でいけるはず（？）$\\Rightarrow$ doneを追加した$\\Rightarrow$やっぱりやめた。（終了判定の方を変更するほうが素直なため）\n",
    "* ただし、おそらくサンプル取得時に完全にランダムにしないで3項ツリー的な３つのnext stateをまとめてmini batfchに含めたほうがいいのではないかという気がする"
   ]
  },
  {
   "cell_type": "code",
   "execution_count": 7,
   "metadata": {},
   "outputs": [],
   "source": [
    "class ReplayMemory:\n",
    "\n",
    "    def __init__(self, CAPACITY):\n",
    "        self.capacity = CAPACITY  # メモリの最大長さ\n",
    "        self.memory = []  # 経験を保存する変数\n",
    "        self.index = 0  # 保存するindexを示す変数\n",
    "\n",
    "    def push(self, state, action, state_next, reward):# , done):\n",
    "        '''transition = (state, action, state_next, reward)をメモリに保存する'''\n",
    "\n",
    "        if len(self.memory) < self.capacity:\n",
    "            self.memory.append(None)  # メモリが満タンでないときは足す\n",
    "\n",
    "        # namedtupleのTransitionを使用し、値とフィールド名をペアにして保存します\n",
    "        self.memory[self.index] = Transition(state, action, state_next, reward)# , done)\n",
    "\n",
    "        self.index = (self.index + 1) % self.capacity  # 保存するindexを1つずらす\n",
    "\n",
    "    def sample(self, batch_size):\n",
    "        '''batch_size分だけ、ランダムに保存内容を取り出す'''\n",
    "        return random.sample(self.memory, batch_size)\n",
    "\n",
    "    def __len__(self):\n",
    "        '''関数lenに対して、現在の変数memoryの長さを返す'''\n",
    "        return len(self.memory)"
   ]
  },
  {
   "cell_type": "markdown",
   "metadata": {},
   "source": [
    "## sandbox"
   ]
  },
  {
   "cell_type": "code",
   "execution_count": null,
   "metadata": {},
   "outputs": [],
   "source": [
    "import random"
   ]
  },
  {
   "cell_type": "code",
   "execution_count": null,
   "metadata": {},
   "outputs": [],
   "source": [
    "tmp = ReplayMemory(3)"
   ]
  },
  {
   "cell_type": "code",
   "execution_count": null,
   "metadata": {},
   "outputs": [],
   "source": [
    "tmp.push(100,0.1, 0 , 101)#,  True)"
   ]
  },
  {
   "cell_type": "code",
   "execution_count": null,
   "metadata": {},
   "outputs": [],
   "source": [
    "tmp.sample(2)"
   ]
  },
  {
   "cell_type": "markdown",
   "metadata": {},
   "source": [
    "# brainstorming\n",
    "\n",
    "* 素直な実装ではnum_statesは２となる。（$S$および$t$）\n",
    "* brainもたぶん書籍のままの実装でいける？？\n"
   ]
  },
  {
   "cell_type": "markdown",
   "metadata": {},
   "source": [
    "# define model class"
   ]
  },
  {
   "cell_type": "code",
   "execution_count": 8,
   "metadata": {},
   "outputs": [],
   "source": [
    "import torch.nn as nn\n",
    "import torch.nn.functional as F\n",
    "\n",
    "\n",
    "class Net(nn.Module):\n",
    "\n",
    "    def __init__(self, num_states, num_actions):\n",
    "        super(Net, self).__init__()\n",
    "        #self.model = nn.Sequential()\n",
    "        self.fc1 =  nn.Linear(num_states, 144)\n",
    "        self.relu1 =  nn.ReLU()\n",
    "        self.fc3 =  nn.Linear(144, num_actions)\n",
    "\n",
    "    def forward(self, x):\n",
    "        # 入力xに合わせてforwardの計算を変えられる\n",
    "        h1 = self.relu1(self.fc1(x))\n",
    "        #h2 = F.relu(self.fc3(h1))\n",
    "        output = self.fc3(h1)\n",
    "        return output"
   ]
  },
  {
   "cell_type": "markdown",
   "metadata": {},
   "source": [
    "# Brain\n",
    "\n",
    "エージェントが持つ脳となるクラスです、DQNを実行します"
   ]
  },
  {
   "cell_type": "markdown",
   "metadata": {},
   "source": [
    "methodは\n",
    "\n",
    "* replay: Experience Replayでネットワークの結合パラメータを学習\n",
    "* decide_action: アクション決定"
   ]
  },
  {
   "cell_type": "markdown",
   "metadata": {},
   "source": [
    "Q関数をディープラーニングのネットワークをクラスとして定義"
   ]
  },
  {
   "cell_type": "code",
   "execution_count": 9,
   "metadata": {},
   "outputs": [],
   "source": [
    "import random\n",
    "import torch\n",
    "from torch import nn\n",
    "from torch import optim\n",
    "import torch.nn.functional as F\n",
    "\n",
    "BATCH_SIZE = 32\n",
    "CAPACITY = 10000"
   ]
  },
  {
   "cell_type": "markdown",
   "metadata": {},
   "source": [
    "* もともと次がdoneの場合は学習に使っていない.?と思ったがそんなことはなかった。\n",
    "* そのままだと学習が正しく進むわけがないので修正していく、というのは勘違いでここはいじらなくてよかった。"
   ]
  },
  {
   "cell_type": "code",
   "execution_count": 10,
   "metadata": {},
   "outputs": [],
   "source": [
    "class Brain:\n",
    "    def __init__(self, num_states, num_actions):\n",
    "        self.num_actions = num_actions  # CartPoleの行動（右に左に押す）の2を取得\n",
    "\n",
    "        # 経験を記憶するメモリオブジェクトを生成\n",
    "        self.memory = ReplayMemory(CAPACITY)\n",
    "\n",
    "        # ニューラルネットワークを構築\n",
    "        if True:\n",
    "            self.model = Net(num_states, num_actions)\n",
    "        else:\n",
    "            self.model = nn.Sequential()\n",
    "            self.model.add_module('fc1', nn.Linear(num_states, 144))\n",
    "            self.model.add_module('relu1', nn.ReLU())\n",
    "            #self.model.add_module('fc2', nn.Linear(32, 32))\n",
    "            #self.model.add_module('relu2', nn.ReLU())\n",
    "            self.model.add_module('fc3', nn.Linear(144, num_actions))\n",
    "\n",
    "        print(self.model)  # ネットワークの形を出力\n",
    "        print(list(self.model.parameters()))\n",
    "\n",
    "        # 最適化手法の設定\n",
    "        self.optimizer = optim.Adam(self.model.parameters(), lr=0.0001)\n",
    "\n",
    "    def replay(self):\n",
    "        '''Experience Replayでネットワークの結合パラメータを学習'''\n",
    "\n",
    "        # -----------------------------------------\n",
    "        # 1. メモリサイズの確認\n",
    "        # -----------------------------------------\n",
    "        # 1.1 メモリサイズがミニバッチより小さい間は何もしない\n",
    "        #print(\"memory .size : {}\".format(len(self.memory)))\n",
    "        if len(self.memory) < BATCH_SIZE:\n",
    "            return\n",
    "\n",
    "        # -----------------------------------------\n",
    "        # 2. ミニバッチの作成\n",
    "        # -----------------------------------------\n",
    "        # 2.1 メモリからミニバッチ分のデータを取り出す\n",
    "        transitions = self.memory.sample(BATCH_SIZE)\n",
    "\n",
    "        # 2.2 各変数をミニバッチに対応する形に変形\n",
    "        # transitionsは1stepごとの(state, action, state_next, reward)が、BATCH_SIZE分格納されている\n",
    "        # つまり、(state, action, state_next, reward)×BATCH_SIZE\n",
    "        # これをミニバッチにしたい。つまり\n",
    "        # (state×BATCH_SIZE, action×BATCH_SIZE, state_next×BATCH_SIZE, reward×BATCH_SIZE)にする\n",
    "        batch = Transition(*zip(*transitions))\n",
    "\n",
    "        # 2.3 各変数の要素をミニバッチに対応する形に変形し、ネットワークで扱えるようVariableにする\n",
    "        # 例えばstateの場合、[torch.FloatTensor of size 1x4]がBATCH_SIZE分並んでいるのですが、\n",
    "        # それを torch.FloatTensor of size BATCH_SIZEx4 に変換します\n",
    "        # 状態、行動、報酬、non_finalの状態のミニバッチのVariableを作成\n",
    "        # catはConcatenates（結合）のことです。\n",
    "        state_batch = torch.cat(batch.state)\n",
    "        action_batch = torch.cat(batch.action)\n",
    "        reward_batch = torch.cat(batch.reward)\n",
    "        #done_batch = torch.cat(batch.done)\n",
    "        all_final = (len([s for s in batch.next_state if s is not None]) == 0)\n",
    "        if not all_final:\n",
    "        #try\n",
    "            non_final_next_states = torch.cat([s for s in batch.next_state\n",
    "                                           if s is not None])\n",
    "        #except:\n",
    "        #    print()\n",
    "\n",
    "        # -----------------------------------------\n",
    "        # 3. 教師信号となるQ(s_t, a_t)値を求める\n",
    "        # -----------------------------------------\n",
    "        # 3.1 ネットワークを推論モードに切り替える\n",
    "        self.model.eval()\n",
    "\n",
    "        # 3.2 ネットワークが出力したQ(s_t, a_t)を求める\n",
    "        # self.model(state_batch)は、右左の両方のQ値を出力しており\n",
    "        # [torch.FloatTensor of size BATCH_SIZEx2]になっている。\n",
    "        # ここから実行したアクションa_tに対応するQ値を求めるため、action_batchで行った行動a_tが右か左かのindexを求め\n",
    "        # それに対応するQ値をgatherでひっぱり出す。\n",
    "        state_action_values = self.model(state_batch).gather(1, action_batch)\n",
    "\n",
    "        # 3.3 max{Q(s_t+1, a)}値を求める。ただし次の状態があるかに注意。\n",
    "        # まずは全部0にしておく\n",
    "        next_state_values = torch.zeros(BATCH_SIZE)\n",
    "        \n",
    "        if not all_final:\n",
    "            # cartpoleがdoneになっておらず、next_stateがあるかをチェックするインデックスマスクを作成\n",
    "            non_final_mask = torch.ByteTensor(tuple(map(lambda s: s is not None,\n",
    "                                                        batch.next_state)))\n",
    "\n",
    "\n",
    "            # 次の状態があるindexの最大Q値を求める\n",
    "            # 出力にアクセスし、max(1)で列方向の最大値の[値、index]を求めます\n",
    "            # そしてそのQ値（index=0）を出力します\n",
    "            # detachでその値を取り出します\n",
    "            next_state_values[non_final_mask] = self.model(\n",
    "                non_final_next_states).max(1)[0].detach()\n",
    "\n",
    "        # 3.4 教師となるQ(s_t, a_t)値を、Q学習の式から求める\n",
    "        expected_state_action_values = reward_batch + GAMMA * next_state_values\n",
    "\n",
    "        # -----------------------------------------\n",
    "        # 4. 結合パラメータの更新\n",
    "        # -----------------------------------------\n",
    "        # 4.1 ネットワークを訓練モードに切り替える\n",
    "        self.model.train()\n",
    "\n",
    "        # 4.2 損失関数を計算する（smooth_l1_lossはHuberloss）\n",
    "        # expected_state_action_valuesは\n",
    "        # sizeが[minbatch]になっているので、unsqueezeで[minibatch x 1]へ\n",
    "        loss = F.smooth_l1_loss(state_action_values,\n",
    "                                expected_state_action_values.unsqueeze(1))\n",
    "\n",
    "        # 4.3 結合パラメータを更新する\n",
    "        self.optimizer.zero_grad()  # 勾配をリセット\n",
    "        loss.backward()  # バックプロパゲーションを計算\n",
    "        self.optimizer.step()  # 結合パラメータを更新\n",
    "\n",
    "    def decide_action(self, state, episode):\n",
    "        '''現在の状態に応じて、行動を決定する'''\n",
    "        # ε-greedy法で徐々に最適行動のみを採用する\n",
    "        epsilon = 0.5 * (1 / (episode + 1))\n",
    "\n",
    "        if epsilon <= np.random.uniform(0, 1):\n",
    "            self.model.eval()  # ネットワークを推論モードに切り替える\n",
    "            with torch.no_grad():\n",
    "                action = self.model(state).max(1)[1].view(1, 1)\n",
    "            # ネットワークの出力の最大値のindexを取り出します = max(1)[1]\n",
    "            # .view(1,1)は[torch.LongTensor of size 1]　を size 1x1 に変換します\n",
    "\n",
    "        else:\n",
    "            # 0,1の行動をランダムに返す\n",
    "            action = torch.LongTensor(\n",
    "                [[random.randrange(self.num_actions)]])  # 0,1の行動をランダムに返す\n",
    "            # actionは[torch.LongTensor of size 1x1]の形になります\n",
    "\n",
    "        return action"
   ]
  },
  {
   "cell_type": "markdown",
   "metadata": {},
   "source": [
    "# Agent\n",
    "CartPoleで動くエージェントクラスです、棒付き台車そのものになります\n",
    "\n",
    "methodは\n",
    "\n",
    "\n",
    "* 行動価値Qを更新\n",
    "*  状態を与えると行動を決定\n",
    "*  状態、選択するアクション、次の状態、報酬などを記憶"
   ]
  },
  {
   "cell_type": "code",
   "execution_count": 11,
   "metadata": {},
   "outputs": [],
   "source": [
    "class Agent:\n",
    "    def __init__(self, num_states, num_actions):\n",
    "        '''課題の状態と行動の数を設定する'''\n",
    "        self.brain = Brain(num_states, num_actions)  # エージェントが行動を決定するための頭脳を生成\n",
    "\n",
    "    def update_q_function(self):\n",
    "        '''Q関数を更新する'''\n",
    "        self.brain.replay()\n",
    "\n",
    "    def get_action(self, state, episode):\n",
    "        '''行動を決定する'''\n",
    "        action = self.brain.decide_action(state, episode)\n",
    "        return action\n",
    "\n",
    "    def memorize(self, state, action, state_next, reward): #, done):\n",
    "        '''memoryオブジェクトに、state, action, state_next, rewardの内容を保存する'''\n",
    "        self.brain.memory.push(state, action, state_next, reward)# , done)"
   ]
  },
  {
   "cell_type": "markdown",
   "metadata": {},
   "source": [
    "# pricer"
   ]
  },
  {
   "cell_type": "code",
   "execution_count": 17,
   "metadata": {},
   "outputs": [],
   "source": [
    "import QuantLib as ql "
   ]
  },
  {
   "cell_type": "markdown",
   "metadata": {},
   "source": [
    "## class version zero"
   ]
  },
  {
   "cell_type": "code",
   "execution_count": 23,
   "metadata": {},
   "outputs": [],
   "source": [
    "class cl_call:\n",
    "    def price(self , spot_price, strike_price, maturity , is_american = True):\n",
    "        if maturity <= 0:\n",
    "            exercise_value = np.max([0 , spot_price - strike_price])\n",
    "            return (exercise_value)\n",
    "        dummy_strike = strike_price / spot_price\n",
    "        \n",
    "\n",
    "        option_type = ql.Option.Call\n",
    "        payoff = ql.PlainVanillaPayoff(option_type, dummy_strike)\n",
    "        \n",
    "        maturity_date = self.calculation_date + int(365.0 * maturity)\n",
    "        settlement = self.calculation_date\n",
    "        if is_american:\n",
    "            run_exercise = ql.AmericanExercise(settlement, maturity_date)\n",
    "        else:\n",
    "            run_exercise = ql.EuropeanExercise(maturity_date)\n",
    "                \n",
    "        \n",
    "        american_option = ql.VanillaOption(payoff, run_exercise)\n",
    "        if is_american:\n",
    "            american_option.setPricingEngine(self.binomial_engine)\n",
    "        else:\n",
    "\n",
    "            american_option.setPricingEngine(ql.AnalyticEuropeanEngine(self.bsm_process))\n",
    "                \n",
    "        ql.Settings.instance().evaluationDate = self.calculation_date\n",
    "\n",
    "        return (american_option.NPV() * spot_price)\n",
    "        \n",
    "\n",
    "    def __init__(self , volatility , dividend_rate , risk_free_rate  ,steps):\n",
    "        day_count = ql.Actual365Fixed()\n",
    "        #calendar = ql.UnitedStates()\n",
    "        calendar = ql.Japan()\n",
    "        self.calculation_date = ql.Date(8, 5, 2015)\n",
    "        dummy_spot = 1\n",
    "        \n",
    "        self.spot_handle = ql.QuoteHandle(ql.SimpleQuote(1.0))\n",
    "\n",
    "        ql.Settings.instance().evaluationDate = self.calculation_date\n",
    "\n",
    "\n",
    "        self.flat_ts = ql.YieldTermStructureHandle(\n",
    "            ql.FlatForward(self.calculation_date, risk_free_rate, day_count)\n",
    "        )\n",
    "\n",
    "        self.dividend_yield = ql.YieldTermStructureHandle(\n",
    "            ql.FlatForward(self.calculation_date, dividend_rate, day_count)\n",
    "        )\n",
    "\n",
    "        #### volatility\n",
    "\n",
    "        self.flat_vol_ts = ql.BlackVolTermStructureHandle(\n",
    "            ql.BlackConstantVol(self.calculation_date, calendar, volatility, day_count)\n",
    "        )\n",
    "\n",
    "        #### BS framework\n",
    "\n",
    "        self.bsm_process = ql.BlackScholesMertonProcess(self.spot_handle, \n",
    "                                                   self.dividend_yield, \n",
    "                                                   self.flat_ts, \n",
    "                                                   self.flat_vol_ts)\n",
    "\n",
    "\n",
    "        self.binomial_engine = ql.BinomialVanillaEngine(self.bsm_process, \"crr\", steps)\n",
    "        \n",
    "\n"
   ]
  },
  {
   "cell_type": "code",
   "execution_count": null,
   "metadata": {},
   "outputs": [],
   "source": [
    "am_call = cl_call(volatility ,  dividend_rate ,  risk_free_rate , pricer_steps)"
   ]
  },
  {
   "cell_type": "code",
   "execution_count": null,
   "metadata": {},
   "outputs": [],
   "source": [
    "am_call.price(spot_price, strike_price, maturity)"
   ]
  },
  {
   "cell_type": "code",
   "execution_count": 26,
   "metadata": {},
   "outputs": [
    {
     "data": {
      "text/plain": [
       "29.999999999999993"
      ]
     },
     "execution_count": 26,
     "metadata": {},
     "output_type": "execute_result"
    }
   ],
   "source": [
    "am_call.price(130 , 100, 0.1 , True)"
   ]
  },
  {
   "cell_type": "code",
   "execution_count": 27,
   "metadata": {},
   "outputs": [
    {
     "data": {
      "text/plain": [
       "29.2046218778254"
      ]
     },
     "execution_count": 27,
     "metadata": {},
     "output_type": "execute_result"
    }
   ],
   "source": [
    "am_call.price(130 , 100 , 0.1,  False)"
   ]
  },
  {
   "cell_type": "code",
   "execution_count": 20,
   "metadata": {},
   "outputs": [
    {
     "data": {
      "text/plain": [
       "29.999999999999993"
      ]
     },
     "execution_count": 20,
     "metadata": {},
     "output_type": "execute_result"
    }
   ],
   "source": [
    "am_call.price(130 , 100 , 0.1 , True)"
   ]
  },
  {
   "cell_type": "markdown",
   "metadata": {},
   "source": [
    "# replacing step() and state initialization\n",
    "\n",
    "* initializationをどうするかな・・\n"
   ]
  },
  {
   "cell_type": "code",
   "execution_count": null,
   "metadata": {},
   "outputs": [],
   "source": [
    "1+1"
   ]
  },
  {
   "cell_type": "code",
   "execution_count": 32,
   "metadata": {},
   "outputs": [],
   "source": [
    "class  decision2next_state:\n",
    "    \n",
    "    def __init__(self ,  S0_floor , S0_cap , is_S0_uniform ,  volatility , dividend_rate , risk_free_rate  , dt , Maturity, Strike):\n",
    "        self.S0_floor = S0_floor\n",
    "        self.S0_cap = S0_cap\n",
    "        self.is_S0_uniform = is_S0_uniform\n",
    "        self.volatility = volatility\n",
    "        self.dividend_rate = dividend_rate\n",
    "        self.risk_free_rate = risk_free_rate\n",
    "        self.dt = dt\n",
    "        self.Maturity = Maturity\n",
    "        \n",
    "        self.barbeta_dt = (risk_free_rate - dividend_rate - volatility**2 * 0.5) * dt\n",
    "        self.sd = volatility * np.sqrt(dt)\n",
    "        self.pricer = cl_call(volatility ,  dividend_rate ,  risk_free_rate , steps = 100)\n",
    "        self.K = Strike\n",
    "    \n",
    "    def reset(self):\n",
    "        T0 = 0    \n",
    "        #from IPython.core.debugger import Pdb; Pdb().set_trace()\n",
    "        #state0 = np.array([self.S0 , T0])\n",
    "        \n",
    "        \n",
    "        if self.is_S0_uniform:\n",
    "            #state0 = np.array([self.S0_floor + np.random.rand() * (self.S0_cap - self.S0_floor) , T0])\n",
    "            run_S0 = self.S0_floor + np.random.rand() * (self.S0_cap - self.S0_floor)\n",
    "     \n",
    "        else:\n",
    "            #state0 = np.array([self.S0_floor * np.power(self.S0_cap / self.S0_floor ,  np.random.rand()) , T0])\n",
    "            run_S0 = self.S0_floor * np.power(self.S0_cap / self.S0_floor ,  np.random.rand())\n",
    "            \n",
    "            \n",
    "        run_european_value = self.pricer.price(run_S0, self.K , self.Maturity - T0)\n",
    "        state0 = np.array([run_S0 , T0 , run_european_value])\n",
    " \n",
    "        return state0\n",
    "        \n",
    "    \n",
    "    def step(self , state , action):\n",
    "             #stateはtorch.tensor torch.Size([1, 2])\n",
    "               \n",
    "            #next_state = state.clone()\n",
    "            S = state[0][0].item()\n",
    "            T = state[0][1].item()    \n",
    "            T_next = T + self.dt\n",
    "            S_return = self.barbeta_dt + self.sd * np.random.randn()  \n",
    "            \n",
    "            S_next = S * np.exp(S_return)\n",
    "            \n",
    "            european_value_next = self.pricer.price(S_next , self.K , self.Maturity - T_next)\n",
    "            state_next =np.array([S_next , T_next , european_value_next])\n",
    "\n",
    "            done = (action == 1) or (T >= self.Maturity) \n",
    "            if done:\n",
    "                S_next = None\n",
    "            return state_next , done\n",
    "    "
   ]
  },
  {
   "cell_type": "markdown",
   "metadata": {},
   "source": [
    "## sandbox"
   ]
  },
  {
   "cell_type": "code",
   "execution_count": 33,
   "metadata": {},
   "outputs": [],
   "source": [
    "my_stepper = decision2next_state(spot_price / 10 , spot_price * 10, True, volatility , dividend_rate , risk_free_rate , 0.1 , 1 , 100)"
   ]
  },
  {
   "cell_type": "code",
   "execution_count": 34,
   "metadata": {},
   "outputs": [],
   "source": [
    "tmp_state = torch.Tensor(np.array([[100 , 0, 10]]))"
   ]
  },
  {
   "cell_type": "markdown",
   "metadata": {},
   "source": [
    "tmp_state = np.array([100,0])"
   ]
  },
  {
   "cell_type": "code",
   "execution_count": null,
   "metadata": {},
   "outputs": [],
   "source": [
    "type(tmp_state)"
   ]
  },
  {
   "cell_type": "code",
   "execution_count": 35,
   "metadata": {},
   "outputs": [
    {
     "data": {
      "text/plain": [
       "(array([88.54481142,  0.1       ,  1.76259521]), False)"
      ]
     },
     "execution_count": 35,
     "metadata": {},
     "output_type": "execute_result"
    }
   ],
   "source": [
    "my_stepper.step(tmp_state , 0)"
   ]
  },
  {
   "cell_type": "code",
   "execution_count": null,
   "metadata": {},
   "outputs": [],
   "source": [
    "my_stepper.reset()"
   ]
  },
  {
   "cell_type": "markdown",
   "metadata": {},
   "source": [
    "# Environment改（大幅改修した）\n",
    "CartPoleを実行する環境のクラスです\n",
    "\n",
    "* for loopは二重になっている\n",
    "* 外側のループはEPISODEに関して\n",
    "    * Episode = 試行：一回ポールを立てて倒れるか200ステップ経過するまでを１エピソードと数える\n",
    "    * 内側のループはステップに関して\n",
    "        * 初期状態のBrainを使って、1ステップ目から左右にコントロールしていくことからスタート\n",
    "        * 各ステップごとに状態と遷移を記録する。\n",
    "        * 同様に各ステップごとに行動価値関数をアップデートしていく\n",
    "    * 10エピソード連続で200ステップまで持ちこたえられたら成功\n",
    "    "
   ]
  },
  {
   "cell_type": "markdown",
   "metadata": {},
   "source": [
    "## Version 1\n",
    "* まずはMCパスを発生させて、episode $\\approx$ pathであるような形でやってみよう\n",
    "* 後々、MCパスはtrinomial tree上のみを推移するようにするかもしれないが、ここでは素直にMCパスを普通に発生させてみよう\n",
    "    * MCパス発生はquantlibにやらせてもいいが自分で実装してしまってもいいかな\n",
    "* env.stepを\n",
    "```\n",
    " 1 time step推進\n",
    "```\n",
    "に置き換える。\n",
    "\n",
    "\n",
    "### To be determined\n",
    "* QLはここに取り込む？ $\\Rightarrow$ maybe yes\n",
    "* MCもここで？ $\\Rightarrow$ maybe yes\n",
    "    * gymの場合は時間推進はgymが面倒見てくれていた。そのgymはEnvironmentクラスのメンバーになっている。\n",
    "* 書籍にあったような20回連続でみたいな終了判定基準はもはや適切ではない。ではどのような終了判定基準が良いか\n",
    "```\n",
    "現状では正解がわかっているのでいろいろズルをしよう。例えば、10パス連続で最適行使の判定を正解できたときetc\n",
    "```\n",
    "* reward設計\n",
    "```\n",
    "行使した場合にはrewardを払って行動価値関数がゼロのnext stateに飛ぶ\n",
    "```\n",
    "とする."
   ]
  },
  {
   "cell_type": "markdown",
   "metadata": {},
   "source": [
    "### implementation"
   ]
  },
  {
   "cell_type": "code",
   "execution_count": null,
   "metadata": {},
   "outputs": [],
   "source": [
    "np.random.randn()"
   ]
  },
  {
   "cell_type": "markdown",
   "metadata": {},
   "source": [
    "import QuantLib as ql "
   ]
  },
  {
   "cell_type": "code",
   "execution_count": null,
   "metadata": {},
   "outputs": [],
   "source": [
    "1 != 1"
   ]
  },
  {
   "cell_type": "code",
   "execution_count": 37,
   "metadata": {},
   "outputs": [],
   "source": [
    "class myEnvironment:\n",
    "\n",
    "    def __init__(self, S0_floor , S0_cap , is_S0_uniform , vol , q , r , K , T , dt ,pricer_steps):\n",
    "        #self.env = gym.make(ENV)  # 実行する課題を設定\n",
    "        self.S0_floor = S0_floor\n",
    "        self.S0_cap = S0_cap\n",
    "        self.is_S0_uniform = is_S0_uniform\n",
    "        self.vol = vol\n",
    "        self.q = q\n",
    "        self.r = r\n",
    "        self.K = K\n",
    "        self.T = T\n",
    "        self.dt = dt\n",
    "        self.stepper = decision2next_state(S0_floor , S0_cap , is_S0_uniform , vol , q , r , dt, T , K)\n",
    "        \n",
    "        num_states = 3# S,  t , and european option value\n",
    "        num_actions = 2 # exercise or hold \n",
    "        self.agent = Agent(num_states, num_actions)  # 環境内で行動するAgentを生成\n",
    "        self.pricer = cl_call(vol ,  q ,  r , steps = pricer_steps)\n",
    "\n",
    "        \n",
    "    def run(self , n_episodes , is_silent = False):\n",
    "        '''実行'''\n",
    "        episode_10_list = np.zeros(10)  # 10試行分の立ち続けたstep数を格納し、平均ステップ数を出力に利用\n",
    "        #complete episodesを終了条件にするのはもはや適切ではない\n",
    "        complete_episodes = 0  # 195step以上連続で立ち続けた試行数\n",
    "        episode_final = False  # 最後の試行フラグ\n",
    "        frames = []  # 最後の試行を動画にするために画像を格納する変数\n",
    "\n",
    "        for episode in range(n_episodes):  # 最大試行数分繰り返す\n",
    "            #observation = self.env.reset()  # 環境の初期化\n",
    "            observation = self.stepper.reset()\n",
    "            run_percent = int(episode * 100 / n_episodes)\n",
    "            if run_percent != int((episode -1) * 100 / n_episodes):              \n",
    "                \n",
    "                print(\"finished {} percent ({} / {})\".format(run_percent , episode , n_episodes))\n",
    "                #print(\"finished {} episodes\".format(episode))\n",
    "\n",
    "            state = observation  # 観測をそのまま状態sとして使用\n",
    "            if True:\n",
    "                #print(type(state))\n",
    "                state = torch.from_numpy(state).type(torch.FloatTensor)  # NumPy変数をPyTorchのテンソルに変換\n",
    "                state = torch.unsqueeze(state, 0)  # size 4をsize 1x4に変換\n",
    "\n",
    "            for step in range(MAX_STEPS):  # 1エピソードのループ\n",
    "\n",
    "                action = self.agent.get_action(state, episode)  # 行動を求める。\n",
    "                ### * episodeを食わせるのはQ学習の定義を見れば納得できる。ここは書籍のままの\n",
    "        \n",
    "                \n",
    "                # 行動a_tの実行により、s_{t+1}とdoneフラグを求める\n",
    "                # actionから.item()を指定して、中身を取り出す\n",
    " \n",
    "                observation_next , done = self.stepper.step(state , action.item())\n",
    "                #print(\"done is {}\".format(done))\n",
    "\n",
    "                # 報酬を与える。さらにepisodeの終了評価と、state_nextを設定する\n",
    "                if done:  # ステップ数が200経過するか、一定角度以上傾くとdoneはtrueになる\n",
    "                    state_next = None  # 次の状態はないので、Noneを格納\n",
    "       \n",
    "\n",
    "                    # 直近10episodeの立てたstep数リストに追加\n",
    "                    episode_10_list = np.hstack(\n",
    "                        (episode_10_list[1:], step + 1))\n",
    "                    if True:\n",
    "                        exercise_value = state[0][0].item() - self.K   \n",
    "                        if state[0][1].item() >= self.T:\n",
    "                            exercise_value = np.max([exercise_value , 0.0])\n",
    "                        \n",
    "                        reward = torch.FloatTensor([exercise_value]) \n",
    "                        complete_episodes = complete_episodes + 1  ## * 暫定的な処理\n",
    "                    \n",
    "\n",
    "                else:\n",
    "                    reward = torch.FloatTensor([0.0])  # 普段は報酬0\n",
    "                    state_next = observation_next  # 観測をそのまま状態とする\n",
    "                    if True:\n",
    "                        state_next = torch.from_numpy(state_next).type(\n",
    "                        torch.FloatTensor)  # numpy変数をPyTorchのテンソルに変換\n",
    "                        state_next = torch.unsqueeze(state_next, 0)  # size 4をsize 1x4に変換\n",
    "\n",
    "                # メモリに経験を追加\n",
    "                self.agent.memorize(state, action, state_next, reward)\n",
    "\n",
    "                # Experience ReplayでQ関数を更新する\n",
    "                if True:\n",
    "                    self.agent.update_q_function()\n",
    "                else:\n",
    "                    try:\n",
    "                        self.agent.update_q_function()\n",
    "                    except:\n",
    "                        print(\"something is wrong\")\n",
    "                        break\n",
    "\n",
    "\n",
    "\n",
    "                # 終了時の処理\n",
    "                if done:\n",
    "                    #print('%d Episode: Finished after %d steps：10試行の平均step数 = %.1lf' % (\n",
    "                    #    episode, step + 1, episode_10_list.mean()))\n",
    "                    #print(\"exercise value is {}\".format(exercise_value))\n",
    "                    #print(type(state))\n",
    "\n",
    "                    error = exercise_value - self.pricer.price(state[0][0].item(), self.K , self.T - state[0][1].item())\n",
    "                    if not is_silent:\n",
    "                        print(\"S : {:.2f} / t : {:.2f} / exercise value : {:.2f} / error : {:.2f}\".format(state[0][0].item() , state[0][1].item() , exercise_value , error))\n",
    "                    break\n",
    "                    ## ** error \n",
    "                                # 観測の更新\n",
    "                state = state_next\n",
    "            if episode_final:\n",
    "                break\n",
    "\n",
    "            # 10連続で200step経ち続けたら成功\n",
    "            if complete_episodes >= n_episodes:\n",
    "                #print('10回連続成功')\n",
    "                episode_final = True  # 次の試行を描画を行う最終試行とする"
   ]
  },
  {
   "cell_type": "code",
   "execution_count": 38,
   "metadata": {},
   "outputs": [
    {
     "name": "stdout",
     "output_type": "stream",
     "text": [
      "Net(\n",
      "  (fc1): Linear(in_features=3, out_features=144, bias=True)\n",
      "  (relu1): ReLU()\n",
      "  (fc3): Linear(in_features=144, out_features=2, bias=True)\n",
      ")\n",
      "[Parameter containing:\n",
      "tensor([[ 0.2520,  0.5366,  0.0806],\n",
      "        [ 0.4908, -0.0356,  0.3352],\n",
      "        [ 0.3188,  0.1780, -0.3393],\n",
      "        [ 0.3073, -0.5077, -0.0528],\n",
      "        [ 0.2389,  0.2922,  0.2933],\n",
      "        [ 0.5753,  0.5315,  0.3945],\n",
      "        [-0.0768, -0.1434, -0.5441],\n",
      "        [ 0.4808,  0.1872,  0.1866],\n",
      "        [-0.4390,  0.3180,  0.4190],\n",
      "        [-0.1905, -0.5264,  0.1393],\n",
      "        [-0.4171,  0.0448, -0.4241],\n",
      "        [-0.0035, -0.3056,  0.0446],\n",
      "        [-0.4456, -0.1569, -0.5032],\n",
      "        [ 0.5491,  0.1824,  0.1168],\n",
      "        [-0.4441,  0.5041, -0.4788],\n",
      "        [ 0.5507,  0.5219, -0.1885],\n",
      "        [ 0.2683,  0.1273, -0.4340],\n",
      "        [ 0.2664,  0.3720, -0.4629],\n",
      "        [ 0.2190, -0.4647,  0.2972],\n",
      "        [ 0.2125,  0.2558,  0.5463],\n",
      "        [ 0.5632, -0.0692, -0.3267],\n",
      "        [ 0.4044, -0.3466,  0.1514],\n",
      "        [-0.1025, -0.0587,  0.0838],\n",
      "        [ 0.1270,  0.3899, -0.0550],\n",
      "        [-0.1905, -0.4145,  0.0211],\n",
      "        [-0.0171,  0.0259, -0.0505],\n",
      "        [-0.2259,  0.0248,  0.4961],\n",
      "        [ 0.0748, -0.2899,  0.0473],\n",
      "        [ 0.0186,  0.1583, -0.3316],\n",
      "        [-0.4935, -0.2924, -0.3472],\n",
      "        [ 0.1711, -0.4881,  0.3746],\n",
      "        [ 0.2147, -0.1841,  0.0471],\n",
      "        [ 0.2205,  0.3868,  0.2409],\n",
      "        [-0.1071, -0.0508,  0.0208],\n",
      "        [-0.2241, -0.0416, -0.3751],\n",
      "        [ 0.0023,  0.2620, -0.3881],\n",
      "        [-0.3996, -0.0024,  0.2461],\n",
      "        [ 0.4685, -0.5572,  0.0233],\n",
      "        [ 0.3324, -0.3501,  0.3082],\n",
      "        [-0.0583, -0.4475,  0.3662],\n",
      "        [ 0.0307, -0.3490,  0.0883],\n",
      "        [ 0.3722,  0.5006, -0.2405],\n",
      "        [-0.1025, -0.5457, -0.0377],\n",
      "        [-0.3134, -0.1710, -0.4751],\n",
      "        [ 0.5009, -0.2974,  0.5090],\n",
      "        [-0.1492, -0.4449,  0.5178],\n",
      "        [-0.2466, -0.2845, -0.2315],\n",
      "        [-0.4079,  0.0468,  0.3221],\n",
      "        [-0.1875, -0.1153, -0.1270],\n",
      "        [-0.4468,  0.4601, -0.4918],\n",
      "        [ 0.3255,  0.5118, -0.1864],\n",
      "        [ 0.3352, -0.2738, -0.0289],\n",
      "        [ 0.0127,  0.0420, -0.5020],\n",
      "        [-0.4658, -0.2464, -0.5702],\n",
      "        [ 0.1177,  0.0510, -0.2652],\n",
      "        [ 0.5021,  0.0537,  0.1683],\n",
      "        [ 0.2872, -0.4429, -0.1241],\n",
      "        [ 0.4765,  0.0504, -0.4954],\n",
      "        [ 0.1949,  0.4161,  0.3591],\n",
      "        [-0.4658,  0.3557, -0.0647],\n",
      "        [ 0.3674,  0.3630,  0.5206],\n",
      "        [-0.0041, -0.5192,  0.4662],\n",
      "        [-0.1832,  0.3293, -0.0789],\n",
      "        [ 0.0288, -0.4445,  0.5700],\n",
      "        [ 0.4555, -0.3745,  0.2214],\n",
      "        [-0.0081,  0.5727,  0.2022],\n",
      "        [-0.2580,  0.4747, -0.0911],\n",
      "        [ 0.4432, -0.3739,  0.3389],\n",
      "        [-0.3541, -0.0052,  0.4374],\n",
      "        [ 0.5054, -0.3212, -0.1397],\n",
      "        [ 0.0455, -0.2293,  0.3648],\n",
      "        [ 0.4077,  0.4510, -0.3756],\n",
      "        [-0.0849,  0.2557,  0.5247],\n",
      "        [ 0.4669,  0.4702, -0.4491],\n",
      "        [ 0.4821, -0.0618, -0.5755],\n",
      "        [ 0.5489, -0.3324,  0.5565],\n",
      "        [ 0.1307, -0.1435,  0.1901],\n",
      "        [ 0.0744,  0.4417, -0.3893],\n",
      "        [-0.3599, -0.4583,  0.5522],\n",
      "        [-0.3856, -0.3470,  0.0937],\n",
      "        [ 0.5479, -0.2292,  0.0506],\n",
      "        [-0.1562, -0.4432, -0.4132],\n",
      "        [ 0.3229,  0.2601,  0.0647],\n",
      "        [-0.2740,  0.3289,  0.3095],\n",
      "        [-0.2606, -0.3127,  0.4020],\n",
      "        [-0.2261, -0.0212, -0.3243],\n",
      "        [ 0.0953, -0.2886, -0.1052],\n",
      "        [-0.2642,  0.4158, -0.2476],\n",
      "        [ 0.2595,  0.3542,  0.0647],\n",
      "        [-0.4831,  0.1142, -0.2109],\n",
      "        [ 0.1543,  0.4490, -0.5359],\n",
      "        [-0.2512,  0.5287,  0.5604],\n",
      "        [-0.2205, -0.1170, -0.1269],\n",
      "        [ 0.0674, -0.1295,  0.3939],\n",
      "        [-0.0874, -0.5477,  0.4722],\n",
      "        [-0.1269,  0.3696, -0.5481],\n",
      "        [-0.0270,  0.1185, -0.2290],\n",
      "        [-0.0376, -0.4415,  0.0261],\n",
      "        [ 0.0553, -0.5037,  0.1219],\n",
      "        [ 0.3967,  0.1687,  0.1827],\n",
      "        [-0.4980,  0.2065, -0.0970],\n",
      "        [ 0.0898,  0.2708,  0.2396],\n",
      "        [ 0.4375,  0.3095, -0.0785],\n",
      "        [-0.4766, -0.2320,  0.1373],\n",
      "        [ 0.3234,  0.2937,  0.2827],\n",
      "        [-0.2009, -0.2266,  0.3984],\n",
      "        [-0.0183,  0.4650,  0.0529],\n",
      "        [ 0.1956,  0.2951, -0.4097],\n",
      "        [ 0.5056,  0.5423, -0.4461],\n",
      "        [-0.2794, -0.4740,  0.2815],\n",
      "        [-0.3890,  0.1027,  0.2216],\n",
      "        [-0.4774, -0.5632, -0.2063],\n",
      "        [-0.5284, -0.0396, -0.2462],\n",
      "        [ 0.0541,  0.0339, -0.0760],\n",
      "        [ 0.0610,  0.5665, -0.4944],\n",
      "        [-0.5331,  0.3756, -0.2767],\n",
      "        [-0.2107,  0.5384, -0.4780],\n",
      "        [ 0.0485, -0.3020,  0.2032],\n",
      "        [-0.2326, -0.3394, -0.4620],\n",
      "        [ 0.1126,  0.0836, -0.1855],\n",
      "        [-0.0354,  0.5756,  0.3133],\n",
      "        [ 0.0145, -0.1058,  0.1012],\n",
      "        [ 0.2300, -0.4337, -0.2870],\n",
      "        [ 0.0677,  0.5424,  0.3100],\n",
      "        [-0.0108,  0.5379, -0.1776],\n",
      "        [-0.0829,  0.4130,  0.4310],\n",
      "        [-0.4341, -0.0471,  0.1199],\n",
      "        [ 0.1388, -0.5240,  0.0957],\n",
      "        [ 0.3640, -0.3942,  0.1612],\n",
      "        [ 0.0769,  0.4449, -0.5518],\n",
      "        [ 0.1326, -0.5386, -0.2525],\n",
      "        [ 0.4262,  0.3824, -0.3887],\n",
      "        [ 0.1545, -0.3097,  0.4564],\n",
      "        [-0.4234, -0.5319, -0.1515],\n",
      "        [-0.1926, -0.3309,  0.1363],\n",
      "        [-0.5155, -0.2865, -0.1095],\n",
      "        [-0.4254, -0.4277,  0.4820],\n",
      "        [-0.2156, -0.2163, -0.3899],\n",
      "        [-0.0904, -0.3972, -0.4779],\n",
      "        [ 0.0599, -0.2140, -0.4151],\n",
      "        [-0.5755,  0.2312,  0.4082],\n",
      "        [-0.3711,  0.4005,  0.1253],\n",
      "        [ 0.1599,  0.3185,  0.0341],\n",
      "        [ 0.2597,  0.2865, -0.2597]], requires_grad=True), Parameter containing:\n",
      "tensor([ 0.3526,  0.2840, -0.1060, -0.4152, -0.3541, -0.4653,  0.4377, -0.2438,\n",
      "        -0.1575, -0.0515, -0.2651, -0.2552,  0.0213,  0.4486,  0.2453, -0.4086,\n",
      "        -0.5040, -0.3098,  0.2451,  0.2279, -0.4382,  0.4301, -0.1363, -0.1006,\n",
      "        -0.2089, -0.2402,  0.4438, -0.4266, -0.1703, -0.4317, -0.1182,  0.4287,\n",
      "         0.2273,  0.2682, -0.4325, -0.4150, -0.1703,  0.4174,  0.5627,  0.0583,\n",
      "        -0.5674, -0.0420, -0.0703, -0.1777, -0.3935,  0.5601,  0.3800, -0.4690,\n",
      "         0.1912, -0.0424, -0.2912,  0.4563,  0.1459,  0.3389,  0.0636,  0.3951,\n",
      "         0.3156, -0.1408,  0.4474, -0.0500, -0.0561,  0.1402, -0.4472,  0.0862,\n",
      "        -0.2914, -0.3622, -0.0932,  0.4021, -0.4085,  0.4526,  0.5018,  0.1561,\n",
      "        -0.3373, -0.5756, -0.1238,  0.5701,  0.3653, -0.1370,  0.5437,  0.4580,\n",
      "        -0.1208, -0.1507,  0.1909, -0.1482,  0.0753,  0.4833, -0.0469, -0.1962,\n",
      "        -0.4020,  0.0020,  0.1267,  0.2879, -0.3651,  0.0961,  0.2699, -0.3584,\n",
      "         0.1847,  0.1790, -0.2663, -0.3480, -0.0803, -0.3618,  0.5350, -0.0916,\n",
      "        -0.0289, -0.0529, -0.4242, -0.0275,  0.5772, -0.4226, -0.1690,  0.0431,\n",
      "        -0.4031, -0.1451,  0.2384, -0.4930, -0.1596, -0.3620,  0.1615, -0.0047,\n",
      "         0.4405,  0.0475, -0.3302,  0.2716,  0.5743, -0.4321,  0.5181, -0.3353,\n",
      "        -0.2003,  0.2549,  0.0019, -0.3821, -0.4616, -0.4439, -0.5449,  0.1601,\n",
      "         0.5443, -0.3252,  0.2963, -0.2829, -0.1242, -0.0157, -0.0300, -0.4243],\n",
      "       requires_grad=True), Parameter containing:\n",
      "tensor([[-0.0462,  0.0368, -0.0393, -0.0599, -0.0285,  0.0202, -0.0416, -0.0276,\n",
      "         -0.0243,  0.0023, -0.0291, -0.0571,  0.0142,  0.0297, -0.0676, -0.0784,\n",
      "         -0.0464,  0.0071,  0.0665,  0.0498,  0.0166,  0.0735, -0.0456,  0.0188,\n",
      "          0.0608,  0.0759,  0.0448, -0.0702,  0.0044, -0.0663, -0.0605, -0.0072,\n",
      "         -0.0475, -0.0074,  0.0799, -0.0490,  0.0673,  0.0361, -0.0636, -0.0082,\n",
      "          0.0631,  0.0624, -0.0262, -0.0020,  0.0093,  0.0488,  0.0420, -0.0127,\n",
      "          0.0069,  0.0211,  0.0514,  0.0666,  0.0531, -0.0704,  0.0088,  0.0384,\n",
      "          0.0094,  0.0214, -0.0528,  0.0702,  0.0196, -0.0713,  0.0831,  0.0633,\n",
      "          0.0755,  0.0759, -0.0240, -0.0821,  0.0333,  0.0628,  0.0715,  0.0342,\n",
      "          0.0812,  0.0165, -0.0252, -0.0173, -0.0419, -0.0822,  0.0394, -0.0343,\n",
      "          0.0542, -0.0471,  0.0606,  0.0037,  0.0514, -0.0325,  0.0029,  0.0620,\n",
      "         -0.0300,  0.0352,  0.0797, -0.0016,  0.0535,  0.0833, -0.0585, -0.0539,\n",
      "         -0.0256, -0.0353, -0.0346, -0.0534,  0.0241, -0.0811, -0.0175,  0.0196,\n",
      "          0.0036, -0.0011, -0.0646,  0.0563, -0.0773, -0.0646,  0.0821, -0.0639,\n",
      "         -0.0094,  0.0065,  0.0565,  0.0035,  0.0330,  0.0037,  0.0143, -0.0597,\n",
      "         -0.0283, -0.0318, -0.0784,  0.0832,  0.0563,  0.0057, -0.0009, -0.0185,\n",
      "         -0.0077,  0.0288,  0.0658,  0.0704, -0.0003,  0.0582,  0.0450, -0.0818,\n",
      "         -0.0070, -0.0728,  0.0737, -0.0485,  0.0768, -0.0314,  0.0394,  0.0571],\n",
      "        [ 0.0711, -0.0315, -0.0553,  0.0455,  0.0348,  0.0126,  0.0549, -0.0009,\n",
      "         -0.0352,  0.0821, -0.0028,  0.0522, -0.0778,  0.0013, -0.0251,  0.0241,\n",
      "          0.0428, -0.0414,  0.0163, -0.0166,  0.0558, -0.0785, -0.0646,  0.0146,\n",
      "         -0.0781, -0.0069, -0.0394,  0.0260, -0.0721, -0.0775, -0.0493, -0.0817,\n",
      "          0.0818, -0.0719,  0.0301,  0.0158, -0.0137, -0.0290, -0.0791, -0.0190,\n",
      "         -0.0259, -0.0582,  0.0702, -0.0825, -0.0421, -0.0480, -0.0747, -0.0399,\n",
      "         -0.0520,  0.0765, -0.0534, -0.0470,  0.0168,  0.0607, -0.0379, -0.0438,\n",
      "         -0.0011, -0.0560,  0.0563,  0.0568, -0.0374, -0.0141,  0.0107, -0.0160,\n",
      "          0.0192, -0.0188,  0.0318,  0.0328,  0.0271,  0.0442, -0.0641, -0.0119,\n",
      "          0.0364, -0.0466,  0.0009,  0.0348,  0.0157,  0.0159, -0.0027,  0.0718,\n",
      "          0.0285,  0.0236, -0.0580, -0.0769,  0.0099, -0.0689, -0.0255,  0.0681,\n",
      "         -0.0803, -0.0398, -0.0656, -0.0789, -0.0021, -0.0759, -0.0738,  0.0742,\n",
      "         -0.0464,  0.0183, -0.0742, -0.0737, -0.0609,  0.0277, -0.0764,  0.0429,\n",
      "         -0.0344,  0.0755,  0.0045, -0.0509,  0.0344, -0.0713, -0.0263, -0.0293,\n",
      "          0.0537,  0.0037, -0.0487,  0.0425, -0.0156, -0.0134,  0.0562,  0.0571,\n",
      "          0.0129, -0.0255,  0.0561, -0.0616, -0.0610, -0.0277, -0.0195, -0.0725,\n",
      "         -0.0760, -0.0212, -0.0420, -0.0037,  0.0115,  0.0369, -0.0637, -0.0271,\n",
      "          0.0306, -0.0483, -0.0337,  0.0095, -0.0736,  0.0469,  0.0451,  0.0583]],\n",
      "       requires_grad=True), Parameter containing:\n",
      "tensor([0.0158, 0.0078], requires_grad=True)]\n"
     ]
    }
   ],
   "source": [
    "# main クラス\n",
    "cartpole_env = myEnvironment(spot_price / 10 , spot_price * 2 , True , volatility , dividend_rate , risk_free_rate , strike_price , maturity , dt , pricer_steps)"
   ]
  },
  {
   "cell_type": "code",
   "execution_count": 39,
   "metadata": {},
   "outputs": [
    {
     "name": "stdout",
     "output_type": "stream",
     "text": [
      "finished 0 percent (0 / 100)\n",
      "S : 129.23 / t : 0.30 / exercise value : -0.77 / error : -6.99\n",
      "finished 1 percent (1 / 100)\n",
      "S : 44.85 / t : 0.30 / exercise value : -85.15 / error : -85.15\n",
      "finished 2 percent (2 / 100)\n",
      "S : 71.23 / t : 0.70 / exercise value : -58.77 / error : -58.77\n",
      "finished 3 percent (3 / 100)\n",
      "S : 32.13 / t : 0.00 / exercise value : -97.87 / error : -97.87\n",
      "finished 4 percent (4 / 100)\n",
      "S : 168.26 / t : 1.00 / exercise value : 38.26 / error : 0.00\n",
      "finished 5 percent (5 / 100)\n",
      "S : 66.44 / t : 0.60 / exercise value : -63.56 / error : -63.56\n",
      "finished 6 percent (6 / 100)\n",
      "S : 58.53 / t : 1.00 / exercise value : 0.00 / error : 0.00\n",
      "finished 7 percent (7 / 100)\n",
      "S : 284.28 / t : 1.00 / exercise value : 154.28 / error : 0.00\n",
      "finished 8 percent (8 / 100)\n",
      "S : 75.85 / t : 1.00 / exercise value : 0.00 / error : 0.00\n",
      "finished 9 percent (9 / 100)\n",
      "S : 53.51 / t : 1.00 / exercise value : 0.00 / error : 0.00\n",
      "finished 10 percent (10 / 100)\n",
      "S : 214.19 / t : 1.00 / exercise value : 84.19 / error : 0.00\n",
      "finished 11 percent (11 / 100)\n",
      "S : 113.82 / t : 0.60 / exercise value : -16.18 / error : -16.98\n",
      "finished 12 percent (12 / 100)\n",
      "S : 24.68 / t : 1.00 / exercise value : 0.00 / error : 0.00\n",
      "finished 13 percent (13 / 100)\n",
      "S : 49.29 / t : 1.00 / exercise value : 0.00 / error : 0.00\n",
      "finished 14 percent (14 / 100)\n",
      "S : 33.89 / t : 1.00 / exercise value : 0.00 / error : 0.00\n",
      "finished 15 percent (15 / 100)\n",
      "S : 190.69 / t : 1.00 / exercise value : 60.69 / error : 0.00\n",
      "finished 16 percent (16 / 100)\n",
      "S : 124.97 / t : 1.00 / exercise value : 0.00 / error : 0.00\n",
      "finished 17 percent (17 / 100)\n",
      "S : 13.43 / t : 1.00 / exercise value : 0.00 / error : 0.00\n",
      "finished 18 percent (18 / 100)\n",
      "S : 197.68 / t : 1.00 / exercise value : 67.68 / error : 0.00\n",
      "finished 19 percent (19 / 100)\n",
      "S : 22.83 / t : 1.00 / exercise value : 0.00 / error : 0.00\n",
      "finished 20 percent (20 / 100)\n",
      "S : 202.02 / t : 1.00 / exercise value : 72.02 / error : 0.00\n",
      "finished 21 percent (21 / 100)\n",
      "S : 134.48 / t : 1.00 / exercise value : 4.48 / error : 0.00\n",
      "finished 22 percent (22 / 100)\n",
      "S : 190.14 / t : 1.00 / exercise value : 60.14 / error : 0.00\n",
      "finished 23 percent (23 / 100)\n",
      "S : 223.71 / t : 1.00 / exercise value : 93.71 / error : 0.00\n",
      "finished 24 percent (24 / 100)\n",
      "S : 31.30 / t : 1.00 / exercise value : 0.00 / error : 0.00\n",
      "finished 25 percent (25 / 100)\n",
      "S : 112.73 / t : 1.00 / exercise value : 0.00 / error : 0.00\n",
      "finished 26 percent (26 / 100)\n",
      "S : 67.40 / t : 1.00 / exercise value : 0.00 / error : 0.00\n",
      "finished 27 percent (27 / 100)\n",
      "S : 227.89 / t : 1.00 / exercise value : 97.89 / error : 0.00\n",
      "finished 28 percent (28 / 100)\n",
      "S : 34.22 / t : 1.00 / exercise value : 0.00 / error : 0.00\n",
      "finished 29 percent (29 / 100)\n",
      "S : 45.65 / t : 1.00 / exercise value : 0.00 / error : 0.00\n",
      "finished 30 percent (30 / 100)\n",
      "S : 177.50 / t : 1.00 / exercise value : 47.50 / error : 0.00\n",
      "finished 31 percent (31 / 100)\n",
      "S : 14.13 / t : 1.00 / exercise value : 0.00 / error : 0.00\n",
      "finished 32 percent (32 / 100)\n",
      "S : 164.26 / t : 1.00 / exercise value : 34.26 / error : 0.00\n",
      "finished 33 percent (33 / 100)\n",
      "S : 200.51 / t : 1.00 / exercise value : 70.51 / error : 0.00\n",
      "finished 34 percent (34 / 100)\n",
      "S : 154.43 / t : 1.00 / exercise value : 24.43 / error : 0.00\n",
      "finished 35 percent (35 / 100)\n",
      "S : 283.53 / t : 1.00 / exercise value : 153.53 / error : 0.00\n",
      "finished 36 percent (36 / 100)\n",
      "S : 260.65 / t : 1.00 / exercise value : 130.65 / error : 0.00\n",
      "finished 37 percent (37 / 100)\n",
      "S : 55.73 / t : 1.00 / exercise value : 0.00 / error : 0.00\n",
      "finished 38 percent (38 / 100)\n",
      "S : 195.12 / t : 0.30 / exercise value : 65.12 / error : 0.00\n",
      "finished 39 percent (39 / 100)\n",
      "S : 19.22 / t : 1.00 / exercise value : 0.00 / error : 0.00\n",
      "finished 40 percent (40 / 100)\n",
      "S : 70.98 / t : 1.00 / exercise value : 0.00 / error : 0.00\n",
      "finished 41 percent (41 / 100)\n",
      "S : 239.23 / t : 1.00 / exercise value : 109.23 / error : 0.00\n",
      "finished 42 percent (42 / 100)\n",
      "S : 176.79 / t : 1.00 / exercise value : 46.79 / error : 0.00\n",
      "finished 43 percent (43 / 100)\n",
      "S : 66.50 / t : 1.00 / exercise value : 0.00 / error : 0.00\n",
      "finished 44 percent (44 / 100)\n",
      "S : 227.72 / t : 1.00 / exercise value : 97.72 / error : 0.00\n",
      "finished 45 percent (45 / 100)\n",
      "S : 96.05 / t : 1.00 / exercise value : 0.00 / error : 0.00\n",
      "finished 46 percent (46 / 100)\n",
      "S : 168.31 / t : 1.00 / exercise value : 38.31 / error : 0.00\n",
      "finished 47 percent (47 / 100)\n",
      "S : 24.57 / t : 1.00 / exercise value : 0.00 / error : 0.00\n",
      "finished 48 percent (48 / 100)\n",
      "S : 223.01 / t : 0.70 / exercise value : 93.01 / error : 0.00\n",
      "finished 49 percent (49 / 100)\n",
      "S : 86.22 / t : 1.00 / exercise value : 0.00 / error : 0.00\n",
      "finished 50 percent (50 / 100)\n",
      "S : 153.31 / t : 1.00 / exercise value : 23.31 / error : 0.00\n",
      "finished 51 percent (51 / 100)\n",
      "S : 31.36 / t : 1.00 / exercise value : 0.00 / error : 0.00\n",
      "finished 52 percent (52 / 100)\n",
      "S : 105.32 / t : 1.00 / exercise value : 0.00 / error : 0.00\n",
      "finished 53 percent (53 / 100)\n",
      "S : 74.84 / t : 1.00 / exercise value : 0.00 / error : 0.00\n",
      "finished 54 percent (54 / 100)\n",
      "S : 166.40 / t : 1.00 / exercise value : 36.40 / error : 0.00\n",
      "finished 55 percent (55 / 100)\n",
      "S : 67.00 / t : 1.00 / exercise value : 0.00 / error : 0.00\n",
      "finished 56 percent (56 / 100)\n",
      "S : 163.87 / t : 1.00 / exercise value : 33.87 / error : 0.00\n",
      "finished 57 percent (57 / 100)\n",
      "S : 177.01 / t : 1.00 / exercise value : 47.01 / error : 0.00\n",
      "finished 58 percent (58 / 100)\n",
      "S : 281.80 / t : 1.00 / exercise value : 151.80 / error : 0.00\n",
      "finished 59 percent (59 / 100)\n",
      "S : 139.36 / t : 1.00 / exercise value : 9.36 / error : 0.00\n",
      "finished 60 percent (60 / 100)\n",
      "S : 50.96 / t : 1.00 / exercise value : 0.00 / error : 0.00\n",
      "finished 61 percent (61 / 100)\n",
      "S : 271.43 / t : 1.00 / exercise value : 141.43 / error : 0.00\n",
      "finished 62 percent (62 / 100)\n",
      "S : 78.14 / t : 1.00 / exercise value : 0.00 / error : 0.00\n",
      "finished 63 percent (63 / 100)\n",
      "S : 227.61 / t : 1.00 / exercise value : 97.61 / error : 0.00\n",
      "finished 64 percent (64 / 100)\n",
      "S : 150.88 / t : 1.00 / exercise value : 20.88 / error : 0.00\n",
      "finished 65 percent (65 / 100)\n",
      "S : 197.52 / t : 1.00 / exercise value : 67.52 / error : 0.00\n",
      "finished 66 percent (66 / 100)\n",
      "S : 156.46 / t : 1.00 / exercise value : 26.46 / error : 0.00\n",
      "finished 67 percent (67 / 100)\n",
      "S : 210.13 / t : 1.00 / exercise value : 80.13 / error : 0.00\n",
      "finished 68 percent (68 / 100)\n",
      "S : 48.50 / t : 0.00 / exercise value : -81.50 / error : -81.50\n",
      "finished 69 percent (69 / 100)\n",
      "S : 132.80 / t : 1.00 / exercise value : 2.80 / error : 0.00\n",
      "finished 70 percent (70 / 100)\n",
      "S : 40.36 / t : 1.00 / exercise value : 0.00 / error : 0.00\n",
      "finished 71 percent (71 / 100)\n",
      "S : 73.23 / t : 1.00 / exercise value : 0.00 / error : 0.00\n",
      "finished 72 percent (72 / 100)\n",
      "S : 223.09 / t : 1.00 / exercise value : 93.09 / error : 0.00\n",
      "finished 73 percent (73 / 100)\n",
      "S : 35.95 / t : 1.00 / exercise value : 0.00 / error : 0.00\n",
      "finished 74 percent (74 / 100)\n",
      "S : 205.01 / t : 1.00 / exercise value : 75.01 / error : 0.00\n",
      "finished 75 percent (75 / 100)\n",
      "S : 153.97 / t : 1.00 / exercise value : 23.97 / error : 0.00\n",
      "finished 76 percent (76 / 100)\n",
      "S : 229.20 / t : 1.00 / exercise value : 99.20 / error : 0.00\n",
      "finished 77 percent (77 / 100)\n",
      "S : 204.11 / t : 1.00 / exercise value : 74.11 / error : 0.00\n",
      "finished 78 percent (78 / 100)\n",
      "S : 128.46 / t : 1.00 / exercise value : 0.00 / error : 0.00\n",
      "finished 79 percent (79 / 100)\n",
      "S : 87.96 / t : 1.00 / exercise value : 0.00 / error : 0.00\n",
      "finished 80 percent (80 / 100)\n",
      "S : 31.65 / t : 1.00 / exercise value : 0.00 / error : 0.00\n",
      "finished 81 percent (81 / 100)\n",
      "S : 100.76 / t : 1.00 / exercise value : 0.00 / error : 0.00\n",
      "finished 82 percent (82 / 100)\n",
      "S : 191.06 / t : 1.00 / exercise value : 61.06 / error : 0.00\n",
      "finished 83 percent (83 / 100)\n",
      "S : 21.46 / t : 1.00 / exercise value : 0.00 / error : 0.00\n",
      "finished 84 percent (84 / 100)\n",
      "S : 146.39 / t : 1.00 / exercise value : 16.39 / error : 0.00\n",
      "finished 85 percent (85 / 100)\n",
      "S : 214.32 / t : 1.00 / exercise value : 84.32 / error : 0.00\n",
      "finished 86 percent (86 / 100)\n",
      "S : 176.56 / t : 1.00 / exercise value : 46.56 / error : 0.00\n",
      "finished 87 percent (87 / 100)\n",
      "S : 137.81 / t : 1.00 / exercise value : 7.81 / error : 0.00\n",
      "finished 88 percent (88 / 100)\n",
      "S : 212.11 / t : 1.00 / exercise value : 82.11 / error : 0.00\n",
      "finished 89 percent (89 / 100)\n",
      "S : 112.52 / t : 1.00 / exercise value : 0.00 / error : 0.00\n",
      "finished 90 percent (90 / 100)\n",
      "S : 27.17 / t : 1.00 / exercise value : 0.00 / error : 0.00\n",
      "finished 91 percent (91 / 100)\n",
      "S : 26.10 / t : 1.00 / exercise value : 0.00 / error : 0.00\n",
      "finished 92 percent (92 / 100)\n",
      "S : 239.50 / t : 1.00 / exercise value : 109.50 / error : 0.00\n",
      "finished 93 percent (93 / 100)\n",
      "S : 137.65 / t : 1.00 / exercise value : 7.65 / error : 0.00\n",
      "finished 94 percent (94 / 100)\n"
     ]
    },
    {
     "name": "stdout",
     "output_type": "stream",
     "text": [
      "S : 152.57 / t : 1.00 / exercise value : 22.57 / error : 0.00\n",
      "finished 95 percent (95 / 100)\n",
      "S : 39.59 / t : 1.00 / exercise value : 0.00 / error : 0.00\n",
      "finished 96 percent (96 / 100)\n",
      "S : 103.69 / t : 1.00 / exercise value : 0.00 / error : 0.00\n",
      "finished 97 percent (97 / 100)\n",
      "S : 216.50 / t : 1.00 / exercise value : 86.50 / error : 0.00\n",
      "finished 98 percent (98 / 100)\n",
      "S : 171.17 / t : 1.00 / exercise value : 41.17 / error : 0.00\n",
      "finished 99 percent (99 / 100)\n",
      "S : 163.48 / t : 1.00 / exercise value : 33.48 / error : 0.00\n"
     ]
    }
   ],
   "source": [
    "cartpole_env.run(100, False)"
   ]
  },
  {
   "cell_type": "code",
   "execution_count": 40,
   "metadata": {},
   "outputs": [
    {
     "name": "stdout",
     "output_type": "stream",
     "text": [
      "finished 1 percent (50 / 5000)\n",
      "finished 2 percent (100 / 5000)\n",
      "finished 3 percent (150 / 5000)\n",
      "finished 4 percent (200 / 5000)\n",
      "finished 5 percent (250 / 5000)\n",
      "finished 6 percent (300 / 5000)\n",
      "finished 7 percent (350 / 5000)\n",
      "finished 8 percent (400 / 5000)\n",
      "finished 9 percent (450 / 5000)\n",
      "finished 10 percent (500 / 5000)\n",
      "finished 11 percent (550 / 5000)\n",
      "finished 12 percent (600 / 5000)\n",
      "finished 13 percent (650 / 5000)\n",
      "finished 14 percent (700 / 5000)\n",
      "finished 15 percent (750 / 5000)\n",
      "finished 16 percent (800 / 5000)\n",
      "finished 17 percent (850 / 5000)\n",
      "finished 18 percent (900 / 5000)\n",
      "finished 19 percent (950 / 5000)\n",
      "finished 20 percent (1000 / 5000)\n",
      "finished 21 percent (1050 / 5000)\n",
      "finished 22 percent (1100 / 5000)\n",
      "finished 23 percent (1150 / 5000)\n",
      "finished 24 percent (1200 / 5000)\n",
      "finished 25 percent (1250 / 5000)\n",
      "finished 26 percent (1300 / 5000)\n",
      "finished 27 percent (1350 / 5000)\n",
      "finished 28 percent (1400 / 5000)\n",
      "finished 29 percent (1450 / 5000)\n",
      "finished 30 percent (1500 / 5000)\n",
      "finished 31 percent (1550 / 5000)\n",
      "finished 32 percent (1600 / 5000)\n",
      "finished 33 percent (1650 / 5000)\n",
      "finished 34 percent (1700 / 5000)\n",
      "finished 35 percent (1750 / 5000)\n",
      "finished 36 percent (1800 / 5000)\n",
      "finished 37 percent (1850 / 5000)\n",
      "finished 38 percent (1900 / 5000)\n",
      "finished 39 percent (1950 / 5000)\n",
      "finished 40 percent (2000 / 5000)\n",
      "finished 41 percent (2050 / 5000)\n",
      "finished 42 percent (2100 / 5000)\n",
      "finished 43 percent (2150 / 5000)\n",
      "finished 44 percent (2200 / 5000)\n",
      "finished 45 percent (2250 / 5000)\n",
      "finished 46 percent (2300 / 5000)\n",
      "finished 47 percent (2350 / 5000)\n",
      "finished 48 percent (2400 / 5000)\n",
      "finished 49 percent (2450 / 5000)\n",
      "finished 50 percent (2500 / 5000)\n",
      "finished 51 percent (2550 / 5000)\n",
      "finished 52 percent (2600 / 5000)\n",
      "finished 53 percent (2650 / 5000)\n",
      "finished 54 percent (2700 / 5000)\n",
      "finished 55 percent (2750 / 5000)\n",
      "finished 56 percent (2800 / 5000)\n",
      "finished 57 percent (2850 / 5000)\n",
      "finished 58 percent (2900 / 5000)\n",
      "finished 59 percent (2950 / 5000)\n",
      "finished 60 percent (3000 / 5000)\n",
      "finished 61 percent (3050 / 5000)\n",
      "finished 62 percent (3100 / 5000)\n",
      "finished 63 percent (3150 / 5000)\n",
      "finished 64 percent (3200 / 5000)\n",
      "finished 65 percent (3250 / 5000)\n",
      "finished 66 percent (3300 / 5000)\n",
      "finished 67 percent (3350 / 5000)\n",
      "finished 68 percent (3400 / 5000)\n",
      "finished 69 percent (3450 / 5000)\n",
      "finished 70 percent (3500 / 5000)\n",
      "finished 71 percent (3550 / 5000)\n",
      "finished 72 percent (3600 / 5000)\n",
      "finished 73 percent (3650 / 5000)\n",
      "finished 74 percent (3700 / 5000)\n",
      "finished 75 percent (3750 / 5000)\n",
      "finished 76 percent (3800 / 5000)\n",
      "finished 77 percent (3850 / 5000)\n",
      "finished 78 percent (3900 / 5000)\n",
      "finished 79 percent (3950 / 5000)\n",
      "finished 80 percent (4000 / 5000)\n",
      "finished 81 percent (4050 / 5000)\n",
      "finished 82 percent (4100 / 5000)\n",
      "finished 83 percent (4150 / 5000)\n",
      "finished 84 percent (4200 / 5000)\n",
      "finished 85 percent (4250 / 5000)\n",
      "finished 86 percent (4300 / 5000)\n",
      "finished 87 percent (4350 / 5000)\n",
      "finished 88 percent (4400 / 5000)\n",
      "finished 89 percent (4450 / 5000)\n",
      "finished 90 percent (4500 / 5000)\n",
      "finished 91 percent (4550 / 5000)\n",
      "finished 92 percent (4600 / 5000)\n",
      "finished 93 percent (4650 / 5000)\n",
      "finished 94 percent (4700 / 5000)\n",
      "finished 95 percent (4750 / 5000)\n",
      "finished 96 percent (4800 / 5000)\n",
      "finished 97 percent (4850 / 5000)\n",
      "finished 98 percent (4900 / 5000)\n",
      "finished 99 percent (4950 / 5000)\n"
     ]
    }
   ],
   "source": [
    "cartpole_env.run(5000, True)"
   ]
  },
  {
   "cell_type": "markdown",
   "metadata": {},
   "source": [
    "cartpole_env.run(2000000, True)"
   ]
  },
  {
   "cell_type": "markdown",
   "metadata": {},
   "source": [
    "# predict\n"
   ]
  },
  {
   "cell_type": "code",
   "execution_count": 41,
   "metadata": {},
   "outputs": [],
   "source": [
    "model = cartpole_env.agent.brain.model"
   ]
  },
  {
   "cell_type": "code",
   "execution_count": 42,
   "metadata": {},
   "outputs": [
    {
     "data": {
      "text/plain": [
       "Net(\n",
       "  (fc1): Linear(in_features=3, out_features=144, bias=True)\n",
       "  (relu1): ReLU()\n",
       "  (fc3): Linear(in_features=144, out_features=2, bias=True)\n",
       ")"
      ]
     },
     "execution_count": 42,
     "metadata": {},
     "output_type": "execute_result"
    }
   ],
   "source": [
    "model.eval()"
   ]
  },
  {
   "cell_type": "code",
   "execution_count": 43,
   "metadata": {},
   "outputs": [],
   "source": [
    "run_underliers = [float(i) * 10 for i in range(1 , 20)]"
   ]
  },
  {
   "cell_type": "code",
   "execution_count": 44,
   "metadata": {},
   "outputs": [],
   "source": [
    "run_t = 0.2"
   ]
  },
  {
   "cell_type": "code",
   "execution_count": 48,
   "metadata": {},
   "outputs": [],
   "source": [
    "am_call = cl_call(volatility ,  dividend_rate ,  risk_free_rate , pricer_steps)"
   ]
  },
  {
   "cell_type": "code",
   "execution_count": 49,
   "metadata": {},
   "outputs": [
    {
     "ename": "NameError",
     "evalue": "name 's' is not defined",
     "output_type": "error",
     "traceback": [
      "\u001b[0;31m---------------------------------------------------------------------------\u001b[0m",
      "\u001b[0;31mNameError\u001b[0m                                 Traceback (most recent call last)",
      "\u001b[0;32m<ipython-input-49-dee3538c6975>\u001b[0m in \u001b[0;36m<module>\u001b[0;34m()\u001b[0m\n\u001b[0;32m----> 1\u001b[0;31m \u001b[0mam_call\u001b[0m\u001b[0;34m.\u001b[0m\u001b[0mprice\u001b[0m\u001b[0;34m(\u001b[0m\u001b[0ms\u001b[0m\u001b[0;34m,\u001b[0m \u001b[0mstrike_price\u001b[0m\u001b[0;34m,\u001b[0m \u001b[0mmaturity\u001b[0m \u001b[0;34m-\u001b[0m \u001b[0mrun_t\u001b[0m\u001b[0;34m)\u001b[0m\u001b[0;34m\u001b[0m\u001b[0m\n\u001b[0m",
      "\u001b[0;31mNameError\u001b[0m: name 's' is not defined"
     ]
    }
   ],
   "source": []
  },
  {
   "cell_type": "code",
   "execution_count": 50,
   "metadata": {},
   "outputs": [],
   "source": [
    "run_input = torch.tensor([\n",
    "    [s , run_t , am_call.price(s, strike_price, maturity - run_t)] for s in run_underliers\n",
    "])"
   ]
  },
  {
   "cell_type": "code",
   "execution_count": 51,
   "metadata": {},
   "outputs": [],
   "source": [
    "run_outputs = model(run_input)"
   ]
  },
  {
   "cell_type": "code",
   "execution_count": 52,
   "metadata": {},
   "outputs": [],
   "source": [
    "import pandas as pd"
   ]
  },
  {
   "cell_type": "code",
   "execution_count": 53,
   "metadata": {},
   "outputs": [],
   "source": [
    "df_output = pd.DataFrame({\"underlier\" : run_underliers, \n",
    "              \"value0\" : [x.item() for x in run_outputs[:,0]]  , \n",
    "              \"value1\" : [x.item() for x in run_outputs[:,1]] } )"
   ]
  },
  {
   "cell_type": "code",
   "execution_count": 54,
   "metadata": {},
   "outputs": [
    {
     "data": {
      "text/html": [
       "\n",
       "    <div class=\"bk-root\">\n",
       "        <a href=\"https://bokeh.pydata.org\" target=\"_blank\" class=\"bk-logo bk-logo-small bk-logo-notebook\"></a>\n",
       "        <span id=\"d776cc15-a26a-49a4-8004-42d2ef0e6e64\">Loading BokehJS ...</span>\n",
       "    </div>"
      ]
     },
     "metadata": {},
     "output_type": "display_data"
    },
    {
     "data": {
      "application/javascript": [
       "\n",
       "(function(root) {\n",
       "  function now() {\n",
       "    return new Date();\n",
       "  }\n",
       "\n",
       "  var force = true;\n",
       "\n",
       "  if (typeof (root._bokeh_onload_callbacks) === \"undefined\" || force === true) {\n",
       "    root._bokeh_onload_callbacks = [];\n",
       "    root._bokeh_is_loading = undefined;\n",
       "  }\n",
       "\n",
       "  var JS_MIME_TYPE = 'application/javascript';\n",
       "  var HTML_MIME_TYPE = 'text/html';\n",
       "  var EXEC_MIME_TYPE = 'application/vnd.bokehjs_exec.v0+json';\n",
       "  var CLASS_NAME = 'output_bokeh rendered_html';\n",
       "\n",
       "  /**\n",
       "   * Render data to the DOM node\n",
       "   */\n",
       "  function render(props, node) {\n",
       "    var script = document.createElement(\"script\");\n",
       "    node.appendChild(script);\n",
       "  }\n",
       "\n",
       "  /**\n",
       "   * Handle when an output is cleared or removed\n",
       "   */\n",
       "  function handleClearOutput(event, handle) {\n",
       "    var cell = handle.cell;\n",
       "\n",
       "    var id = cell.output_area._bokeh_element_id;\n",
       "    var server_id = cell.output_area._bokeh_server_id;\n",
       "    // Clean up Bokeh references\n",
       "    if (id !== undefined) {\n",
       "      Bokeh.index[id].model.document.clear();\n",
       "      delete Bokeh.index[id];\n",
       "    }\n",
       "\n",
       "    if (server_id !== undefined) {\n",
       "      // Clean up Bokeh references\n",
       "      var cmd = \"from bokeh.io.state import curstate; print(curstate().uuid_to_server['\" + server_id + \"'].get_sessions()[0].document.roots[0]._id)\";\n",
       "      cell.notebook.kernel.execute(cmd, {\n",
       "        iopub: {\n",
       "          output: function(msg) {\n",
       "            var element_id = msg.content.text.trim();\n",
       "            Bokeh.index[element_id].model.document.clear();\n",
       "            delete Bokeh.index[element_id];\n",
       "          }\n",
       "        }\n",
       "      });\n",
       "      // Destroy server and session\n",
       "      var cmd = \"import bokeh.io.notebook as ion; ion.destroy_server('\" + server_id + \"')\";\n",
       "      cell.notebook.kernel.execute(cmd);\n",
       "    }\n",
       "  }\n",
       "\n",
       "  /**\n",
       "   * Handle when a new output is added\n",
       "   */\n",
       "  function handleAddOutput(event, handle) {\n",
       "    var output_area = handle.output_area;\n",
       "    var output = handle.output;\n",
       "\n",
       "    // limit handleAddOutput to display_data with EXEC_MIME_TYPE content only\n",
       "    if ((output.output_type != \"display_data\") || (!output.data.hasOwnProperty(EXEC_MIME_TYPE))) {\n",
       "      return\n",
       "    }\n",
       "\n",
       "    var toinsert = output_area.element.find(\".\" + CLASS_NAME.split(' ')[0]);\n",
       "\n",
       "    if (output.metadata[EXEC_MIME_TYPE][\"id\"] !== undefined) {\n",
       "      toinsert[0].firstChild.textContent = output.data[JS_MIME_TYPE];\n",
       "      // store reference to embed id on output_area\n",
       "      output_area._bokeh_element_id = output.metadata[EXEC_MIME_TYPE][\"id\"];\n",
       "    }\n",
       "    if (output.metadata[EXEC_MIME_TYPE][\"server_id\"] !== undefined) {\n",
       "      var bk_div = document.createElement(\"div\");\n",
       "      bk_div.innerHTML = output.data[HTML_MIME_TYPE];\n",
       "      var script_attrs = bk_div.children[0].attributes;\n",
       "      for (var i = 0; i < script_attrs.length; i++) {\n",
       "        toinsert[0].firstChild.setAttribute(script_attrs[i].name, script_attrs[i].value);\n",
       "      }\n",
       "      // store reference to server id on output_area\n",
       "      output_area._bokeh_server_id = output.metadata[EXEC_MIME_TYPE][\"server_id\"];\n",
       "    }\n",
       "  }\n",
       "\n",
       "  function register_renderer(events, OutputArea) {\n",
       "\n",
       "    function append_mime(data, metadata, element) {\n",
       "      // create a DOM node to render to\n",
       "      var toinsert = this.create_output_subarea(\n",
       "        metadata,\n",
       "        CLASS_NAME,\n",
       "        EXEC_MIME_TYPE\n",
       "      );\n",
       "      this.keyboard_manager.register_events(toinsert);\n",
       "      // Render to node\n",
       "      var props = {data: data, metadata: metadata[EXEC_MIME_TYPE]};\n",
       "      render(props, toinsert[0]);\n",
       "      element.append(toinsert);\n",
       "      return toinsert\n",
       "    }\n",
       "\n",
       "    /* Handle when an output is cleared or removed */\n",
       "    events.on('clear_output.CodeCell', handleClearOutput);\n",
       "    events.on('delete.Cell', handleClearOutput);\n",
       "\n",
       "    /* Handle when a new output is added */\n",
       "    events.on('output_added.OutputArea', handleAddOutput);\n",
       "\n",
       "    /**\n",
       "     * Register the mime type and append_mime function with output_area\n",
       "     */\n",
       "    OutputArea.prototype.register_mime_type(EXEC_MIME_TYPE, append_mime, {\n",
       "      /* Is output safe? */\n",
       "      safe: true,\n",
       "      /* Index of renderer in `output_area.display_order` */\n",
       "      index: 0\n",
       "    });\n",
       "  }\n",
       "\n",
       "  // register the mime type if in Jupyter Notebook environment and previously unregistered\n",
       "  if (root.Jupyter !== undefined) {\n",
       "    var events = require('base/js/events');\n",
       "    var OutputArea = require('notebook/js/outputarea').OutputArea;\n",
       "\n",
       "    if (OutputArea.prototype.mime_types().indexOf(EXEC_MIME_TYPE) == -1) {\n",
       "      register_renderer(events, OutputArea);\n",
       "    }\n",
       "  }\n",
       "\n",
       "  \n",
       "  if (typeof (root._bokeh_timeout) === \"undefined\" || force === true) {\n",
       "    root._bokeh_timeout = Date.now() + 5000;\n",
       "    root._bokeh_failed_load = false;\n",
       "  }\n",
       "\n",
       "  var NB_LOAD_WARNING = {'data': {'text/html':\n",
       "     \"<div style='background-color: #fdd'>\\n\"+\n",
       "     \"<p>\\n\"+\n",
       "     \"BokehJS does not appear to have successfully loaded. If loading BokehJS from CDN, this \\n\"+\n",
       "     \"may be due to a slow or bad network connection. Possible fixes:\\n\"+\n",
       "     \"</p>\\n\"+\n",
       "     \"<ul>\\n\"+\n",
       "     \"<li>re-rerun `output_notebook()` to attempt to load from CDN again, or</li>\\n\"+\n",
       "     \"<li>use INLINE resources instead, as so:</li>\\n\"+\n",
       "     \"</ul>\\n\"+\n",
       "     \"<code>\\n\"+\n",
       "     \"from bokeh.resources import INLINE\\n\"+\n",
       "     \"output_notebook(resources=INLINE)\\n\"+\n",
       "     \"</code>\\n\"+\n",
       "     \"</div>\"}};\n",
       "\n",
       "  function display_loaded() {\n",
       "    var el = document.getElementById(\"d776cc15-a26a-49a4-8004-42d2ef0e6e64\");\n",
       "    if (el != null) {\n",
       "      el.textContent = \"BokehJS is loading...\";\n",
       "    }\n",
       "    if (root.Bokeh !== undefined) {\n",
       "      if (el != null) {\n",
       "        el.textContent = \"BokehJS \" + root.Bokeh.version + \" successfully loaded.\";\n",
       "      }\n",
       "    } else if (Date.now() < root._bokeh_timeout) {\n",
       "      setTimeout(display_loaded, 100)\n",
       "    }\n",
       "  }\n",
       "\n",
       "\n",
       "  function run_callbacks() {\n",
       "    try {\n",
       "      root._bokeh_onload_callbacks.forEach(function(callback) { callback() });\n",
       "    }\n",
       "    finally {\n",
       "      delete root._bokeh_onload_callbacks\n",
       "    }\n",
       "    console.info(\"Bokeh: all callbacks have finished\");\n",
       "  }\n",
       "\n",
       "  function load_libs(js_urls, callback) {\n",
       "    root._bokeh_onload_callbacks.push(callback);\n",
       "    if (root._bokeh_is_loading > 0) {\n",
       "      console.log(\"Bokeh: BokehJS is being loaded, scheduling callback at\", now());\n",
       "      return null;\n",
       "    }\n",
       "    if (js_urls == null || js_urls.length === 0) {\n",
       "      run_callbacks();\n",
       "      return null;\n",
       "    }\n",
       "    console.log(\"Bokeh: BokehJS not loaded, scheduling load and callback at\", now());\n",
       "    root._bokeh_is_loading = js_urls.length;\n",
       "    for (var i = 0; i < js_urls.length; i++) {\n",
       "      var url = js_urls[i];\n",
       "      var s = document.createElement('script');\n",
       "      s.src = url;\n",
       "      s.async = false;\n",
       "      s.onreadystatechange = s.onload = function() {\n",
       "        root._bokeh_is_loading--;\n",
       "        if (root._bokeh_is_loading === 0) {\n",
       "          console.log(\"Bokeh: all BokehJS libraries loaded\");\n",
       "          run_callbacks()\n",
       "        }\n",
       "      };\n",
       "      s.onerror = function() {\n",
       "        console.warn(\"failed to load library \" + url);\n",
       "      };\n",
       "      console.log(\"Bokeh: injecting script tag for BokehJS library: \", url);\n",
       "      document.getElementsByTagName(\"head\")[0].appendChild(s);\n",
       "    }\n",
       "  };var element = document.getElementById(\"d776cc15-a26a-49a4-8004-42d2ef0e6e64\");\n",
       "  if (element == null) {\n",
       "    console.log(\"Bokeh: ERROR: autoload.js configured with elementid 'd776cc15-a26a-49a4-8004-42d2ef0e6e64' but no matching script tag was found. \")\n",
       "    return false;\n",
       "  }\n",
       "\n",
       "  var js_urls = [\"https://cdn.pydata.org/bokeh/release/bokeh-0.12.13.min.js\", \"https://cdn.pydata.org/bokeh/release/bokeh-widgets-0.12.13.min.js\", \"https://cdn.pydata.org/bokeh/release/bokeh-tables-0.12.13.min.js\", \"https://cdn.pydata.org/bokeh/release/bokeh-gl-0.12.13.min.js\"];\n",
       "\n",
       "  var inline_js = [\n",
       "    function(Bokeh) {\n",
       "      Bokeh.set_log_level(\"info\");\n",
       "    },\n",
       "    \n",
       "    function(Bokeh) {\n",
       "      \n",
       "    },\n",
       "    function(Bokeh) {\n",
       "      console.log(\"Bokeh: injecting CSS: https://cdn.pydata.org/bokeh/release/bokeh-0.12.13.min.css\");\n",
       "      Bokeh.embed.inject_css(\"https://cdn.pydata.org/bokeh/release/bokeh-0.12.13.min.css\");\n",
       "      console.log(\"Bokeh: injecting CSS: https://cdn.pydata.org/bokeh/release/bokeh-widgets-0.12.13.min.css\");\n",
       "      Bokeh.embed.inject_css(\"https://cdn.pydata.org/bokeh/release/bokeh-widgets-0.12.13.min.css\");\n",
       "      console.log(\"Bokeh: injecting CSS: https://cdn.pydata.org/bokeh/release/bokeh-tables-0.12.13.min.css\");\n",
       "      Bokeh.embed.inject_css(\"https://cdn.pydata.org/bokeh/release/bokeh-tables-0.12.13.min.css\");\n",
       "    }\n",
       "  ];\n",
       "\n",
       "  function run_inline_js() {\n",
       "    \n",
       "    if ((root.Bokeh !== undefined) || (force === true)) {\n",
       "      for (var i = 0; i < inline_js.length; i++) {\n",
       "        inline_js[i].call(root, root.Bokeh);\n",
       "      }if (force === true) {\n",
       "        display_loaded();\n",
       "      }} else if (Date.now() < root._bokeh_timeout) {\n",
       "      setTimeout(run_inline_js, 100);\n",
       "    } else if (!root._bokeh_failed_load) {\n",
       "      console.log(\"Bokeh: BokehJS failed to load within specified timeout.\");\n",
       "      root._bokeh_failed_load = true;\n",
       "    } else if (force !== true) {\n",
       "      var cell = $(document.getElementById(\"d776cc15-a26a-49a4-8004-42d2ef0e6e64\")).parents('.cell').data().cell;\n",
       "      cell.output_area.append_execute_result(NB_LOAD_WARNING)\n",
       "    }\n",
       "\n",
       "  }\n",
       "\n",
       "  if (root._bokeh_is_loading === 0) {\n",
       "    console.log(\"Bokeh: BokehJS loaded, going straight to plotting\");\n",
       "    run_inline_js();\n",
       "  } else {\n",
       "    load_libs(js_urls, function() {\n",
       "      console.log(\"Bokeh: BokehJS plotting callback run at\", now());\n",
       "      run_inline_js();\n",
       "    });\n",
       "  }\n",
       "}(window));"
      ],
      "application/vnd.bokehjs_load.v0+json": "\n(function(root) {\n  function now() {\n    return new Date();\n  }\n\n  var force = true;\n\n  if (typeof (root._bokeh_onload_callbacks) === \"undefined\" || force === true) {\n    root._bokeh_onload_callbacks = [];\n    root._bokeh_is_loading = undefined;\n  }\n\n  \n\n  \n  if (typeof (root._bokeh_timeout) === \"undefined\" || force === true) {\n    root._bokeh_timeout = Date.now() + 5000;\n    root._bokeh_failed_load = false;\n  }\n\n  var NB_LOAD_WARNING = {'data': {'text/html':\n     \"<div style='background-color: #fdd'>\\n\"+\n     \"<p>\\n\"+\n     \"BokehJS does not appear to have successfully loaded. If loading BokehJS from CDN, this \\n\"+\n     \"may be due to a slow or bad network connection. Possible fixes:\\n\"+\n     \"</p>\\n\"+\n     \"<ul>\\n\"+\n     \"<li>re-rerun `output_notebook()` to attempt to load from CDN again, or</li>\\n\"+\n     \"<li>use INLINE resources instead, as so:</li>\\n\"+\n     \"</ul>\\n\"+\n     \"<code>\\n\"+\n     \"from bokeh.resources import INLINE\\n\"+\n     \"output_notebook(resources=INLINE)\\n\"+\n     \"</code>\\n\"+\n     \"</div>\"}};\n\n  function display_loaded() {\n    var el = document.getElementById(\"d776cc15-a26a-49a4-8004-42d2ef0e6e64\");\n    if (el != null) {\n      el.textContent = \"BokehJS is loading...\";\n    }\n    if (root.Bokeh !== undefined) {\n      if (el != null) {\n        el.textContent = \"BokehJS \" + root.Bokeh.version + \" successfully loaded.\";\n      }\n    } else if (Date.now() < root._bokeh_timeout) {\n      setTimeout(display_loaded, 100)\n    }\n  }\n\n\n  function run_callbacks() {\n    try {\n      root._bokeh_onload_callbacks.forEach(function(callback) { callback() });\n    }\n    finally {\n      delete root._bokeh_onload_callbacks\n    }\n    console.info(\"Bokeh: all callbacks have finished\");\n  }\n\n  function load_libs(js_urls, callback) {\n    root._bokeh_onload_callbacks.push(callback);\n    if (root._bokeh_is_loading > 0) {\n      console.log(\"Bokeh: BokehJS is being loaded, scheduling callback at\", now());\n      return null;\n    }\n    if (js_urls == null || js_urls.length === 0) {\n      run_callbacks();\n      return null;\n    }\n    console.log(\"Bokeh: BokehJS not loaded, scheduling load and callback at\", now());\n    root._bokeh_is_loading = js_urls.length;\n    for (var i = 0; i < js_urls.length; i++) {\n      var url = js_urls[i];\n      var s = document.createElement('script');\n      s.src = url;\n      s.async = false;\n      s.onreadystatechange = s.onload = function() {\n        root._bokeh_is_loading--;\n        if (root._bokeh_is_loading === 0) {\n          console.log(\"Bokeh: all BokehJS libraries loaded\");\n          run_callbacks()\n        }\n      };\n      s.onerror = function() {\n        console.warn(\"failed to load library \" + url);\n      };\n      console.log(\"Bokeh: injecting script tag for BokehJS library: \", url);\n      document.getElementsByTagName(\"head\")[0].appendChild(s);\n    }\n  };var element = document.getElementById(\"d776cc15-a26a-49a4-8004-42d2ef0e6e64\");\n  if (element == null) {\n    console.log(\"Bokeh: ERROR: autoload.js configured with elementid 'd776cc15-a26a-49a4-8004-42d2ef0e6e64' but no matching script tag was found. \")\n    return false;\n  }\n\n  var js_urls = [\"https://cdn.pydata.org/bokeh/release/bokeh-0.12.13.min.js\", \"https://cdn.pydata.org/bokeh/release/bokeh-widgets-0.12.13.min.js\", \"https://cdn.pydata.org/bokeh/release/bokeh-tables-0.12.13.min.js\", \"https://cdn.pydata.org/bokeh/release/bokeh-gl-0.12.13.min.js\"];\n\n  var inline_js = [\n    function(Bokeh) {\n      Bokeh.set_log_level(\"info\");\n    },\n    \n    function(Bokeh) {\n      \n    },\n    function(Bokeh) {\n      console.log(\"Bokeh: injecting CSS: https://cdn.pydata.org/bokeh/release/bokeh-0.12.13.min.css\");\n      Bokeh.embed.inject_css(\"https://cdn.pydata.org/bokeh/release/bokeh-0.12.13.min.css\");\n      console.log(\"Bokeh: injecting CSS: https://cdn.pydata.org/bokeh/release/bokeh-widgets-0.12.13.min.css\");\n      Bokeh.embed.inject_css(\"https://cdn.pydata.org/bokeh/release/bokeh-widgets-0.12.13.min.css\");\n      console.log(\"Bokeh: injecting CSS: https://cdn.pydata.org/bokeh/release/bokeh-tables-0.12.13.min.css\");\n      Bokeh.embed.inject_css(\"https://cdn.pydata.org/bokeh/release/bokeh-tables-0.12.13.min.css\");\n    }\n  ];\n\n  function run_inline_js() {\n    \n    if ((root.Bokeh !== undefined) || (force === true)) {\n      for (var i = 0; i < inline_js.length; i++) {\n        inline_js[i].call(root, root.Bokeh);\n      }if (force === true) {\n        display_loaded();\n      }} else if (Date.now() < root._bokeh_timeout) {\n      setTimeout(run_inline_js, 100);\n    } else if (!root._bokeh_failed_load) {\n      console.log(\"Bokeh: BokehJS failed to load within specified timeout.\");\n      root._bokeh_failed_load = true;\n    } else if (force !== true) {\n      var cell = $(document.getElementById(\"d776cc15-a26a-49a4-8004-42d2ef0e6e64\")).parents('.cell').data().cell;\n      cell.output_area.append_execute_result(NB_LOAD_WARNING)\n    }\n\n  }\n\n  if (root._bokeh_is_loading === 0) {\n    console.log(\"Bokeh: BokehJS loaded, going straight to plotting\");\n    run_inline_js();\n  } else {\n    load_libs(js_urls, function() {\n      console.log(\"Bokeh: BokehJS plotting callback run at\", now());\n      run_inline_js();\n    });\n  }\n}(window));"
     },
     "metadata": {},
     "output_type": "display_data"
    }
   ],
   "source": [
    "import bokeh.plotting as bp\n",
    "from bokeh import palettes \n",
    "bp.output_notebook()\n",
    "from bokeh.models import ColumnDataSource"
   ]
  },
  {
   "cell_type": "code",
   "execution_count": 55,
   "metadata": {},
   "outputs": [],
   "source": [
    "p = bp.figure()"
   ]
  },
  {
   "cell_type": "markdown",
   "metadata": {},
   "source": [
    "value0は継続価値"
   ]
  },
  {
   "cell_type": "code",
   "execution_count": 56,
   "metadata": {},
   "outputs": [
    {
     "data": {
      "text/html": [
       "<div style=\"display: table;\"><div style=\"display: table-row;\"><div style=\"display: table-cell;\"><b title=\"bokeh.models.renderers.GlyphRenderer\">GlyphRenderer</b>(</div><div style=\"display: table-cell;\">id&nbsp;=&nbsp;'5f4e1ebe-6dbc-4799-8c3c-dfa8fc7b30b7', <span id=\"f73c491e-5fc2-44c1-b018-5b467b3bcba1\" style=\"cursor: pointer;\">&hellip;)</span></div></div><div class=\"fb26ab3e-f109-40b3-9b70-7497c4de8b5b\" style=\"display: none;\"><div style=\"display: table-cell;\"></div><div style=\"display: table-cell;\">data_source&nbsp;=&nbsp;ColumnDataSource(id='433669db-81b1-4773-a9f4-80abfd4816be', ...),</div></div><div class=\"fb26ab3e-f109-40b3-9b70-7497c4de8b5b\" style=\"display: none;\"><div style=\"display: table-cell;\"></div><div style=\"display: table-cell;\">glyph&nbsp;=&nbsp;Circle(id='08e5ce57-943c-4964-b0f0-8e9b7eeaf033', ...),</div></div><div class=\"fb26ab3e-f109-40b3-9b70-7497c4de8b5b\" style=\"display: none;\"><div style=\"display: table-cell;\"></div><div style=\"display: table-cell;\">hover_glyph&nbsp;=&nbsp;None,</div></div><div class=\"fb26ab3e-f109-40b3-9b70-7497c4de8b5b\" style=\"display: none;\"><div style=\"display: table-cell;\"></div><div style=\"display: table-cell;\">js_event_callbacks&nbsp;=&nbsp;{},</div></div><div class=\"fb26ab3e-f109-40b3-9b70-7497c4de8b5b\" style=\"display: none;\"><div style=\"display: table-cell;\"></div><div style=\"display: table-cell;\">js_property_callbacks&nbsp;=&nbsp;{},</div></div><div class=\"fb26ab3e-f109-40b3-9b70-7497c4de8b5b\" style=\"display: none;\"><div style=\"display: table-cell;\"></div><div style=\"display: table-cell;\">level&nbsp;=&nbsp;'glyph',</div></div><div class=\"fb26ab3e-f109-40b3-9b70-7497c4de8b5b\" style=\"display: none;\"><div style=\"display: table-cell;\"></div><div style=\"display: table-cell;\">muted&nbsp;=&nbsp;False,</div></div><div class=\"fb26ab3e-f109-40b3-9b70-7497c4de8b5b\" style=\"display: none;\"><div style=\"display: table-cell;\"></div><div style=\"display: table-cell;\">muted_glyph&nbsp;=&nbsp;None,</div></div><div class=\"fb26ab3e-f109-40b3-9b70-7497c4de8b5b\" style=\"display: none;\"><div style=\"display: table-cell;\"></div><div style=\"display: table-cell;\">name&nbsp;=&nbsp;None,</div></div><div class=\"fb26ab3e-f109-40b3-9b70-7497c4de8b5b\" style=\"display: none;\"><div style=\"display: table-cell;\"></div><div style=\"display: table-cell;\">nonselection_glyph&nbsp;=&nbsp;Circle(id='92080ab7-6892-4f54-8615-9d47ead4ae53', ...),</div></div><div class=\"fb26ab3e-f109-40b3-9b70-7497c4de8b5b\" style=\"display: none;\"><div style=\"display: table-cell;\"></div><div style=\"display: table-cell;\">selection_glyph&nbsp;=&nbsp;None,</div></div><div class=\"fb26ab3e-f109-40b3-9b70-7497c4de8b5b\" style=\"display: none;\"><div style=\"display: table-cell;\"></div><div style=\"display: table-cell;\">subscribed_events&nbsp;=&nbsp;[],</div></div><div class=\"fb26ab3e-f109-40b3-9b70-7497c4de8b5b\" style=\"display: none;\"><div style=\"display: table-cell;\"></div><div style=\"display: table-cell;\">tags&nbsp;=&nbsp;[],</div></div><div class=\"fb26ab3e-f109-40b3-9b70-7497c4de8b5b\" style=\"display: none;\"><div style=\"display: table-cell;\"></div><div style=\"display: table-cell;\">view&nbsp;=&nbsp;CDSView(id='d31c1fab-22d9-4011-a4f4-d0282fa09838', ...),</div></div><div class=\"fb26ab3e-f109-40b3-9b70-7497c4de8b5b\" style=\"display: none;\"><div style=\"display: table-cell;\"></div><div style=\"display: table-cell;\">visible&nbsp;=&nbsp;True,</div></div><div class=\"fb26ab3e-f109-40b3-9b70-7497c4de8b5b\" style=\"display: none;\"><div style=\"display: table-cell;\"></div><div style=\"display: table-cell;\">x_range_name&nbsp;=&nbsp;'default',</div></div><div class=\"fb26ab3e-f109-40b3-9b70-7497c4de8b5b\" style=\"display: none;\"><div style=\"display: table-cell;\"></div><div style=\"display: table-cell;\">y_range_name&nbsp;=&nbsp;'default')</div></div></div>\n",
       "<script>\n",
       "(function() {\n",
       "  var expanded = false;\n",
       "  var ellipsis = document.getElementById(\"f73c491e-5fc2-44c1-b018-5b467b3bcba1\");\n",
       "  ellipsis.addEventListener(\"click\", function() {\n",
       "    var rows = document.getElementsByClassName(\"fb26ab3e-f109-40b3-9b70-7497c4de8b5b\");\n",
       "    for (var i = 0; i < rows.length; i++) {\n",
       "      var el = rows[i];\n",
       "      el.style.display = expanded ? \"none\" : \"table-row\";\n",
       "    }\n",
       "    ellipsis.innerHTML = expanded ? \"&hellip;)\" : \"&lsaquo;&lsaquo;&lsaquo;\";\n",
       "    expanded = !expanded;\n",
       "  });\n",
       "})();\n",
       "</script>\n"
      ],
      "text/plain": [
       "GlyphRenderer(id='5f4e1ebe-6dbc-4799-8c3c-dfa8fc7b30b7', ...)"
      ]
     },
     "execution_count": 56,
     "metadata": {},
     "output_type": "execute_result"
    }
   ],
   "source": [
    "p.scatter(x = \"underlier\", y = \"value0\" ,source = df_output , color = \"red\")"
   ]
  },
  {
   "cell_type": "markdown",
   "metadata": {},
   "source": [
    "value1は行使価値"
   ]
  },
  {
   "cell_type": "code",
   "execution_count": 57,
   "metadata": {},
   "outputs": [
    {
     "data": {
      "text/html": [
       "<div style=\"display: table;\"><div style=\"display: table-row;\"><div style=\"display: table-cell;\"><b title=\"bokeh.models.renderers.GlyphRenderer\">GlyphRenderer</b>(</div><div style=\"display: table-cell;\">id&nbsp;=&nbsp;'94a1a2f4-2f67-4a7b-be61-f6c6ad63baf7', <span id=\"e2c4275e-40f1-4f81-b059-b0181262b569\" style=\"cursor: pointer;\">&hellip;)</span></div></div><div class=\"3b07c42b-c762-4cf2-ae60-db9dd4732149\" style=\"display: none;\"><div style=\"display: table-cell;\"></div><div style=\"display: table-cell;\">data_source&nbsp;=&nbsp;ColumnDataSource(id='b8d5ff81-ce47-45d8-99bb-f9782c578978', ...),</div></div><div class=\"3b07c42b-c762-4cf2-ae60-db9dd4732149\" style=\"display: none;\"><div style=\"display: table-cell;\"></div><div style=\"display: table-cell;\">glyph&nbsp;=&nbsp;Circle(id='3e3ddbea-3da5-465e-87fc-d9923b5dbe42', ...),</div></div><div class=\"3b07c42b-c762-4cf2-ae60-db9dd4732149\" style=\"display: none;\"><div style=\"display: table-cell;\"></div><div style=\"display: table-cell;\">hover_glyph&nbsp;=&nbsp;None,</div></div><div class=\"3b07c42b-c762-4cf2-ae60-db9dd4732149\" style=\"display: none;\"><div style=\"display: table-cell;\"></div><div style=\"display: table-cell;\">js_event_callbacks&nbsp;=&nbsp;{},</div></div><div class=\"3b07c42b-c762-4cf2-ae60-db9dd4732149\" style=\"display: none;\"><div style=\"display: table-cell;\"></div><div style=\"display: table-cell;\">js_property_callbacks&nbsp;=&nbsp;{},</div></div><div class=\"3b07c42b-c762-4cf2-ae60-db9dd4732149\" style=\"display: none;\"><div style=\"display: table-cell;\"></div><div style=\"display: table-cell;\">level&nbsp;=&nbsp;'glyph',</div></div><div class=\"3b07c42b-c762-4cf2-ae60-db9dd4732149\" style=\"display: none;\"><div style=\"display: table-cell;\"></div><div style=\"display: table-cell;\">muted&nbsp;=&nbsp;False,</div></div><div class=\"3b07c42b-c762-4cf2-ae60-db9dd4732149\" style=\"display: none;\"><div style=\"display: table-cell;\"></div><div style=\"display: table-cell;\">muted_glyph&nbsp;=&nbsp;None,</div></div><div class=\"3b07c42b-c762-4cf2-ae60-db9dd4732149\" style=\"display: none;\"><div style=\"display: table-cell;\"></div><div style=\"display: table-cell;\">name&nbsp;=&nbsp;None,</div></div><div class=\"3b07c42b-c762-4cf2-ae60-db9dd4732149\" style=\"display: none;\"><div style=\"display: table-cell;\"></div><div style=\"display: table-cell;\">nonselection_glyph&nbsp;=&nbsp;Circle(id='4df4e3c1-abf7-4b32-9441-746fc2fd713e', ...),</div></div><div class=\"3b07c42b-c762-4cf2-ae60-db9dd4732149\" style=\"display: none;\"><div style=\"display: table-cell;\"></div><div style=\"display: table-cell;\">selection_glyph&nbsp;=&nbsp;None,</div></div><div class=\"3b07c42b-c762-4cf2-ae60-db9dd4732149\" style=\"display: none;\"><div style=\"display: table-cell;\"></div><div style=\"display: table-cell;\">subscribed_events&nbsp;=&nbsp;[],</div></div><div class=\"3b07c42b-c762-4cf2-ae60-db9dd4732149\" style=\"display: none;\"><div style=\"display: table-cell;\"></div><div style=\"display: table-cell;\">tags&nbsp;=&nbsp;[],</div></div><div class=\"3b07c42b-c762-4cf2-ae60-db9dd4732149\" style=\"display: none;\"><div style=\"display: table-cell;\"></div><div style=\"display: table-cell;\">view&nbsp;=&nbsp;CDSView(id='b0a5c848-7253-4899-986f-43d1b23b3e58', ...),</div></div><div class=\"3b07c42b-c762-4cf2-ae60-db9dd4732149\" style=\"display: none;\"><div style=\"display: table-cell;\"></div><div style=\"display: table-cell;\">visible&nbsp;=&nbsp;True,</div></div><div class=\"3b07c42b-c762-4cf2-ae60-db9dd4732149\" style=\"display: none;\"><div style=\"display: table-cell;\"></div><div style=\"display: table-cell;\">x_range_name&nbsp;=&nbsp;'default',</div></div><div class=\"3b07c42b-c762-4cf2-ae60-db9dd4732149\" style=\"display: none;\"><div style=\"display: table-cell;\"></div><div style=\"display: table-cell;\">y_range_name&nbsp;=&nbsp;'default')</div></div></div>\n",
       "<script>\n",
       "(function() {\n",
       "  var expanded = false;\n",
       "  var ellipsis = document.getElementById(\"e2c4275e-40f1-4f81-b059-b0181262b569\");\n",
       "  ellipsis.addEventListener(\"click\", function() {\n",
       "    var rows = document.getElementsByClassName(\"3b07c42b-c762-4cf2-ae60-db9dd4732149\");\n",
       "    for (var i = 0; i < rows.length; i++) {\n",
       "      var el = rows[i];\n",
       "      el.style.display = expanded ? \"none\" : \"table-row\";\n",
       "    }\n",
       "    ellipsis.innerHTML = expanded ? \"&hellip;)\" : \"&lsaquo;&lsaquo;&lsaquo;\";\n",
       "    expanded = !expanded;\n",
       "  });\n",
       "})();\n",
       "</script>\n"
      ],
      "text/plain": [
       "GlyphRenderer(id='94a1a2f4-2f67-4a7b-be61-f6c6ad63baf7', ...)"
      ]
     },
     "execution_count": 57,
     "metadata": {},
     "output_type": "execute_result"
    }
   ],
   "source": [
    "p.scatter(x = \"underlier\", y = \"value1\" ,source = df_output)"
   ]
  },
  {
   "cell_type": "markdown",
   "metadata": {},
   "source": [
    "赤が継続価値"
   ]
  },
  {
   "cell_type": "code",
   "execution_count": 58,
   "metadata": {},
   "outputs": [
    {
     "data": {
      "text/html": [
       "\n",
       "<div class=\"bk-root\">\n",
       "    <div class=\"bk-plotdiv\" id=\"ea596923-0f52-4031-8fde-dd0981e32447\"></div>\n",
       "</div>"
      ]
     },
     "metadata": {},
     "output_type": "display_data"
    },
    {
     "data": {
      "application/javascript": [
       "(function(root) {\n",
       "  function embed_document(root) {\n",
       "    \n",
       "  var docs_json = {\"ffff6469-e6cc-445e-9223-9e672bf9ff16\":{\"roots\":{\"references\":[{\"attributes\":{\"data_source\":{\"id\":\"433669db-81b1-4773-a9f4-80abfd4816be\",\"type\":\"ColumnDataSource\"},\"glyph\":{\"id\":\"08e5ce57-943c-4964-b0f0-8e9b7eeaf033\",\"type\":\"Circle\"},\"hover_glyph\":null,\"muted_glyph\":null,\"nonselection_glyph\":{\"id\":\"92080ab7-6892-4f54-8615-9d47ead4ae53\",\"type\":\"Circle\"},\"selection_glyph\":null,\"view\":{\"id\":\"d31c1fab-22d9-4011-a4f4-d0282fa09838\",\"type\":\"CDSView\"}},\"id\":\"5f4e1ebe-6dbc-4799-8c3c-dfa8fc7b30b7\",\"type\":\"GlyphRenderer\"},{\"attributes\":{},\"id\":\"45026abb-5511-44d2-9422-2239e38af754\",\"type\":\"WheelZoomTool\"},{\"attributes\":{\"plot\":null,\"text\":\"\"},\"id\":\"25b2681a-4503-4c52-9e41-ca3adefa47df\",\"type\":\"Title\"},{\"attributes\":{},\"id\":\"d0e1c116-72c6-4828-8907-513c0d3f75be\",\"type\":\"LinearScale\"},{\"attributes\":{\"active_drag\":\"auto\",\"active_inspect\":\"auto\",\"active_scroll\":\"auto\",\"active_tap\":\"auto\",\"tools\":[{\"id\":\"ae441194-bd70-43fc-bbf7-d56b626b5cbd\",\"type\":\"PanTool\"},{\"id\":\"45026abb-5511-44d2-9422-2239e38af754\",\"type\":\"WheelZoomTool\"},{\"id\":\"80e3343b-4212-48cb-970d-1fa3c3c156fd\",\"type\":\"BoxZoomTool\"},{\"id\":\"f540ea82-ffa4-480e-850c-0bf747eab1f7\",\"type\":\"SaveTool\"},{\"id\":\"3101b369-1008-462f-a741-2c7956863bfe\",\"type\":\"ResetTool\"},{\"id\":\"fbc00635-3097-4dd4-b95a-4751fddd5f88\",\"type\":\"HelpTool\"}]},\"id\":\"37d597f3-b29a-45e0-9837-ccb0aa7f764e\",\"type\":\"Toolbar\"},{\"attributes\":{},\"id\":\"8cd6a9d6-1977-41b4-bbb7-ac85593ecb9e\",\"type\":\"BasicTickFormatter\"},{\"attributes\":{\"fill_alpha\":{\"value\":0.1},\"fill_color\":{\"value\":\"#1f77b4\"},\"line_alpha\":{\"value\":0.1},\"line_color\":{\"value\":\"#1f77b4\"},\"x\":{\"field\":\"underlier\"},\"y\":{\"field\":\"value0\"}},\"id\":\"92080ab7-6892-4f54-8615-9d47ead4ae53\",\"type\":\"Circle\"},{\"attributes\":{\"source\":{\"id\":\"b8d5ff81-ce47-45d8-99bb-f9782c578978\",\"type\":\"ColumnDataSource\"}},\"id\":\"b0a5c848-7253-4899-986f-43d1b23b3e58\",\"type\":\"CDSView\"},{\"attributes\":{\"fill_color\":{\"value\":\"#1f77b4\"},\"line_color\":{\"value\":\"#1f77b4\"},\"x\":{\"field\":\"underlier\"},\"y\":{\"field\":\"value1\"}},\"id\":\"3e3ddbea-3da5-465e-87fc-d9923b5dbe42\",\"type\":\"Circle\"},{\"attributes\":{\"formatter\":{\"id\":\"8cd6a9d6-1977-41b4-bbb7-ac85593ecb9e\",\"type\":\"BasicTickFormatter\"},\"plot\":{\"id\":\"afed3c46-6b89-48b5-bebc-fe90cf8cd94a\",\"subtype\":\"Figure\",\"type\":\"Plot\"},\"ticker\":{\"id\":\"889b17c9-045e-4c5c-8d45-c139e5b8f9c4\",\"type\":\"BasicTicker\"}},\"id\":\"f6415da8-f1a0-4ab3-8f8a-09601e00083d\",\"type\":\"LinearAxis\"},{\"attributes\":{\"callback\":null},\"id\":\"921792b5-6850-42ba-bfd9-a1f2b4f4b974\",\"type\":\"DataRange1d\"},{\"attributes\":{},\"id\":\"a9cea3b6-b17d-4b2e-99f1-c85a9a208063\",\"type\":\"LinearScale\"},{\"attributes\":{\"below\":[{\"id\":\"d3c5a093-052d-4ddf-afa2-05ff082a13b3\",\"type\":\"LinearAxis\"}],\"left\":[{\"id\":\"f6415da8-f1a0-4ab3-8f8a-09601e00083d\",\"type\":\"LinearAxis\"}],\"renderers\":[{\"id\":\"d3c5a093-052d-4ddf-afa2-05ff082a13b3\",\"type\":\"LinearAxis\"},{\"id\":\"7a5c2ae2-877c-47ae-bc78-1f045d1029ea\",\"type\":\"Grid\"},{\"id\":\"f6415da8-f1a0-4ab3-8f8a-09601e00083d\",\"type\":\"LinearAxis\"},{\"id\":\"77d4fae7-25f8-4bd5-b475-e8d23aee2107\",\"type\":\"Grid\"},{\"id\":\"0142d95f-6999-48a3-aae3-1f8f8e021b43\",\"type\":\"BoxAnnotation\"},{\"id\":\"5f4e1ebe-6dbc-4799-8c3c-dfa8fc7b30b7\",\"type\":\"GlyphRenderer\"},{\"id\":\"94a1a2f4-2f67-4a7b-be61-f6c6ad63baf7\",\"type\":\"GlyphRenderer\"}],\"title\":{\"id\":\"25b2681a-4503-4c52-9e41-ca3adefa47df\",\"type\":\"Title\"},\"toolbar\":{\"id\":\"37d597f3-b29a-45e0-9837-ccb0aa7f764e\",\"type\":\"Toolbar\"},\"x_range\":{\"id\":\"47d80315-1458-4484-a598-62abc778ebd3\",\"type\":\"DataRange1d\"},\"x_scale\":{\"id\":\"a9cea3b6-b17d-4b2e-99f1-c85a9a208063\",\"type\":\"LinearScale\"},\"y_range\":{\"id\":\"921792b5-6850-42ba-bfd9-a1f2b4f4b974\",\"type\":\"DataRange1d\"},\"y_scale\":{\"id\":\"d0e1c116-72c6-4828-8907-513c0d3f75be\",\"type\":\"LinearScale\"}},\"id\":\"afed3c46-6b89-48b5-bebc-fe90cf8cd94a\",\"subtype\":\"Figure\",\"type\":\"Plot\"},{\"attributes\":{\"bottom_units\":\"screen\",\"fill_alpha\":{\"value\":0.5},\"fill_color\":{\"value\":\"lightgrey\"},\"left_units\":\"screen\",\"level\":\"overlay\",\"line_alpha\":{\"value\":1.0},\"line_color\":{\"value\":\"black\"},\"line_dash\":[4,4],\"line_width\":{\"value\":2},\"plot\":null,\"render_mode\":\"css\",\"right_units\":\"screen\",\"top_units\":\"screen\"},\"id\":\"0142d95f-6999-48a3-aae3-1f8f8e021b43\",\"type\":\"BoxAnnotation\"},{\"attributes\":{},\"id\":\"3101b369-1008-462f-a741-2c7956863bfe\",\"type\":\"ResetTool\"},{\"attributes\":{\"dimension\":1,\"plot\":{\"id\":\"afed3c46-6b89-48b5-bebc-fe90cf8cd94a\",\"subtype\":\"Figure\",\"type\":\"Plot\"},\"ticker\":{\"id\":\"889b17c9-045e-4c5c-8d45-c139e5b8f9c4\",\"type\":\"BasicTicker\"}},\"id\":\"77d4fae7-25f8-4bd5-b475-e8d23aee2107\",\"type\":\"Grid\"},{\"attributes\":{\"fill_color\":{\"value\":\"red\"},\"line_color\":{\"value\":\"red\"},\"x\":{\"field\":\"underlier\"},\"y\":{\"field\":\"value0\"}},\"id\":\"08e5ce57-943c-4964-b0f0-8e9b7eeaf033\",\"type\":\"Circle\"},{\"attributes\":{\"callback\":null,\"column_names\":[\"index\",\"value0\",\"underlier\",\"value1\"],\"data\":{\"index\":[0,1,2,3,4,5,6,7,8,9,10,11,12,13,14,15,16,17,18],\"underlier\":{\"__ndarray__\":\"AAAAAAAAJEAAAAAAAAA0QAAAAAAAAD5AAAAAAAAAREAAAAAAAABJQAAAAAAAAE5AAAAAAACAUUAAAAAAAABUQAAAAAAAgFZAAAAAAAAAWUAAAAAAAIBbQAAAAAAAAF5AAAAAAABAYEAAAAAAAIBhQAAAAAAAwGJAAAAAAAAAZEAAAAAAAEBlQAAAAAAAgGZAAAAAAADAZ0A=\",\"dtype\":\"float64\",\"shape\":[19]},\"value0\":{\"__ndarray__\":\"AAAAQD92yj8AAAAAa8DAPwAAAADmubo/AAAAABDOsz8AAAAAmMSpPwAAACAQ2pc/AAAAAH/rbb8AAADgj4qdvwAAAAAwqKS/AAAAQECggj8AAAAAYqvMPwAAAIAoAOg/AAAAwKz++z8AAACgNFscQAAAAKAUGy5AAAAAwEBOOUAAAADARfpBQAAAAABrTUdAAAAAYD2WTEA=\",\"dtype\":\"float64\",\"shape\":[19]},\"value1\":{\"__ndarray__\":\"AAAA4EMu+L8AAACAZVkDwAAAAEDnXQrAAAAAgBayEMAAAACAOTUUwAAAAMBZuBfAAAAAoN46G8AAAACAYbEewAAAAODA4yDAAAAAoImcIcAAAAAAXRogwAAAAMDczBTAAAAAYGWg5z8AAACgPO0iQAAAACD32zNAAAAAYLf+PUAAAABAXQZEQAAAAABfDUlAAAAA4G8STkA=\",\"dtype\":\"float64\",\"shape\":[19]}}},\"id\":\"b8d5ff81-ce47-45d8-99bb-f9782c578978\",\"type\":\"ColumnDataSource\"},{\"attributes\":{\"plot\":{\"id\":\"afed3c46-6b89-48b5-bebc-fe90cf8cd94a\",\"subtype\":\"Figure\",\"type\":\"Plot\"},\"ticker\":{\"id\":\"b8cd425c-8aa2-4a4a-a644-0bf4b5a65fd5\",\"type\":\"BasicTicker\"}},\"id\":\"7a5c2ae2-877c-47ae-bc78-1f045d1029ea\",\"type\":\"Grid\"},{\"attributes\":{\"callback\":null,\"column_names\":[\"index\",\"value0\",\"underlier\",\"value1\"],\"data\":{\"index\":[0,1,2,3,4,5,6,7,8,9,10,11,12,13,14,15,16,17,18],\"underlier\":{\"__ndarray__\":\"AAAAAAAAJEAAAAAAAAA0QAAAAAAAAD5AAAAAAAAAREAAAAAAAABJQAAAAAAAAE5AAAAAAACAUUAAAAAAAABUQAAAAAAAgFZAAAAAAAAAWUAAAAAAAIBbQAAAAAAAAF5AAAAAAABAYEAAAAAAAIBhQAAAAAAAwGJAAAAAAAAAZEAAAAAAAEBlQAAAAAAAgGZAAAAAAADAZ0A=\",\"dtype\":\"float64\",\"shape\":[19]},\"value0\":{\"__ndarray__\":\"AAAAQD92yj8AAAAAa8DAPwAAAADmubo/AAAAABDOsz8AAAAAmMSpPwAAACAQ2pc/AAAAAH/rbb8AAADgj4qdvwAAAAAwqKS/AAAAQECggj8AAAAAYqvMPwAAAIAoAOg/AAAAwKz++z8AAACgNFscQAAAAKAUGy5AAAAAwEBOOUAAAADARfpBQAAAAABrTUdAAAAAYD2WTEA=\",\"dtype\":\"float64\",\"shape\":[19]},\"value1\":{\"__ndarray__\":\"AAAA4EMu+L8AAACAZVkDwAAAAEDnXQrAAAAAgBayEMAAAACAOTUUwAAAAMBZuBfAAAAAoN46G8AAAACAYbEewAAAAODA4yDAAAAAoImcIcAAAAAAXRogwAAAAMDczBTAAAAAYGWg5z8AAACgPO0iQAAAACD32zNAAAAAYLf+PUAAAABAXQZEQAAAAABfDUlAAAAA4G8STkA=\",\"dtype\":\"float64\",\"shape\":[19]}}},\"id\":\"433669db-81b1-4773-a9f4-80abfd4816be\",\"type\":\"ColumnDataSource\"},{\"attributes\":{\"source\":{\"id\":\"433669db-81b1-4773-a9f4-80abfd4816be\",\"type\":\"ColumnDataSource\"}},\"id\":\"d31c1fab-22d9-4011-a4f4-d0282fa09838\",\"type\":\"CDSView\"},{\"attributes\":{},\"id\":\"889b17c9-045e-4c5c-8d45-c139e5b8f9c4\",\"type\":\"BasicTicker\"},{\"attributes\":{\"data_source\":{\"id\":\"b8d5ff81-ce47-45d8-99bb-f9782c578978\",\"type\":\"ColumnDataSource\"},\"glyph\":{\"id\":\"3e3ddbea-3da5-465e-87fc-d9923b5dbe42\",\"type\":\"Circle\"},\"hover_glyph\":null,\"muted_glyph\":null,\"nonselection_glyph\":{\"id\":\"4df4e3c1-abf7-4b32-9441-746fc2fd713e\",\"type\":\"Circle\"},\"selection_glyph\":null,\"view\":{\"id\":\"b0a5c848-7253-4899-986f-43d1b23b3e58\",\"type\":\"CDSView\"}},\"id\":\"94a1a2f4-2f67-4a7b-be61-f6c6ad63baf7\",\"type\":\"GlyphRenderer\"},{\"attributes\":{\"formatter\":{\"id\":\"7a2864b7-5fbb-4b63-b216-14f7422bd16e\",\"type\":\"BasicTickFormatter\"},\"plot\":{\"id\":\"afed3c46-6b89-48b5-bebc-fe90cf8cd94a\",\"subtype\":\"Figure\",\"type\":\"Plot\"},\"ticker\":{\"id\":\"b8cd425c-8aa2-4a4a-a644-0bf4b5a65fd5\",\"type\":\"BasicTicker\"}},\"id\":\"d3c5a093-052d-4ddf-afa2-05ff082a13b3\",\"type\":\"LinearAxis\"},{\"attributes\":{},\"id\":\"fbc00635-3097-4dd4-b95a-4751fddd5f88\",\"type\":\"HelpTool\"},{\"attributes\":{},\"id\":\"ae441194-bd70-43fc-bbf7-d56b626b5cbd\",\"type\":\"PanTool\"},{\"attributes\":{},\"id\":\"7a2864b7-5fbb-4b63-b216-14f7422bd16e\",\"type\":\"BasicTickFormatter\"},{\"attributes\":{\"callback\":null},\"id\":\"47d80315-1458-4484-a598-62abc778ebd3\",\"type\":\"DataRange1d\"},{\"attributes\":{},\"id\":\"b8cd425c-8aa2-4a4a-a644-0bf4b5a65fd5\",\"type\":\"BasicTicker\"},{\"attributes\":{\"fill_alpha\":{\"value\":0.1},\"fill_color\":{\"value\":\"#1f77b4\"},\"line_alpha\":{\"value\":0.1},\"line_color\":{\"value\":\"#1f77b4\"},\"x\":{\"field\":\"underlier\"},\"y\":{\"field\":\"value1\"}},\"id\":\"4df4e3c1-abf7-4b32-9441-746fc2fd713e\",\"type\":\"Circle\"},{\"attributes\":{},\"id\":\"f540ea82-ffa4-480e-850c-0bf747eab1f7\",\"type\":\"SaveTool\"},{\"attributes\":{\"overlay\":{\"id\":\"0142d95f-6999-48a3-aae3-1f8f8e021b43\",\"type\":\"BoxAnnotation\"}},\"id\":\"80e3343b-4212-48cb-970d-1fa3c3c156fd\",\"type\":\"BoxZoomTool\"}],\"root_ids\":[\"afed3c46-6b89-48b5-bebc-fe90cf8cd94a\"]},\"title\":\"Bokeh Application\",\"version\":\"0.12.13\"}};\n",
       "  var render_items = [{\"docid\":\"ffff6469-e6cc-445e-9223-9e672bf9ff16\",\"elementid\":\"ea596923-0f52-4031-8fde-dd0981e32447\",\"modelid\":\"afed3c46-6b89-48b5-bebc-fe90cf8cd94a\"}];\n",
       "  root.Bokeh.embed.embed_items_notebook(docs_json, render_items);\n",
       "\n",
       "  }\n",
       "  if (root.Bokeh !== undefined) {\n",
       "    embed_document(root);\n",
       "  } else {\n",
       "    var attempts = 0;\n",
       "    var timer = setInterval(function(root) {\n",
       "      if (root.Bokeh !== undefined) {\n",
       "        embed_document(root);\n",
       "        clearInterval(timer);\n",
       "      }\n",
       "      attempts++;\n",
       "      if (attempts > 100) {\n",
       "        console.log(\"Bokeh: ERROR: Unable to run BokehJS code because BokehJS library is missing\")\n",
       "        clearInterval(timer);\n",
       "      }\n",
       "    }, 10, root)\n",
       "  }\n",
       "})(window);"
      ],
      "application/vnd.bokehjs_exec.v0+json": ""
     },
     "metadata": {
      "application/vnd.bokehjs_exec.v0+json": {
       "id": "afed3c46-6b89-48b5-bebc-fe90cf8cd94a"
      }
     },
     "output_type": "display_data"
    }
   ],
   "source": [
    "bp.show(p)"
   ]
  },
  {
   "cell_type": "markdown",
   "metadata": {},
   "source": [
    "# save model"
   ]
  },
  {
   "cell_type": "code",
   "execution_count": null,
   "metadata": {},
   "outputs": [],
   "source": [
    "type(model)"
   ]
  },
  {
   "cell_type": "code",
   "execution_count": null,
   "metadata": {},
   "outputs": [],
   "source": [
    "torch.save(model.state_dict() , \"models/optionDQN3\" )"
   ]
  },
  {
   "cell_type": "markdown",
   "metadata": {},
   "source": [
    "# load model"
   ]
  },
  {
   "cell_type": "code",
   "execution_count": null,
   "metadata": {},
   "outputs": [],
   "source": [
    "saved_model = Net(2,2) "
   ]
  },
  {
   "cell_type": "code",
   "execution_count": null,
   "metadata": {},
   "outputs": [],
   "source": [
    "saved_model.load_state_dict(torch.load(\"models/optionDQN2\"))"
   ]
  },
  {
   "cell_type": "code",
   "execution_count": null,
   "metadata": {},
   "outputs": [],
   "source": [
    "model = saved_model"
   ]
  },
  {
   "cell_type": "markdown",
   "metadata": {},
   "source": [
    "## obsolete below"
   ]
  },
  {
   "cell_type": "code",
   "execution_count": null,
   "metadata": {},
   "outputs": [],
   "source": [
    "model = Net(n_in=28*28*1, n_mid=100, n_out=10)  # ネットワークのオブジェクトを生成\n",
    "print(model)"
   ]
  },
  {
   "cell_type": "code",
   "execution_count": null,
   "metadata": {},
   "outputs": [],
   "source": [
    "model = nn.Sequential()"
   ]
  },
  {
   "cell_type": "code",
   "execution_count": null,
   "metadata": {},
   "outputs": [],
   "source": [
    "model = torch.nn.modules.container.Sequential()"
   ]
  },
  {
   "cell_type": "code",
   "execution_count": null,
   "metadata": {},
   "outputs": [],
   "source": [
    "model.load_state_dict(torch.load(\"models/optionDQN2\"))"
   ]
  },
  {
   "cell_type": "markdown",
   "metadata": {},
   "source": [
    "# sandbox"
   ]
  },
  {
   "cell_type": "code",
   "execution_count": null,
   "metadata": {},
   "outputs": [],
   "source": [
    "list(cartpole_env.agent.brain.model.parameters())[0].shape"
   ]
  },
  {
   "cell_type": "code",
   "execution_count": null,
   "metadata": {},
   "outputs": [],
   "source": [
    "model.type\n"
   ]
  },
  {
   "cell_type": "markdown",
   "metadata": {},
   "source": [
    "# 参考（書籍のoriginal Environment）"
   ]
  },
  {
   "cell_type": "code",
   "execution_count": null,
   "metadata": {},
   "outputs": [],
   "source": [
    "class Environment:\n",
    "\n",
    "    def __init__(self):\n",
    "        self.env = gym.make(ENV)  # 実行する課題を設定\n",
    "        num_states = self.env.observation_space.shape[0]  # 課題の状態数4を取得\n",
    "        num_actions = self.env.action_space.n  # CartPoleの行動（右に左に押す）の2を取得\n",
    "        self.agent = Agent(num_states, num_actions)  # 環境内で行動するAgentを生成\n",
    "\n",
    "        \n",
    "    def run(self):\n",
    "        '''実行'''\n",
    "        episode_10_list = np.zeros(10)  # 10試行分の立ち続けたstep数を格納し、平均ステップ数を出力に利用\n",
    "        complete_episodes = 0  # 195step以上連続で立ち続けた試行数\n",
    "        episode_final = False  # 最後の試行フラグ\n",
    "        frames = []  # 最後の試行を動画にするために画像を格納する変数\n",
    "\n",
    "        for episode in range(NUM_EPISODES):  # 最大試行数分繰り返す\n",
    "            observation = self.env.reset()  # 環境の初期化\n",
    "\n",
    "            state = observation  # 観測をそのまま状態sとして使用\n",
    "            state = torch.from_numpy(state).type(\n",
    "                torch.FloatTensor)  # NumPy変数をPyTorchのテンソルに変換\n",
    "            state = torch.unsqueeze(state, 0)  # size 4をsize 1x4に変換\n",
    "\n",
    "            for step in range(MAX_STEPS):  # 1エピソードのループ\n",
    "\n",
    "                if episode_final is True:  # 最終試行ではframesに各時刻の画像を追加していく\n",
    "                    frames.append(self.env.render(mode='rgb_array'))\n",
    "\n",
    "                action = self.agent.get_action(state, episode)  # 行動を求める\n",
    "\n",
    "                # 行動a_tの実行により、s_{t+1}とdoneフラグを求める\n",
    "                # actionから.item()を指定して、中身を取り出す\n",
    "                observation_next, _, done, _ = self.env.step(\n",
    "                    action.item())  # rewardとinfoは使わないので_にする\n",
    "\n",
    "                # 報酬を与える。さらにepisodeの終了評価と、state_nextを設定する\n",
    "                if done:  # ステップ数が200経過するか、一定角度以上傾くとdoneはtrueになる\n",
    "                    state_next = None  # 次の状態はないので、Noneを格納\n",
    "\n",
    "                    # 直近10episodeの立てたstep数リストに追加\n",
    "                    episode_10_list = np.hstack(\n",
    "                        (episode_10_list[1:], step + 1))\n",
    "\n",
    "                    if step < 195:\n",
    "                        reward = torch.FloatTensor(\n",
    "                            [-1.0])  # 途中でこけたら罰則として報酬-1を与える\n",
    "                        complete_episodes = 0  # 連続成功記録をリセット\n",
    "                    else:\n",
    "                        reward = torch.FloatTensor([1.0])  # 立ったまま終了時は報酬1を与える\n",
    "                        complete_episodes = complete_episodes + 1  # 連続記録を更新\n",
    "                else:\n",
    "                    reward = torch.FloatTensor([0.0])  # 普段は報酬0\n",
    "                    state_next = observation_next  # 観測をそのまま状態とする\n",
    "                    state_next = torch.from_numpy(state_next).type(\n",
    "                        torch.FloatTensor)  # numpy変数をPyTorchのテンソルに変換\n",
    "                    state_next = torch.unsqueeze(state_next, 0)  # size 4をsize 1x4に変換\n",
    "\n",
    "                # メモリに経験を追加\n",
    "                self.agent.memorize(state, action, state_next, reward)\n",
    "\n",
    "                # Experience ReplayでQ関数を更新する\n",
    "                self.agent.update_q_function()\n",
    "\n",
    "                # 観測の更新\n",
    "                state = state_next\n",
    "\n",
    "                # 終了時の処理\n",
    "                if done:\n",
    "                    print('%d Episode: Finished after %d steps：10試行の平均step数 = %.1lf' % (\n",
    "                        episode, step + 1, episode_10_list.mean()))\n",
    "                    break\n",
    "\n",
    "            if episode_final is True:\n",
    "                # 動画を保存と描画\n",
    "                display_frames_as_gif(frames)\n",
    "                break\n",
    "\n",
    "            # 10連続で200step経ち続けたら成功\n",
    "            if complete_episodes >= 10:\n",
    "                print('10回連続成功')\n",
    "                episode_final = True  # 次の試行を描画を行う最終試行とする"
   ]
  },
  {
   "cell_type": "code",
   "execution_count": null,
   "metadata": {},
   "outputs": [],
   "source": [
    "# main クラス\n",
    "cartpole_env = Environment()\n",
    "cartpole_env.run()\n"
   ]
  }
 ],
 "metadata": {
  "jupytext": {
   "formats": "ipynb,py"
  },
  "kernelspec": {
   "display_name": "Python [conda env:base2]",
   "language": "python",
   "name": "conda-env-base2-py"
  },
  "language_info": {
   "codemirror_mode": {
    "name": "ipython",
    "version": 3
   },
   "file_extension": ".py",
   "mimetype": "text/x-python",
   "name": "python",
   "nbconvert_exporter": "python",
   "pygments_lexer": "ipython3",
   "version": "3.5.4"
  },
  "toc": {
   "colors": {
    "hover_highlight": "#DAA520",
    "navigate_num": "#000000",
    "navigate_text": "#333333",
    "running_highlight": "#FF0000",
    "selected_highlight": "#FFD700",
    "sidebar_border": "#EEEEEE",
    "wrapper_background": "#FFFFFF"
   },
   "moveMenuLeft": true,
   "nav_menu": {
    "height": "209px",
    "width": "252px"
   },
   "navigate_menu": true,
   "number_sections": true,
   "sideBar": false,
   "threshold": 4,
   "toc_cell": true,
   "toc_position": {
    "height": "289px",
    "left": "2px",
    "right": "1669.6px",
    "top": "111px",
    "width": "194px"
   },
   "toc_section_display": "block",
   "toc_window_display": true,
   "widenNotebook": false
  }
 },
 "nbformat": 4,
 "nbformat_minor": 2
}
