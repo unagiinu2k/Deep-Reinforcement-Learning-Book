{
 "cells": [
  {
   "cell_type": "code",
   "execution_count": null,
   "metadata": {},
   "outputs": [],
   "source": []
  },
  {
   "cell_type": "code",
   "execution_count": null,
   "metadata": {},
   "outputs": [],
   "source": []
  },
  {
   "cell_type": "code",
   "execution_count": null,
   "metadata": {},
   "outputs": [],
   "source": [
    "1+1"
   ]
  },
  {
   "cell_type": "code",
   "execution_count": 416,
   "metadata": {},
   "outputs": [
    {
     "name": "stdout",
     "output_type": "stream",
     "text": [
      "[master fb2fdc3] checkpoint\n",
      " 1 file changed, 559 insertions(+), 475 deletions(-)\n"
     ]
    }
   ],
   "source": [
    "%%bash\n",
    "git commit -a -m \"checkpoint\""
   ]
  },
  {
   "cell_type": "code",
   "execution_count": null,
   "metadata": {},
   "outputs": [],
   "source": []
  },
  {
   "cell_type": "markdown",
   "metadata": {
    "toc": "true"
   },
   "source": [
    "# Table of Contents\n",
    " <p><div class=\"lev1 toc-item\"><a href=\"#パッケージのimport\" data-toc-modified-id=\"パッケージのimport-1\"><span class=\"toc-item-num\">1&nbsp;&nbsp;</span>パッケージのimport</a></div><div class=\"lev1 toc-item\"><a href=\"#namedtuple\" data-toc-modified-id=\"namedtuple-2\"><span class=\"toc-item-num\">2&nbsp;&nbsp;</span>namedtuple</a></div><div class=\"lev1 toc-item\"><a href=\"#定数の設定\" data-toc-modified-id=\"定数の設定-3\"><span class=\"toc-item-num\">3&nbsp;&nbsp;</span>定数の設定</a></div><div class=\"lev1 toc-item\"><a href=\"#経験を保存するメモリクラスを定義します\" data-toc-modified-id=\"経験を保存するメモリクラスを定義します-4\"><span class=\"toc-item-num\">4&nbsp;&nbsp;</span>経験を保存するメモリクラスを定義します</a></div><div class=\"lev2 toc-item\"><a href=\"#sandbox\" data-toc-modified-id=\"sandbox-41\"><span class=\"toc-item-num\">4.1&nbsp;&nbsp;</span>sandbox</a></div><div class=\"lev1 toc-item\"><a href=\"#brainstorming\" data-toc-modified-id=\"brainstorming-5\"><span class=\"toc-item-num\">5&nbsp;&nbsp;</span>brainstorming</a></div><div class=\"lev1 toc-item\"><a href=\"#Brain\" data-toc-modified-id=\"Brain-6\"><span class=\"toc-item-num\">6&nbsp;&nbsp;</span>Brain</a></div><div class=\"lev1 toc-item\"><a href=\"#Agent\" data-toc-modified-id=\"Agent-7\"><span class=\"toc-item-num\">7&nbsp;&nbsp;</span>Agent</a></div><div class=\"lev1 toc-item\"><a href=\"#pricer\" data-toc-modified-id=\"pricer-8\"><span class=\"toc-item-num\">8&nbsp;&nbsp;</span>pricer</a></div><div class=\"lev2 toc-item\"><a href=\"#class-version-zero\" data-toc-modified-id=\"class-version-zero-81\"><span class=\"toc-item-num\">8.1&nbsp;&nbsp;</span>class version zero</a></div><div class=\"lev1 toc-item\"><a href=\"#replacing-step()-and-state-initialization\" data-toc-modified-id=\"replacing-step()-and-state-initialization-9\"><span class=\"toc-item-num\">9&nbsp;&nbsp;</span>replacing step() and state initialization</a></div><div class=\"lev2 toc-item\"><a href=\"#sandbox\" data-toc-modified-id=\"sandbox-91\"><span class=\"toc-item-num\">9.1&nbsp;&nbsp;</span>sandbox</a></div><div class=\"lev1 toc-item\"><a href=\"#Environment改（大幅改修した）\" data-toc-modified-id=\"Environment改（大幅改修した）-10\"><span class=\"toc-item-num\">10&nbsp;&nbsp;</span>Environment改（大幅改修した）</a></div><div class=\"lev2 toc-item\"><a href=\"#Version-1\" data-toc-modified-id=\"Version-1-101\"><span class=\"toc-item-num\">10.1&nbsp;&nbsp;</span>Version 1</a></div><div class=\"lev3 toc-item\"><a href=\"#To-be-determined\" data-toc-modified-id=\"To-be-determined-1011\"><span class=\"toc-item-num\">10.1.1&nbsp;&nbsp;</span>To be determined</a></div><div class=\"lev3 toc-item\"><a href=\"#implementation\" data-toc-modified-id=\"implementation-1012\"><span class=\"toc-item-num\">10.1.2&nbsp;&nbsp;</span>implementation</a></div><div class=\"lev1 toc-item\"><a href=\"#predict\" data-toc-modified-id=\"predict-11\"><span class=\"toc-item-num\">11&nbsp;&nbsp;</span>predict</a></div><div class=\"lev1 toc-item\"><a href=\"#save-model\" data-toc-modified-id=\"save-model-12\"><span class=\"toc-item-num\">12&nbsp;&nbsp;</span>save model</a></div><div class=\"lev1 toc-item\"><a href=\"#load-model\" data-toc-modified-id=\"load-model-13\"><span class=\"toc-item-num\">13&nbsp;&nbsp;</span>load model</a></div><div class=\"lev2 toc-item\"><a href=\"#obsolete-below\" data-toc-modified-id=\"obsolete-below-131\"><span class=\"toc-item-num\">13.1&nbsp;&nbsp;</span>obsolete below</a></div><div class=\"lev1 toc-item\"><a href=\"#sandbox\" data-toc-modified-id=\"sandbox-14\"><span class=\"toc-item-num\">14&nbsp;&nbsp;</span>sandbox</a></div><div class=\"lev1 toc-item\"><a href=\"#参考（書籍のoriginal-Environment）\" data-toc-modified-id=\"参考（書籍のoriginal-Environment）-15\"><span class=\"toc-item-num\">15&nbsp;&nbsp;</span>参考（書籍のoriginal Environment）</a></div>"
   ]
  },
  {
   "cell_type": "markdown",
   "metadata": {},
   "source": [
    "\n",
    "** 5.3、5.4  PyTorchでDQN **"
   ]
  },
  {
   "cell_type": "markdown",
   "metadata": {},
   "source": [
    "# パッケージのimport"
   ]
  },
  {
   "cell_type": "code",
   "execution_count": 1,
   "metadata": {},
   "outputs": [],
   "source": [
    "import numpy as np\n",
    "import matplotlib.pyplot as plt\n",
    "%matplotlib inline\n",
    "import gym"
   ]
  },
  {
   "cell_type": "markdown",
   "metadata": {},
   "source": [
    "# namedtuple"
   ]
  },
  {
   "cell_type": "markdown",
   "metadata": {},
   "source": [
    "本コードでは、namedtupleを使用します。\n",
    "\n",
    "namedtupleを使うことで、値をフィールド名とペアで格納できます。\n",
    "\n",
    "すると値に対して、フィールド名でアクセスできて便利です。\n",
    "\n",
    "https://docs.python.jp/3/library/collections.html#collections.namedtuple\n",
    "\n",
    "以下は使用例です"
   ]
  },
  {
   "cell_type": "code",
   "execution_count": 2,
   "metadata": {},
   "outputs": [
    {
     "name": "stdout",
     "output_type": "stream",
     "text": [
      "tr(name_a='名前Aです', value_b=100)\n",
      "100\n"
     ]
    }
   ],
   "source": [
    "from collections import namedtuple\n",
    "\n",
    "Tr = namedtuple('tr', ('name_a', 'value_b'))\n",
    "Tr_object = Tr('名前Aです', 100)\n",
    "\n",
    "print(Tr_object)  # 出力：tr(name_a='名前Aです', value_b=100)\n",
    "print(Tr_object.value_b)  # 出力：100"
   ]
  },
  {
   "cell_type": "code",
   "execution_count": null,
   "metadata": {},
   "outputs": [],
   "source": [
    "Tr_object.name_a"
   ]
  },
  {
   "cell_type": "markdown",
   "metadata": {},
   "source": [
    "namedtupleを生成\n",
    "from collections import namedtuple\n",
    "\n",
    "Transition = namedtuple(\n",
    "    'Transition', ('s', 't', 'action', 'next_s' , \"next_t\", 'reward', 'done'))\n"
   ]
  },
  {
   "cell_type": "code",
   "execution_count": 3,
   "metadata": {},
   "outputs": [],
   "source": [
    "#namedtupleを生成\n",
    "from collections import namedtuple\n",
    "\n",
    "Transition = namedtuple(\n",
    "    'Transition', ('state', 'action', 'next_state', 'reward'))#,'done'))\n"
   ]
  },
  {
   "cell_type": "markdown",
   "metadata": {},
   "source": [
    "# 定数の設定"
   ]
  },
  {
   "cell_type": "code",
   "execution_count": 97,
   "metadata": {},
   "outputs": [],
   "source": [
    "spot_price = 127.62\n",
    "volatility = 0.20 # the historical vols or implied vols\n",
    "dividend_rate =  0.0163\n",
    "risk_free_rate = 0.001\n",
    "maturity = 1\n",
    "dt = 0.1\n",
    "\n",
    "strike_price = 130\n",
    "\n",
    "#steps = 200\n",
    "pricer_steps = 100\n",
    "\n",
    "#dt = maturity / steps"
   ]
  },
  {
   "cell_type": "code",
   "execution_count": 98,
   "metadata": {},
   "outputs": [],
   "source": [
    "#ENV = 'CartPole-v0'  # 使用する課題名\n",
    "GAMMA = np.exp(-dt * risk_free_rate)  # 時間割引率\n",
    "MAX_STEPS = 200  # 1試行のstep数\n",
    "#NUM_EPISODES = 500  # 最大試行回数"
   ]
  },
  {
   "cell_type": "markdown",
   "metadata": {},
   "source": [
    "# 経験を保存するメモリクラスを定義します"
   ]
  },
  {
   "cell_type": "markdown",
   "metadata": {},
   "source": [
    "* 概ね書籍のままの実装でいけるはず（？）$\\Rightarrow$ doneを追加した$\\Rightarrow$やっぱりやめた。（終了判定の方を変更するほうが素直なため）\n",
    "* ただし、おそらくサンプル取得時に完全にランダムにしないで3項ツリー的な３つのnext stateをまとめてmini batfchに含めたほうがいいのではないかという気がする"
   ]
  },
  {
   "cell_type": "code",
   "execution_count": 6,
   "metadata": {},
   "outputs": [],
   "source": [
    "class ReplayMemory:\n",
    "\n",
    "    def __init__(self, CAPACITY):\n",
    "        self.capacity = CAPACITY  # メモリの最大長さ\n",
    "        self.memory = []  # 経験を保存する変数\n",
    "        self.index = 0  # 保存するindexを示す変数\n",
    "\n",
    "    def push(self, state, action, state_next, reward):# , done):\n",
    "        '''transition = (state, action, state_next, reward)をメモリに保存する'''\n",
    "\n",
    "        if len(self.memory) < self.capacity:\n",
    "            self.memory.append(None)  # メモリが満タンでないときは足す\n",
    "\n",
    "        # namedtupleのTransitionを使用し、値とフィールド名をペアにして保存します\n",
    "        self.memory[self.index] = Transition(state, action, state_next, reward)# , done)\n",
    "\n",
    "        self.index = (self.index + 1) % self.capacity  # 保存するindexを1つずらす\n",
    "\n",
    "    def sample(self, batch_size):\n",
    "        '''batch_size分だけ、ランダムに保存内容を取り出す'''\n",
    "        return random.sample(self.memory, batch_size)\n",
    "\n",
    "    def __len__(self):\n",
    "        '''関数lenに対して、現在の変数memoryの長さを返す'''\n",
    "        return len(self.memory)"
   ]
  },
  {
   "cell_type": "markdown",
   "metadata": {},
   "source": [
    "## sandbox"
   ]
  },
  {
   "cell_type": "code",
   "execution_count": 7,
   "metadata": {},
   "outputs": [],
   "source": [
    "import random"
   ]
  },
  {
   "cell_type": "code",
   "execution_count": null,
   "metadata": {},
   "outputs": [],
   "source": [
    "tmp = ReplayMemory(3)"
   ]
  },
  {
   "cell_type": "code",
   "execution_count": null,
   "metadata": {},
   "outputs": [],
   "source": [
    "\n",
    "tmp.push(100,0.1, 0 , 101)#,  True)"
   ]
  },
  {
   "cell_type": "code",
   "execution_count": null,
   "metadata": {},
   "outputs": [],
   "source": [
    "tmp.sample(2)"
   ]
  },
  {
   "cell_type": "markdown",
   "metadata": {},
   "source": [
    "# brainstorming\n",
    "\n",
    "* 素直な実装ではnum_statesは２となる。（$S$および$t$）\n",
    "* brainもたぶん書籍のままの実装でいける？？\n"
   ]
  },
  {
   "cell_type": "markdown",
   "metadata": {},
   "source": [
    "# define model class"
   ]
  },
  {
   "cell_type": "code",
   "execution_count": 516,
   "metadata": {},
   "outputs": [],
   "source": [
    "import torch.nn as nn\n",
    "import torch.nn.functional as F\n",
    "\n",
    "\n",
    "class Net(nn.Module):\n",
    "\n",
    "    def __init__(self, num_states, num_actions):\n",
    "        super(Net, self).__init__()\n",
    "        #self.model = nn.Sequential()\n",
    "        self.fc1 =  nn.Linear(num_states, 144)\n",
    "        self.relu1 =  nn.ReLU()\n",
    "        self.fc3 =  nn.Linear(144, num_actions)\n",
    "\n",
    "    def forward(self, x):\n",
    "        # 入力xに合わせてforwardの計算を変えられる\n",
    "        h1 = self.relu1(self.fc1(x))\n",
    "        #h2 = F.relu(self.fc3(h1))\n",
    "        output = self.fc3(h1)\n",
    "        return output"
   ]
  },
  {
   "cell_type": "markdown",
   "metadata": {},
   "source": [
    "# Brain\n",
    "\n",
    "エージェントが持つ脳となるクラスです、DQNを実行します"
   ]
  },
  {
   "cell_type": "markdown",
   "metadata": {},
   "source": [
    "methodは\n",
    "\n",
    "* replay: Experience Replayでネットワークの結合パラメータを学習\n",
    "* decide_action: アクション決定"
   ]
  },
  {
   "cell_type": "markdown",
   "metadata": {},
   "source": [
    "Q関数をディープラーニングのネットワークをクラスとして定義"
   ]
  },
  {
   "cell_type": "code",
   "execution_count": 8,
   "metadata": {},
   "outputs": [],
   "source": [
    "import random\n",
    "import torch\n",
    "from torch import nn\n",
    "from torch import optim\n",
    "import torch.nn.functional as F\n",
    "\n",
    "BATCH_SIZE = 32\n",
    "CAPACITY = 10000"
   ]
  },
  {
   "cell_type": "markdown",
   "metadata": {},
   "source": [
    "* もともと次がdoneの場合は学習に使っていない.?と思ったがそんなことはなかった。\n",
    "* そのままだと学習が正しく進むわけがないので修正していく、というのは勘違いでここはいじらなくてよかった。"
   ]
  },
  {
   "cell_type": "code",
   "execution_count": 543,
   "metadata": {},
   "outputs": [],
   "source": [
    "class Brain:\n",
    "    def __init__(self, num_states, num_actions):\n",
    "        self.num_actions = num_actions  # CartPoleの行動（右に左に押す）の2を取得\n",
    "\n",
    "        # 経験を記憶するメモリオブジェクトを生成\n",
    "        self.memory = ReplayMemory(CAPACITY)\n",
    "\n",
    "        # ニューラルネットワークを構築\n",
    "        if True:\n",
    "            self.model = Net(num_states, num_actions)\n",
    "        else:\n",
    "            self.model = nn.Sequential()\n",
    "            self.model.add_module('fc1', nn.Linear(num_states, 144))\n",
    "            self.model.add_module('relu1', nn.ReLU())\n",
    "            #self.model.add_module('fc2', nn.Linear(32, 32))\n",
    "            #self.model.add_module('relu2', nn.ReLU())\n",
    "            self.model.add_module('fc3', nn.Linear(144, num_actions))\n",
    "\n",
    "        print(self.model)  # ネットワークの形を出力\n",
    "        print(list(self.model.parameters()))\n",
    "\n",
    "        # 最適化手法の設定\n",
    "        self.optimizer = optim.Adam(self.model.parameters(), lr=0.0001)\n",
    "\n",
    "    def replay(self):\n",
    "        '''Experience Replayでネットワークの結合パラメータを学習'''\n",
    "\n",
    "        # -----------------------------------------\n",
    "        # 1. メモリサイズの確認\n",
    "        # -----------------------------------------\n",
    "        # 1.1 メモリサイズがミニバッチより小さい間は何もしない\n",
    "        #print(\"memory .size : {}\".format(len(self.memory)))\n",
    "        if len(self.memory) < BATCH_SIZE:\n",
    "            return\n",
    "\n",
    "        # -----------------------------------------\n",
    "        # 2. ミニバッチの作成\n",
    "        # -----------------------------------------\n",
    "        # 2.1 メモリからミニバッチ分のデータを取り出す\n",
    "        transitions = self.memory.sample(BATCH_SIZE)\n",
    "\n",
    "        # 2.2 各変数をミニバッチに対応する形に変形\n",
    "        # transitionsは1stepごとの(state, action, state_next, reward)が、BATCH_SIZE分格納されている\n",
    "        # つまり、(state, action, state_next, reward)×BATCH_SIZE\n",
    "        # これをミニバッチにしたい。つまり\n",
    "        # (state×BATCH_SIZE, action×BATCH_SIZE, state_next×BATCH_SIZE, reward×BATCH_SIZE)にする\n",
    "        batch = Transition(*zip(*transitions))\n",
    "\n",
    "        # 2.3 各変数の要素をミニバッチに対応する形に変形し、ネットワークで扱えるようVariableにする\n",
    "        # 例えばstateの場合、[torch.FloatTensor of size 1x4]がBATCH_SIZE分並んでいるのですが、\n",
    "        # それを torch.FloatTensor of size BATCH_SIZEx4 に変換します\n",
    "        # 状態、行動、報酬、non_finalの状態のミニバッチのVariableを作成\n",
    "        # catはConcatenates（結合）のことです。\n",
    "        state_batch = torch.cat(batch.state)\n",
    "        action_batch = torch.cat(batch.action)\n",
    "        reward_batch = torch.cat(batch.reward)\n",
    "        #done_batch = torch.cat(batch.done)\n",
    "        all_final = (len([s for s in batch.next_state if s is not None]) == 0)\n",
    "        if not all_final:\n",
    "        #try\n",
    "            non_final_next_states = torch.cat([s for s in batch.next_state\n",
    "                                           if s is not None])\n",
    "        #except:\n",
    "        #    print()\n",
    "\n",
    "        # -----------------------------------------\n",
    "        # 3. 教師信号となるQ(s_t, a_t)値を求める\n",
    "        # -----------------------------------------\n",
    "        # 3.1 ネットワークを推論モードに切り替える\n",
    "        self.model.eval()\n",
    "\n",
    "        # 3.2 ネットワークが出力したQ(s_t, a_t)を求める\n",
    "        # self.model(state_batch)は、右左の両方のQ値を出力しており\n",
    "        # [torch.FloatTensor of size BATCH_SIZEx2]になっている。\n",
    "        # ここから実行したアクションa_tに対応するQ値を求めるため、action_batchで行った行動a_tが右か左かのindexを求め\n",
    "        # それに対応するQ値をgatherでひっぱり出す。\n",
    "        state_action_values = self.model(state_batch).gather(1, action_batch)\n",
    "\n",
    "        # 3.3 max{Q(s_t+1, a)}値を求める。ただし次の状態があるかに注意。\n",
    "        # まずは全部0にしておく\n",
    "        next_state_values = torch.zeros(BATCH_SIZE)\n",
    "        \n",
    "        if not all_final:\n",
    "            # cartpoleがdoneになっておらず、next_stateがあるかをチェックするインデックスマスクを作成\n",
    "            non_final_mask = torch.ByteTensor(tuple(map(lambda s: s is not None,\n",
    "                                                        batch.next_state)))\n",
    "\n",
    "\n",
    "            # 次の状態があるindexの最大Q値を求める\n",
    "            # 出力にアクセスし、max(1)で列方向の最大値の[値、index]を求めます\n",
    "            # そしてそのQ値（index=0）を出力します\n",
    "            # detachでその値を取り出します\n",
    "            next_state_values[non_final_mask] = self.model(\n",
    "                non_final_next_states).max(1)[0].detach()\n",
    "\n",
    "        # 3.4 教師となるQ(s_t, a_t)値を、Q学習の式から求める\n",
    "        expected_state_action_values = reward_batch + GAMMA * next_state_values\n",
    "\n",
    "        # -----------------------------------------\n",
    "        # 4. 結合パラメータの更新\n",
    "        # -----------------------------------------\n",
    "        # 4.1 ネットワークを訓練モードに切り替える\n",
    "        self.model.train()\n",
    "\n",
    "        # 4.2 損失関数を計算する（smooth_l1_lossはHuberloss）\n",
    "        # expected_state_action_valuesは\n",
    "        # sizeが[minbatch]になっているので、unsqueezeで[minibatch x 1]へ\n",
    "        loss = F.smooth_l1_loss(state_action_values,\n",
    "                                expected_state_action_values.unsqueeze(1))\n",
    "\n",
    "        # 4.3 結合パラメータを更新する\n",
    "        self.optimizer.zero_grad()  # 勾配をリセット\n",
    "        loss.backward()  # バックプロパゲーションを計算\n",
    "        self.optimizer.step()  # 結合パラメータを更新\n",
    "\n",
    "    def decide_action(self, state, episode):\n",
    "        '''現在の状態に応じて、行動を決定する'''\n",
    "        # ε-greedy法で徐々に最適行動のみを採用する\n",
    "        epsilon = 0.5 * (1 / (episode + 1))\n",
    "\n",
    "        if epsilon <= np.random.uniform(0, 1):\n",
    "            self.model.eval()  # ネットワークを推論モードに切り替える\n",
    "            with torch.no_grad():\n",
    "                action = self.model(state).max(1)[1].view(1, 1)\n",
    "            # ネットワークの出力の最大値のindexを取り出します = max(1)[1]\n",
    "            # .view(1,1)は[torch.LongTensor of size 1]　を size 1x1 に変換します\n",
    "\n",
    "        else:\n",
    "            # 0,1の行動をランダムに返す\n",
    "            action = torch.LongTensor(\n",
    "                [[random.randrange(self.num_actions)]])  # 0,1の行動をランダムに返す\n",
    "            # actionは[torch.LongTensor of size 1x1]の形になります\n",
    "\n",
    "        return action"
   ]
  },
  {
   "cell_type": "markdown",
   "metadata": {},
   "source": [
    "# Agent\n",
    "CartPoleで動くエージェントクラスです、棒付き台車そのものになります\n",
    "\n",
    "methodは\n",
    "\n",
    "\n",
    "* 行動価値Qを更新\n",
    "*  状態を与えると行動を決定\n",
    "*  状態、選択するアクション、次の状態、報酬などを記憶"
   ]
  },
  {
   "cell_type": "code",
   "execution_count": 544,
   "metadata": {},
   "outputs": [],
   "source": [
    "class Agent:\n",
    "    def __init__(self, num_states, num_actions):\n",
    "        '''課題の状態と行動の数を設定する'''\n",
    "        self.brain = Brain(num_states, num_actions)  # エージェントが行動を決定するための頭脳を生成\n",
    "\n",
    "    def update_q_function(self):\n",
    "        '''Q関数を更新する'''\n",
    "        self.brain.replay()\n",
    "\n",
    "    def get_action(self, state, episode):\n",
    "        '''行動を決定する'''\n",
    "        action = self.brain.decide_action(state, episode)\n",
    "        return action\n",
    "\n",
    "    def memorize(self, state, action, state_next, reward): #, done):\n",
    "        '''memoryオブジェクトに、state, action, state_next, rewardの内容を保存する'''\n",
    "        self.brain.memory.push(state, action, state_next, reward)# , done)"
   ]
  },
  {
   "cell_type": "markdown",
   "metadata": {},
   "source": [
    "# pricer"
   ]
  },
  {
   "cell_type": "code",
   "execution_count": 545,
   "metadata": {},
   "outputs": [],
   "source": [
    "import QuantLib as ql "
   ]
  },
  {
   "cell_type": "markdown",
   "metadata": {},
   "source": [
    "## class version zero"
   ]
  },
  {
   "cell_type": "code",
   "execution_count": 546,
   "metadata": {},
   "outputs": [],
   "source": [
    "class cl_am_call:\n",
    "    def price(self , spot_price, strike_price, maturity):\n",
    "        if maturity <= 0:\n",
    "            exercise_value = np.max([0 , spot_price - strike_price])\n",
    "            return (exercise_value)\n",
    "        dummy_strike = strike_price / spot_price\n",
    "        \n",
    "\n",
    "        option_type = ql.Option.Call\n",
    "        payoff = ql.PlainVanillaPayoff(option_type, dummy_strike)\n",
    "        \n",
    "        maturity_date = self.calculation_date + int(365.0 * maturity)\n",
    "        settlement = self.calculation_date\n",
    "        am_exercise = ql.AmericanExercise(settlement, maturity_date)\n",
    "        \n",
    "        american_option = ql.VanillaOption(payoff, am_exercise)\n",
    "        american_option.setPricingEngine(self.binomial_engine)\n",
    "        ql.Settings.instance().evaluationDate = self.calculation_date\n",
    "\n",
    "        return (american_option.NPV() * spot_price)\n",
    "        \n",
    "\n",
    "    def __init__(self , volatility , dividend_rate , risk_free_rate  ,steps):\n",
    "        day_count = ql.Actual365Fixed()\n",
    "        #calendar = ql.UnitedStates()\n",
    "        calendar = ql.Japan()\n",
    "        self.calculation_date = ql.Date(8, 5, 2015)\n",
    "        dummy_spot = 1\n",
    "        \n",
    "        self.spot_handle = ql.QuoteHandle(ql.SimpleQuote(1.0))\n",
    "\n",
    "        ql.Settings.instance().evaluationDate = self.calculation_date\n",
    "\n",
    "\n",
    "        self.flat_ts = ql.YieldTermStructureHandle(\n",
    "            ql.FlatForward(self.calculation_date, risk_free_rate, day_count)\n",
    "        )\n",
    "\n",
    "        self.dividend_yield = ql.YieldTermStructureHandle(\n",
    "            ql.FlatForward(self.calculation_date, dividend_rate, day_count)\n",
    "        )\n",
    "\n",
    "        #### volatility\n",
    "\n",
    "        self.flat_vol_ts = ql.BlackVolTermStructureHandle(\n",
    "            ql.BlackConstantVol(self.calculation_date, calendar, volatility, day_count)\n",
    "        )\n",
    "\n",
    "        #### BS framework\n",
    "\n",
    "        self.bsm_process = ql.BlackScholesMertonProcess(self.spot_handle, \n",
    "                                                   self.dividend_yield, \n",
    "                                                   self.flat_ts, \n",
    "                                                   self.flat_vol_ts)\n",
    "\n",
    "\n",
    "        self.binomial_engine = ql.BinomialVanillaEngine(self.bsm_process, \"crr\", steps)\n",
    "        \n",
    "\n"
   ]
  },
  {
   "cell_type": "code",
   "execution_count": null,
   "metadata": {},
   "outputs": [],
   "source": [
    "am_call = cl_am_call(volatility ,  dividend_rate ,  risk_free_rate , pricer_steps)"
   ]
  },
  {
   "cell_type": "code",
   "execution_count": null,
   "metadata": {},
   "outputs": [],
   "source": [
    "am_call.price(spot_price, strike_price, maturity)"
   ]
  },
  {
   "cell_type": "code",
   "execution_count": null,
   "metadata": {},
   "outputs": [],
   "source": [
    "am_call.price(1 , 100, 0.1)"
   ]
  },
  {
   "cell_type": "markdown",
   "metadata": {},
   "source": [
    "# replacing step() and state initialization\n",
    "\n",
    "* initializationをどうするかな・・\n"
   ]
  },
  {
   "cell_type": "code",
   "execution_count": 547,
   "metadata": {},
   "outputs": [],
   "source": [
    "class  decision2next_state:\n",
    "    \n",
    "    def __init__(self ,  S0_floor , S0_cap , is_S0_uniform ,  volatility , dividend_rate , risk_free_rate  , dt , Maturity):\n",
    "        self.S0_floor = S0_floor\n",
    "        self.S0_cap = S0_cap\n",
    "        self.is_S0_uniform = is_S0_uniform\n",
    "        self.volatility = volatility\n",
    "        self.dividend_rate = dividend_rate\n",
    "        self.risk_free_rate = risk_free_rate\n",
    "        self.dt = dt\n",
    "        self.Maturity = Maturity\n",
    "        \n",
    "        self.barbeta_dt = (risk_free_rate - dividend_rate - volatility**2 * 0.5) * dt\n",
    "        self.sd = volatility * np.sqrt(dt)\n",
    "    \n",
    "    def reset(self):\n",
    "        T0 = 0    \n",
    "        if True:\n",
    "            #state0 = np.array([self.S0 , T0])\n",
    "            if self.is_S0_uniform:\n",
    "                state0 = np.array([self.S0_floor + np.random.rand() * (self.S0_cap - self.S0_floor) , T0])\n",
    "            else:\n",
    "                state0 = np.array([self.S0_floor * np.power(self.S0_cap / self.S0_floor ,  np.random.rand()) , T0])\n",
    "        else :\n",
    "            state0 = torch.Tensor(np.array([[self.S0 , T0]]))\n",
    "        return state0\n",
    "        \n",
    "    \n",
    "    def step(self , state , action):\n",
    "             #stateはtorch.tensor torch.Size([1, 2])\n",
    "            if False:\n",
    "                #next_state = state.copy()\n",
    "                S = state[0]\n",
    "                T = state[1]\n",
    "            else:               \n",
    "                #next_state = state.clone()\n",
    "                S = state[0][0].item()\n",
    "                T = state[0][1].item()    \n",
    "            T_next = T + self.dt\n",
    "            S_return = self.barbeta_dt + self.sd * np.random.randn()  \n",
    "            \n",
    "            S_next = S * np.exp(S_return)\n",
    "            if True:\n",
    "                state_next =np.array([S_next , T_next])\n",
    "            else:\n",
    "                state_next = torch.Tensor(np.array([[S_next , T_next]]))\n",
    "            done = (action == 1) or (T >= self.Maturity) \n",
    "            if done:\n",
    "                S_next = None\n",
    "            return state_next , done\n",
    "    "
   ]
  },
  {
   "cell_type": "markdown",
   "metadata": {},
   "source": [
    "## sandbox"
   ]
  },
  {
   "cell_type": "code",
   "execution_count": 327,
   "metadata": {},
   "outputs": [],
   "source": [
    "my_stepper = decision2next_state(spot_price / 10 , spot_price * 10, volatility , dividend_rate , risk_free_rate , 0.1 , 1)"
   ]
  },
  {
   "cell_type": "code",
   "execution_count": null,
   "metadata": {},
   "outputs": [],
   "source": [
    "tmp_state = torch.Tensor(np.array([[100 , 0]]))"
   ]
  },
  {
   "cell_type": "code",
   "execution_count": null,
   "metadata": {},
   "outputs": [],
   "source": [
    "tmp_state = np.array([100,0])"
   ]
  },
  {
   "cell_type": "code",
   "execution_count": null,
   "metadata": {},
   "outputs": [],
   "source": [
    "type(tmp_state)"
   ]
  },
  {
   "cell_type": "code",
   "execution_count": null,
   "metadata": {},
   "outputs": [],
   "source": [
    "my_stepper.step(tmp_state , 0)"
   ]
  },
  {
   "cell_type": "code",
   "execution_count": null,
   "metadata": {},
   "outputs": [],
   "source": [
    "my_stepper.reset()"
   ]
  },
  {
   "cell_type": "markdown",
   "metadata": {},
   "source": [
    "# Environment改（大幅改修した）\n",
    "CartPoleを実行する環境のクラスです\n",
    "\n",
    "* for loopは二重になっている\n",
    "* 外側のループはEPISODEに関して\n",
    "    * Episode = 試行：一回ポールを立てて倒れるか200ステップ経過するまでを１エピソードと数える\n",
    "    * 内側のループはステップに関して\n",
    "        * 初期状態のBrainを使って、1ステップ目から左右にコントロールしていくことからスタート\n",
    "        * 各ステップごとに状態と遷移を記録する。\n",
    "        * 同様に各ステップごとに行動価値関数をアップデートしていく\n",
    "    * 10エピソード連続で200ステップまで持ちこたえられたら成功\n",
    "    "
   ]
  },
  {
   "cell_type": "markdown",
   "metadata": {},
   "source": [
    "## Version 1\n",
    "* まずはMCパスを発生させて、episode $\\approx$ pathであるような形でやってみよう\n",
    "* 後々、MCパスはtrinomial tree上のみを推移するようにするかもしれないが、ここでは素直にMCパスを普通に発生させてみよう\n",
    "    * MCパス発生はquantlibにやらせてもいいが自分で実装してしまってもいいかな\n",
    "* env.stepを\n",
    "```\n",
    " 1 time step推進\n",
    "```\n",
    "に置き換える。\n",
    "\n",
    "\n",
    "### To be determined\n",
    "* QLはここに取り込む？ $\\Rightarrow$ maybe yes\n",
    "* MCもここで？ $\\Rightarrow$ maybe yes\n",
    "    * gymの場合は時間推進はgymが面倒見てくれていた。そのgymはEnvironmentクラスのメンバーになっている。\n",
    "* 書籍にあったような20回連続でみたいな終了判定基準はもはや適切ではない。ではどのような終了判定基準が良いか\n",
    "```\n",
    "現状では正解がわかっているのでいろいろズルをしよう。例えば、10パス連続で最適行使の判定を正解できたときetc\n",
    "```\n",
    "* reward設計\n",
    "```\n",
    "行使した場合にはrewardを払って行動価値関数がゼロのnext stateに飛ぶ\n",
    "```\n",
    "とする."
   ]
  },
  {
   "cell_type": "markdown",
   "metadata": {},
   "source": [
    "### implementation"
   ]
  },
  {
   "cell_type": "code",
   "execution_count": null,
   "metadata": {},
   "outputs": [],
   "source": [
    "np.random.randn()"
   ]
  },
  {
   "cell_type": "markdown",
   "metadata": {},
   "source": [
    "import QuantLib as ql "
   ]
  },
  {
   "cell_type": "code",
   "execution_count": 217,
   "metadata": {},
   "outputs": [
    {
     "data": {
      "text/plain": [
       "False"
      ]
     },
     "execution_count": 217,
     "metadata": {},
     "output_type": "execute_result"
    }
   ],
   "source": [
    "1 != 1"
   ]
  },
  {
   "cell_type": "code",
   "execution_count": 548,
   "metadata": {},
   "outputs": [],
   "source": [
    "class myEnvironment:\n",
    "\n",
    "    def __init__(self, S0_floor , S0_cap , is_S0_uniform , vol , q , r , K , T , dt ,pricer_steps):\n",
    "        #self.env = gym.make(ENV)  # 実行する課題を設定\n",
    "        self.S0_floor = S0_floor\n",
    "        self.S0_cap = S0_cap\n",
    "        self.is_S0_uniform = is_S0_uniform\n",
    "        self.vol = vol\n",
    "        self.q = q\n",
    "        self.r = r\n",
    "        self.K = K\n",
    "        self.T = T\n",
    "        self.dt = dt\n",
    "        self.stepper = decision2next_state(S0_floor , S0_cap , is_S0_uniform , vol , q , r , dt, T)\n",
    "        \n",
    "        num_states = 2# S and t\n",
    "        num_actions = 2 # exercise or hold \n",
    "        self.agent = Agent(num_states, num_actions)  # 環境内で行動するAgentを生成\n",
    "        self.pricer = cl_am_call(vol ,  q ,  r , steps = pricer_steps)\n",
    "\n",
    "        \n",
    "    def run(self , n_episodes , is_silent = False):\n",
    "        '''実行'''\n",
    "        episode_10_list = np.zeros(10)  # 10試行分の立ち続けたstep数を格納し、平均ステップ数を出力に利用\n",
    "        #complete episodesを終了条件にするのはもはや適切ではない\n",
    "        complete_episodes = 0  # 195step以上連続で立ち続けた試行数\n",
    "        episode_final = False  # 最後の試行フラグ\n",
    "        frames = []  # 最後の試行を動画にするために画像を格納する変数\n",
    "\n",
    "        for episode in range(n_episodes):  # 最大試行数分繰り返す\n",
    "            #observation = self.env.reset()  # 環境の初期化\n",
    "            observation = self.stepper.reset()\n",
    "            run_percent = int(episode * 100 / n_episodes)\n",
    "            if run_percent != int((episode -1) * 100 / n_episodes):              \n",
    "                \n",
    "                print(\"finished {} percent ({} / {})\".format(run_percent , episode , n_episodes))\n",
    "                #print(\"finished {} episodes\".format(episode))\n",
    "\n",
    "            state = observation  # 観測をそのまま状態sとして使用\n",
    "            if True:\n",
    "                #print(type(state))\n",
    "                state = torch.from_numpy(state).type(torch.FloatTensor)  # NumPy変数をPyTorchのテンソルに変換\n",
    "                state = torch.unsqueeze(state, 0)  # size 4をsize 1x4に変換\n",
    "\n",
    "            for step in range(MAX_STEPS):  # 1エピソードのループ\n",
    "\n",
    "                action = self.agent.get_action(state, episode)  # 行動を求める。\n",
    "                ### * episodeを食わせるのはQ学習の定義を見れば納得できる。ここは書籍のままの\n",
    "        \n",
    "                \n",
    "                # 行動a_tの実行により、s_{t+1}とdoneフラグを求める\n",
    "                # actionから.item()を指定して、中身を取り出す\n",
    " \n",
    "                observation_next , done = self.stepper.step(state , action.item())\n",
    "                #print(\"done is {}\".format(done))\n",
    "\n",
    "                # 報酬を与える。さらにepisodeの終了評価と、state_nextを設定する\n",
    "                if done:  # ステップ数が200経過するか、一定角度以上傾くとdoneはtrueになる\n",
    "                    state_next = None  # 次の状態はないので、Noneを格納\n",
    "       \n",
    "\n",
    "                    # 直近10episodeの立てたstep数リストに追加\n",
    "                    episode_10_list = np.hstack(\n",
    "                        (episode_10_list[1:], step + 1))\n",
    "                    if True:\n",
    "                        exercise_value = state[0][0].item() - self.K   \n",
    "                        if state[0][1].item() >= self.T:\n",
    "                            exercise_value = np.max([exercise_value , 0.0])\n",
    "                        \n",
    "                        reward = torch.FloatTensor([exercise_value]) \n",
    "                        complete_episodes = complete_episodes + 1  ## * 暫定的な処理\n",
    "                    \n",
    "\n",
    "                else:\n",
    "                    reward = torch.FloatTensor([0.0])  # 普段は報酬0\n",
    "                    state_next = observation_next  # 観測をそのまま状態とする\n",
    "                    if True:\n",
    "                        state_next = torch.from_numpy(state_next).type(\n",
    "                        torch.FloatTensor)  # numpy変数をPyTorchのテンソルに変換\n",
    "                        state_next = torch.unsqueeze(state_next, 0)  # size 4をsize 1x4に変換\n",
    "\n",
    "                # メモリに経験を追加\n",
    "                self.agent.memorize(state, action, state_next, reward)\n",
    "\n",
    "                # Experience ReplayでQ関数を更新する\n",
    "                if True:\n",
    "                    self.agent.update_q_function()\n",
    "                else:\n",
    "                    try:\n",
    "                        self.agent.update_q_function()\n",
    "                    except:\n",
    "                        print(\"something is wrong\")\n",
    "                        break\n",
    "\n",
    "\n",
    "\n",
    "                # 終了時の処理\n",
    "                if done:\n",
    "                    #print('%d Episode: Finished after %d steps：10試行の平均step数 = %.1lf' % (\n",
    "                    #    episode, step + 1, episode_10_list.mean()))\n",
    "                    #print(\"exercise value is {}\".format(exercise_value))\n",
    "                    #print(type(state))\n",
    "\n",
    "                    error = exercise_value - self.pricer.price(state[0][0].item(), self.K , self.T - state[0][1].item())\n",
    "                    if not is_silent:\n",
    "                        print(\"S : {:.2f} / t : {:.2f} / exercise value : {:.2f} / error : {:.2f}\".format(state[0][0].item() , state[0][1].item() , exercise_value , error))\n",
    "                    break\n",
    "                    ## ** error \n",
    "                                # 観測の更新\n",
    "                state = state_next\n",
    "            if episode_final:\n",
    "                break\n",
    "\n",
    "            # 10連続で200step経ち続けたら成功\n",
    "            if complete_episodes >= n_episodes:\n",
    "                #print('10回連続成功')\n",
    "                episode_final = True  # 次の試行を描画を行う最終試行とする"
   ]
  },
  {
   "cell_type": "code",
   "execution_count": 549,
   "metadata": {},
   "outputs": [
    {
     "name": "stdout",
     "output_type": "stream",
     "text": [
      "Net(\n",
      "  (fc1): Linear(in_features=2, out_features=144, bias=True)\n",
      "  (relu1): ReLU()\n",
      "  (fc3): Linear(in_features=144, out_features=2, bias=True)\n",
      ")\n",
      "[Parameter containing:\n",
      "tensor([[ 0.3036,  0.3540],\n",
      "        [-0.2134, -0.1227],\n",
      "        [ 0.1446,  0.3305],\n",
      "        [-0.2726,  0.0760],\n",
      "        [ 0.2079, -0.6866],\n",
      "        [-0.5382, -0.1528],\n",
      "        [-0.3251,  0.7039],\n",
      "        [ 0.2899,  0.5678],\n",
      "        [ 0.6296,  0.5678],\n",
      "        [-0.4752,  0.3947],\n",
      "        [ 0.4266,  0.4578],\n",
      "        [-0.0779,  0.3808],\n",
      "        [ 0.2520, -0.3433],\n",
      "        [-0.1171,  0.1988],\n",
      "        [-0.4459, -0.6102],\n",
      "        [ 0.2797, -0.1018],\n",
      "        [ 0.3960, -0.2189],\n",
      "        [ 0.1847,  0.5704],\n",
      "        [ 0.3249,  0.4870],\n",
      "        [-0.2750,  0.0910],\n",
      "        [-0.2233,  0.5991],\n",
      "        [-0.0114,  0.5350],\n",
      "        [-0.0289, -0.5526],\n",
      "        [-0.2943, -0.5083],\n",
      "        [ 0.3665,  0.6847],\n",
      "        [-0.5269,  0.0782],\n",
      "        [-0.5170,  0.4800],\n",
      "        [-0.3835, -0.3072],\n",
      "        [-0.6384, -0.1463],\n",
      "        [-0.1170,  0.3190],\n",
      "        [-0.5632,  0.6178],\n",
      "        [-0.6170, -0.2705],\n",
      "        [ 0.4969,  0.2079],\n",
      "        [ 0.6032,  0.1158],\n",
      "        [-0.4985, -0.2749],\n",
      "        [ 0.4073, -0.5856],\n",
      "        [ 0.4770,  0.6675],\n",
      "        [ 0.2976,  0.2403],\n",
      "        [-0.6186, -0.5372],\n",
      "        [-0.4328,  0.6678],\n",
      "        [-0.6662, -0.1167],\n",
      "        [ 0.4724, -0.1755],\n",
      "        [-0.1113, -0.1428],\n",
      "        [ 0.5740,  0.3650],\n",
      "        [-0.1112,  0.1598],\n",
      "        [-0.6597,  0.4058],\n",
      "        [ 0.0929,  0.4016],\n",
      "        [ 0.6115, -0.1461],\n",
      "        [ 0.4378, -0.5815],\n",
      "        [-0.4994, -0.0560],\n",
      "        [-0.0643,  0.3016],\n",
      "        [-0.3611,  0.2124],\n",
      "        [ 0.2506, -0.0392],\n",
      "        [ 0.2460,  0.2383],\n",
      "        [-0.0072,  0.1466],\n",
      "        [ 0.0411,  0.2630],\n",
      "        [-0.2831, -0.4445],\n",
      "        [ 0.0322,  0.6133],\n",
      "        [ 0.3138, -0.6398],\n",
      "        [-0.0807, -0.4586],\n",
      "        [-0.0703, -0.0998],\n",
      "        [ 0.0568, -0.6213],\n",
      "        [ 0.6679, -0.5435],\n",
      "        [-0.3944,  0.1838],\n",
      "        [ 0.1161,  0.6637],\n",
      "        [-0.3694,  0.6740],\n",
      "        [ 0.0792,  0.6309],\n",
      "        [ 0.4160,  0.6234],\n",
      "        [-0.4238,  0.4996],\n",
      "        [-0.3412, -0.1131],\n",
      "        [ 0.4468,  0.4917],\n",
      "        [ 0.5486,  0.0043],\n",
      "        [ 0.6232, -0.6649],\n",
      "        [ 0.2083, -0.1385],\n",
      "        [ 0.2734, -0.3972],\n",
      "        [ 0.5841, -0.5379],\n",
      "        [ 0.5770, -0.4503],\n",
      "        [-0.3892, -0.2909],\n",
      "        [ 0.3867,  0.3980],\n",
      "        [-0.1490, -0.2297],\n",
      "        [ 0.5781, -0.5271],\n",
      "        [-0.1154,  0.4109],\n",
      "        [ 0.1410,  0.2571],\n",
      "        [-0.3133,  0.2287],\n",
      "        [-0.1135,  0.0137],\n",
      "        [-0.6676, -0.6393],\n",
      "        [-0.5783,  0.3709],\n",
      "        [ 0.0029,  0.3023],\n",
      "        [ 0.1140,  0.6530],\n",
      "        [ 0.5913, -0.1134],\n",
      "        [ 0.5016,  0.6148],\n",
      "        [-0.1261, -0.3654],\n",
      "        [ 0.0546, -0.4660],\n",
      "        [-0.5321,  0.3810],\n",
      "        [-0.3424, -0.4806],\n",
      "        [-0.6651, -0.3376],\n",
      "        [-0.6165, -0.4791],\n",
      "        [-0.3181, -0.5968],\n",
      "        [ 0.2250, -0.0029],\n",
      "        [ 0.2213, -0.0686],\n",
      "        [ 0.7069, -0.5210],\n",
      "        [-0.5145, -0.0990],\n",
      "        [-0.2340,  0.4975],\n",
      "        [-0.5473, -0.0520],\n",
      "        [ 0.5354, -0.5769],\n",
      "        [ 0.0230,  0.3182],\n",
      "        [-0.1031, -0.5034],\n",
      "        [-0.4280,  0.1430],\n",
      "        [-0.5184,  0.5090],\n",
      "        [-0.5043,  0.2399],\n",
      "        [-0.5161, -0.6661],\n",
      "        [ 0.4732,  0.5059],\n",
      "        [-0.6610, -0.6577],\n",
      "        [-0.3074,  0.6378],\n",
      "        [ 0.3457,  0.4976],\n",
      "        [-0.1815,  0.3110],\n",
      "        [-0.3053,  0.5559],\n",
      "        [-0.5537,  0.2730],\n",
      "        [ 0.1134, -0.5656],\n",
      "        [ 0.4490, -0.7064],\n",
      "        [ 0.4096,  0.1794],\n",
      "        [ 0.3741, -0.4187],\n",
      "        [ 0.5506,  0.4508],\n",
      "        [ 0.4262,  0.1589],\n",
      "        [ 0.4889, -0.6430],\n",
      "        [ 0.5202, -0.3515],\n",
      "        [-0.2262, -0.2407],\n",
      "        [ 0.6741, -0.1883],\n",
      "        [-0.4667, -0.4180],\n",
      "        [-0.4815,  0.4919],\n",
      "        [ 0.0989, -0.6129],\n",
      "        [-0.1706, -0.5718],\n",
      "        [ 0.4642,  0.0381],\n",
      "        [-0.1943,  0.6462],\n",
      "        [-0.0683, -0.1399],\n",
      "        [ 0.1977,  0.4332],\n",
      "        [-0.2340, -0.6743],\n",
      "        [-0.1889, -0.5803],\n",
      "        [-0.2794, -0.4005],\n",
      "        [ 0.2782,  0.5558],\n",
      "        [-0.4249, -0.6657],\n",
      "        [ 0.3219,  0.6407],\n",
      "        [-0.5734,  0.5006],\n",
      "        [-0.5188,  0.3184]], requires_grad=True), Parameter containing:\n",
      "tensor([-0.4247, -0.6692,  0.1579,  0.5976,  0.3587, -0.1616, -0.6843,  0.3253,\n",
      "        -0.3404, -0.3885,  0.4757,  0.4927, -0.3129,  0.2089,  0.2013, -0.0377,\n",
      "        -0.0717, -0.3747, -0.2463,  0.5721,  0.3171, -0.6162,  0.4287,  0.4425,\n",
      "        -0.3833, -0.1098, -0.0505, -0.2623,  0.1531, -0.1655, -0.1423,  0.5921,\n",
      "         0.5184, -0.6845, -0.5526,  0.4342,  0.2713, -0.7070, -0.2400,  0.6638,\n",
      "         0.3187, -0.6550, -0.2538,  0.0660, -0.5274, -0.0550,  0.3864,  0.2850,\n",
      "         0.5249, -0.5247,  0.6203,  0.0712,  0.2450, -0.6759, -0.0166, -0.6366,\n",
      "        -0.0672, -0.0399, -0.3161,  0.7044, -0.0431,  0.0091,  0.0044,  0.3185,\n",
      "         0.0174, -0.3629,  0.1592,  0.1752, -0.6980,  0.1105,  0.6217, -0.3119,\n",
      "        -0.3380, -0.5640, -0.3450, -0.2659,  0.5621,  0.4351,  0.2988,  0.3480,\n",
      "         0.0451,  0.0128, -0.4803,  0.5773,  0.4407,  0.2127, -0.2898, -0.6478,\n",
      "        -0.5898, -0.0862,  0.1442,  0.1191,  0.4244,  0.2864,  0.2411, -0.1082,\n",
      "         0.2809,  0.5829, -0.1308,  0.4332,  0.4584, -0.2692,  0.3879, -0.3990,\n",
      "        -0.1349, -0.4117, -0.2821,  0.0786,  0.3053,  0.3392,  0.4858, -0.4904,\n",
      "         0.6158,  0.6228, -0.2301, -0.0094,  0.7027,  0.4177, -0.2182,  0.3795,\n",
      "        -0.3508,  0.1258, -0.0144,  0.0101, -0.4380, -0.5580, -0.3545,  0.3715,\n",
      "         0.5756, -0.1752, -0.6245,  0.6948, -0.1338, -0.4152, -0.5709, -0.3183,\n",
      "        -0.5294, -0.6492,  0.4293, -0.0686, -0.4530,  0.4619,  0.0800,  0.0909],\n",
      "       requires_grad=True), Parameter containing:\n",
      "tensor([[-0.0245, -0.0243, -0.0398, -0.0618,  0.0562, -0.0078,  0.0734, -0.0115,\n",
      "         -0.0730,  0.0422,  0.0780, -0.0542,  0.0050,  0.0518, -0.0666,  0.0613,\n",
      "          0.0261, -0.0665, -0.0560, -0.0689,  0.0151,  0.0484, -0.0231,  0.0454,\n",
      "          0.0401,  0.0534,  0.0101, -0.0542,  0.0013,  0.0127,  0.0270,  0.0628,\n",
      "         -0.0256,  0.0434, -0.0325,  0.0239, -0.0086,  0.0666, -0.0298, -0.0450,\n",
      "         -0.0026, -0.0799, -0.0438, -0.0140,  0.0087, -0.0253, -0.0543, -0.0427,\n",
      "          0.0004,  0.0492,  0.0431,  0.0447,  0.0156,  0.0468,  0.0039, -0.0103,\n",
      "          0.0316, -0.0310, -0.0612, -0.0776,  0.0005,  0.0163, -0.0030,  0.0058,\n",
      "         -0.0480,  0.0209,  0.0471, -0.0476,  0.0127,  0.0281,  0.0406, -0.0199,\n",
      "         -0.0778, -0.0208, -0.0125, -0.0389,  0.0827, -0.0102,  0.0827,  0.0176,\n",
      "          0.0281, -0.0823,  0.0562,  0.0256, -0.0212,  0.0159, -0.0659,  0.0737,\n",
      "          0.0283, -0.0071,  0.0474,  0.0795, -0.0010,  0.0251,  0.0321, -0.0831,\n",
      "         -0.0298,  0.0744,  0.0454,  0.0237,  0.0214,  0.0637, -0.0701,  0.0681,\n",
      "          0.0557, -0.0744,  0.0197, -0.0349, -0.0068, -0.0318,  0.0630,  0.0343,\n",
      "         -0.0312, -0.0303, -0.0195, -0.0073, -0.0438,  0.0259,  0.0192, -0.0459,\n",
      "          0.0450,  0.0512,  0.0211,  0.0024, -0.0428, -0.0012, -0.0655, -0.0365,\n",
      "         -0.0823, -0.0057,  0.0777, -0.0678, -0.0739,  0.0493, -0.0387,  0.0522,\n",
      "         -0.0508,  0.0404, -0.0392,  0.0552, -0.0532,  0.0183, -0.0547,  0.0193],\n",
      "        [ 0.0788, -0.0246, -0.0058,  0.0385,  0.0078, -0.0397, -0.0275, -0.0165,\n",
      "         -0.0547, -0.0051,  0.0096, -0.0492,  0.0263, -0.0435, -0.0333, -0.0192,\n",
      "          0.0174,  0.0832, -0.0665, -0.0036, -0.0332,  0.0401,  0.0265, -0.0073,\n",
      "          0.0039,  0.0679, -0.0551, -0.0678, -0.0196,  0.0754,  0.0638, -0.0263,\n",
      "         -0.0249,  0.0580, -0.0419, -0.0710,  0.0301,  0.0748, -0.0646,  0.0090,\n",
      "          0.0007,  0.0326, -0.0421,  0.0569,  0.0457,  0.0305,  0.0076,  0.0762,\n",
      "         -0.0598, -0.0099, -0.0193,  0.0228, -0.0285, -0.0300,  0.0586,  0.0798,\n",
      "         -0.0280, -0.0487, -0.0532, -0.0371, -0.0320, -0.0753, -0.0712, -0.0775,\n",
      "          0.0449,  0.0035, -0.0144,  0.0222, -0.0805,  0.0694,  0.0383, -0.0567,\n",
      "         -0.0652,  0.0547,  0.0445,  0.0085,  0.0017,  0.0371,  0.0709, -0.0599,\n",
      "         -0.0386, -0.0747, -0.0235,  0.0161, -0.0398,  0.0728, -0.0234,  0.0201,\n",
      "         -0.0443,  0.0491,  0.0152,  0.0308, -0.0812,  0.0306, -0.0390, -0.0056,\n",
      "          0.0678,  0.0581, -0.0802, -0.0773, -0.0512,  0.0110,  0.0535,  0.0486,\n",
      "          0.0372,  0.0073, -0.0178,  0.0286,  0.0832, -0.0050,  0.0452,  0.0811,\n",
      "          0.0468, -0.0038, -0.0083, -0.0481, -0.0832,  0.0573,  0.0370,  0.0234,\n",
      "         -0.0601,  0.0134,  0.0620, -0.0552, -0.0321,  0.0377, -0.0698,  0.0510,\n",
      "          0.0628, -0.0274, -0.0048,  0.0265, -0.0445,  0.0303, -0.0113, -0.0016,\n",
      "         -0.0089,  0.0698,  0.0469, -0.0452,  0.0194,  0.0443,  0.0101, -0.0032]],\n",
      "       requires_grad=True), Parameter containing:\n",
      "tensor([-0.0224, -0.0186], requires_grad=True)]\n"
     ]
    }
   ],
   "source": [
    "# main クラス\n",
    "cartpole_env = myEnvironment(spot_price / 10 , spot_price * 2 , True , volatility , dividend_rate , risk_free_rate , strike_price , maturity , dt , pricer_steps)"
   ]
  },
  {
   "cell_type": "code",
   "execution_count": 550,
   "metadata": {},
   "outputs": [
    {
     "name": "stdout",
     "output_type": "stream",
     "text": [
      "finished 0 percent (0 / 100)\n",
      "S : 190.20 / t : 0.20 / exercise value : 60.20 / error : -0.00\n",
      "finished 1 percent (1 / 100)\n",
      "S : 97.58 / t : 0.60 / exercise value : -32.42 / error : -32.47\n",
      "finished 2 percent (2 / 100)\n",
      "S : 130.11 / t : 0.30 / exercise value : 0.11 / error : -7.98\n",
      "finished 3 percent (3 / 100)\n",
      "S : 243.29 / t : 0.40 / exercise value : 113.29 / error : 0.00\n",
      "finished 4 percent (4 / 100)\n",
      "S : 69.30 / t : 1.00 / exercise value : 0.00 / error : 0.00\n",
      "finished 5 percent (5 / 100)\n",
      "S : 119.11 / t : 1.00 / exercise value : 0.00 / error : 0.00\n",
      "finished 6 percent (6 / 100)\n",
      "S : 48.04 / t : 0.50 / exercise value : -81.96 / error : -81.96\n",
      "finished 7 percent (7 / 100)\n",
      "S : 137.16 / t : 0.00 / exercise value : 7.16 / error : -6.41\n",
      "finished 8 percent (8 / 100)\n",
      "S : 120.70 / t : 0.00 / exercise value : -9.30 / error : -14.69\n",
      "finished 9 percent (9 / 100)\n",
      "S : 129.69 / t : 0.00 / exercise value : -0.31 / error : -9.62\n",
      "finished 10 percent (10 / 100)\n",
      "S : 38.57 / t : 1.00 / exercise value : 0.00 / error : 0.00\n",
      "finished 11 percent (11 / 100)\n",
      "S : 219.72 / t : 0.90 / exercise value : 89.72 / error : 0.00\n",
      "finished 12 percent (12 / 100)\n",
      "S : 164.24 / t : 1.00 / exercise value : 34.24 / error : 0.00\n",
      "finished 13 percent (13 / 100)\n",
      "S : 222.09 / t : 1.00 / exercise value : 92.09 / error : 0.00\n",
      "finished 14 percent (14 / 100)\n",
      "S : 100.62 / t : 0.40 / exercise value : -29.38 / error : -29.69\n",
      "finished 15 percent (15 / 100)\n",
      "S : 132.10 / t : 0.00 / exercise value : 2.10 / error : -8.52\n",
      "finished 16 percent (16 / 100)\n",
      "S : 91.70 / t : 0.30 / exercise value : -38.30 / error : -38.40\n",
      "finished 17 percent (17 / 100)\n",
      "S : 17.96 / t : 1.00 / exercise value : 0.00 / error : 0.00\n",
      "finished 18 percent (18 / 100)\n",
      "S : 209.45 / t : 1.00 / exercise value : 79.45 / error : 0.00\n",
      "finished 19 percent (19 / 100)\n",
      "S : 193.79 / t : 1.00 / exercise value : 63.79 / error : 0.00\n",
      "finished 20 percent (20 / 100)\n",
      "S : 235.00 / t : 1.00 / exercise value : 105.00 / error : 0.00\n",
      "finished 21 percent (21 / 100)\n",
      "S : 46.18 / t : 1.00 / exercise value : 0.00 / error : 0.00\n",
      "finished 22 percent (22 / 100)\n",
      "S : 72.76 / t : 1.00 / exercise value : 0.00 / error : 0.00\n",
      "finished 23 percent (23 / 100)\n",
      "S : 126.53 / t : 1.00 / exercise value : 0.00 / error : 0.00\n",
      "finished 24 percent (24 / 100)\n",
      "S : 148.96 / t : 1.00 / exercise value : 18.96 / error : 0.00\n",
      "finished 25 percent (25 / 100)\n",
      "S : 272.90 / t : 1.00 / exercise value : 142.90 / error : 0.00\n",
      "finished 26 percent (26 / 100)\n",
      "S : 106.74 / t : 1.00 / exercise value : 0.00 / error : 0.00\n",
      "finished 27 percent (27 / 100)\n",
      "S : 204.05 / t : 1.00 / exercise value : 74.05 / error : 0.00\n",
      "finished 28 percent (28 / 100)\n",
      "S : 119.57 / t : 1.00 / exercise value : 0.00 / error : 0.00\n",
      "finished 29 percent (29 / 100)\n",
      "S : 20.42 / t : 1.00 / exercise value : 0.00 / error : 0.00\n",
      "finished 30 percent (30 / 100)\n",
      "S : 131.47 / t : 1.00 / exercise value : 1.47 / error : 0.00\n",
      "finished 31 percent (31 / 100)\n",
      "S : 56.83 / t : 1.00 / exercise value : 0.00 / error : 0.00\n",
      "finished 32 percent (32 / 100)\n",
      "S : 198.93 / t : 1.00 / exercise value : 68.93 / error : 0.00\n",
      "finished 33 percent (33 / 100)\n",
      "S : 125.27 / t : 1.00 / exercise value : 0.00 / error : 0.00\n",
      "finished 34 percent (34 / 100)\n",
      "S : 98.14 / t : 1.00 / exercise value : 0.00 / error : 0.00\n",
      "finished 35 percent (35 / 100)\n",
      "S : 107.03 / t : 1.00 / exercise value : 0.00 / error : 0.00\n",
      "finished 36 percent (36 / 100)\n",
      "S : 145.55 / t : 1.00 / exercise value : 15.55 / error : 0.00\n",
      "finished 37 percent (37 / 100)\n",
      "S : 107.15 / t : 1.00 / exercise value : 0.00 / error : 0.00\n",
      "finished 38 percent (38 / 100)\n",
      "S : 50.24 / t : 1.00 / exercise value : 0.00 / error : 0.00\n",
      "finished 39 percent (39 / 100)\n",
      "S : 176.10 / t : 1.00 / exercise value : 46.10 / error : 0.00\n",
      "finished 40 percent (40 / 100)\n",
      "S : 103.75 / t : 1.00 / exercise value : 0.00 / error : 0.00\n",
      "finished 41 percent (41 / 100)\n",
      "S : 114.30 / t : 1.00 / exercise value : 0.00 / error : 0.00\n",
      "finished 42 percent (42 / 100)\n",
      "S : 209.37 / t : 1.00 / exercise value : 79.37 / error : 0.00\n",
      "finished 43 percent (43 / 100)\n",
      "S : 89.06 / t : 1.00 / exercise value : 0.00 / error : 0.00\n",
      "finished 44 percent (44 / 100)\n",
      "S : 77.29 / t : 1.00 / exercise value : 0.00 / error : 0.00\n",
      "finished 45 percent (45 / 100)\n",
      "S : 48.95 / t : 1.00 / exercise value : 0.00 / error : 0.00\n",
      "finished 46 percent (46 / 100)\n",
      "S : 58.25 / t : 1.00 / exercise value : 0.00 / error : 0.00\n",
      "finished 47 percent (47 / 100)\n",
      "S : 136.04 / t : 1.00 / exercise value : 6.04 / error : 0.00\n",
      "finished 48 percent (48 / 100)\n",
      "S : 143.28 / t : 1.00 / exercise value : 13.28 / error : 0.00\n",
      "finished 49 percent (49 / 100)\n",
      "S : 125.29 / t : 1.00 / exercise value : 0.00 / error : 0.00\n",
      "finished 50 percent (50 / 100)\n",
      "S : 111.19 / t : 1.00 / exercise value : 0.00 / error : 0.00\n",
      "finished 51 percent (51 / 100)\n",
      "S : 105.18 / t : 1.00 / exercise value : 0.00 / error : 0.00\n",
      "finished 52 percent (52 / 100)\n",
      "S : 17.16 / t : 1.00 / exercise value : 0.00 / error : 0.00\n",
      "finished 53 percent (53 / 100)\n",
      "S : 245.19 / t : 1.00 / exercise value : 115.19 / error : 0.00\n",
      "finished 54 percent (54 / 100)\n",
      "S : 180.74 / t : 1.00 / exercise value : 50.74 / error : 0.00\n",
      "finished 55 percent (55 / 100)\n",
      "S : 180.28 / t : 0.50 / exercise value : 50.28 / error : 0.00\n",
      "finished 56 percent (56 / 100)\n",
      "S : 157.80 / t : 0.00 / exercise value : 27.80 / error : -1.29\n",
      "finished 57 percent (57 / 100)\n",
      "S : 303.11 / t : 0.30 / exercise value : 173.11 / error : 0.00\n",
      "finished 58 percent (58 / 100)\n",
      "S : 123.87 / t : 1.00 / exercise value : 0.00 / error : 0.00\n",
      "finished 59 percent (59 / 100)\n",
      "S : 242.98 / t : 1.00 / exercise value : 112.98 / error : 0.00\n",
      "finished 60 percent (60 / 100)\n",
      "S : 217.74 / t : 1.00 / exercise value : 87.74 / error : 0.00\n",
      "finished 61 percent (61 / 100)\n",
      "S : 49.38 / t : 1.00 / exercise value : 0.00 / error : 0.00\n",
      "finished 62 percent (62 / 100)\n",
      "S : 231.16 / t : 0.70 / exercise value : 101.16 / error : 0.00\n",
      "finished 63 percent (63 / 100)\n",
      "S : 175.94 / t : 0.10 / exercise value : 45.94 / error : 0.00\n",
      "finished 64 percent (64 / 100)\n",
      "S : 96.06 / t : 0.10 / exercise value : -33.94 / error : -34.35\n",
      "finished 65 percent (65 / 100)\n",
      "S : 186.89 / t : 0.00 / exercise value : 56.89 / error : 0.00\n",
      "finished 66 percent (66 / 100)\n",
      "S : 192.24 / t : 0.00 / exercise value : 62.24 / error : 0.00\n",
      "finished 67 percent (67 / 100)\n",
      "S : 170.61 / t : 0.00 / exercise value : 40.61 / error : -0.18\n",
      "finished 68 percent (68 / 100)\n",
      "S : 207.03 / t : 0.00 / exercise value : 77.03 / error : -0.00\n",
      "finished 69 percent (69 / 100)\n",
      "S : 22.30 / t : 0.90 / exercise value : -107.70 / error : -107.70\n",
      "finished 70 percent (70 / 100)\n",
      "S : 208.35 / t : 0.10 / exercise value : 78.35 / error : 0.00\n",
      "finished 71 percent (71 / 100)\n",
      "S : 254.98 / t : 0.00 / exercise value : 124.98 / error : 0.00\n",
      "finished 72 percent (72 / 100)\n",
      "S : 253.66 / t : 0.00 / exercise value : 123.66 / error : 0.00\n",
      "finished 73 percent (73 / 100)\n",
      "S : 164.67 / t : 0.00 / exercise value : 34.67 / error : -0.55\n",
      "finished 74 percent (74 / 100)\n",
      "S : 131.78 / t : 0.00 / exercise value : 1.78 / error : -8.66\n",
      "finished 75 percent (75 / 100)\n",
      "S : 222.85 / t : 0.00 / exercise value : 92.85 / error : 0.00\n",
      "finished 76 percent (76 / 100)\n",
      "S : 127.02 / t : 0.50 / exercise value : -2.98 / error : -8.44\n",
      "finished 77 percent (77 / 100)\n",
      "S : 180.40 / t : 0.00 / exercise value : 50.40 / error : 0.00\n",
      "finished 78 percent (78 / 100)\n",
      "S : 196.84 / t : 0.00 / exercise value : 66.84 / error : -0.00\n",
      "finished 79 percent (79 / 100)\n",
      "S : 230.54 / t : 0.00 / exercise value : 100.54 / error : 0.00\n",
      "finished 80 percent (80 / 100)\n",
      "S : 108.22 / t : 0.00 / exercise value : -21.78 / error : -23.79\n",
      "finished 81 percent (81 / 100)\n",
      "S : 199.46 / t : 0.00 / exercise value : 69.46 / error : 0.00\n",
      "finished 82 percent (82 / 100)\n",
      "S : 84.11 / t : 0.00 / exercise value : -45.89 / error : -45.97\n",
      "finished 83 percent (83 / 100)\n",
      "S : 55.63 / t : 0.00 / exercise value : -74.37 / error : -74.37\n",
      "finished 84 percent (84 / 100)\n",
      "S : 128.75 / t : 0.00 / exercise value : -1.25 / error : -10.11\n",
      "finished 85 percent (85 / 100)\n",
      "S : 131.39 / t : 0.90 / exercise value : 1.39 / error : -2.53\n",
      "finished 86 percent (86 / 100)\n",
      "S : 109.74 / t : 0.10 / exercise value : -20.26 / error : -22.28\n",
      "finished 87 percent (87 / 100)\n",
      "S : 182.44 / t : 0.00 / exercise value : 52.44 / error : -0.00\n",
      "finished 88 percent (88 / 100)\n",
      "S : 124.15 / t : 0.00 / exercise value : -5.85 / error : -12.60\n",
      "finished 89 percent (89 / 100)\n",
      "S : 72.64 / t : 0.00 / exercise value : -57.36 / error : -57.37\n",
      "finished 90 percent (90 / 100)\n",
      "S : 143.70 / t : 0.00 / exercise value : 13.70 / error : -4.24\n",
      "finished 91 percent (91 / 100)\n",
      "S : 124.05 / t : 0.00 / exercise value : -5.95 / error : -12.66\n",
      "finished 92 percent (92 / 100)\n",
      "S : 84.77 / t : 0.00 / exercise value : -45.23 / error : -45.33\n",
      "finished 93 percent (93 / 100)\n",
      "S : 122.09 / t : 0.00 / exercise value : -7.91 / error : -13.85\n",
      "finished 94 percent (94 / 100)\n",
      "S : 104.22 / t : 0.00 / exercise value : -25.78 / error : -27.14\n",
      "finished 95 percent (95 / 100)\n",
      "S : 92.73 / t : 0.00 / exercise value : -37.27 / error : -37.61\n",
      "finished 96 percent (96 / 100)\n",
      "S : 208.79 / t : 0.00 / exercise value : 78.79 / error : -0.00\n",
      "finished 97 percent (97 / 100)\n",
      "S : 79.44 / t : 0.00 / exercise value : -50.56 / error : -50.60\n",
      "finished 98 percent (98 / 100)\n",
      "S : 166.60 / t : 0.00 / exercise value : 36.60 / error : -0.41\n",
      "finished 99 percent (99 / 100)\n",
      "S : 93.87 / t : 1.00 / exercise value : 0.00 / error : 0.00\n"
     ]
    }
   ],
   "source": [
    "cartpole_env.run(100, False)"
   ]
  },
  {
   "cell_type": "code",
   "execution_count": 459,
   "metadata": {},
   "outputs": [
    {
     "name": "stdout",
     "output_type": "stream",
     "text": [
      "finished 1 percent (2000 / 200000)\n",
      "finished 2 percent (4000 / 200000)\n",
      "finished 3 percent (6000 / 200000)\n",
      "finished 4 percent (8000 / 200000)\n",
      "finished 5 percent (10000 / 200000)\n",
      "finished 6 percent (12000 / 200000)\n",
      "finished 7 percent (14000 / 200000)\n",
      "finished 8 percent (16000 / 200000)\n",
      "finished 9 percent (18000 / 200000)\n",
      "finished 10 percent (20000 / 200000)\n",
      "finished 11 percent (22000 / 200000)\n",
      "finished 12 percent (24000 / 200000)\n",
      "finished 13 percent (26000 / 200000)\n",
      "finished 14 percent (28000 / 200000)\n",
      "finished 15 percent (30000 / 200000)\n",
      "finished 16 percent (32000 / 200000)\n",
      "finished 17 percent (34000 / 200000)\n",
      "finished 18 percent (36000 / 200000)\n",
      "finished 19 percent (38000 / 200000)\n",
      "finished 20 percent (40000 / 200000)\n",
      "finished 21 percent (42000 / 200000)\n",
      "finished 22 percent (44000 / 200000)\n",
      "finished 23 percent (46000 / 200000)\n",
      "finished 24 percent (48000 / 200000)\n",
      "finished 25 percent (50000 / 200000)\n",
      "finished 26 percent (52000 / 200000)\n",
      "finished 27 percent (54000 / 200000)\n",
      "finished 28 percent (56000 / 200000)\n",
      "finished 29 percent (58000 / 200000)\n",
      "finished 30 percent (60000 / 200000)\n",
      "finished 31 percent (62000 / 200000)\n",
      "finished 32 percent (64000 / 200000)\n",
      "finished 33 percent (66000 / 200000)\n",
      "finished 34 percent (68000 / 200000)\n",
      "finished 35 percent (70000 / 200000)\n",
      "finished 36 percent (72000 / 200000)\n",
      "finished 37 percent (74000 / 200000)\n",
      "finished 38 percent (76000 / 200000)\n",
      "finished 39 percent (78000 / 200000)\n",
      "finished 40 percent (80000 / 200000)\n",
      "finished 41 percent (82000 / 200000)\n",
      "finished 42 percent (84000 / 200000)\n",
      "finished 43 percent (86000 / 200000)\n",
      "finished 44 percent (88000 / 200000)\n",
      "finished 45 percent (90000 / 200000)\n",
      "finished 46 percent (92000 / 200000)\n",
      "finished 47 percent (94000 / 200000)\n",
      "finished 48 percent (96000 / 200000)\n",
      "finished 49 percent (98000 / 200000)\n",
      "finished 50 percent (100000 / 200000)\n",
      "finished 51 percent (102000 / 200000)\n",
      "finished 52 percent (104000 / 200000)\n",
      "finished 53 percent (106000 / 200000)\n",
      "finished 54 percent (108000 / 200000)\n",
      "finished 55 percent (110000 / 200000)\n",
      "finished 56 percent (112000 / 200000)\n",
      "finished 57 percent (114000 / 200000)\n",
      "finished 58 percent (116000 / 200000)\n",
      "finished 59 percent (118000 / 200000)\n",
      "finished 60 percent (120000 / 200000)\n",
      "finished 61 percent (122000 / 200000)\n",
      "finished 62 percent (124000 / 200000)\n",
      "finished 63 percent (126000 / 200000)\n",
      "finished 64 percent (128000 / 200000)\n",
      "finished 65 percent (130000 / 200000)\n",
      "finished 66 percent (132000 / 200000)\n",
      "finished 67 percent (134000 / 200000)\n",
      "finished 68 percent (136000 / 200000)\n",
      "finished 69 percent (138000 / 200000)\n",
      "finished 70 percent (140000 / 200000)\n",
      "finished 71 percent (142000 / 200000)\n",
      "finished 72 percent (144000 / 200000)\n",
      "finished 73 percent (146000 / 200000)\n",
      "finished 74 percent (148000 / 200000)\n",
      "finished 75 percent (150000 / 200000)\n",
      "finished 76 percent (152000 / 200000)\n",
      "finished 77 percent (154000 / 200000)\n",
      "finished 78 percent (156000 / 200000)\n",
      "finished 79 percent (158000 / 200000)\n",
      "finished 80 percent (160000 / 200000)\n",
      "finished 81 percent (162000 / 200000)\n",
      "finished 82 percent (164000 / 200000)\n",
      "finished 83 percent (166000 / 200000)\n",
      "finished 84 percent (168000 / 200000)\n",
      "finished 85 percent (170000 / 200000)\n",
      "finished 86 percent (172000 / 200000)\n",
      "finished 87 percent (174000 / 200000)\n",
      "finished 88 percent (176000 / 200000)\n",
      "finished 89 percent (178000 / 200000)\n",
      "finished 90 percent (180000 / 200000)\n",
      "finished 91 percent (182000 / 200000)\n",
      "finished 92 percent (184000 / 200000)\n",
      "finished 93 percent (186000 / 200000)\n",
      "finished 94 percent (188000 / 200000)\n",
      "finished 95 percent (190000 / 200000)\n",
      "finished 96 percent (192000 / 200000)\n",
      "finished 97 percent (194000 / 200000)\n",
      "finished 98 percent (196000 / 200000)\n",
      "finished 99 percent (198000 / 200000)\n"
     ]
    }
   ],
   "source": [
    "cartpole_env.run(200000, True)"
   ]
  },
  {
   "cell_type": "markdown",
   "metadata": {},
   "source": [
    "cartpole_env.run(2000000, True)"
   ]
  },
  {
   "cell_type": "markdown",
   "metadata": {},
   "source": [
    "# predict\n"
   ]
  },
  {
   "cell_type": "code",
   "execution_count": 520,
   "metadata": {},
   "outputs": [],
   "source": [
    "model = cartpole_env.agent.brain.model"
   ]
  },
  {
   "cell_type": "code",
   "execution_count": 521,
   "metadata": {},
   "outputs": [
    {
     "data": {
      "text/plain": [
       "Sequential(\n",
       "  (fc1): Linear(in_features=2, out_features=144, bias=True)\n",
       "  (relu1): ReLU()\n",
       "  (fc3): Linear(in_features=144, out_features=2, bias=True)\n",
       ")"
      ]
     },
     "execution_count": 521,
     "metadata": {},
     "output_type": "execute_result"
    }
   ],
   "source": [
    "model.eval()"
   ]
  },
  {
   "cell_type": "code",
   "execution_count": 522,
   "metadata": {},
   "outputs": [],
   "source": [
    "run_underliers = [float(i) * 10 for i in range(1 , 20)]"
   ]
  },
  {
   "cell_type": "code",
   "execution_count": 533,
   "metadata": {},
   "outputs": [],
   "source": [
    "run_t = 0.2"
   ]
  },
  {
   "cell_type": "code",
   "execution_count": 534,
   "metadata": {},
   "outputs": [],
   "source": [
    "run_input = torch.tensor([\n",
    "    [s , run_t] for s in run_underliers\n",
    "])"
   ]
  },
  {
   "cell_type": "code",
   "execution_count": 535,
   "metadata": {},
   "outputs": [],
   "source": [
    "run_outputs = model(run_input)"
   ]
  },
  {
   "cell_type": "code",
   "execution_count": 536,
   "metadata": {},
   "outputs": [],
   "source": [
    "import pandas as pd"
   ]
  },
  {
   "cell_type": "code",
   "execution_count": 537,
   "metadata": {},
   "outputs": [],
   "source": [
    "df_output = pd.DataFrame({\"underlier\" : run_underliers, \n",
    "              \"value0\" : [x.item() for x in run_outputs[:,0]]  , \n",
    "              \"value1\" : [x.item() for x in run_outputs[:,1]] } )"
   ]
  },
  {
   "cell_type": "code",
   "execution_count": 538,
   "metadata": {},
   "outputs": [
    {
     "data": {
      "text/html": [
       "\n",
       "    <div class=\"bk-root\">\n",
       "        <a href=\"https://bokeh.pydata.org\" target=\"_blank\" class=\"bk-logo bk-logo-small bk-logo-notebook\"></a>\n",
       "        <span id=\"8df8c5b4-2a9e-446b-91f1-215eed36ed94\">Loading BokehJS ...</span>\n",
       "    </div>"
      ]
     },
     "metadata": {},
     "output_type": "display_data"
    },
    {
     "data": {
      "application/javascript": [
       "\n",
       "(function(root) {\n",
       "  function now() {\n",
       "    return new Date();\n",
       "  }\n",
       "\n",
       "  var force = true;\n",
       "\n",
       "  if (typeof (root._bokeh_onload_callbacks) === \"undefined\" || force === true) {\n",
       "    root._bokeh_onload_callbacks = [];\n",
       "    root._bokeh_is_loading = undefined;\n",
       "  }\n",
       "\n",
       "  var JS_MIME_TYPE = 'application/javascript';\n",
       "  var HTML_MIME_TYPE = 'text/html';\n",
       "  var EXEC_MIME_TYPE = 'application/vnd.bokehjs_exec.v0+json';\n",
       "  var CLASS_NAME = 'output_bokeh rendered_html';\n",
       "\n",
       "  /**\n",
       "   * Render data to the DOM node\n",
       "   */\n",
       "  function render(props, node) {\n",
       "    var script = document.createElement(\"script\");\n",
       "    node.appendChild(script);\n",
       "  }\n",
       "\n",
       "  /**\n",
       "   * Handle when an output is cleared or removed\n",
       "   */\n",
       "  function handleClearOutput(event, handle) {\n",
       "    var cell = handle.cell;\n",
       "\n",
       "    var id = cell.output_area._bokeh_element_id;\n",
       "    var server_id = cell.output_area._bokeh_server_id;\n",
       "    // Clean up Bokeh references\n",
       "    if (id !== undefined) {\n",
       "      Bokeh.index[id].model.document.clear();\n",
       "      delete Bokeh.index[id];\n",
       "    }\n",
       "\n",
       "    if (server_id !== undefined) {\n",
       "      // Clean up Bokeh references\n",
       "      var cmd = \"from bokeh.io.state import curstate; print(curstate().uuid_to_server['\" + server_id + \"'].get_sessions()[0].document.roots[0]._id)\";\n",
       "      cell.notebook.kernel.execute(cmd, {\n",
       "        iopub: {\n",
       "          output: function(msg) {\n",
       "            var element_id = msg.content.text.trim();\n",
       "            Bokeh.index[element_id].model.document.clear();\n",
       "            delete Bokeh.index[element_id];\n",
       "          }\n",
       "        }\n",
       "      });\n",
       "      // Destroy server and session\n",
       "      var cmd = \"import bokeh.io.notebook as ion; ion.destroy_server('\" + server_id + \"')\";\n",
       "      cell.notebook.kernel.execute(cmd);\n",
       "    }\n",
       "  }\n",
       "\n",
       "  /**\n",
       "   * Handle when a new output is added\n",
       "   */\n",
       "  function handleAddOutput(event, handle) {\n",
       "    var output_area = handle.output_area;\n",
       "    var output = handle.output;\n",
       "\n",
       "    // limit handleAddOutput to display_data with EXEC_MIME_TYPE content only\n",
       "    if ((output.output_type != \"display_data\") || (!output.data.hasOwnProperty(EXEC_MIME_TYPE))) {\n",
       "      return\n",
       "    }\n",
       "\n",
       "    var toinsert = output_area.element.find(\".\" + CLASS_NAME.split(' ')[0]);\n",
       "\n",
       "    if (output.metadata[EXEC_MIME_TYPE][\"id\"] !== undefined) {\n",
       "      toinsert[0].firstChild.textContent = output.data[JS_MIME_TYPE];\n",
       "      // store reference to embed id on output_area\n",
       "      output_area._bokeh_element_id = output.metadata[EXEC_MIME_TYPE][\"id\"];\n",
       "    }\n",
       "    if (output.metadata[EXEC_MIME_TYPE][\"server_id\"] !== undefined) {\n",
       "      var bk_div = document.createElement(\"div\");\n",
       "      bk_div.innerHTML = output.data[HTML_MIME_TYPE];\n",
       "      var script_attrs = bk_div.children[0].attributes;\n",
       "      for (var i = 0; i < script_attrs.length; i++) {\n",
       "        toinsert[0].firstChild.setAttribute(script_attrs[i].name, script_attrs[i].value);\n",
       "      }\n",
       "      // store reference to server id on output_area\n",
       "      output_area._bokeh_server_id = output.metadata[EXEC_MIME_TYPE][\"server_id\"];\n",
       "    }\n",
       "  }\n",
       "\n",
       "  function register_renderer(events, OutputArea) {\n",
       "\n",
       "    function append_mime(data, metadata, element) {\n",
       "      // create a DOM node to render to\n",
       "      var toinsert = this.create_output_subarea(\n",
       "        metadata,\n",
       "        CLASS_NAME,\n",
       "        EXEC_MIME_TYPE\n",
       "      );\n",
       "      this.keyboard_manager.register_events(toinsert);\n",
       "      // Render to node\n",
       "      var props = {data: data, metadata: metadata[EXEC_MIME_TYPE]};\n",
       "      render(props, toinsert[0]);\n",
       "      element.append(toinsert);\n",
       "      return toinsert\n",
       "    }\n",
       "\n",
       "    /* Handle when an output is cleared or removed */\n",
       "    events.on('clear_output.CodeCell', handleClearOutput);\n",
       "    events.on('delete.Cell', handleClearOutput);\n",
       "\n",
       "    /* Handle when a new output is added */\n",
       "    events.on('output_added.OutputArea', handleAddOutput);\n",
       "\n",
       "    /**\n",
       "     * Register the mime type and append_mime function with output_area\n",
       "     */\n",
       "    OutputArea.prototype.register_mime_type(EXEC_MIME_TYPE, append_mime, {\n",
       "      /* Is output safe? */\n",
       "      safe: true,\n",
       "      /* Index of renderer in `output_area.display_order` */\n",
       "      index: 0\n",
       "    });\n",
       "  }\n",
       "\n",
       "  // register the mime type if in Jupyter Notebook environment and previously unregistered\n",
       "  if (root.Jupyter !== undefined) {\n",
       "    var events = require('base/js/events');\n",
       "    var OutputArea = require('notebook/js/outputarea').OutputArea;\n",
       "\n",
       "    if (OutputArea.prototype.mime_types().indexOf(EXEC_MIME_TYPE) == -1) {\n",
       "      register_renderer(events, OutputArea);\n",
       "    }\n",
       "  }\n",
       "\n",
       "  \n",
       "  if (typeof (root._bokeh_timeout) === \"undefined\" || force === true) {\n",
       "    root._bokeh_timeout = Date.now() + 5000;\n",
       "    root._bokeh_failed_load = false;\n",
       "  }\n",
       "\n",
       "  var NB_LOAD_WARNING = {'data': {'text/html':\n",
       "     \"<div style='background-color: #fdd'>\\n\"+\n",
       "     \"<p>\\n\"+\n",
       "     \"BokehJS does not appear to have successfully loaded. If loading BokehJS from CDN, this \\n\"+\n",
       "     \"may be due to a slow or bad network connection. Possible fixes:\\n\"+\n",
       "     \"</p>\\n\"+\n",
       "     \"<ul>\\n\"+\n",
       "     \"<li>re-rerun `output_notebook()` to attempt to load from CDN again, or</li>\\n\"+\n",
       "     \"<li>use INLINE resources instead, as so:</li>\\n\"+\n",
       "     \"</ul>\\n\"+\n",
       "     \"<code>\\n\"+\n",
       "     \"from bokeh.resources import INLINE\\n\"+\n",
       "     \"output_notebook(resources=INLINE)\\n\"+\n",
       "     \"</code>\\n\"+\n",
       "     \"</div>\"}};\n",
       "\n",
       "  function display_loaded() {\n",
       "    var el = document.getElementById(\"8df8c5b4-2a9e-446b-91f1-215eed36ed94\");\n",
       "    if (el != null) {\n",
       "      el.textContent = \"BokehJS is loading...\";\n",
       "    }\n",
       "    if (root.Bokeh !== undefined) {\n",
       "      if (el != null) {\n",
       "        el.textContent = \"BokehJS \" + root.Bokeh.version + \" successfully loaded.\";\n",
       "      }\n",
       "    } else if (Date.now() < root._bokeh_timeout) {\n",
       "      setTimeout(display_loaded, 100)\n",
       "    }\n",
       "  }\n",
       "\n",
       "\n",
       "  function run_callbacks() {\n",
       "    try {\n",
       "      root._bokeh_onload_callbacks.forEach(function(callback) { callback() });\n",
       "    }\n",
       "    finally {\n",
       "      delete root._bokeh_onload_callbacks\n",
       "    }\n",
       "    console.info(\"Bokeh: all callbacks have finished\");\n",
       "  }\n",
       "\n",
       "  function load_libs(js_urls, callback) {\n",
       "    root._bokeh_onload_callbacks.push(callback);\n",
       "    if (root._bokeh_is_loading > 0) {\n",
       "      console.log(\"Bokeh: BokehJS is being loaded, scheduling callback at\", now());\n",
       "      return null;\n",
       "    }\n",
       "    if (js_urls == null || js_urls.length === 0) {\n",
       "      run_callbacks();\n",
       "      return null;\n",
       "    }\n",
       "    console.log(\"Bokeh: BokehJS not loaded, scheduling load and callback at\", now());\n",
       "    root._bokeh_is_loading = js_urls.length;\n",
       "    for (var i = 0; i < js_urls.length; i++) {\n",
       "      var url = js_urls[i];\n",
       "      var s = document.createElement('script');\n",
       "      s.src = url;\n",
       "      s.async = false;\n",
       "      s.onreadystatechange = s.onload = function() {\n",
       "        root._bokeh_is_loading--;\n",
       "        if (root._bokeh_is_loading === 0) {\n",
       "          console.log(\"Bokeh: all BokehJS libraries loaded\");\n",
       "          run_callbacks()\n",
       "        }\n",
       "      };\n",
       "      s.onerror = function() {\n",
       "        console.warn(\"failed to load library \" + url);\n",
       "      };\n",
       "      console.log(\"Bokeh: injecting script tag for BokehJS library: \", url);\n",
       "      document.getElementsByTagName(\"head\")[0].appendChild(s);\n",
       "    }\n",
       "  };var element = document.getElementById(\"8df8c5b4-2a9e-446b-91f1-215eed36ed94\");\n",
       "  if (element == null) {\n",
       "    console.log(\"Bokeh: ERROR: autoload.js configured with elementid '8df8c5b4-2a9e-446b-91f1-215eed36ed94' but no matching script tag was found. \")\n",
       "    return false;\n",
       "  }\n",
       "\n",
       "  var js_urls = [\"https://cdn.pydata.org/bokeh/release/bokeh-0.12.13.min.js\", \"https://cdn.pydata.org/bokeh/release/bokeh-widgets-0.12.13.min.js\", \"https://cdn.pydata.org/bokeh/release/bokeh-tables-0.12.13.min.js\", \"https://cdn.pydata.org/bokeh/release/bokeh-gl-0.12.13.min.js\"];\n",
       "\n",
       "  var inline_js = [\n",
       "    function(Bokeh) {\n",
       "      Bokeh.set_log_level(\"info\");\n",
       "    },\n",
       "    \n",
       "    function(Bokeh) {\n",
       "      \n",
       "    },\n",
       "    function(Bokeh) {\n",
       "      console.log(\"Bokeh: injecting CSS: https://cdn.pydata.org/bokeh/release/bokeh-0.12.13.min.css\");\n",
       "      Bokeh.embed.inject_css(\"https://cdn.pydata.org/bokeh/release/bokeh-0.12.13.min.css\");\n",
       "      console.log(\"Bokeh: injecting CSS: https://cdn.pydata.org/bokeh/release/bokeh-widgets-0.12.13.min.css\");\n",
       "      Bokeh.embed.inject_css(\"https://cdn.pydata.org/bokeh/release/bokeh-widgets-0.12.13.min.css\");\n",
       "      console.log(\"Bokeh: injecting CSS: https://cdn.pydata.org/bokeh/release/bokeh-tables-0.12.13.min.css\");\n",
       "      Bokeh.embed.inject_css(\"https://cdn.pydata.org/bokeh/release/bokeh-tables-0.12.13.min.css\");\n",
       "    }\n",
       "  ];\n",
       "\n",
       "  function run_inline_js() {\n",
       "    \n",
       "    if ((root.Bokeh !== undefined) || (force === true)) {\n",
       "      for (var i = 0; i < inline_js.length; i++) {\n",
       "        inline_js[i].call(root, root.Bokeh);\n",
       "      }if (force === true) {\n",
       "        display_loaded();\n",
       "      }} else if (Date.now() < root._bokeh_timeout) {\n",
       "      setTimeout(run_inline_js, 100);\n",
       "    } else if (!root._bokeh_failed_load) {\n",
       "      console.log(\"Bokeh: BokehJS failed to load within specified timeout.\");\n",
       "      root._bokeh_failed_load = true;\n",
       "    } else if (force !== true) {\n",
       "      var cell = $(document.getElementById(\"8df8c5b4-2a9e-446b-91f1-215eed36ed94\")).parents('.cell').data().cell;\n",
       "      cell.output_area.append_execute_result(NB_LOAD_WARNING)\n",
       "    }\n",
       "\n",
       "  }\n",
       "\n",
       "  if (root._bokeh_is_loading === 0) {\n",
       "    console.log(\"Bokeh: BokehJS loaded, going straight to plotting\");\n",
       "    run_inline_js();\n",
       "  } else {\n",
       "    load_libs(js_urls, function() {\n",
       "      console.log(\"Bokeh: BokehJS plotting callback run at\", now());\n",
       "      run_inline_js();\n",
       "    });\n",
       "  }\n",
       "}(window));"
      ],
      "application/vnd.bokehjs_load.v0+json": "\n(function(root) {\n  function now() {\n    return new Date();\n  }\n\n  var force = true;\n\n  if (typeof (root._bokeh_onload_callbacks) === \"undefined\" || force === true) {\n    root._bokeh_onload_callbacks = [];\n    root._bokeh_is_loading = undefined;\n  }\n\n  \n\n  \n  if (typeof (root._bokeh_timeout) === \"undefined\" || force === true) {\n    root._bokeh_timeout = Date.now() + 5000;\n    root._bokeh_failed_load = false;\n  }\n\n  var NB_LOAD_WARNING = {'data': {'text/html':\n     \"<div style='background-color: #fdd'>\\n\"+\n     \"<p>\\n\"+\n     \"BokehJS does not appear to have successfully loaded. If loading BokehJS from CDN, this \\n\"+\n     \"may be due to a slow or bad network connection. Possible fixes:\\n\"+\n     \"</p>\\n\"+\n     \"<ul>\\n\"+\n     \"<li>re-rerun `output_notebook()` to attempt to load from CDN again, or</li>\\n\"+\n     \"<li>use INLINE resources instead, as so:</li>\\n\"+\n     \"</ul>\\n\"+\n     \"<code>\\n\"+\n     \"from bokeh.resources import INLINE\\n\"+\n     \"output_notebook(resources=INLINE)\\n\"+\n     \"</code>\\n\"+\n     \"</div>\"}};\n\n  function display_loaded() {\n    var el = document.getElementById(\"8df8c5b4-2a9e-446b-91f1-215eed36ed94\");\n    if (el != null) {\n      el.textContent = \"BokehJS is loading...\";\n    }\n    if (root.Bokeh !== undefined) {\n      if (el != null) {\n        el.textContent = \"BokehJS \" + root.Bokeh.version + \" successfully loaded.\";\n      }\n    } else if (Date.now() < root._bokeh_timeout) {\n      setTimeout(display_loaded, 100)\n    }\n  }\n\n\n  function run_callbacks() {\n    try {\n      root._bokeh_onload_callbacks.forEach(function(callback) { callback() });\n    }\n    finally {\n      delete root._bokeh_onload_callbacks\n    }\n    console.info(\"Bokeh: all callbacks have finished\");\n  }\n\n  function load_libs(js_urls, callback) {\n    root._bokeh_onload_callbacks.push(callback);\n    if (root._bokeh_is_loading > 0) {\n      console.log(\"Bokeh: BokehJS is being loaded, scheduling callback at\", now());\n      return null;\n    }\n    if (js_urls == null || js_urls.length === 0) {\n      run_callbacks();\n      return null;\n    }\n    console.log(\"Bokeh: BokehJS not loaded, scheduling load and callback at\", now());\n    root._bokeh_is_loading = js_urls.length;\n    for (var i = 0; i < js_urls.length; i++) {\n      var url = js_urls[i];\n      var s = document.createElement('script');\n      s.src = url;\n      s.async = false;\n      s.onreadystatechange = s.onload = function() {\n        root._bokeh_is_loading--;\n        if (root._bokeh_is_loading === 0) {\n          console.log(\"Bokeh: all BokehJS libraries loaded\");\n          run_callbacks()\n        }\n      };\n      s.onerror = function() {\n        console.warn(\"failed to load library \" + url);\n      };\n      console.log(\"Bokeh: injecting script tag for BokehJS library: \", url);\n      document.getElementsByTagName(\"head\")[0].appendChild(s);\n    }\n  };var element = document.getElementById(\"8df8c5b4-2a9e-446b-91f1-215eed36ed94\");\n  if (element == null) {\n    console.log(\"Bokeh: ERROR: autoload.js configured with elementid '8df8c5b4-2a9e-446b-91f1-215eed36ed94' but no matching script tag was found. \")\n    return false;\n  }\n\n  var js_urls = [\"https://cdn.pydata.org/bokeh/release/bokeh-0.12.13.min.js\", \"https://cdn.pydata.org/bokeh/release/bokeh-widgets-0.12.13.min.js\", \"https://cdn.pydata.org/bokeh/release/bokeh-tables-0.12.13.min.js\", \"https://cdn.pydata.org/bokeh/release/bokeh-gl-0.12.13.min.js\"];\n\n  var inline_js = [\n    function(Bokeh) {\n      Bokeh.set_log_level(\"info\");\n    },\n    \n    function(Bokeh) {\n      \n    },\n    function(Bokeh) {\n      console.log(\"Bokeh: injecting CSS: https://cdn.pydata.org/bokeh/release/bokeh-0.12.13.min.css\");\n      Bokeh.embed.inject_css(\"https://cdn.pydata.org/bokeh/release/bokeh-0.12.13.min.css\");\n      console.log(\"Bokeh: injecting CSS: https://cdn.pydata.org/bokeh/release/bokeh-widgets-0.12.13.min.css\");\n      Bokeh.embed.inject_css(\"https://cdn.pydata.org/bokeh/release/bokeh-widgets-0.12.13.min.css\");\n      console.log(\"Bokeh: injecting CSS: https://cdn.pydata.org/bokeh/release/bokeh-tables-0.12.13.min.css\");\n      Bokeh.embed.inject_css(\"https://cdn.pydata.org/bokeh/release/bokeh-tables-0.12.13.min.css\");\n    }\n  ];\n\n  function run_inline_js() {\n    \n    if ((root.Bokeh !== undefined) || (force === true)) {\n      for (var i = 0; i < inline_js.length; i++) {\n        inline_js[i].call(root, root.Bokeh);\n      }if (force === true) {\n        display_loaded();\n      }} else if (Date.now() < root._bokeh_timeout) {\n      setTimeout(run_inline_js, 100);\n    } else if (!root._bokeh_failed_load) {\n      console.log(\"Bokeh: BokehJS failed to load within specified timeout.\");\n      root._bokeh_failed_load = true;\n    } else if (force !== true) {\n      var cell = $(document.getElementById(\"8df8c5b4-2a9e-446b-91f1-215eed36ed94\")).parents('.cell').data().cell;\n      cell.output_area.append_execute_result(NB_LOAD_WARNING)\n    }\n\n  }\n\n  if (root._bokeh_is_loading === 0) {\n    console.log(\"Bokeh: BokehJS loaded, going straight to plotting\");\n    run_inline_js();\n  } else {\n    load_libs(js_urls, function() {\n      console.log(\"Bokeh: BokehJS plotting callback run at\", now());\n      run_inline_js();\n    });\n  }\n}(window));"
     },
     "metadata": {},
     "output_type": "display_data"
    }
   ],
   "source": [
    "import bokeh.plotting as bp\n",
    "from bokeh import palettes \n",
    "bp.output_notebook()\n",
    "from bokeh.models import ColumnDataSource"
   ]
  },
  {
   "cell_type": "code",
   "execution_count": 539,
   "metadata": {},
   "outputs": [],
   "source": [
    "p = bp.figure()"
   ]
  },
  {
   "cell_type": "markdown",
   "metadata": {},
   "source": [
    "value0は継続価値"
   ]
  },
  {
   "cell_type": "code",
   "execution_count": 540,
   "metadata": {},
   "outputs": [
    {
     "data": {
      "text/html": [
       "<div style=\"display: table;\"><div style=\"display: table-row;\"><div style=\"display: table-cell;\"><b title=\"bokeh.models.renderers.GlyphRenderer\">GlyphRenderer</b>(</div><div style=\"display: table-cell;\">id&nbsp;=&nbsp;'6908d5a2-27d1-4563-b73f-dfacf45db016', <span id=\"f38ba5c0-cbe1-4154-a60a-7962f499c23b\" style=\"cursor: pointer;\">&hellip;)</span></div></div><div class=\"dafb1b04-efc3-4ba7-bf13-7e741ed66682\" style=\"display: none;\"><div style=\"display: table-cell;\"></div><div style=\"display: table-cell;\">data_source&nbsp;=&nbsp;ColumnDataSource(id='bc0c156a-db87-4d84-8841-cfcff4198156', ...),</div></div><div class=\"dafb1b04-efc3-4ba7-bf13-7e741ed66682\" style=\"display: none;\"><div style=\"display: table-cell;\"></div><div style=\"display: table-cell;\">glyph&nbsp;=&nbsp;Circle(id='5ab6e827-d0db-4d18-a64c-52a83deeefb2', ...),</div></div><div class=\"dafb1b04-efc3-4ba7-bf13-7e741ed66682\" style=\"display: none;\"><div style=\"display: table-cell;\"></div><div style=\"display: table-cell;\">hover_glyph&nbsp;=&nbsp;None,</div></div><div class=\"dafb1b04-efc3-4ba7-bf13-7e741ed66682\" style=\"display: none;\"><div style=\"display: table-cell;\"></div><div style=\"display: table-cell;\">js_event_callbacks&nbsp;=&nbsp;{},</div></div><div class=\"dafb1b04-efc3-4ba7-bf13-7e741ed66682\" style=\"display: none;\"><div style=\"display: table-cell;\"></div><div style=\"display: table-cell;\">js_property_callbacks&nbsp;=&nbsp;{},</div></div><div class=\"dafb1b04-efc3-4ba7-bf13-7e741ed66682\" style=\"display: none;\"><div style=\"display: table-cell;\"></div><div style=\"display: table-cell;\">level&nbsp;=&nbsp;'glyph',</div></div><div class=\"dafb1b04-efc3-4ba7-bf13-7e741ed66682\" style=\"display: none;\"><div style=\"display: table-cell;\"></div><div style=\"display: table-cell;\">muted&nbsp;=&nbsp;False,</div></div><div class=\"dafb1b04-efc3-4ba7-bf13-7e741ed66682\" style=\"display: none;\"><div style=\"display: table-cell;\"></div><div style=\"display: table-cell;\">muted_glyph&nbsp;=&nbsp;None,</div></div><div class=\"dafb1b04-efc3-4ba7-bf13-7e741ed66682\" style=\"display: none;\"><div style=\"display: table-cell;\"></div><div style=\"display: table-cell;\">name&nbsp;=&nbsp;None,</div></div><div class=\"dafb1b04-efc3-4ba7-bf13-7e741ed66682\" style=\"display: none;\"><div style=\"display: table-cell;\"></div><div style=\"display: table-cell;\">nonselection_glyph&nbsp;=&nbsp;Circle(id='663f3b34-9d0c-4340-894f-9bc583c398d9', ...),</div></div><div class=\"dafb1b04-efc3-4ba7-bf13-7e741ed66682\" style=\"display: none;\"><div style=\"display: table-cell;\"></div><div style=\"display: table-cell;\">selection_glyph&nbsp;=&nbsp;None,</div></div><div class=\"dafb1b04-efc3-4ba7-bf13-7e741ed66682\" style=\"display: none;\"><div style=\"display: table-cell;\"></div><div style=\"display: table-cell;\">subscribed_events&nbsp;=&nbsp;[],</div></div><div class=\"dafb1b04-efc3-4ba7-bf13-7e741ed66682\" style=\"display: none;\"><div style=\"display: table-cell;\"></div><div style=\"display: table-cell;\">tags&nbsp;=&nbsp;[],</div></div><div class=\"dafb1b04-efc3-4ba7-bf13-7e741ed66682\" style=\"display: none;\"><div style=\"display: table-cell;\"></div><div style=\"display: table-cell;\">view&nbsp;=&nbsp;CDSView(id='788ccc6f-b57e-46e8-90cf-a42787e40e39', ...),</div></div><div class=\"dafb1b04-efc3-4ba7-bf13-7e741ed66682\" style=\"display: none;\"><div style=\"display: table-cell;\"></div><div style=\"display: table-cell;\">visible&nbsp;=&nbsp;True,</div></div><div class=\"dafb1b04-efc3-4ba7-bf13-7e741ed66682\" style=\"display: none;\"><div style=\"display: table-cell;\"></div><div style=\"display: table-cell;\">x_range_name&nbsp;=&nbsp;'default',</div></div><div class=\"dafb1b04-efc3-4ba7-bf13-7e741ed66682\" style=\"display: none;\"><div style=\"display: table-cell;\"></div><div style=\"display: table-cell;\">y_range_name&nbsp;=&nbsp;'default')</div></div></div>\n",
       "<script>\n",
       "(function() {\n",
       "  var expanded = false;\n",
       "  var ellipsis = document.getElementById(\"f38ba5c0-cbe1-4154-a60a-7962f499c23b\");\n",
       "  ellipsis.addEventListener(\"click\", function() {\n",
       "    var rows = document.getElementsByClassName(\"dafb1b04-efc3-4ba7-bf13-7e741ed66682\");\n",
       "    for (var i = 0; i < rows.length; i++) {\n",
       "      var el = rows[i];\n",
       "      el.style.display = expanded ? \"none\" : \"table-row\";\n",
       "    }\n",
       "    ellipsis.innerHTML = expanded ? \"&hellip;)\" : \"&lsaquo;&lsaquo;&lsaquo;\";\n",
       "    expanded = !expanded;\n",
       "  });\n",
       "})();\n",
       "</script>\n"
      ],
      "text/plain": [
       "GlyphRenderer(id='6908d5a2-27d1-4563-b73f-dfacf45db016', ...)"
      ]
     },
     "execution_count": 540,
     "metadata": {},
     "output_type": "execute_result"
    }
   ],
   "source": [
    "p.scatter(x = \"underlier\", y = \"value0\" ,source = df_output , color = \"red\")"
   ]
  },
  {
   "cell_type": "markdown",
   "metadata": {},
   "source": [
    "value1は行使価値"
   ]
  },
  {
   "cell_type": "code",
   "execution_count": 541,
   "metadata": {},
   "outputs": [
    {
     "data": {
      "text/html": [
       "<div style=\"display: table;\"><div style=\"display: table-row;\"><div style=\"display: table-cell;\"><b title=\"bokeh.models.renderers.GlyphRenderer\">GlyphRenderer</b>(</div><div style=\"display: table-cell;\">id&nbsp;=&nbsp;'3495c678-ad97-4149-a406-82f239301702', <span id=\"b4767fbc-15f4-48b6-86b7-08db9d2e1372\" style=\"cursor: pointer;\">&hellip;)</span></div></div><div class=\"8d8eadc0-91fa-4c44-9f87-9503921c99c3\" style=\"display: none;\"><div style=\"display: table-cell;\"></div><div style=\"display: table-cell;\">data_source&nbsp;=&nbsp;ColumnDataSource(id='bc5bd080-c036-4412-848c-0bbcee8b7c8d', ...),</div></div><div class=\"8d8eadc0-91fa-4c44-9f87-9503921c99c3\" style=\"display: none;\"><div style=\"display: table-cell;\"></div><div style=\"display: table-cell;\">glyph&nbsp;=&nbsp;Circle(id='8e8c96ea-e9c5-46b4-85db-2e34495b5f23', ...),</div></div><div class=\"8d8eadc0-91fa-4c44-9f87-9503921c99c3\" style=\"display: none;\"><div style=\"display: table-cell;\"></div><div style=\"display: table-cell;\">hover_glyph&nbsp;=&nbsp;None,</div></div><div class=\"8d8eadc0-91fa-4c44-9f87-9503921c99c3\" style=\"display: none;\"><div style=\"display: table-cell;\"></div><div style=\"display: table-cell;\">js_event_callbacks&nbsp;=&nbsp;{},</div></div><div class=\"8d8eadc0-91fa-4c44-9f87-9503921c99c3\" style=\"display: none;\"><div style=\"display: table-cell;\"></div><div style=\"display: table-cell;\">js_property_callbacks&nbsp;=&nbsp;{},</div></div><div class=\"8d8eadc0-91fa-4c44-9f87-9503921c99c3\" style=\"display: none;\"><div style=\"display: table-cell;\"></div><div style=\"display: table-cell;\">level&nbsp;=&nbsp;'glyph',</div></div><div class=\"8d8eadc0-91fa-4c44-9f87-9503921c99c3\" style=\"display: none;\"><div style=\"display: table-cell;\"></div><div style=\"display: table-cell;\">muted&nbsp;=&nbsp;False,</div></div><div class=\"8d8eadc0-91fa-4c44-9f87-9503921c99c3\" style=\"display: none;\"><div style=\"display: table-cell;\"></div><div style=\"display: table-cell;\">muted_glyph&nbsp;=&nbsp;None,</div></div><div class=\"8d8eadc0-91fa-4c44-9f87-9503921c99c3\" style=\"display: none;\"><div style=\"display: table-cell;\"></div><div style=\"display: table-cell;\">name&nbsp;=&nbsp;None,</div></div><div class=\"8d8eadc0-91fa-4c44-9f87-9503921c99c3\" style=\"display: none;\"><div style=\"display: table-cell;\"></div><div style=\"display: table-cell;\">nonselection_glyph&nbsp;=&nbsp;Circle(id='cc3b0fe6-e1c0-4af1-9877-8cb563d32c0a', ...),</div></div><div class=\"8d8eadc0-91fa-4c44-9f87-9503921c99c3\" style=\"display: none;\"><div style=\"display: table-cell;\"></div><div style=\"display: table-cell;\">selection_glyph&nbsp;=&nbsp;None,</div></div><div class=\"8d8eadc0-91fa-4c44-9f87-9503921c99c3\" style=\"display: none;\"><div style=\"display: table-cell;\"></div><div style=\"display: table-cell;\">subscribed_events&nbsp;=&nbsp;[],</div></div><div class=\"8d8eadc0-91fa-4c44-9f87-9503921c99c3\" style=\"display: none;\"><div style=\"display: table-cell;\"></div><div style=\"display: table-cell;\">tags&nbsp;=&nbsp;[],</div></div><div class=\"8d8eadc0-91fa-4c44-9f87-9503921c99c3\" style=\"display: none;\"><div style=\"display: table-cell;\"></div><div style=\"display: table-cell;\">view&nbsp;=&nbsp;CDSView(id='99543988-31df-413c-a469-3a37a384ebee', ...),</div></div><div class=\"8d8eadc0-91fa-4c44-9f87-9503921c99c3\" style=\"display: none;\"><div style=\"display: table-cell;\"></div><div style=\"display: table-cell;\">visible&nbsp;=&nbsp;True,</div></div><div class=\"8d8eadc0-91fa-4c44-9f87-9503921c99c3\" style=\"display: none;\"><div style=\"display: table-cell;\"></div><div style=\"display: table-cell;\">x_range_name&nbsp;=&nbsp;'default',</div></div><div class=\"8d8eadc0-91fa-4c44-9f87-9503921c99c3\" style=\"display: none;\"><div style=\"display: table-cell;\"></div><div style=\"display: table-cell;\">y_range_name&nbsp;=&nbsp;'default')</div></div></div>\n",
       "<script>\n",
       "(function() {\n",
       "  var expanded = false;\n",
       "  var ellipsis = document.getElementById(\"b4767fbc-15f4-48b6-86b7-08db9d2e1372\");\n",
       "  ellipsis.addEventListener(\"click\", function() {\n",
       "    var rows = document.getElementsByClassName(\"8d8eadc0-91fa-4c44-9f87-9503921c99c3\");\n",
       "    for (var i = 0; i < rows.length; i++) {\n",
       "      var el = rows[i];\n",
       "      el.style.display = expanded ? \"none\" : \"table-row\";\n",
       "    }\n",
       "    ellipsis.innerHTML = expanded ? \"&hellip;)\" : \"&lsaquo;&lsaquo;&lsaquo;\";\n",
       "    expanded = !expanded;\n",
       "  });\n",
       "})();\n",
       "</script>\n"
      ],
      "text/plain": [
       "GlyphRenderer(id='3495c678-ad97-4149-a406-82f239301702', ...)"
      ]
     },
     "execution_count": 541,
     "metadata": {},
     "output_type": "execute_result"
    }
   ],
   "source": [
    "p.scatter(x = \"underlier\", y = \"value1\" ,source = df_output)"
   ]
  },
  {
   "cell_type": "markdown",
   "metadata": {},
   "source": [
    "赤が継続価値"
   ]
  },
  {
   "cell_type": "code",
   "execution_count": 542,
   "metadata": {},
   "outputs": [
    {
     "data": {
      "text/html": [
       "\n",
       "<div class=\"bk-root\">\n",
       "    <div class=\"bk-plotdiv\" id=\"a33f2d37-7dbc-441e-882c-9d2052fb96fe\"></div>\n",
       "</div>"
      ]
     },
     "metadata": {},
     "output_type": "display_data"
    },
    {
     "data": {
      "application/javascript": [
       "(function(root) {\n",
       "  function embed_document(root) {\n",
       "    \n",
       "  var docs_json = {\"28ebfa65-00d0-4d2d-a20b-033a55a52d0c\":{\"roots\":{\"references\":[{\"attributes\":{},\"id\":\"d9864f3a-49a6-4f19-8d05-17ab1ea608af\",\"type\":\"BasicTicker\"},{\"attributes\":{},\"id\":\"86228ca2-9941-4cc4-aa51-d2671db3540e\",\"type\":\"SaveTool\"},{\"attributes\":{\"fill_alpha\":{\"value\":0.1},\"fill_color\":{\"value\":\"#1f77b4\"},\"line_alpha\":{\"value\":0.1},\"line_color\":{\"value\":\"#1f77b4\"},\"x\":{\"field\":\"underlier\"},\"y\":{\"field\":\"value1\"}},\"id\":\"cc3b0fe6-e1c0-4af1-9877-8cb563d32c0a\",\"type\":\"Circle\"},{\"attributes\":{\"callback\":null,\"column_names\":[\"index\",\"underlier\",\"value0\",\"value1\"],\"data\":{\"index\":[0,1,2,3,4,5,6,7,8,9,10,11,12,13,14,15,16,17,18],\"underlier\":{\"__ndarray__\":\"AAAAAAAAJEAAAAAAAAA0QAAAAAAAAD5AAAAAAAAAREAAAAAAAABJQAAAAAAAAE5AAAAAAACAUUAAAAAAAABUQAAAAAAAgFZAAAAAAAAAWUAAAAAAAIBbQAAAAAAAAF5AAAAAAABAYEAAAAAAAIBhQAAAAAAAwGJAAAAAAAAAZEAAAAAAAEBlQAAAAAAAgGZAAAAAAADAZ0A=\",\"dtype\":\"float64\",\"shape\":[19]},\"value0\":{\"__ndarray__\":\"AAAA4CBlXcAAAAAAkMddwAAAAODNkFvAAAAA4ApaWcAAAADgSCNXwAAAAGCG7FTAAAAAoMS1UsAAAACgAX9QwAAAACCAkEzAAAAA4PkiSMAAAABAdbVDwAAAAGDejz7AAAAAYNq0NcAAAADglrMpwAAAAEAv9g/AAAAAYA5xE0AAAAAgpG4rQAAAACBYkjZAAAAAoF9tP0A=\",\"dtype\":\"float64\",\"shape\":[19]},\"value1\":{\"__ndarray__\":\"AAAAYGcRXcAAAAAAjetcwAAAACCNa1rAAAAAQI3rV8AAAAAgjWtVwAAAAICN61LAAAAAQI1rUMAAAACAG9dLwAAAAEAb10bAAAAAgBvXQcAAAAAAN645wAAAAIB0XC/AAAAA4OS4FsAAAAAgIkcRQAAAAICJoyxAAAAAwMVROEAAAAAA4ihBQAAAAIDgKEZAAAAAQOIoS0A=\",\"dtype\":\"float64\",\"shape\":[19]}}},\"id\":\"bc0c156a-db87-4d84-8841-cfcff4198156\",\"type\":\"ColumnDataSource\"},{\"attributes\":{\"below\":[{\"id\":\"5e304a84-d2c6-44d3-a59d-819407bc50f4\",\"type\":\"LinearAxis\"}],\"left\":[{\"id\":\"d3b0c418-626a-44cb-b1f4-871e224a90a0\",\"type\":\"LinearAxis\"}],\"renderers\":[{\"id\":\"5e304a84-d2c6-44d3-a59d-819407bc50f4\",\"type\":\"LinearAxis\"},{\"id\":\"7d43ddf9-b003-4e7e-9bc2-655ff164278c\",\"type\":\"Grid\"},{\"id\":\"d3b0c418-626a-44cb-b1f4-871e224a90a0\",\"type\":\"LinearAxis\"},{\"id\":\"005da4c0-3b3b-45e0-9931-a85a5d3e7ae0\",\"type\":\"Grid\"},{\"id\":\"b7693e6b-3591-4955-b007-0c7edf299063\",\"type\":\"BoxAnnotation\"},{\"id\":\"6908d5a2-27d1-4563-b73f-dfacf45db016\",\"type\":\"GlyphRenderer\"},{\"id\":\"3495c678-ad97-4149-a406-82f239301702\",\"type\":\"GlyphRenderer\"}],\"title\":{\"id\":\"1b3f2eba-e9ab-4c9b-ae45-6f78f7f89c4e\",\"type\":\"Title\"},\"toolbar\":{\"id\":\"6c0467ef-46b6-427b-8ecd-63debaa0e712\",\"type\":\"Toolbar\"},\"x_range\":{\"id\":\"3b0203d2-6621-4abf-9244-da8911c58473\",\"type\":\"DataRange1d\"},\"x_scale\":{\"id\":\"5c9c135c-0593-4dac-9dbe-e8ad8203203f\",\"type\":\"LinearScale\"},\"y_range\":{\"id\":\"c2168133-9fcd-401c-b33f-ec4a146d4ce9\",\"type\":\"DataRange1d\"},\"y_scale\":{\"id\":\"279c48ba-2387-4f91-a483-43debd32c73d\",\"type\":\"LinearScale\"}},\"id\":\"7620a84f-283f-4745-a1be-c55de5ea5933\",\"subtype\":\"Figure\",\"type\":\"Plot\"},{\"attributes\":{},\"id\":\"a5cf7d08-d7c2-458d-b00e-d37361616bb7\",\"type\":\"BasicTicker\"},{\"attributes\":{\"overlay\":{\"id\":\"b7693e6b-3591-4955-b007-0c7edf299063\",\"type\":\"BoxAnnotation\"}},\"id\":\"2ab21a99-bf4a-459b-a796-b0a659afbec7\",\"type\":\"BoxZoomTool\"},{\"attributes\":{\"fill_color\":{\"value\":\"#1f77b4\"},\"line_color\":{\"value\":\"#1f77b4\"},\"x\":{\"field\":\"underlier\"},\"y\":{\"field\":\"value1\"}},\"id\":\"8e8c96ea-e9c5-46b4-85db-2e34495b5f23\",\"type\":\"Circle\"},{\"attributes\":{\"source\":{\"id\":\"bc0c156a-db87-4d84-8841-cfcff4198156\",\"type\":\"ColumnDataSource\"}},\"id\":\"788ccc6f-b57e-46e8-90cf-a42787e40e39\",\"type\":\"CDSView\"},{\"attributes\":{\"fill_color\":{\"value\":\"red\"},\"line_color\":{\"value\":\"red\"},\"x\":{\"field\":\"underlier\"},\"y\":{\"field\":\"value0\"}},\"id\":\"5ab6e827-d0db-4d18-a64c-52a83deeefb2\",\"type\":\"Circle\"},{\"attributes\":{},\"id\":\"279c48ba-2387-4f91-a483-43debd32c73d\",\"type\":\"LinearScale\"},{\"attributes\":{\"callback\":null,\"column_names\":[\"index\",\"underlier\",\"value0\",\"value1\"],\"data\":{\"index\":[0,1,2,3,4,5,6,7,8,9,10,11,12,13,14,15,16,17,18],\"underlier\":{\"__ndarray__\":\"AAAAAAAAJEAAAAAAAAA0QAAAAAAAAD5AAAAAAAAAREAAAAAAAABJQAAAAAAAAE5AAAAAAACAUUAAAAAAAABUQAAAAAAAgFZAAAAAAAAAWUAAAAAAAIBbQAAAAAAAAF5AAAAAAABAYEAAAAAAAIBhQAAAAAAAwGJAAAAAAAAAZEAAAAAAAEBlQAAAAAAAgGZAAAAAAADAZ0A=\",\"dtype\":\"float64\",\"shape\":[19]},\"value0\":{\"__ndarray__\":\"AAAA4CBlXcAAAAAAkMddwAAAAODNkFvAAAAA4ApaWcAAAADgSCNXwAAAAGCG7FTAAAAAoMS1UsAAAACgAX9QwAAAACCAkEzAAAAA4PkiSMAAAABAdbVDwAAAAGDejz7AAAAAYNq0NcAAAADglrMpwAAAAEAv9g/AAAAAYA5xE0AAAAAgpG4rQAAAACBYkjZAAAAAoF9tP0A=\",\"dtype\":\"float64\",\"shape\":[19]},\"value1\":{\"__ndarray__\":\"AAAAYGcRXcAAAAAAjetcwAAAACCNa1rAAAAAQI3rV8AAAAAgjWtVwAAAAICN61LAAAAAQI1rUMAAAACAG9dLwAAAAEAb10bAAAAAgBvXQcAAAAAAN645wAAAAIB0XC/AAAAA4OS4FsAAAAAgIkcRQAAAAICJoyxAAAAAwMVROEAAAAAA4ihBQAAAAIDgKEZAAAAAQOIoS0A=\",\"dtype\":\"float64\",\"shape\":[19]}}},\"id\":\"bc5bd080-c036-4412-848c-0bbcee8b7c8d\",\"type\":\"ColumnDataSource\"},{\"attributes\":{\"callback\":null},\"id\":\"3b0203d2-6621-4abf-9244-da8911c58473\",\"type\":\"DataRange1d\"},{\"attributes\":{},\"id\":\"7c18a17c-f531-4ab5-986c-455be801b70a\",\"type\":\"HelpTool\"},{\"attributes\":{\"plot\":{\"id\":\"7620a84f-283f-4745-a1be-c55de5ea5933\",\"subtype\":\"Figure\",\"type\":\"Plot\"},\"ticker\":{\"id\":\"a5cf7d08-d7c2-458d-b00e-d37361616bb7\",\"type\":\"BasicTicker\"}},\"id\":\"7d43ddf9-b003-4e7e-9bc2-655ff164278c\",\"type\":\"Grid\"},{\"attributes\":{\"data_source\":{\"id\":\"bc0c156a-db87-4d84-8841-cfcff4198156\",\"type\":\"ColumnDataSource\"},\"glyph\":{\"id\":\"5ab6e827-d0db-4d18-a64c-52a83deeefb2\",\"type\":\"Circle\"},\"hover_glyph\":null,\"muted_glyph\":null,\"nonselection_glyph\":{\"id\":\"663f3b34-9d0c-4340-894f-9bc583c398d9\",\"type\":\"Circle\"},\"selection_glyph\":null,\"view\":{\"id\":\"788ccc6f-b57e-46e8-90cf-a42787e40e39\",\"type\":\"CDSView\"}},\"id\":\"6908d5a2-27d1-4563-b73f-dfacf45db016\",\"type\":\"GlyphRenderer\"},{\"attributes\":{},\"id\":\"8596204b-fcea-4ad1-99b0-2e27f7e8226c\",\"type\":\"ResetTool\"},{\"attributes\":{\"source\":{\"id\":\"bc5bd080-c036-4412-848c-0bbcee8b7c8d\",\"type\":\"ColumnDataSource\"}},\"id\":\"99543988-31df-413c-a469-3a37a384ebee\",\"type\":\"CDSView\"},{\"attributes\":{\"data_source\":{\"id\":\"bc5bd080-c036-4412-848c-0bbcee8b7c8d\",\"type\":\"ColumnDataSource\"},\"glyph\":{\"id\":\"8e8c96ea-e9c5-46b4-85db-2e34495b5f23\",\"type\":\"Circle\"},\"hover_glyph\":null,\"muted_glyph\":null,\"nonselection_glyph\":{\"id\":\"cc3b0fe6-e1c0-4af1-9877-8cb563d32c0a\",\"type\":\"Circle\"},\"selection_glyph\":null,\"view\":{\"id\":\"99543988-31df-413c-a469-3a37a384ebee\",\"type\":\"CDSView\"}},\"id\":\"3495c678-ad97-4149-a406-82f239301702\",\"type\":\"GlyphRenderer\"},{\"attributes\":{\"formatter\":{\"id\":\"38d188ed-2e51-48d7-9031-2c80e3649877\",\"type\":\"BasicTickFormatter\"},\"plot\":{\"id\":\"7620a84f-283f-4745-a1be-c55de5ea5933\",\"subtype\":\"Figure\",\"type\":\"Plot\"},\"ticker\":{\"id\":\"a5cf7d08-d7c2-458d-b00e-d37361616bb7\",\"type\":\"BasicTicker\"}},\"id\":\"5e304a84-d2c6-44d3-a59d-819407bc50f4\",\"type\":\"LinearAxis\"},{\"attributes\":{\"active_drag\":\"auto\",\"active_inspect\":\"auto\",\"active_scroll\":\"auto\",\"active_tap\":\"auto\",\"tools\":[{\"id\":\"0b327fce-54b7-4fb7-85c3-ece52e5da33b\",\"type\":\"PanTool\"},{\"id\":\"4f9d44bd-659a-4383-8b15-a5dfe737a317\",\"type\":\"WheelZoomTool\"},{\"id\":\"2ab21a99-bf4a-459b-a796-b0a659afbec7\",\"type\":\"BoxZoomTool\"},{\"id\":\"86228ca2-9941-4cc4-aa51-d2671db3540e\",\"type\":\"SaveTool\"},{\"id\":\"8596204b-fcea-4ad1-99b0-2e27f7e8226c\",\"type\":\"ResetTool\"},{\"id\":\"7c18a17c-f531-4ab5-986c-455be801b70a\",\"type\":\"HelpTool\"}]},\"id\":\"6c0467ef-46b6-427b-8ecd-63debaa0e712\",\"type\":\"Toolbar\"},{\"attributes\":{\"plot\":null,\"text\":\"\"},\"id\":\"1b3f2eba-e9ab-4c9b-ae45-6f78f7f89c4e\",\"type\":\"Title\"},{\"attributes\":{\"bottom_units\":\"screen\",\"fill_alpha\":{\"value\":0.5},\"fill_color\":{\"value\":\"lightgrey\"},\"left_units\":\"screen\",\"level\":\"overlay\",\"line_alpha\":{\"value\":1.0},\"line_color\":{\"value\":\"black\"},\"line_dash\":[4,4],\"line_width\":{\"value\":2},\"plot\":null,\"render_mode\":\"css\",\"right_units\":\"screen\",\"top_units\":\"screen\"},\"id\":\"b7693e6b-3591-4955-b007-0c7edf299063\",\"type\":\"BoxAnnotation\"},{\"attributes\":{},\"id\":\"38d188ed-2e51-48d7-9031-2c80e3649877\",\"type\":\"BasicTickFormatter\"},{\"attributes\":{\"fill_alpha\":{\"value\":0.1},\"fill_color\":{\"value\":\"#1f77b4\"},\"line_alpha\":{\"value\":0.1},\"line_color\":{\"value\":\"#1f77b4\"},\"x\":{\"field\":\"underlier\"},\"y\":{\"field\":\"value0\"}},\"id\":\"663f3b34-9d0c-4340-894f-9bc583c398d9\",\"type\":\"Circle\"},{\"attributes\":{},\"id\":\"6a1a6d69-0152-4e2d-a8d6-250047bb4222\",\"type\":\"BasicTickFormatter\"},{\"attributes\":{\"callback\":null},\"id\":\"c2168133-9fcd-401c-b33f-ec4a146d4ce9\",\"type\":\"DataRange1d\"},{\"attributes\":{},\"id\":\"4f9d44bd-659a-4383-8b15-a5dfe737a317\",\"type\":\"WheelZoomTool\"},{\"attributes\":{\"formatter\":{\"id\":\"6a1a6d69-0152-4e2d-a8d6-250047bb4222\",\"type\":\"BasicTickFormatter\"},\"plot\":{\"id\":\"7620a84f-283f-4745-a1be-c55de5ea5933\",\"subtype\":\"Figure\",\"type\":\"Plot\"},\"ticker\":{\"id\":\"d9864f3a-49a6-4f19-8d05-17ab1ea608af\",\"type\":\"BasicTicker\"}},\"id\":\"d3b0c418-626a-44cb-b1f4-871e224a90a0\",\"type\":\"LinearAxis\"},{\"attributes\":{\"dimension\":1,\"plot\":{\"id\":\"7620a84f-283f-4745-a1be-c55de5ea5933\",\"subtype\":\"Figure\",\"type\":\"Plot\"},\"ticker\":{\"id\":\"d9864f3a-49a6-4f19-8d05-17ab1ea608af\",\"type\":\"BasicTicker\"}},\"id\":\"005da4c0-3b3b-45e0-9931-a85a5d3e7ae0\",\"type\":\"Grid\"},{\"attributes\":{},\"id\":\"0b327fce-54b7-4fb7-85c3-ece52e5da33b\",\"type\":\"PanTool\"},{\"attributes\":{},\"id\":\"5c9c135c-0593-4dac-9dbe-e8ad8203203f\",\"type\":\"LinearScale\"}],\"root_ids\":[\"7620a84f-283f-4745-a1be-c55de5ea5933\"]},\"title\":\"Bokeh Application\",\"version\":\"0.12.13\"}};\n",
       "  var render_items = [{\"docid\":\"28ebfa65-00d0-4d2d-a20b-033a55a52d0c\",\"elementid\":\"a33f2d37-7dbc-441e-882c-9d2052fb96fe\",\"modelid\":\"7620a84f-283f-4745-a1be-c55de5ea5933\"}];\n",
       "  root.Bokeh.embed.embed_items_notebook(docs_json, render_items);\n",
       "\n",
       "  }\n",
       "  if (root.Bokeh !== undefined) {\n",
       "    embed_document(root);\n",
       "  } else {\n",
       "    var attempts = 0;\n",
       "    var timer = setInterval(function(root) {\n",
       "      if (root.Bokeh !== undefined) {\n",
       "        embed_document(root);\n",
       "        clearInterval(timer);\n",
       "      }\n",
       "      attempts++;\n",
       "      if (attempts > 100) {\n",
       "        console.log(\"Bokeh: ERROR: Unable to run BokehJS code because BokehJS library is missing\")\n",
       "        clearInterval(timer);\n",
       "      }\n",
       "    }, 10, root)\n",
       "  }\n",
       "})(window);"
      ],
      "application/vnd.bokehjs_exec.v0+json": ""
     },
     "metadata": {
      "application/vnd.bokehjs_exec.v0+json": {
       "id": "7620a84f-283f-4745-a1be-c55de5ea5933"
      }
     },
     "output_type": "display_data"
    }
   ],
   "source": [
    "bp.show(p)"
   ]
  },
  {
   "cell_type": "markdown",
   "metadata": {},
   "source": [
    "# save model"
   ]
  },
  {
   "cell_type": "code",
   "execution_count": 474,
   "metadata": {},
   "outputs": [
    {
     "data": {
      "text/plain": [
       "torch.nn.modules.container.Sequential"
      ]
     },
     "execution_count": 474,
     "metadata": {},
     "output_type": "execute_result"
    }
   ],
   "source": [
    "type(model)"
   ]
  },
  {
   "cell_type": "code",
   "execution_count": 325,
   "metadata": {},
   "outputs": [],
   "source": [
    "torch.save(model.state_dict() , \"models/optionDQN3\" )"
   ]
  },
  {
   "cell_type": "markdown",
   "metadata": {},
   "source": [
    "# load model"
   ]
  },
  {
   "cell_type": "code",
   "execution_count": 517,
   "metadata": {},
   "outputs": [],
   "source": [
    "saved_model = Net(2,2) "
   ]
  },
  {
   "cell_type": "code",
   "execution_count": 518,
   "metadata": {},
   "outputs": [],
   "source": [
    "saved_model.load_state_dict(torch.load(\"models/optionDQN2\"))"
   ]
  },
  {
   "cell_type": "code",
   "execution_count": 519,
   "metadata": {},
   "outputs": [],
   "source": [
    "model = saved_model"
   ]
  },
  {
   "cell_type": "markdown",
   "metadata": {},
   "source": [
    "## obsolete below"
   ]
  },
  {
   "cell_type": "code",
   "execution_count": null,
   "metadata": {},
   "outputs": [],
   "source": [
    "model = Net(n_in=28*28*1, n_mid=100, n_out=10)  # ネットワークのオブジェクトを生成\n",
    "print(model)"
   ]
  },
  {
   "cell_type": "code",
   "execution_count": 479,
   "metadata": {
    "collapsed": true
   },
   "outputs": [],
   "source": [
    "model = nn.Sequential()"
   ]
  },
  {
   "cell_type": "code",
   "execution_count": 476,
   "metadata": {},
   "outputs": [],
   "source": [
    "model = torch.nn.modules.container.Sequential()"
   ]
  },
  {
   "cell_type": "code",
   "execution_count": 482,
   "metadata": {},
   "outputs": [
    {
     "ename": "RuntimeError",
     "evalue": "Error(s) in loading state_dict for Sequential:\n\tUnexpected key(s) in state_dict: \"fc1.weight\", \"fc1.bias\", \"fc3.weight\", \"fc3.bias\". ",
     "output_type": "error",
     "traceback": [
      "\u001b[0;31m---------------------------------------------------------------------------\u001b[0m",
      "\u001b[0;31mRuntimeError\u001b[0m                              Traceback (most recent call last)",
      "\u001b[0;32m<ipython-input-482-45de74c37fcf>\u001b[0m in \u001b[0;36m<module>\u001b[0;34m()\u001b[0m\n\u001b[0;32m----> 1\u001b[0;31m \u001b[0mmodel\u001b[0m\u001b[0;34m.\u001b[0m\u001b[0mload_state_dict\u001b[0m\u001b[0;34m(\u001b[0m\u001b[0mtorch\u001b[0m\u001b[0;34m.\u001b[0m\u001b[0mload\u001b[0m\u001b[0;34m(\u001b[0m\u001b[0;34m\"models/optionDQN2\"\u001b[0m\u001b[0;34m)\u001b[0m\u001b[0;34m)\u001b[0m\u001b[0;34m\u001b[0m\u001b[0m\n\u001b[0m",
      "\u001b[0;32m~/anaconda3/envs/base2/lib/python3.5/site-packages/torch/nn/modules/module.py\u001b[0m in \u001b[0;36mload_state_dict\u001b[0;34m(self, state_dict, strict)\u001b[0m\n\u001b[1;32m    717\u001b[0m         \u001b[0;32mif\u001b[0m \u001b[0mlen\u001b[0m\u001b[0;34m(\u001b[0m\u001b[0merror_msgs\u001b[0m\u001b[0;34m)\u001b[0m \u001b[0;34m>\u001b[0m \u001b[0;36m0\u001b[0m\u001b[0;34m:\u001b[0m\u001b[0;34m\u001b[0m\u001b[0m\n\u001b[1;32m    718\u001b[0m             raise RuntimeError('Error(s) in loading state_dict for {}:\\n\\t{}'.format(\n\u001b[0;32m--> 719\u001b[0;31m                                self.__class__.__name__, \"\\n\\t\".join(error_msgs)))\n\u001b[0m\u001b[1;32m    720\u001b[0m \u001b[0;34m\u001b[0m\u001b[0m\n\u001b[1;32m    721\u001b[0m     \u001b[0;32mdef\u001b[0m \u001b[0mparameters\u001b[0m\u001b[0;34m(\u001b[0m\u001b[0mself\u001b[0m\u001b[0;34m)\u001b[0m\u001b[0;34m:\u001b[0m\u001b[0;34m\u001b[0m\u001b[0m\n",
      "\u001b[0;31mRuntimeError\u001b[0m: Error(s) in loading state_dict for Sequential:\n\tUnexpected key(s) in state_dict: \"fc1.weight\", \"fc1.bias\", \"fc3.weight\", \"fc3.bias\". "
     ]
    }
   ],
   "source": [
    "model.load_state_dict(torch.load(\"models/optionDQN2\"))"
   ]
  },
  {
   "cell_type": "markdown",
   "metadata": {},
   "source": [
    "# sandbox"
   ]
  },
  {
   "cell_type": "code",
   "execution_count": null,
   "metadata": {},
   "outputs": [],
   "source": [
    "list(cartpole_env.agent.brain.model.parameters())[0].shape"
   ]
  },
  {
   "cell_type": "code",
   "execution_count": 515,
   "metadata": {},
   "outputs": [
    {
     "data": {
      "text/plain": [
       "<bound method Module.type of Sequential()>"
      ]
     },
     "execution_count": 515,
     "metadata": {},
     "output_type": "execute_result"
    }
   ],
   "source": [
    "model.type\n"
   ]
  },
  {
   "cell_type": "markdown",
   "metadata": {},
   "source": [
    "# 参考（書籍のoriginal Environment）"
   ]
  },
  {
   "cell_type": "code",
   "execution_count": null,
   "metadata": {},
   "outputs": [],
   "source": [
    "class Environment:\n",
    "\n",
    "    def __init__(self):\n",
    "        self.env = gym.make(ENV)  # 実行する課題を設定\n",
    "        num_states = self.env.observation_space.shape[0]  # 課題の状態数4を取得\n",
    "        num_actions = self.env.action_space.n  # CartPoleの行動（右に左に押す）の2を取得\n",
    "        self.agent = Agent(num_states, num_actions)  # 環境内で行動するAgentを生成\n",
    "\n",
    "        \n",
    "    def run(self):\n",
    "        '''実行'''\n",
    "        episode_10_list = np.zeros(10)  # 10試行分の立ち続けたstep数を格納し、平均ステップ数を出力に利用\n",
    "        complete_episodes = 0  # 195step以上連続で立ち続けた試行数\n",
    "        episode_final = False  # 最後の試行フラグ\n",
    "        frames = []  # 最後の試行を動画にするために画像を格納する変数\n",
    "\n",
    "        for episode in range(NUM_EPISODES):  # 最大試行数分繰り返す\n",
    "            observation = self.env.reset()  # 環境の初期化\n",
    "\n",
    "            state = observation  # 観測をそのまま状態sとして使用\n",
    "            state = torch.from_numpy(state).type(\n",
    "                torch.FloatTensor)  # NumPy変数をPyTorchのテンソルに変換\n",
    "            state = torch.unsqueeze(state, 0)  # size 4をsize 1x4に変換\n",
    "\n",
    "            for step in range(MAX_STEPS):  # 1エピソードのループ\n",
    "\n",
    "                if episode_final is True:  # 最終試行ではframesに各時刻の画像を追加していく\n",
    "                    frames.append(self.env.render(mode='rgb_array'))\n",
    "\n",
    "                action = self.agent.get_action(state, episode)  # 行動を求める\n",
    "\n",
    "                # 行動a_tの実行により、s_{t+1}とdoneフラグを求める\n",
    "                # actionから.item()を指定して、中身を取り出す\n",
    "                observation_next, _, done, _ = self.env.step(\n",
    "                    action.item())  # rewardとinfoは使わないので_にする\n",
    "\n",
    "                # 報酬を与える。さらにepisodeの終了評価と、state_nextを設定する\n",
    "                if done:  # ステップ数が200経過するか、一定角度以上傾くとdoneはtrueになる\n",
    "                    state_next = None  # 次の状態はないので、Noneを格納\n",
    "\n",
    "                    # 直近10episodeの立てたstep数リストに追加\n",
    "                    episode_10_list = np.hstack(\n",
    "                        (episode_10_list[1:], step + 1))\n",
    "\n",
    "                    if step < 195:\n",
    "                        reward = torch.FloatTensor(\n",
    "                            [-1.0])  # 途中でこけたら罰則として報酬-1を与える\n",
    "                        complete_episodes = 0  # 連続成功記録をリセット\n",
    "                    else:\n",
    "                        reward = torch.FloatTensor([1.0])  # 立ったまま終了時は報酬1を与える\n",
    "                        complete_episodes = complete_episodes + 1  # 連続記録を更新\n",
    "                else:\n",
    "                    reward = torch.FloatTensor([0.0])  # 普段は報酬0\n",
    "                    state_next = observation_next  # 観測をそのまま状態とする\n",
    "                    state_next = torch.from_numpy(state_next).type(\n",
    "                        torch.FloatTensor)  # numpy変数をPyTorchのテンソルに変換\n",
    "                    state_next = torch.unsqueeze(state_next, 0)  # size 4をsize 1x4に変換\n",
    "\n",
    "                # メモリに経験を追加\n",
    "                self.agent.memorize(state, action, state_next, reward)\n",
    "\n",
    "                # Experience ReplayでQ関数を更新する\n",
    "                self.agent.update_q_function()\n",
    "\n",
    "                # 観測の更新\n",
    "                state = state_next\n",
    "\n",
    "                # 終了時の処理\n",
    "                if done:\n",
    "                    print('%d Episode: Finished after %d steps：10試行の平均step数 = %.1lf' % (\n",
    "                        episode, step + 1, episode_10_list.mean()))\n",
    "                    break\n",
    "\n",
    "            if episode_final is True:\n",
    "                # 動画を保存と描画\n",
    "                display_frames_as_gif(frames)\n",
    "                break\n",
    "\n",
    "            # 10連続で200step経ち続けたら成功\n",
    "            if complete_episodes >= 10:\n",
    "                print('10回連続成功')\n",
    "                episode_final = True  # 次の試行を描画を行う最終試行とする"
   ]
  },
  {
   "cell_type": "code",
   "execution_count": null,
   "metadata": {},
   "outputs": [],
   "source": [
    "# main クラス\n",
    "cartpole_env = Environment()\n",
    "cartpole_env.run()\n"
   ]
  }
 ],
 "metadata": {
  "kernelspec": {
   "display_name": "Python [conda env:base2]",
   "language": "python",
   "name": "conda-env-base2-py"
  },
  "language_info": {
   "codemirror_mode": {
    "name": "ipython",
    "version": 3
   },
   "file_extension": ".py",
   "mimetype": "text/x-python",
   "name": "python",
   "nbconvert_exporter": "python",
   "pygments_lexer": "ipython3",
   "version": "3.5.4"
  },
  "toc": {
   "colors": {
    "hover_highlight": "#DAA520",
    "navigate_num": "#000000",
    "navigate_text": "#333333",
    "running_highlight": "#FF0000",
    "selected_highlight": "#FFD700",
    "sidebar_border": "#EEEEEE",
    "wrapper_background": "#FFFFFF"
   },
   "moveMenuLeft": true,
   "nav_menu": {
    "height": "209px",
    "width": "252px"
   },
   "navigate_menu": true,
   "number_sections": true,
   "sideBar": true,
   "threshold": 4,
   "toc_cell": true,
   "toc_position": {
    "height": "671px",
    "left": "0px",
    "right": "1669.6px",
    "top": "110px",
    "width": "194px"
   },
   "toc_section_display": "block",
   "toc_window_display": true,
   "widenNotebook": false
  }
 },
 "nbformat": 4,
 "nbformat_minor": 2
}
